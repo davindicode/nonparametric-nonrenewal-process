{
 "cells": [
  {
   "cell_type": "code",
   "execution_count": null,
   "metadata": {},
   "outputs": [],
   "source": [
    "%load_ext autoreload\n",
    "%autoreload 2\n",
    "\n",
    "import numpy as np\n",
    "\n",
    "import matplotlib.pyplot as plt\n",
    "from matplotlib.ticker import MultipleLocator # for minor ticks\n",
    "from matplotlib import gridspec\n",
    "from matplotlib import patches\n",
    "from matplotlib.offsetbox import TextArea, VPacker, AnnotationBbox\n",
    "plt.style.use(['paper.mplstyle'])\n",
    "\n",
    "import pickle\n",
    "\n",
    "import sys\n",
    "sys.path.append(\"../..\")\n",
    "from neuroprob import tools"
   ]
  },
  {
   "cell_type": "code",
   "execution_count": null,
   "metadata": {},
   "outputs": [],
   "source": []
  },
  {
   "cell_type": "code",
   "execution_count": null,
   "metadata": {},
   "outputs": [],
   "source": []
  },
  {
   "cell_type": "code",
   "execution_count": null,
   "metadata": {},
   "outputs": [],
   "source": [
    "\n",
    "fig = plt.figure(figsize=(5,4))\n",
    "\n",
    "widths = np.ones(N_x)\n",
    "heights = np.ones(N_y)\n",
    "spec = fig.add_gridspec(ncols=N_x, nrows=N_y, width_ratios=widths, height_ratios=heights, \n",
    "                        left=0., right=1., bottom=0., top=1.)\n",
    "\n",
    "\n",
    "\n",
    "for n_x in range(N_x):\n",
    "    for n_y in range(N_y):\n",
    "        n_id = n_x + n_y*N_x\n",
    "        if n_id >= neurons:\n",
    "            break\n",
    "        ax = fig.add_subplot(spec[n_y, n_x])\n",
    "        _, ax = tools.visualize_field(place_field[n_id], grid_shape, ticktitle='', cbar=False, figax=(fig, ax))\n",
    "\n",
    "\n",
    "#plt.savefig('output/hc5_15.svg')\n",
    "plt.savefig('output/hc5_13.pdf')\n",
    "plt.show()"
   ]
  },
  {
   "cell_type": "code",
   "execution_count": null,
   "metadata": {},
   "outputs": [],
   "source": []
  },
  {
   "cell_type": "code",
   "execution_count": null,
   "metadata": {},
   "outputs": [],
   "source": []
  }
 ],
 "metadata": {
  "kernelspec": {
   "display_name": "Python 3",
   "language": "python",
   "name": "python3"
  },
  "language_info": {
   "codemirror_mode": {
    "name": "ipython",
    "version": 3
   },
   "file_extension": ".py",
   "mimetype": "text/x-python",
   "name": "python",
   "nbconvert_exporter": "python",
   "pygments_lexer": "ipython3",
   "version": "3.6.10"
  }
 },
 "nbformat": 4,
 "nbformat_minor": 4
}
