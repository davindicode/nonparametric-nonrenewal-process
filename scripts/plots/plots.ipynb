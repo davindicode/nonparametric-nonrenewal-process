{
 "cells": [
  {
   "cell_type": "markdown",
   "metadata": {},
   "source": [
    "# Validation of method\n",
    "\n",
    "### Table of contents\n",
    "\n",
    "1. [**Schematic of models**](#schem)\n",
    "2. [**Synthetic**](#syn)\n",
    "3. [**Biophysical**](#bio)\n",
    "4. [**Place cells regression**](#place)\n",
    "5. [**Place cells comodulation**](#corr)"
   ]
  },
  {
   "cell_type": "code",
   "execution_count": 1,
   "metadata": {},
   "outputs": [
    {
     "name": "stderr",
     "output_type": "stream",
     "text": [
      "/var/home/dl543/Documents/Learning/nonparametric-modulated-renewal/notebooks/../lib/filters/FIR.py:8: TqdmExperimentalWarning: Using `tqdm.autonotebook.tqdm` in notebook mode. Use `tqdm.tqdm` instead to force console mode (e.g. in jupyter console)\n",
      "  from tqdm.autonotebook import tqdm\n"
     ]
    }
   ],
   "source": [
    "%load_ext autoreload\n",
    "%autoreload 2\n",
    "\n",
    "import numpy as np\n",
    "\n",
    "\n",
    "\n",
    "import equinox\n",
    "import jax\n",
    "from jax import vmap\n",
    "import jax.numpy as jnp\n",
    "import jax.random as jr\n",
    "from jax.nn import softplus\n",
    "\n",
    "import optax\n",
    "\n",
    "jax.config.update('jax_platform_name', 'cpu')\n",
    "#jax.config.update('jax_disable_jit', True)\n",
    "#jax.config.update(\"jax_enable_x64\", True)\n",
    "\n",
    "#import os\n",
    "#if not os.path.exists('./saves'):\n",
    "#    os.makedirs('./saves')\n",
    "\n",
    "\n",
    "import pickle\n",
    "\n",
    "\n",
    "import sys\n",
    "sys.path.append(\"..\")\n",
    "import lib\n",
    "\n",
    "\n",
    "import matplotlib.pyplot as plt\n",
    "plt.style.use(['../paper.mplstyle'])\n",
    "\n",
    "\n",
    "import os\n",
    "if not os.path.exists('./output'):\n",
    "    os.makedirs('./output')\n"
   ]
  },
  {
   "cell_type": "code",
   "execution_count": null,
   "metadata": {},
   "outputs": [],
   "source": []
  },
  {
   "cell_type": "code",
   "execution_count": null,
   "metadata": {},
   "outputs": [],
   "source": []
  },
  {
   "cell_type": "markdown",
   "metadata": {},
   "source": [
    "### Schematic of model"
   ]
  },
  {
   "cell_type": "code",
   "execution_count": null,
   "metadata": {},
   "outputs": [],
   "source": []
  },
  {
   "cell_type": "code",
   "execution_count": 2,
   "metadata": {},
   "outputs": [],
   "source": [
    "# animal position\n",
    "x_dims = 2\n",
    "num_samps = 1\n",
    "prng_state = jax.random.PRNGKey(123)\n",
    "\n",
    "jitter = 1e-6\n",
    "\n",
    "\n",
    "var_x = 1.0*np.ones((x_dims))  # GP variance\n",
    "len_x = 1.0*np.ones((x_dims, 1))  # GP lengthscale\n",
    "\n",
    "kernx = lib.GP.kernels.Matern52(x_dims, variance=var_x, lengthscale=len_x)\n",
    "\n",
    "\n",
    "# site_init\n",
    "Tsteps = 4\n",
    "site_locs = np.linspace(0.0, 1., Tsteps)  # s\n",
    "site_obs = 0. * np.ones([Tsteps, x_dims, 1]) + 0*np.random.randn(Tsteps, x_dims, 1)\n",
    "site_Lcov = 0.01 * np.eye(x_dims)[None, ...].repeat(Tsteps, axis=0)\n",
    "\n",
    "state_space = lib.GP.markovian.GaussianLTI(\n",
    "    kernx, site_locs, site_obs, site_Lcov, diagonal_site=True, fixed_grid_locs=False)\n",
    "\n",
    "\n",
    "evalsteps = 1000\n",
    "t_eval = jnp.linspace(0.0, 10.0, evalsteps)\n",
    "pos_prior_samples = state_space.sample_prior(\n",
    "    prng_state, num_samps, t_eval, jitter)\n"
   ]
  },
  {
   "cell_type": "code",
   "execution_count": null,
   "metadata": {},
   "outputs": [],
   "source": []
  },
  {
   "cell_type": "code",
   "execution_count": 48,
   "metadata": {},
   "outputs": [
    {
     "data": {
      "text/plain": [
       "DeviceArray([[0.36081457, 0.8601767 , 0.8654181 ],\n",
       "             [0.5210483 , 0.90452874, 0.90805495]], dtype=float32)"
      ]
     },
     "execution_count": 48,
     "metadata": {},
     "output_type": "execute_result"
    }
   ],
   "source": []
  },
  {
   "cell_type": "markdown",
   "metadata": {},
   "source": [
    "<a id='svgp'></a>\n",
    "## SVGP\n",
    "\n",
    "### 2D"
   ]
  },
  {
   "cell_type": "code",
   "execution_count": 2,
   "metadata": {},
   "outputs": [],
   "source": [
    "x_dims = 2\n",
    "f_dims = 3\n",
    "\n",
    "jitter = 1e-12\n",
    "\n",
    "n_samp = 10\n",
    "\n",
    "prng_state = jax.random.PRNGKey(123)"
   ]
  },
  {
   "cell_type": "code",
   "execution_count": 53,
   "metadata": {},
   "outputs": [],
   "source": [
    "var_t = 1.0*np.ones((f_dims))  # GP variance\n",
    "len_t = 0.3*np.ones((f_dims, 1))  # GP lengthscale\n",
    "kernt = lib.GP.kernels.Matern52(f_dims, variance=var_t, lengthscale=len_t)\n",
    "\n",
    "len_fx = 1.0*np.ones((f_dims, x_dims-1))  # GP lengthscale\n",
    "var_f = 1.*np.ones(f_dims)  # observation noise\n",
    "kernx = lib.GP.kernels.SquaredExponential(f_dims, variance=var_f, lengthscale=len_fx)\n",
    "\n",
    "kern = lib.GP.kernels.Product([kernt, kernx], [[0], list(range(1, x_dims))])\n",
    "\n",
    "\n",
    "### inducing points ###\n",
    "prng_state, prng_key = jr.split(prng_state)\n",
    "\n",
    "num_induc = 20\n",
    "induc_locs = jnp.concatenate(\n",
    "    [\n",
    "        jr.uniform(prng_state, shape=(f_dims, num_induc, 1)), \n",
    "        jr.normal(prng_key, shape=(f_dims, num_induc, x_dims - 1)), \n",
    "    ], axis=-1\n",
    ")\n",
    "\n",
    "prng_state, _ = jr.split(prng_state)\n",
    "\n",
    "\n",
    "mode = 'qSVGP'\n",
    "if mode == 'qSVGP':\n",
    "    u_mu = 0. + 1.*jax.random.normal(prng_state, shape=(f_dims, num_induc, 1))\n",
    "    u_Lcov = 0.1*jnp.eye(num_induc)[None, ...].repeat(f_dims, axis=0)\n",
    "    \n",
    "    svgp = lib.GP.sparse.qSVGP(kern, induc_locs, u_mu, u_Lcov, RFF_num_feats=100)\n",
    "    \n",
    "    Kzz = svgp.kernel.K(svgp.induc_locs, None, False)\n",
    "    lambda_1, chol_Lambda_2 = lib.GP.sparse.t_from_q_svgp_moments(Kzz, u_mu, u_Lcov)\n",
    "    \n",
    "elif mode == 'tSVGP':\n",
    "    lambda_1 = 1. + 0.*jax.random.normal(prng_state, shape=(f_dims, num_induc, 1))\n",
    "    chol_Lambda_2 = 100.*jnp.eye(num_induc)[None, ...].repeat(f_dims, axis=0)\n",
    "    \n",
    "    svgp = lib.GP.sparse.tSVGP(kern, induc_locs, lambda_1, chol_Lambda_2, RFF_num_feats=100)\n",
    "    \n",
    "    Kzz = svgp.kernel.K(svgp.induc_locs, None, False)\n",
    "    u_mu, u_Lcov = lib.GP.sparse.t_to_q_svgp_moments(Kzz, lambda_1, chol_Lambda_2, jitter)"
   ]
  },
  {
   "cell_type": "code",
   "execution_count": null,
   "metadata": {},
   "outputs": [],
   "source": []
  },
  {
   "cell_type": "code",
   "execution_count": 54,
   "metadata": {},
   "outputs": [],
   "source": [
    "prng_state, _ = jr.split(prng_state)\n",
    "\n",
    "xx = np.meshgrid(*[np.linspace(-3, 3, 30) for _ in range(x_dims)])\n",
    "xx = jnp.stack(xx, axis=-1)\n",
    "\n",
    "or_shape = xx.shape[:-1]\n",
    "xx = xx.reshape(1, 1, -1, x_dims)  # (samp, out_dims, evals, x_dim)\n",
    "xx_samp = xx.repeat(n_samp, axis=0)\n",
    "\n",
    "pf_x = svgp.sample_prior(prng_state, xx_samp, jitter)  # (samp, f_dim, evals)\n",
    "pf_x = pf_x.reshape(n_samp, f_dims, *or_shape)\n",
    "\n",
    "qf_x, KL = svgp.sample_posterior(prng_state, xx_samp, jitter, compute_KL=True)  # (samp, f_dim, evals)\n",
    "qf_x = qf_x.reshape(n_samp, f_dims, *or_shape)\n",
    "\n",
    "qf_m, qf_c, _, _ = svgp.evaluate_posterior(\n",
    "    xx, mean_only=False, diag_cov=True, compute_KL=False, compute_aux=False, jitter=0.)\n",
    "\n",
    "qf_m = qf_m.reshape(f_dims, *or_shape)\n",
    "qf_c = qf_c.reshape(f_dims, *or_shape)"
   ]
  },
  {
   "cell_type": "code",
   "execution_count": null,
   "metadata": {},
   "outputs": [],
   "source": []
  },
  {
   "cell_type": "code",
   "execution_count": null,
   "metadata": {},
   "outputs": [],
   "source": []
  },
  {
   "cell_type": "code",
   "execution_count": 55,
   "metadata": {},
   "outputs": [
    {
     "data": {
      "image/png": "[encoded data removed]",
      "text/plain": [
       "<Figure size 245x183.75 with 1 Axes>"
      ]
     },
     "metadata": {},
     "output_type": "display_data"
    },
    {
     "data": {
      "image/png": "[encoded data removed]",
      "text/plain": [
       "<Figure size 245x183.75 with 1 Axes>"
      ]
     },
     "metadata": {},
     "output_type": "display_data"
    }
   ],
   "source": [
    "trs = [2, 3]\n",
    "n = 0\n",
    "\n",
    "plt.imshow(qf_m[n, ...], extent=[-3, 3, -3, 3], origin='lower', cmap='viridis')\n",
    "plt.scatter(induc_locs[n, :, 0], induc_locs[n, :, 1], marker='.', color='r')\n",
    "plt.xlim([-3, 3])\n",
    "plt.ylim([-3, 3])\n",
    "plt.show()\n",
    "\n",
    "plt.imshow(qf_c[n, ...], extent=[-3, 3, -3, 3], origin='lower', cmap='viridis')\n",
    "plt.scatter(induc_locs[n, :, 0], induc_locs[n, :, 1], marker='.', color='r')\n",
    "plt.xlim([-3, 3])\n",
    "plt.ylim([-3, 3])\n",
    "plt.show()"
   ]
  },
  {
   "cell_type": "code",
   "execution_count": null,
   "metadata": {},
   "outputs": [],
   "source": []
  },
  {
   "cell_type": "code",
   "execution_count": 110,
   "metadata": {},
   "outputs": [],
   "source": [
    "evalsteps = 500\n",
    "num_samps = 10\n",
    "\n",
    "cisi_t_eval = jnp.linspace(0.0, 5.0, evalsteps)\n",
    "isi_cond = None#jnp.ones((f_dims, ISI_orders-1))\n",
    "x_cond = jnp.ones((x_dims-1,))\n",
    "\n",
    "# bnpp\n",
    "wrap_tau = 1.0*np.ones((f_dims,))\n",
    "refract_tau = 1e-1*np.ones((f_dims,))\n",
    "refract_neg= -12.\n",
    "mean_bias = 0.*np.ones((f_dims,))\n",
    "dt = 1e-3  # s\n",
    "\n",
    "bnpp = lib.inference.svgp.NonparametricPointProcess(\n",
    "    svgp, wrap_tau, refract_tau, refract_neg, mean_bias, dt)\n",
    "\n",
    "ISI_density = bnpp.sample_conditional_ISI(\n",
    "    prng_state,\n",
    "    num_samps,\n",
    "    cisi_t_eval,\n",
    "    isi_cond, \n",
    "    x_cond,\n",
    "    int_eval_pts=1000,\n",
    "    num_quad_pts=300,\n",
    "    prior=True,\n",
    "    jitter=1e-6, \n",
    ")\n"
   ]
  },
  {
   "cell_type": "code",
   "execution_count": 111,
   "metadata": {},
   "outputs": [
    {
     "data": {
      "image/png": "[encoded data removed]",
      "text/plain": [
       "<Figure size 245x183.75 with 1 Axes>"
      ]
     },
     "metadata": {},
     "output_type": "display_data"
    }
   ],
   "source": [
    "n = 0\n",
    "\n",
    "plt.plot(cisi_t_eval, ISI_density[:, n, :].T)\n",
    "plt.show()"
   ]
  },
  {
   "cell_type": "code",
   "execution_count": 112,
   "metadata": {},
   "outputs": [
    {
     "data": {
      "text/plain": [
       "DeviceArray([[0.9980149 , 1.0196345 , 1.01281   ],\n",
       "             [1.00492   , 1.009078  , 0.99746716],\n",
       "             [1.0035939 , 0.99390155, 1.0016392 ],\n",
       "             [1.0049666 , 1.0036337 , 1.0110075 ],\n",
       "             [1.0053166 , 1.0159621 , 0.9958945 ],\n",
       "             [1.0172338 , 0.99729645, 0.9994846 ],\n",
       "             [0.9940476 , 1.0021356 , 1.0151942 ],\n",
       "             [1.0163202 , 1.0023643 , 1.0311621 ],\n",
       "             [0.99368995, 1.0043535 , 1.0151074 ],\n",
       "             [1.0097516 , 1.0164219 , 1.0064961 ]], dtype=float32)"
      ]
     },
     "execution_count": 112,
     "metadata": {},
     "output_type": "execute_result"
    }
   ],
   "source": [
    "ISI_density.sum(-1) * (cisi_t_eval[1]-cisi_t_eval[0])"
   ]
  },
  {
   "cell_type": "code",
   "execution_count": 34,
   "metadata": {},
   "outputs": [],
   "source": [
    "evalsteps = 10000\n",
    "N = f_dims\n",
    "evals = np.arange(evalsteps)\n",
    "\n",
    "ys = (np.random.randn(N, evalsteps) > 3.)\n",
    "\n",
    "ISIs = lib.utils.neural.get_lagged_ISIs(ys.T, 4, dt)"
   ]
  },
  {
   "cell_type": "code",
   "execution_count": 35,
   "metadata": {},
   "outputs": [],
   "source": [
    "st = 0\n",
    "xs = jnp.linspace(0., 1., evalsteps-st)[:, None]\n",
    "deltas = ISIs.transpose(1, 0, 2)[:, st:, :1]\n",
    "\n",
    "cdfs, num_intervals = bnpp.KS_test(xs, deltas, ys[:, st:], jitter=1e-6, max_intervals=100)"
   ]
  },
  {
   "cell_type": "code",
   "execution_count": 36,
   "metadata": {},
   "outputs": [
    {
     "data": {
      "image/png": "[encoded data removed]",
      "text/plain": [
       "<Figure size 245x183.75 with 1 Axes>"
      ]
     },
     "metadata": {},
     "output_type": "display_data"
    }
   ],
   "source": [
    "\n",
    "for n in range(3):\n",
    "    sort_cdfs = np.sort(cdfs[n, :num_intervals[n]])\n",
    "    plt.plot(np.linspace(0., 1., num_intervals[n]), sort_cdfs)\n",
    "plt.plot(np.linspace(0., 1., 100), np.linspace(0., 1., 100))\n",
    "plt.show()"
   ]
  },
  {
   "cell_type": "code",
   "execution_count": 42,
   "metadata": {},
   "outputs": [],
   "source": [
    "lik_int_method = {\n",
    "    \"type\": \"GH\", \n",
    "    \"approx_pts\": 100, \n",
    "}\n",
    "\n",
    "lpd, _ = bnpp.variational_expectation(prng_state, jitter, xs[None, None], deltas, ys, False, lik_int_method, True)"
   ]
  },
  {
   "cell_type": "code",
   "execution_count": 43,
   "metadata": {},
   "outputs": [
    {
     "data": {
      "text/plain": [
       "DeviceArray(-inf, dtype=float32)"
      ]
     },
     "execution_count": 43,
     "metadata": {},
     "output_type": "execute_result"
    }
   ],
   "source": [
    "lpd"
   ]
  },
  {
   "cell_type": "markdown",
   "metadata": {},
   "source": [
    "## Nonparametric non-renewal process"
   ]
  },
  {
   "cell_type": "code",
   "execution_count": 190,
   "metadata": {},
   "outputs": [],
   "source": [
    "x_dims = 3\n",
    "num_samps = 5\n",
    "prng_state = jax.random.PRNGKey(123)\n",
    "\n",
    "jitter = 1e-6\n",
    "\n",
    "\n",
    "### state space GP ###\n",
    "var_x = 1.0*np.ones((x_dims))  # GP variance\n",
    "len_x = 0.3*np.ones((x_dims, 1))  # GP lengthscale\n",
    "\n",
    "kernx = lib.GP.kernels.Matern52(x_dims, variance=var_x, lengthscale=len_x)\n",
    "\n",
    "\n",
    "num_samps = 20\n",
    "Tsteps = 1000\n",
    "\n",
    "site_locs = np.linspace(0., 1., Tsteps)[None, :].repeat(x_dims, axis=0)  # s\n",
    "site_obs = 0. * np.ones([x_dims, Tsteps, 1]) + 0*np.random.randn(x_dims, Tsteps, 1)\n",
    "site_Lcov = 1. * np.ones([x_dims, Tsteps, 1]) + 0*np.random.randn(x_dims, Tsteps, 1)\n",
    "\n",
    "\n",
    "# model\n",
    "state_space = lib.GP.markovian.IndependentLTI(\n",
    "    kernx, site_locs, site_obs, site_Lcov, fixed_grid_locs=True)\n",
    "\n",
    "\n",
    "# evaluate\n",
    "evalsteps = 2000\n",
    "t_eval = jnp.linspace(0.0, 1.0, evalsteps)\n",
    "\n",
    "prior_samples = state_space.sample_prior(\n",
    "    prng_state, num_samps, t_eval, jitter)\n",
    "\n",
    "\n",
    "post_mean, post_cov, _ = state_space.evaluate_posterior(\n",
    "    t_eval, mean_only=False, compute_KL=False, jitter=1e-6)\n",
    "post_mean = post_mean[..., 0]\n",
    "\n",
    "post_samples, _ = state_space.sample_posterior(\n",
    "    prng_state, num_samps, t_eval, jitter, False)  # (tr, time, N, 1)\n"
   ]
  },
  {
   "cell_type": "code",
   "execution_count": 120,
   "metadata": {},
   "outputs": [],
   "source": [
    "a = jnp.ones((5, 10))\n",
    "b = 2*jnp.ones(5, dtype=int)\n",
    "c = a[jnp.arange(5), b]"
   ]
  },
  {
   "cell_type": "code",
   "execution_count": 121,
   "metadata": {},
   "outputs": [
    {
     "data": {
      "text/plain": [
       "(5,)"
      ]
     },
     "execution_count": 121,
     "metadata": {},
     "output_type": "execute_result"
    }
   ],
   "source": [
    "c.shape"
   ]
  },
  {
   "cell_type": "code",
   "execution_count": 187,
   "metadata": {},
   "outputs": [
    {
     "ename": "SyntaxError",
     "evalue": "invalid syntax (519808175.py, line 1)",
     "output_type": "error",
     "traceback": [
      "\u001b[0;36m  Input \u001b[0;32mIn [187]\u001b[0;36m\u001b[0m\n\u001b[0;31m    x = np.\u001b[0m\n\u001b[0m           ^\u001b[0m\n\u001b[0;31mSyntaxError\u001b[0m\u001b[0;31m:\u001b[0m invalid syntax\n"
     ]
    }
   ],
   "source": [
    "x = np.\n",
    "bnpp.pp.inverse_link()"
   ]
  },
  {
   "cell_type": "code",
   "execution_count": 122,
   "metadata": {},
   "outputs": [
    {
     "name": "stderr",
     "output_type": "stream",
     "text": [
      "[autoreload of lib.inference.svgp failed: Traceback (most recent call last):\n",
      "  File \"/scratches/ramanujan/dl543/py3_9env/lib/python3.9/site-packages/IPython/extensions/autoreload.py\", line 257, in check\n",
      "    superreload(m, reload, self.old_objects)\n",
      "  File \"/scratches/ramanujan/dl543/py3_9env/lib/python3.9/site-packages/IPython/extensions/autoreload.py\", line 480, in superreload\n",
      "    update_generic(old_obj, new_obj)\n",
      "  File \"/scratches/ramanujan/dl543/py3_9env/lib/python3.9/site-packages/IPython/extensions/autoreload.py\", line 377, in update_generic\n",
      "    update(a, b)\n",
      "  File \"/scratches/ramanujan/dl543/py3_9env/lib/python3.9/site-packages/IPython/extensions/autoreload.py\", line 345, in update_class\n",
      "    update_instances(old, new)\n",
      "  File \"/scratches/ramanujan/dl543/py3_9env/lib/python3.9/site-packages/IPython/extensions/autoreload.py\", line 303, in update_instances\n",
      "    ref.__class__ = new\n",
      "  File \"<string>\", line 4, in __setattr__\n",
      "dataclasses.FrozenInstanceError: cannot assign to field '__class__'\n",
      "]\n"
     ]
    },
    {
     "ename": "AttributeError",
     "evalue": "module 'lib.inference' has no attribute 'gp'",
     "output_type": "error",
     "traceback": [
      "\u001b[0;31m---------------------------------------------------------------------------\u001b[0m",
      "\u001b[0;31mAttributeError\u001b[0m                            Traceback (most recent call last)",
      "Input \u001b[0;32mIn [122]\u001b[0m, in \u001b[0;36m<cell line: 15>\u001b[0;34m()\u001b[0m\n\u001b[1;32m     12\u001b[0m mean_bias \u001b[38;5;241m=\u001b[39m \u001b[38;5;241m0.\u001b[39m\u001b[38;5;241m*\u001b[39mnp\u001b[38;5;241m.\u001b[39mones((x_dims,))\n\u001b[1;32m     13\u001b[0m dt \u001b[38;5;241m=\u001b[39m \u001b[38;5;241m1e-3\u001b[39m  \u001b[38;5;66;03m# ms\u001b[39;00m\n\u001b[0;32m---> 15\u001b[0m bnpp \u001b[38;5;241m=\u001b[39m \u001b[43mlib\u001b[49m\u001b[38;5;241;43m.\u001b[39;49m\u001b[43minference\u001b[49m\u001b[38;5;241;43m.\u001b[39;49m\u001b[43mgp\u001b[49m\u001b[38;5;241m.\u001b[39mNonparametricPointProcess(state_space, wrap_tau, refract_tau, refract_neg, mean_bias, dt)\n\u001b[1;32m     17\u001b[0m nonrefr_renewal_density \u001b[38;5;241m=\u001b[39m bnpp\u001b[38;5;241m.\u001b[39msample_conditional_ISI(\n\u001b[1;32m     18\u001b[0m     prng_state,\n\u001b[1;32m     19\u001b[0m     num_samps,\n\u001b[0;32m   (...)\u001b[0m\n\u001b[1;32m     25\u001b[0m     prior\u001b[38;5;241m=\u001b[39m\u001b[38;5;28;01mTrue\u001b[39;00m,\n\u001b[1;32m     26\u001b[0m )\n\u001b[1;32m     29\u001b[0m \u001b[38;5;66;03m# refractory\u001b[39;00m\n",
      "\u001b[0;31mAttributeError\u001b[0m: module 'lib.inference' has no attribute 'gp'"
     ]
    }
   ],
   "source": [
    "evalsteps = 500\n",
    "num_samps = 20\n",
    "\n",
    "cisi_t_eval = jnp.linspace(0.0, 3.0, evalsteps)\n",
    "isi_cond = None\n",
    "x_cond = None\n",
    "\n",
    "# non\n",
    "wrap_tau = 1.0*np.ones((x_dims,))\n",
    "refract_tau = 1e0*np.ones((x_dims,))\n",
    "refract_neg= -0.\n",
    "mean_bias = 0.*np.ones((x_dims,))\n",
    "dt = 1e-3  # ms\n",
    "\n",
    "bnpp = lib.inference.gp.NonparametricPointProcess(state_space, wrap_tau, refract_tau, refract_neg, mean_bias, dt)\n",
    "\n",
    "nonrefr_renewal_density = bnpp.sample_conditional_ISI(\n",
    "    prng_state,\n",
    "    num_samps,\n",
    "    cisi_t_eval,\n",
    "    isi_cond, \n",
    "    x_cond,\n",
    "    int_eval_pts=1000,\n",
    "    num_quad_pts=100,\n",
    "    prior=True,\n",
    ")\n",
    "\n",
    "\n",
    "# refractory\n",
    "wrap_tau = 1.0*np.ones((x_dims,))\n",
    "refract_tau = 1e0*np.ones((x_dims,))\n",
    "refract_neg= -12.\n",
    "mean_bias = 0.*np.ones((x_dims,))\n",
    "dt = 1e-3  # ms\n",
    "\n",
    "bnpp = lib.inference.gp.NonparametricPointProcess(state_space, wrap_tau, refract_tau, refract_neg, mean_bias, dt)\n",
    "\n",
    "refr_renewal_density = bnpp.sample_conditional_ISI(\n",
    "    prng_state,\n",
    "    num_samps,\n",
    "    cisi_t_eval,\n",
    "    isi_cond, \n",
    "    x_cond,\n",
    "    int_eval_pts=1000,\n",
    "    num_quad_pts=100,\n",
    "    prior=False,\n",
    ")"
   ]
  },
  {
   "cell_type": "code",
   "execution_count": null,
   "metadata": {},
   "outputs": [],
   "source": []
  },
  {
   "cell_type": "code",
   "execution_count": null,
   "metadata": {},
   "outputs": [],
   "source": []
  },
  {
   "cell_type": "code",
   "execution_count": null,
   "metadata": {},
   "outputs": [],
   "source": [
    "plt.plot(log_rho_t_mean[f_dim, :])"
   ]
  },
  {
   "cell_type": "code",
   "execution_count": 9,
   "metadata": {},
   "outputs": [
    {
     "ename": "TypeError",
     "evalue": "sample_prior() takes 9 positional arguments but 10 were given",
     "output_type": "error",
     "traceback": [
      "\u001b[0;31m---------------------------------------------------------------------------\u001b[0m",
      "\u001b[0;31mTypeError\u001b[0m                                 Traceback (most recent call last)",
      "Input \u001b[0;32mIn [9]\u001b[0m, in \u001b[0;36m<cell line: 10>\u001b[0;34m()\u001b[0m\n\u001b[1;32m      6\u001b[0m past_ISIs \u001b[38;5;241m=\u001b[39m \u001b[38;5;28;01mNone\u001b[39;00m\n\u001b[1;32m      8\u001b[0m timesteps \u001b[38;5;241m=\u001b[39m \u001b[38;5;241m1000\u001b[39m\n\u001b[0;32m---> 10\u001b[0m y_samples, log_rho_ts, x_samples \u001b[38;5;241m=\u001b[39m \u001b[43mbnpp\u001b[49m\u001b[38;5;241;43m.\u001b[39;49m\u001b[43msample_prior\u001b[49m\u001b[43m(\u001b[49m\n\u001b[1;32m     11\u001b[0m \u001b[43m    \u001b[49m\u001b[43mprng_state\u001b[49m\u001b[43m,\u001b[49m\u001b[43m \u001b[49m\u001b[43mnum_samps\u001b[49m\u001b[43m,\u001b[49m\u001b[43m \u001b[49m\u001b[43mtimesteps\u001b[49m\u001b[43m,\u001b[49m\u001b[43m \u001b[49m\u001b[43mx_eval\u001b[49m\u001b[43m,\u001b[49m\u001b[43m \u001b[49m\u001b[43mtime_eval\u001b[49m\u001b[43m,\u001b[49m\u001b[43m \u001b[49m\u001b[43mini_spikes\u001b[49m\u001b[43m,\u001b[49m\u001b[43m \u001b[49m\u001b[43mini_t_since\u001b[49m\u001b[43m,\u001b[49m\u001b[43m \u001b[49m\u001b[43mpast_ISIs\u001b[49m\u001b[43m,\u001b[49m\u001b[43m \u001b[49m\u001b[43mjitter\u001b[49m\u001b[43m)\u001b[49m\n",
      "\u001b[0;31mTypeError\u001b[0m: sample_prior() takes 9 positional arguments but 10 were given"
     ]
    }
   ],
   "source": [
    "x_eval = None\n",
    "time_eval = None\n",
    "ini_spikes = None\n",
    "\n",
    "ini_t_since = jnp.zeros((num_samps, x_dims))\n",
    "past_ISIs = None\n",
    "\n",
    "timesteps = 1000\n",
    "\n",
    "y_samples, log_rho_ts, x_samples = bnpp.sample_prior(\n",
    "    prng_state, num_samps, timesteps, x_eval, time_eval, ini_spikes, ini_t_since, past_ISIs, jitter)"
   ]
  },
  {
   "cell_type": "code",
   "execution_count": 253,
   "metadata": {},
   "outputs": [],
   "source": [
    "evalsteps = 1000\n",
    "evals = np.arange(evalsteps)\n",
    "\n",
    "t_eval = np.zeros(evalsteps)\n",
    "y = (np.random.randn(evalsteps) > 2.)\n",
    "\n",
    "ISIs = lib.utils.neural.get_lagged_ISIs(y[:, None], 4, dt)"
   ]
  },
  {
   "cell_type": "code",
   "execution_count": 263,
   "metadata": {},
   "outputs": [],
   "source": [
    "t_eval = ISIs[:, 0, 0]*100#jnp.linspace(0.0, 100.0, evalsteps)\n",
    "isi_eval = None\n",
    "x_eval = None\n",
    "\n",
    "y = None\n",
    "\n",
    "log_rho_t_mean, log_rho_t_cov = bnpp.evaluate_log_conditional_intensity(\n",
    "    prng_state, t_eval, isi_eval, x_eval, jitter\n",
    ")"
   ]
  },
  {
   "cell_type": "code",
   "execution_count": 271,
   "metadata": {},
   "outputs": [
    {
     "data": {
      "image/png": "[encoded data removed]",
      "text/plain": [
       "<Figure size 700x210 with 8 Axes>"
      ]
     },
     "metadata": {},
     "output_type": "display_data"
    }
   ],
   "source": [
    "fig = plt.figure(figsize=(10, 3))\n",
    "fig.text(-0.05, 1.05, 'A', fontsize=15, ha='center')\n",
    "fig.text(0.65, 1.05, 'B', fontsize=15, ha='center')\n",
    "\n",
    "\n",
    "\n",
    "widths = [1]\n",
    "heights = [1]\n",
    "spec = fig.add_gridspec(ncols=len(widths), nrows=len(heights), width_ratios=widths, \n",
    "                        height_ratios=heights, top=1.0, bottom=0.65, \n",
    "                        left=0.0, right=0.33, wspace=0.1)\n",
    "\n",
    "ax = fig.add_subplot(spec[0, 0])\n",
    "T = 800\n",
    "ax.plot(evals[:T], ISIs[:T, 0, 0], c='b')\n",
    "ax.plot(evals[T:], ISIs[T:, 0, 0], c='b', alpha=0.3)\n",
    "ax.set_xlim([250, evalsteps])\n",
    "ax.set_ylabel(r'$\\tau$')\n",
    "ax.set_yticks([])\n",
    "ax.set_xlabel('clock time')\n",
    "ax.set_xticks([])\n",
    "\n",
    "\n",
    "widths = [1]\n",
    "heights = [1, 1]\n",
    "spec = fig.add_gridspec(ncols=len(widths), nrows=len(heights), width_ratios=widths, \n",
    "                        height_ratios=heights, top=0.5, bottom=0.1, \n",
    "                        left=0.0, right=0.15, hspace=0.1)\n",
    "\n",
    "T = 800\n",
    "for k in range(2):\n",
    "    ax = fig.add_subplot(spec[k, 0])\n",
    "    ax.plot(evals[:T], ISIs[:T, 0, k+1], c='g')\n",
    "    ax.plot(evals[T:], ISIs[T:, 0, k+1], c='g', alpha=0.3)\n",
    "    ax.set_xlim([250, evalsteps])\n",
    "    ax.set_xticks([])\n",
    "    ax.set_ylim(0)\n",
    "    ax.set_yticks([])\n",
    "    ax.set_ylabel('$\\Delta_{}$'.format(k+1))\n",
    "\n",
    "\n",
    "widths = [1]\n",
    "heights = [1]\n",
    "spec = fig.add_gridspec(ncols=len(widths), nrows=len(heights), width_ratios=widths, \n",
    "                        height_ratios=heights, top=0.45, bottom=0.05, \n",
    "                        left=0.18, right=0.35, wspace=0.0)\n",
    "\n",
    "ax = fig.add_subplot(spec[0, 0])\n",
    "T = 500\n",
    "ax.plot(pos_prior_samples[0, :T, 0], pos_prior_samples[0, :T, 1], c='k')\n",
    "ax.plot(pos_prior_samples[0, T:, 0], pos_prior_samples[0, T:, 1], alpha=0.3, c='k')\n",
    "ax.set_aspect('equal')\n",
    "ax.set_xlabel('$x_1$')\n",
    "ax.set_ylabel('$x_2$')\n",
    "ax.set_xticks([])\n",
    "ax.set_yticks([])\n",
    "\n",
    "\n",
    "widths = [1]\n",
    "heights = [1]\n",
    "spec = fig.add_gridspec(ncols=len(widths), nrows=len(heights), width_ratios=widths, \n",
    "                        height_ratios=heights, top=0.05, bottom=0.0, \n",
    "                        left=0.05, right=0.1, wspace=0.0)\n",
    "ax = fig.add_subplot(spec[0, 0])\n",
    "ax.scatter(np.arange(3), -10*np.ones(3), c='k')\n",
    "ax.axis('off')\n",
    "\n",
    "\n",
    "### intensity ###\n",
    "widths = [1]\n",
    "heights = [1]\n",
    "spec = fig.add_gridspec(ncols=len(widths), nrows=len(heights), width_ratios=widths, \n",
    "                        height_ratios=heights, top=1.0, bottom=0.65, \n",
    "                        left=0.4, right=0.65, wspace=0.1)\n",
    "\n",
    "ax = fig.add_subplot(spec[0, 0])\n",
    "ax.plot(np.exp(log_rho_t_mean[0, :]))\n",
    "ax.set_ylabel(r'$\\rho$')\n",
    "ax.set_xlabel(r'clock time')\n",
    "ax.set_yticks([])\n",
    "ax.set_xticks([])\n",
    "\n",
    "\n",
    "\n",
    "### ISIs ###\n",
    "widths = [1]\n",
    "heights = [1, 1]\n",
    "spec = fig.add_gridspec(ncols=len(widths), nrows=len(heights), width_ratios=widths, \n",
    "                        height_ratios=heights, top=1.0, bottom=0.0, \n",
    "                        left=0.7, right=1.0, hspace=0.5)\n",
    "\n",
    "\n",
    "n = 0\n",
    "f_dim = 0\n",
    "\n",
    "ax = fig.add_subplot(spec[0, 0])\n",
    "ax.plot(cisi_t_eval, nonrefr_renewal_density[:, f_dim, :].T, c='k', alpha=0.3)\n",
    "ax.set_xticks([])\n",
    "ax.set_yticks([])\n",
    "ax.set_ylabel('probability')\n",
    "ax.set_title('non-refractory prior', fontsize=13)\n",
    "\n",
    "ax = fig.add_subplot(spec[1, 0])\n",
    "ax.plot(cisi_t_eval, refr_renewal_density[:, f_dim, :].T, c='k', alpha=0.3)\n",
    "ax.set_xticks([])\n",
    "ax.set_yticks([])\n",
    "ax.set_xlabel('ISI')\n",
    "ax.set_title('refractory prior', fontsize=13)\n",
    "\n",
    "\n",
    "\n",
    "#plt.savefig('output/schematic.pdf')\n",
    "plt.show()"
   ]
  },
  {
   "cell_type": "code",
   "execution_count": null,
   "metadata": {},
   "outputs": [],
   "source": []
  },
  {
   "cell_type": "code",
   "execution_count": 85,
   "metadata": {},
   "outputs": [
    {
     "ename": "NameError",
     "evalue": "name 'an_pos' is not defined",
     "output_type": "error",
     "traceback": [
      "\u001b[0;31m---------------------------------------------------------------------------\u001b[0m",
      "\u001b[0;31mNameError\u001b[0m                                 Traceback (most recent call last)",
      "Input \u001b[0;32mIn [85]\u001b[0m, in \u001b[0;36m<cell line: 20>\u001b[0;34m()\u001b[0m\n\u001b[1;32m     23\u001b[0m ax\u001b[38;5;241m.\u001b[39mannotate(\u001b[38;5;124m\"\u001b[39m\u001b[38;5;124m\"\u001b[39m, xy\u001b[38;5;241m=\u001b[39m(\u001b[38;5;241m0.5\u001b[39m, \u001b[38;5;241m1.5\u001b[39m), xytext\u001b[38;5;241m=\u001b[39m(\u001b[38;5;241m0.5\u001b[39m, \u001b[38;5;241m1.1\u001b[39m), rotation\u001b[38;5;241m=\u001b[39mnp\u001b[38;5;241m.\u001b[39mpi\u001b[38;5;241m/\u001b[39m\u001b[38;5;241m2.\u001b[39m, xycoords\u001b[38;5;241m=\u001b[39m\u001b[38;5;124m'\u001b[39m\u001b[38;5;124maxes fraction\u001b[39m\u001b[38;5;124m'\u001b[39m, \n\u001b[1;32m     24\u001b[0m             arrowprops\u001b[38;5;241m=\u001b[39m\u001b[38;5;28mdict\u001b[39m(arrowstyle\u001b[38;5;241m=\u001b[39m\u001b[38;5;124m\"\u001b[39m\u001b[38;5;124m-|>, head_width=.3, head_length=.6\u001b[39m\u001b[38;5;124m\"\u001b[39m, color\u001b[38;5;241m=\u001b[39m\u001b[38;5;124m'\u001b[39m\u001b[38;5;124mk\u001b[39m\u001b[38;5;124m'\u001b[39m), \n\u001b[1;32m     25\u001b[0m             annotation_clip\u001b[38;5;241m=\u001b[39m\u001b[38;5;28;01mFalse\u001b[39;00m)\n\u001b[1;32m     27\u001b[0m tp \u001b[38;5;241m=\u001b[39m tps[k]\n\u001b[0;32m---> 29\u001b[0m x \u001b[38;5;241m=\u001b[39m \u001b[43man_pos\u001b[49m[\u001b[38;5;241m0\u001b[39m, \u001b[38;5;241m0\u001b[39m, tp]\n\u001b[1;32m     30\u001b[0m y \u001b[38;5;241m=\u001b[39m an_pos[\u001b[38;5;241m0\u001b[39m, \u001b[38;5;241m1\u001b[39m, tp]\n\u001b[1;32m     31\u001b[0m dx \u001b[38;5;241m=\u001b[39m (an_pos[\u001b[38;5;241m0\u001b[39m, \u001b[38;5;241m0\u001b[39m, tp\u001b[38;5;241m+\u001b[39m\u001b[38;5;241m1\u001b[39m]\u001b[38;5;241m-\u001b[39man_pos[\u001b[38;5;241m0\u001b[39m, \u001b[38;5;241m0\u001b[39m, tp])\u001b[38;5;241m*\u001b[39m\u001b[38;5;241m100\u001b[39m\n",
      "\u001b[0;31mNameError\u001b[0m: name 'an_pos' is not defined"
     ]
    },
    {
     "data": {
      "image/png": "[encoded data removed]",
      "text/plain": [
       "<Figure size 560x210 with 1 Axes>"
      ]
     },
     "metadata": {},
     "output_type": "display_data"
    }
   ],
   "source": [
    "fig = plt.figure(figsize=(8, 3))\n",
    "\n",
    "fig.text(0.22, 1.05, 'repeatable trials', fontsize=12, ha='center')\n",
    "fig.text(0.78, 1.05, 'naturalistic behaviour', fontsize=12, ha='center')\n",
    "\n",
    "\n",
    "    \n",
    "### behaviour ###\n",
    "\n",
    "\n",
    "# position\n",
    "tps = [300, 1000, 1700]\n",
    "widths = [1, 1, 1]\n",
    "heights = [1]\n",
    "\n",
    "spec = fig.add_gridspec(ncols=len(widths), nrows=len(heights), width_ratios=widths, hspace=0.0, \n",
    "                        height_ratios=heights, top=0.5, bottom=0.0, \n",
    "                        left=0.55, right=1., wspace=0.1)\n",
    "\n",
    "for k in range(3):\n",
    "    ax = fig.add_subplot(spec[0, k])\n",
    "    \n",
    "    ax.annotate(\"\", xy=(0.5, 1.5), xytext=(0.5, 1.1), rotation=np.pi/2., xycoords='axes fraction', \n",
    "                arrowprops=dict(arrowstyle=\"-|>, head_width=.3, head_length=.6\", color='k'), \n",
    "                annotation_clip=False)\n",
    "    \n",
    "    tp = tps[k]\n",
    "\n",
    "    x = an_pos[0, 0, tp]\n",
    "    y = an_pos[0, 1, tp]\n",
    "    dx = (an_pos[0, 0, tp+1]-an_pos[0, 0, tp])*100\n",
    "    dy = (an_pos[0, 1, tp+1]-an_pos[0, 1, tp])*100\n",
    "\n",
    "    ax.scatter(x, y, marker='o', facecolor='k', s=40)\n",
    "    #ax.arrow(x, y, dx, dy)\n",
    "    ax.plot(an_pos[0, 0, :tp], an_pos[0, 1, :tp], c='k')\n",
    "    ax.plot(an_pos[0, 0, tp:], an_pos[0, 1, tp:], c='lightgray')\n",
    "    ylims = ax.get_ylim()\n",
    "    ax.set_ylim(-2.4, 2.4)\n",
    "    ax.set_xlim(-2.4, 2.4)\n",
    "    ax.set_aspect(1.)\n",
    "    utils.plot.decorate_ax(ax)\n",
    "            \n",
    "            \n",
    "plt.savefig('output/comparison.pdf')\n",
    "plt.show()"
   ]
  },
  {
   "cell_type": "code",
   "execution_count": 7,
   "metadata": {},
   "outputs": [
    {
     "ename": "NameError",
     "evalue": "name 'GP' is not defined",
     "output_type": "error",
     "traceback": [
      "\u001b[0;31m---------------------------------------------------------------------------\u001b[0m",
      "\u001b[0;31mNameError\u001b[0m                                 Traceback (most recent call last)",
      "\u001b[0;32m<ipython-input-7-798cad4a0133>\u001b[0m in \u001b[0;36m<module>\u001b[0;34m\u001b[0m\n\u001b[1;32m     14\u001b[0m \u001b[0;34m\u001b[0m\u001b[0m\n\u001b[1;32m     15\u001b[0m \u001b[0;32mwith\u001b[0m \u001b[0mtorch\u001b[0m\u001b[0;34m.\u001b[0m\u001b[0mno_grad\u001b[0m\u001b[0;34m(\u001b[0m\u001b[0;34m)\u001b[0m\u001b[0;34m:\u001b[0m\u001b[0;34m\u001b[0m\u001b[0;34m\u001b[0m\u001b[0m\n\u001b[0;32m---> 16\u001b[0;31m     \u001b[0mkernel\u001b[0m\u001b[0;34m,\u001b[0m \u001b[0m_\u001b[0m\u001b[0;34m,\u001b[0m \u001b[0m_\u001b[0m \u001b[0;34m=\u001b[0m \u001b[0mGP\u001b[0m\u001b[0;34m.\u001b[0m\u001b[0mkernels\u001b[0m\u001b[0;34m.\u001b[0m\u001b[0mcreate_kernel\u001b[0m\u001b[0;34m(\u001b[0m\u001b[0mkernel_tuples\u001b[0m\u001b[0;34m,\u001b[0m \u001b[0;34m'softplus'\u001b[0m\u001b[0;34m,\u001b[0m \u001b[0mtorch\u001b[0m\u001b[0;34m.\u001b[0m\u001b[0mdouble\u001b[0m\u001b[0;34m)\u001b[0m\u001b[0;34m\u001b[0m\u001b[0;34m\u001b[0m\u001b[0m\n\u001b[0m\u001b[1;32m     17\u001b[0m \u001b[0;34m\u001b[0m\u001b[0m\n\u001b[1;32m     18\u001b[0m     \u001b[0minp\u001b[0m \u001b[0;34m=\u001b[0m \u001b[0mtorch\u001b[0m\u001b[0;34m.\u001b[0m\u001b[0marange\u001b[0m\u001b[0;34m(\u001b[0m\u001b[0mTl\u001b[0m\u001b[0;34m)\u001b[0m\u001b[0;34m[\u001b[0m\u001b[0;32mNone\u001b[0m\u001b[0;34m,\u001b[0m \u001b[0;32mNone\u001b[0m\u001b[0;34m,\u001b[0m \u001b[0;34m:\u001b[0m\u001b[0;34m,\u001b[0m \u001b[0;32mNone\u001b[0m\u001b[0;34m]\u001b[0m\u001b[0;34m*\u001b[0m\u001b[0msample_bin\u001b[0m\u001b[0;34m\u001b[0m\u001b[0;34m\u001b[0m\u001b[0m\n",
      "\u001b[0;31mNameError\u001b[0m: name 'GP' is not defined"
     ]
    }
   ],
   "source": [
    "def get_stat_model(mu, lsigma, log_beta, log_gamma, len_x, kernel_class, neurons):\n",
    "    \"\"\"\n",
    "    \"\"\"\n",
    "    f_dims = neurons\n",
    "    x_dims = f_dims\n",
    "    \n",
    "    v_t = 1.*np.ones(neurons)\n",
    "    v_r = -.3*np.ones(neurons)\n",
    "    tau_m = 0.01*np.ones(neurons)\n",
    "    tau_s = np.ones(neurons)\n",
    "    log_beta = log_beta*np.ones(neurons)\n",
    "    log_gamma = log_gamma*np.ones(neurons)\n",
    "    \n",
    "    tau_h = 0.1*np.ones(neurons)\n",
    "    a = 1.0*np.ones(neurons)\n",
    "    b = 1000.0*np.ones(neurons)\n",
    "\n",
    "    IF_model = lib.IF_models.LIF(log_beta, log_gamma, v_t, v_r, tau_s, tau_m)#, tau_h, a, b)\n",
    "    \n",
    "    eps_mapping = lib.mappings.Identity(f_dims)\n",
    "\n",
    "    ### state space GP ###\n",
    "    var_x = 1.0*np.ones(x_dims)  # GP variance\n",
    "    len_x = len_x*np.ones((x_dims, 1))  # GP lengthscale\n",
    "\n",
    "    kernx = kernel_class(x_dims, variance=var_x, lengthscale=len_x)\n",
    "    #kernx = lib.kernels.IID(jnp.eye(x_dims))\n",
    "    \n",
    "    state_space = lib.GP.state_space.FullLDS(kernx, diagonal_site=True)\n",
    "\n",
    "    ### mu and sigma ###\n",
    "    params = {'value': mu*jnp.ones((f_dims,))}\n",
    "    mu_mapping = lib.mappings.Constant(x_dims, f_dims, params)\n",
    "\n",
    "    params = {'value': lsigma*jnp.ones((f_dims,))}\n",
    "    lsigma_mapping = lib.mappings.Constant(x_dims, f_dims, params)\n",
    "    \n",
    "    ### initial conditions ###\n",
    "    q_vh_ic = jnp.zeros((num_samps, neurons, IF_model.q_d))\n",
    "    \n",
    "    ### IF GP model ###\n",
    "    model = lib.inference.IF_SSGP(\n",
    "        state_space, eps_mapping, mu_mapping, lsigma_mapping, IF_model, q_vh_ic, dtype=jnp.float64)\n",
    "    return model"
   ]
  },
  {
   "cell_type": "code",
   "execution_count": null,
   "metadata": {},
   "outputs": [],
   "source": []
  },
  {
   "cell_type": "code",
   "execution_count": null,
   "metadata": {},
   "outputs": [],
   "source": []
  },
  {
   "cell_type": "code",
   "execution_count": null,
   "metadata": {},
   "outputs": [],
   "source": []
  },
  {
   "cell_type": "code",
   "execution_count": null,
   "metadata": {},
   "outputs": [],
   "source": [
    "x = np.exp(x)\n",
    "p = x.numpy()[:, 0, :]*np.exp(-np.cumsum(x.numpy()[:, 0, :], axis=1)*dt) # natural time"
   ]
  },
  {
   "cell_type": "code",
   "execution_count": 2,
   "metadata": {},
   "outputs": [],
   "source": []
  },
  {
   "cell_type": "code",
   "execution_count": 14,
   "metadata": {},
   "outputs": [],
   "source": [
    "t = np.arange(1000)\n",
    "params = {\"t0\": 100.}\n",
    "\n",
    "tau, dtau_dt = time_transform(params, t, inverse=False)\n",
    "t_, dt_dtau = time_transform(params, tau, inverse=True)"
   ]
  },
  {
   "cell_type": "code",
   "execution_count": 15,
   "metadata": {},
   "outputs": [
    {
     "data": {
      "text/plain": [
       "[<matplotlib.lines.Line2D at 0x7fca90311bb0>]"
      ]
     },
     "execution_count": 15,
     "metadata": {},
     "output_type": "execute_result"
    },
    {
     "data": {
      "image/png": "[encoded data removed]",
      "text/plain": [
       "<Figure size 245x183.75 with 1 Axes>"
      ]
     },
     "metadata": {},
     "output_type": "display_data"
    }
   ],
   "source": [
    "plt.plot(t, tau)"
   ]
  },
  {
   "cell_type": "code",
   "execution_count": null,
   "metadata": {},
   "outputs": [],
   "source": []
  },
  {
   "cell_type": "code",
   "execution_count": null,
   "metadata": {},
   "outputs": [],
   "source": [
    "plt.plot(tau, p.mean(0).T)\n",
    "plt.plot(tau[:, None].repeat(p.shape[0], axis=1), p.T, alpha=0.3)"
   ]
  },
  {
   "cell_type": "code",
   "execution_count": null,
   "metadata": {},
   "outputs": [],
   "source": [
    "plt.plot(t, p.mean(0).T*dtau_dt)\n",
    "plt.plot(t[:, None].repeat(p.shape[0], axis=1), p.T*dtau_dt[:, None], alpha=0.3)"
   ]
  },
  {
   "cell_type": "code",
   "execution_count": null,
   "metadata": {},
   "outputs": [],
   "source": [
    "(p*dt).sum(1)"
   ]
  },
  {
   "cell_type": "code",
   "execution_count": null,
   "metadata": {},
   "outputs": [],
   "source": []
  },
  {
   "cell_type": "code",
   "execution_count": null,
   "metadata": {},
   "outputs": [],
   "source": []
  },
  {
   "cell_type": "code",
   "execution_count": null,
   "metadata": {},
   "outputs": [],
   "source": []
  },
  {
   "cell_type": "code",
   "execution_count": null,
   "metadata": {},
   "outputs": [],
   "source": []
  },
  {
   "cell_type": "code",
   "execution_count": null,
   "metadata": {},
   "outputs": [],
   "source": [
    "fig = plt.figure(figsize=(8,5)) # plot fits\n",
    "fig.text(-0.21, 1.16, 'A', transform=ax.transAxes, size=15)\n",
    "\n",
    "time_bins = I_ext[0].shape[0]\n",
    "tt = np.arange(time_bins)*dt\n",
    "\n",
    "\n",
    "\n",
    "widths = [1]\n",
    "heights = [1, 1, 1, 2]\n",
    "spec = fig.add_gridspec(ncols=1, nrows=4, width_ratios=widths, height_ratios=heights, \n",
    "                        left=0., right=0.7, bottom=0., top=1.0)\n",
    "\n",
    "ax = fig.add_subplot(spec[0, 0])"
   ]
  }
 ],
 "metadata": {
  "kernelspec": {
   "display_name": "python39",
   "language": "python",
   "name": "python39"
  },
  "language_info": {
   "codemirror_mode": {
    "name": "ipython",
    "version": 3
   },
   "file_extension": ".py",
   "mimetype": "text/x-python",
   "name": "python",
   "nbconvert_exporter": "python",
   "pygments_lexer": "ipython3",
   "version": "3.9.16"
  }
 },
 "nbformat": 4,
 "nbformat_minor": 4
}
