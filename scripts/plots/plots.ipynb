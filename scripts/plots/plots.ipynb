{
 "cells": [
  {
   "cell_type": "markdown",
   "metadata": {},
   "source": [
    "# Validation of method\n",
    "\n",
    "### Table of contents\n",
    "\n",
    "1. [**Schematic of models**](#schem)\n",
    "2. [**Synthetic**](#syn)\n",
    "3. [**Biophysical**](#bio)\n",
    "4. [**Place cells regression**](#place)\n",
    "5. [**Place cells comodulation**](#corr)"
   ]
  },
  {
   "cell_type": "code",
   "execution_count": 2,
   "metadata": {},
   "outputs": [
    {
     "name": "stderr",
     "output_type": "stream",
     "text": [
      "/var/home/dl543/Documents/Learning/nonparametric-nonrenewal-process/scripts/plots/../../../GaussNeuro/gaussneuro/likelihoods/renewal.py:12: TqdmExperimentalWarning: Using `tqdm.autonotebook.tqdm` in notebook mode. Use `tqdm.tqdm` instead to force console mode (e.g. in jupyter console)\n",
      "  from tqdm.autonotebook import tqdm\n"
     ]
    }
   ],
   "source": [
    "%load_ext autoreload\n",
    "%autoreload 2\n",
    "\n",
    "import numpy as np\n",
    "import scipy\n",
    "\n",
    "import equinox as eqx\n",
    "import jax\n",
    "import jax.numpy as jnp\n",
    "import jax.random as jr\n",
    "\n",
    "import optax\n",
    "jax.config.update('jax_platform_name', 'cpu')\n",
    "#jax.config.update(\"jax_enable_x64\", True)\n",
    "\n",
    "import pickle\n",
    "\n",
    "\n",
    "import sys\n",
    "\n",
    "sys.path.append(\"../../../GaussNeuro\")\n",
    "import gaussneuro as lib\n",
    "\n",
    "sys.path.append(\"../../scripts/fit\")\n",
    "\n",
    "import template\n",
    "\n",
    "\n",
    "\n",
    "import matplotlib.pyplot as plt\n",
    "plt.style.use(['paper.mplstyle'])\n",
    "#plt.rc('text', usetex=True)"
   ]
  },
  {
   "cell_type": "code",
   "execution_count": 3,
   "metadata": {},
   "outputs": [],
   "source": [
    "jax.config.update('jax_platform_name', 'cpu')\n",
    "#jax.config.update('jax_disable_jit', True)\n",
    "\n",
    "double_arrays = False\n",
    "\n",
    "if double_arrays:\n",
    "    jax.config.update(\"jax_enable_x64\", True)\n",
    "    array_type = \"float64\"\n",
    "else:\n",
    "    array_type = \"float32\"\n",
    "\n",
    "# seed everything\n",
    "seed = 123\n",
    "prng_state = jr.PRNGKey(seed)\n",
    "rng = np.random.default_rng(seed)"
   ]
  },
  {
   "cell_type": "code",
   "execution_count": 4,
   "metadata": {},
   "outputs": [],
   "source": [
    "import plot_real"
   ]
  },
  {
   "cell_type": "markdown",
   "metadata": {},
   "source": [
    "## hc3"
   ]
  },
  {
   "cell_type": "code",
   "execution_count": 5,
   "metadata": {},
   "outputs": [],
   "source": [
    "datadir = '../saves/'\n",
    "\n",
    "tuning_dict = pickle.load(\n",
    "    open(datadir + 'hc3_tuning' + \".p\", \"rb\")\n",
    ")\n",
    "\n",
    "variability_dict = pickle.load(\n",
    "    open(datadir + 'hc3_variability' + \".p\", \"rb\")\n",
    ")\n",
    "\n",
    "bnpp_dict = pickle.load(\n",
    "    open(datadir + 'hc3_regression' + \".p\", \"rb\")\n",
    ")\n",
    "\n",
    "baseline_dict = pickle.load(\n",
    "    open(datadir + 'hc3_baselines' + \".p\", \"rb\")\n",
    ")\n",
    "\n",
    "regression_dict = {**baseline_dict, **bnpp_dict}\n",
    "reg_config_names = list(regression_dict.keys())\n",
    "\n",
    "    \n",
    "plot_units = [1, 15]"
   ]
  },
  {
   "cell_type": "code",
   "execution_count": 7,
   "metadata": {},
   "outputs": [],
   "source": [
    "cs = [\n",
    "    'tab:blue',\n",
    "    'tab:orange', \n",
    "    'tab:green',\n",
    "    'tab:red',\n",
    "    'tab:purple',\n",
    "    'tab:brown',\n",
    "    'tab:pink',\n",
    "    'tab:gray',\n",
    "]\n",
    "use_model_inds = np.array([0, 1, 2, 3, 4, 5, 6, 14])\n",
    "use_reg_config_names = [reg_config_names[k] for k in use_model_inds]\n",
    "use_names = [\n",
    "    'Poisson', \n",
    "    'gamma', \n",
    "    'inv. Gauss.', \n",
    "    'RC cond. P', \n",
    "    'RC cond. G', \n",
    "    'RC cond. IG', \n",
    "    'NP cond. P', \n",
    "    'NP (ours)', \n",
    "]\n",
    "visualize_inds = [0, 1, 4, 6, 7]\n",
    "visualize_names = [reg_config_names[k] for k in use_model_inds[visualize_inds]]\n"
   ]
  },
  {
   "cell_type": "code",
   "execution_count": 9,
   "metadata": {},
   "outputs": [
    {
     "data": {
      "text/plain": [
       "['ec014.29_ec014.468_isi5ISI5sel0.0to0.5_PP-log__factorized_gp-32-1000_X[x-hd-theta]_Z[]_freeze[]',\n",
       " 'ec014.29_ec014.468_isi5ISI5sel0.0to0.5_gamma-log__rate_renewal_gp-32-1000_X[x-hd-theta]_Z[]_freeze[]',\n",
       " 'ec014.29_ec014.468_isi5ISI5sel0.0to0.5_invgauss-log__rate_renewal_gp-32-1000_X[x-hd-theta]_Z[]_freeze[]',\n",
       " 'ec014.29_ec014.468_isi5ISI5sel0.0to0.5_PP-log_rcb-8-10.-20.-4.5-9.-self-H150_factorized_gp-32-1000_X[x-hd-theta]_Z[]_freeze[obs_model0spikefilter0a-obs_model0spikefilter0log_c-obs_model0spikefilter0phi]',\n",
       " 'ec014.29_ec014.468_isi5ISI5sel0.0to0.5_gamma-log_rcb-8-10.-20.-4.5-9.-self-H150_rate_renewal_gp-32-1000_X[x-hd-theta]_Z[]_freeze[obs_model0spikefilter0a-obs_model0spikefilter0log_c-obs_model0spikefilter0phi]',\n",
       " 'ec014.29_ec014.468_isi5ISI5sel0.0to0.5_invgauss-log_rcb-8-10.-20.-4.5-9.-self-H150_rate_renewal_gp-32-1000_X[x-hd-theta]_Z[]_freeze[obs_model0spikefilter0a-obs_model0spikefilter0log_c-obs_model0spikefilter0phi]',\n",
       " 'ec014.29_ec014.468_isi5ISI5sel0.0to0.5_PP-log_svgp-6-n2.-10.-self-H150_factorized_gp-40-1000_X[x-hd-theta]_Z[]_freeze[]',\n",
       " 'ec014.29_ec014.468_isi5ISI5sel0.0to0.5_isi4__nonparam_pp_gp-64-matern32-matern32-1000-n2._X[x-hd-theta]_Z[]_freeze[obs_model0log_warp_tau]']"
      ]
     },
     "execution_count": 9,
     "metadata": {},
     "output_type": "execute_result"
    }
   ],
   "source": [
    "use_reg_config_names"
   ]
  },
  {
   "cell_type": "code",
   "execution_count": null,
   "metadata": {},
   "outputs": [],
   "source": []
  },
  {
   "cell_type": "code",
   "execution_count": null,
   "metadata": {},
   "outputs": [],
   "source": []
  }
 ],
 "metadata": {
  "kernelspec": {
   "display_name": "python39",
   "language": "python",
   "name": "python39"
  },
  "language_info": {
   "codemirror_mode": {
    "name": "ipython",
    "version": 3
   },
   "file_extension": ".py",
   "mimetype": "text/x-python",
   "name": "python",
   "nbconvert_exporter": "python",
   "pygments_lexer": "ipython3",
   "version": "3.9.16"
  }
 },
 "nbformat": 4,
 "nbformat_minor": 4
}
