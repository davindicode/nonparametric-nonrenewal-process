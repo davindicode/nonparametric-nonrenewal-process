{
 "cells": [
  {
   "cell_type": "markdown",
   "metadata": {
    "tags": []
   },
   "source": [
    "# Loading hc3 data models\n",
    "\n",
    "### Table of contents\n",
    "\n",
    "1. [**One-dimensional regression**](#1D)\n",
    "2. [**Two-dimensional regression**](#2D)\n",
    "\n"
   ]
  },
  {
   "cell_type": "code",
   "execution_count": 3,
   "metadata": {},
   "outputs": [
    {
     "name": "stdout",
     "output_type": "stream",
     "text": [
      "The autoreload extension is already loaded. To reload it, use:\n",
      "  %reload_ext autoreload\n"
     ]
    }
   ],
   "source": [
    "%load_ext autoreload\n",
    "%autoreload\n",
    "\n",
    "import sys\n",
    "\n",
    "sys.path.append(\"../../../GaussNeuro\")\n",
    "import gaussneuro as lib\n",
    "\n",
    "sys.path.append(\"../fit/\")\n",
    "import hc3\n",
    "\n",
    "import equinox as eqx\n",
    "import jax\n",
    "import jax.numpy as jnp\n",
    "import jax.random as jr\n",
    "import numpy as np\n",
    "\n",
    "\n",
    "import analyze_hc3"
   ]
  },
  {
   "cell_type": "code",
   "execution_count": 4,
   "metadata": {},
   "outputs": [],
   "source": [
    "jax.config.update('jax_platform_name', 'cpu')\n",
    "#jax.config.update(\"jax_enable_x64\", True)"
   ]
  },
  {
   "cell_type": "code",
   "execution_count": 5,
   "metadata": {},
   "outputs": [],
   "source": [
    "### names ###\n",
    "reg_config_names = [\n",
    "    'ec014.29_ec014.468_L-to-RISI5sel0.0to0.5_PP-log__factorized_gp-32-1000_X[x-theta]_Z[]', \n",
    "    #'ec014.29_ec014.468_L-to-RISI5sel0.0to0.5_PP-log_rcb-8-17.-36.-6.-30.-self-H500_factorized_gp-32-1000_X[x-theta]_Z[]'\n",
    "    #'ec014.29_ec014.468_L-to-RISI5sel0.0to0.5_PP-log_svgp-10-3.-10.-self-H500_factorized_gp-32-1000_X[x-theta]_Z[]'\n",
    "    'ec014.29_ec014.468_L-to-RISI5sel0.0to0.5_gamma-log__rate_renewal_gp-32-1000_X[x-theta]_Z[]', \n",
    "    'ec014.29_ec014.468_L-to-RISI5sel0.0to0.5_lognorm-log__rate_renewal_gp-32-1000_X[x-theta]_Z[]', \n",
    "    'ec014.29_ec014.468_L-to-RISI5sel0.0to0.5_invgauss-log__rate_renewal_gp-32-1000_X[x-theta]_Z[]', \n",
    "    'ec014.29_ec014.468_L-to-RISI5sel0.0to0.5_isi4__nonparam_pp_gp-64-matern32-1000-12._X[x-theta]_Z[]', \n",
    "]\n",
    "\n",
    "tuning_model_name = (\n",
    "    \"th1_U-el-3_svgp-64_X[hd-omega-speed-x-y-time]_Z[]_40K11_0d0_10f-1\"\n",
    ")\n",
    "\n",
    "\n",
    "data_path = '../../data/hc3/'\n",
    "checkpoint_dir = '../checkpoint/'\n",
    "\n",
    "\n",
    "seed = 123\n",
    "rng = np.random.default_rng(seed)\n",
    "prng_state = jr.PRNGKey(seed)\n",
    "batch_size = 10000"
   ]
  },
  {
   "cell_type": "code",
   "execution_count": 6,
   "metadata": {},
   "outputs": [],
   "source": [
    "### load dataset ###\n",
    "session_name = 'ec014.29_ec014.468_L-to-R'\n",
    "max_ISI_order = 4\n",
    "\n",
    "select_fracs = [0.0, 0.5]\n",
    "dataset_dict = hc3.spikes_dataset(session_name, data_path, max_ISI_order, select_fracs)\n",
    "\n",
    "test_select_fracs = [\n",
    "    [0.5, 0.6], \n",
    "    [0.6, 0.7], \n",
    "    [0.7, 0.8], \n",
    "    [0.8, 0.9], \n",
    "    [0.9, 1.0], \n",
    "]\n",
    "test_dataset_dicts = [\n",
    "    hc3.spikes_dataset(session_name, data_path, max_ISI_order, tf) for tf in test_select_fracs\n",
    "]"
   ]
  },
  {
   "cell_type": "code",
   "execution_count": 6,
   "metadata": {},
   "outputs": [
    {
     "name": "stdout",
     "output_type": "stream",
     "text": [
      "Analyzing regression for ec014.29_ec014.468_L-to-RISI5sel0.0to0.5_PP-log__factorized_gp-32-1000_X[x-theta]_Z[]...\n"
     ]
    },
    {
     "ename": "TypeError",
     "evalue": "filtered_gp_posterior() missing 1 required positional argument: 'mean_filter'",
     "output_type": "error",
     "traceback": [
      "\u001b[0;31m---------------------------------------------------------------------------\u001b[0m",
      "\u001b[0;31mTypeError\u001b[0m                                 Traceback (most recent call last)",
      "Input \u001b[0;32mIn [6]\u001b[0m, in \u001b[0;36m<cell line: 1>\u001b[0;34m()\u001b[0m\n\u001b[0;32m----> 1\u001b[0m regression_dict \u001b[38;5;241m=\u001b[39m \u001b[43manalyze_hc3\u001b[49m\u001b[38;5;241;43m.\u001b[39;49m\u001b[43mregression\u001b[49m\u001b[43m(\u001b[49m\n\u001b[1;32m      2\u001b[0m \u001b[43m    \u001b[49m\u001b[43mcheckpoint_dir\u001b[49m\u001b[43m,\u001b[49m\u001b[43m \u001b[49m\u001b[43mreg_config_names\u001b[49m\u001b[43m,\u001b[49m\u001b[43m \u001b[49m\u001b[43mdataset_dict\u001b[49m\u001b[43m,\u001b[49m\u001b[43m \u001b[49m\u001b[43mtest_dataset_dicts\u001b[49m\u001b[43m,\u001b[49m\u001b[43m \u001b[49m\u001b[43mrng\u001b[49m\u001b[43m,\u001b[49m\u001b[43m \u001b[49m\u001b[43mprng_state\u001b[49m\u001b[43m,\u001b[49m\u001b[43m \u001b[49m\u001b[43mbatch_size\u001b[49m\n\u001b[1;32m      3\u001b[0m \u001b[43m)\u001b[49m\n",
      "File \u001b[0;32m~/Documents/Learning/nonparametric-modulated-renewal/scripts/analysis/analyze_hc3.py:128\u001b[0m, in \u001b[0;36mregression\u001b[0;34m(checkpoint_dir, reg_config_names, dataset_dict, test_dataset_dicts, rng, prng_state, batch_size)\u001b[0m\n\u001b[1;32m    126\u001b[0m num_samps \u001b[38;5;241m=\u001b[39m \u001b[38;5;241m10\u001b[39m\n\u001b[1;32m    127\u001b[0m \u001b[38;5;28;01mif\u001b[39;00m obs_type \u001b[38;5;241m==\u001b[39m \u001b[38;5;124m'\u001b[39m\u001b[38;5;124mfactorized_gp\u001b[39m\u001b[38;5;124m'\u001b[39m:\n\u001b[0;32m--> 128\u001b[0m     pred_log_intens, _, _ \u001b[38;5;241m=\u001b[39m \u001b[43mmodel\u001b[49m\u001b[38;5;241;43m.\u001b[39;49m\u001b[43mobs_model\u001b[49m\u001b[38;5;241;43m.\u001b[39;49m\u001b[43mfiltered_gp_posterior\u001b[49m\u001b[43m(\u001b[49m\n\u001b[1;32m    129\u001b[0m \u001b[43m        \u001b[49m\u001b[43mprng_state\u001b[49m\u001b[43m,\u001b[49m\u001b[43m \u001b[49m\u001b[43mtest_xs\u001b[49m\u001b[43m[\u001b[49m\u001b[38;5;28;43;01mNone\u001b[39;49;00m\u001b[43m,\u001b[49m\u001b[43m \u001b[49m\u001b[38;5;28;43;01mNone\u001b[39;49;00m\u001b[43m]\u001b[49m\u001b[43m,\u001b[49m\u001b[43m \u001b[49m\u001b[43mys_filt\u001b[49m\u001b[38;5;241;43m=\u001b[39;49m\u001b[43mtest_ys_filt\u001b[49m\u001b[43m,\u001b[49m\u001b[43m \u001b[49m\n\u001b[1;32m    130\u001b[0m \u001b[43m        \u001b[49m\u001b[43mmean_only\u001b[49m\u001b[38;5;241;43m=\u001b[39;49m\u001b[38;5;28;43;01mTrue\u001b[39;49;00m\u001b[43m,\u001b[49m\u001b[43m \u001b[49m\u001b[43mdiag_cov\u001b[49m\u001b[38;5;241;43m=\u001b[39;49m\u001b[38;5;28;43;01mTrue\u001b[39;49;00m\u001b[43m,\u001b[49m\u001b[43m \u001b[49m\n\u001b[1;32m    131\u001b[0m \u001b[43m        \u001b[49m\u001b[43mcompute_KL\u001b[49m\u001b[38;5;241;43m=\u001b[39;49m\u001b[38;5;28;43;01mFalse\u001b[39;49;00m\u001b[43m,\u001b[49m\u001b[43m \u001b[49m\u001b[43mjitter\u001b[49m\u001b[38;5;241;43m=\u001b[39;49m\u001b[43mjitter\u001b[49m\u001b[43m,\u001b[49m\u001b[43m \u001b[49m\u001b[43msel_outdims\u001b[49m\u001b[38;5;241;43m=\u001b[39;49m\u001b[38;5;28;43;01mNone\u001b[39;49;00m\n\u001b[1;32m    132\u001b[0m \u001b[43m    \u001b[49m\u001b[43m)\u001b[49m\n\u001b[1;32m    134\u001b[0m     x_eval \u001b[38;5;241m=\u001b[39m test_xs[\u001b[38;5;28;01mNone\u001b[39;00m, \u001b[38;5;28;01mNone\u001b[39;00m]\u001b[38;5;241m.\u001b[39mrepeat(num_samps, axis\u001b[38;5;241m=\u001b[39m\u001b[38;5;241m0\u001b[39m)\n\u001b[1;32m    135\u001b[0m     ini_Y \u001b[38;5;241m=\u001b[39m test_ys_filt[\u001b[38;5;28;01mNone\u001b[39;00m, :, :filter_length]\u001b[38;5;241m.\u001b[39mrepeat(num_samps, axis\u001b[38;5;241m=\u001b[39m\u001b[38;5;241m0\u001b[39m)\n",
      "\u001b[0;31mTypeError\u001b[0m: filtered_gp_posterior() missing 1 required positional argument: 'mean_filter'"
     ]
    }
   ],
   "source": [
    "regression_dict = analyze_hc3.regression(\n",
    "    checkpoint_dir, reg_config_names, dataset_dict, test_dataset_dicts, rng, prng_state, batch_size\n",
    ")"
   ]
  },
  {
   "cell_type": "code",
   "execution_count": null,
   "metadata": {},
   "outputs": [],
   "source": []
  }
 ],
 "metadata": {
  "kernelspec": {
   "display_name": "python39",
   "language": "python",
   "name": "python39"
  },
  "language_info": {
   "codemirror_mode": {
    "name": "ipython",
    "version": 3
   },
   "file_extension": ".py",
   "mimetype": "text/x-python",
   "name": "python",
   "nbconvert_exporter": "python",
   "pygments_lexer": "ipython3",
   "version": "3.9.16"
  }
 },
 "nbformat": 4,
 "nbformat_minor": 4
}
