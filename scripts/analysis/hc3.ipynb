{
 "cells": [
  {
   "cell_type": "markdown",
   "metadata": {
    "tags": []
   },
   "source": [
    "# Loading hc3 data models\n",
    "\n",
    "### Table of contents\n",
    "\n",
    "1. [**One-dimensional regression**](#1D)\n",
    "2. [**Two-dimensional regression**](#2D)\n",
    "\n"
   ]
  },
  {
   "cell_type": "code",
   "execution_count": 1,
   "metadata": {},
   "outputs": [
    {
     "name": "stderr",
     "output_type": "stream",
     "text": [
      "/var/home/dl543/Documents/Learning/nonparametric-modulated-renewal/scripts/analysis/../../../GaussNeuro/gaussneuro/likelihoods/renewal.py:12: TqdmExperimentalWarning: Using `tqdm.autonotebook.tqdm` in notebook mode. Use `tqdm.tqdm` instead to force console mode (e.g. in jupyter console)\n",
      "  from tqdm.autonotebook import tqdm\n"
     ]
    }
   ],
   "source": [
    "%load_ext autoreload\n",
    "%autoreload\n",
    "\n",
    "import sys\n",
    "\n",
    "sys.path.append(\"../../../GaussNeuro\")\n",
    "import gaussneuro as lib\n",
    "\n",
    "sys.path.append(\"../fit/\")\n",
    "import hc3\n",
    "\n",
    "import equinox as eqx\n",
    "import jax\n",
    "import jax.numpy as jnp\n",
    "import jax.random as jr\n",
    "import numpy as np\n",
    "\n",
    "\n",
    "import analyze_hc3\n",
    "import utils"
   ]
  },
  {
   "cell_type": "code",
   "execution_count": 2,
   "metadata": {},
   "outputs": [],
   "source": [
    "jax.config.update('jax_platform_name', 'cpu')\n",
    "#jax.config.update(\"jax_enable_x64\", True)"
   ]
  },
  {
   "cell_type": "code",
   "execution_count": 3,
   "metadata": {},
   "outputs": [],
   "source": [
    "### names ###\n",
    "reg_config_names = [\n",
    "    'ec014.29_ec014.468_isi5ISI5sel0.0to0.5_PP-log__factorized_gp-32-1000_X[x-hd-theta]_Z[]_freeze[]', \n",
    "    'ec014.29_ec014.468_isi5ISI5sel0.0to0.5_PP-log_rcb-8-17.-36.-6.-30.-self-H500_factorized_gp-32-1000_' + \\\n",
    "    'X[x-hd-theta]_Z[]_freeze[obs_model0spikefilter0a-obs_model0spikefilter0log_c-obs_model0spikefilter0phi]', \n",
    "    'ec014.29_ec014.468_isi5ISI5sel0.0to0.5_gamma-log__rate_renewal_gp-32-1000_X[x-hd-theta]_Z[]_freeze[]', \n",
    "    'ec014.29_ec014.468_isi5ISI5sel0.0to0.5_invgauss-log__rate_renewal_gp-32-1000_X[x-hd-theta]_Z[]_freeze[]', \n",
    "    'ec014.29_ec014.468_isi5ISI5sel0.0to0.5_lognorm-log__rate_renewal_gp-32-1000_X[x-hd-theta]_Z[]_freeze[]', \n",
    "    'ec014.29_ec014.468_isi5ISI5sel0.0to0.5_isi4__nonparam_pp_gp-64-matern32-matern32-1000-n2._' + \\\n",
    "    'X[x-hd-theta]_Z[]_freeze[obs_model0log_warp_tau]', \n",
    "]\n",
    "\n",
    "tuning_model_name = reg_config_names[-1]\n",
    "\n",
    "\n",
    "data_path = '../../data/hc3/'\n",
    "checkpoint_dir = '../checkpoint/'\n",
    "\n",
    "\n",
    "seed = 123\n",
    "rng = np.random.default_rng(seed)\n",
    "prng_state = jr.PRNGKey(seed)\n",
    "batch_size = 10000"
   ]
  },
  {
   "cell_type": "code",
   "execution_count": 4,
   "metadata": {},
   "outputs": [],
   "source": [
    "### load dataset ###\n",
    "session_name = 'ec014.29_ec014.468_isi5'\n",
    "max_ISI_order = 4\n",
    "\n",
    "select_fracs = [0.0, 0.5]\n",
    "dataset_dict = hc3.spikes_dataset(session_name, data_path, max_ISI_order, select_fracs)\n",
    "\n",
    "test_select_fracs = [\n",
    "    [0.5, 0.6], \n",
    "    [0.6, 0.7], \n",
    "    [0.7, 0.8], \n",
    "    [0.8, 0.9], \n",
    "    [0.9, 1.0], \n",
    "]\n",
    "test_dataset_dicts = [\n",
    "    hc3.spikes_dataset(session_name, data_path, max_ISI_order, tf) for tf in test_select_fracs\n",
    "]"
   ]
  },
  {
   "cell_type": "code",
   "execution_count": null,
   "metadata": {},
   "outputs": [
    {
     "name": "stdout",
     "output_type": "stream",
     "text": [
      "Analyzing regression for ec014.29_ec014.468_isi5ISI5sel0.0to0.5_PP-log__factorized_gp-32-1000_X[x-hd-theta]_Z[]_freeze[]...\n"
     ]
    }
   ],
   "source": [
    "regression_dict = utils.evaluate_regression_fits(\n",
    "    checkpoint_dir, reg_config_names, hc3.observed_kernel_dict_induc_list, \n",
    "    dataset_dict, test_dataset_dicts, rng, prng_state\n",
    ")"
   ]
  },
  {
   "cell_type": "code",
   "execution_count": 12,
   "metadata": {},
   "outputs": [
    {
     "data": {
      "text/plain": [
       "{'tbin': array(0.001),\n",
       " 'name': 'ec014.29_ec014.468_isi5ISI4sel0.0to0.5',\n",
       " 'neurons': 49,\n",
       " 'metainfo': {}}"
      ]
     },
     "execution_count": 12,
     "metadata": {},
     "output_type": "execute_result"
    }
   ],
   "source": [
    "dataset_dict[\"properties\"]"
   ]
  },
  {
   "cell_type": "code",
   "execution_count": 13,
   "metadata": {},
   "outputs": [
    {
     "data": {
      "text/plain": [
       "2437742"
      ]
     },
     "execution_count": 13,
     "metadata": {},
     "output_type": "execute_result"
    }
   ],
   "source": [
    "dataset_dict[\"align_start_ind\"]"
   ]
  },
  {
   "cell_type": "code",
   "execution_count": 16,
   "metadata": {},
   "outputs": [
    {
     "data": {
      "text/plain": [
       "array([3411., 3583., 5281.,  325.,  936.,  173., 2179., 1142., 1994.,\n",
       "       2080.,  798., 5554., 6053., 3751., 1570.,  284., 4961., 4514.,\n",
       "        478., 4774., 6572., 2019., 5604., 1799., 3964.,  691.,  659.,\n",
       "        192., 3704., 1792., 4544.,  911., 5594.,  950.,  342., 1122.,\n",
       "        382., 3123., 2549., 4931., 1014., 3305., 2768.,  682.,  546.,\n",
       "       2984.,  916., 1714., 2754.])"
      ]
     },
     "execution_count": 16,
     "metadata": {},
     "output_type": "execute_result"
    }
   ],
   "source": [
    "dataset_dict[\"spiketrains\"].sum(-1)"
   ]
  },
  {
   "cell_type": "code",
   "execution_count": 8,
   "metadata": {},
   "outputs": [
    {
     "data": {
      "text/plain": [
       "array([[[8.80392742e+00, 8.97099495e+00, 9.07203579e+00, 9.50991333e-01],\n",
       "        [2.11502910e+00, 2.65399003e+00, 1.31000087e-01, 7.54993856e-01],\n",
       "        [4.71884060e+00, 8.00000038e-03, 8.09999853e-02, 9.00000054e-03],\n",
       "        ...,\n",
       "        [2.93826080e+02, 8.64870987e+01, 9.71232529e+01, 2.61132774e+01],\n",
       "        [1.00000005e-03, 8.37775517e+00, 4.67639275e+01, 1.80976830e+01],\n",
       "        [1.16000056e-01, 2.39000306e-01, 1.36200762e+00, 1.34100664e+00]],\n",
       "\n",
       "       [[8.80492783e+00, 8.97099495e+00, 9.07203579e+00, 9.50991333e-01],\n",
       "        [2.11602902e+00, 2.65399003e+00, 1.31000087e-01, 7.54993856e-01],\n",
       "        [4.71984053e+00, 8.00000038e-03, 8.09999853e-02, 9.00000054e-03],\n",
       "        ...,\n",
       "        [2.93827087e+02, 8.64870987e+01, 9.71232529e+01, 2.61132774e+01],\n",
       "        [2.00000009e-03, 8.37775517e+00, 4.67639275e+01, 1.80976830e+01],\n",
       "        [1.17000058e-01, 2.39000306e-01, 1.36200762e+00, 1.34100664e+00]],\n",
       "\n",
       "       [[8.80592823e+00, 8.97099495e+00, 9.07203579e+00, 9.50991333e-01],\n",
       "        [2.11702895e+00, 2.65399003e+00, 1.31000087e-01, 7.54993856e-01],\n",
       "        [4.72084045e+00, 8.00000038e-03, 8.09999853e-02, 9.00000054e-03],\n",
       "        ...,\n",
       "        [2.93828094e+02, 8.64870987e+01, 9.71232529e+01, 2.61132774e+01],\n",
       "        [3.00000003e-03, 8.37775517e+00, 4.67639275e+01, 1.80976830e+01],\n",
       "        [1.18000060e-01, 2.39000306e-01, 1.36200762e+00, 1.34100664e+00]],\n",
       "\n",
       "       ...,\n",
       "\n",
       "       [[1.65055580e+01, 2.77453804e+01, 6.19995594e-01, 3.99589276e+00],\n",
       "        [4.15288162e+00, 1.00000007e-02, 5.00000035e-03, 4.00000019e-03],\n",
       "        [9.77632046e+00, 1.36700785e+00, 5.00000035e-03, 5.00000035e-03],\n",
       "        ...,\n",
       "        [1.04260059e+03, 8.64870987e+01, 9.71232529e+01, 2.61132774e+01],\n",
       "        [9.34414577e+00, 3.28999311e-01, 1.30800509e+00, 1.97000220e-01],\n",
       "        [3.89998525e-01, 2.56000251e-01, 1.03999257e+00, 8.14993083e-01]],\n",
       "\n",
       "       [[1.65065575e+01, 2.77453804e+01, 6.19995594e-01, 3.99589276e+00],\n",
       "        [4.15388155e+00, 1.00000007e-02, 5.00000035e-03, 4.00000019e-03],\n",
       "        [9.77732086e+00, 1.36700785e+00, 5.00000035e-03, 5.00000035e-03],\n",
       "        ...,\n",
       "        [1.04260156e+03, 8.64870987e+01, 9.71232529e+01, 2.61132774e+01],\n",
       "        [9.34514618e+00, 3.28999311e-01, 1.30800509e+00, 1.97000220e-01],\n",
       "        [3.90998513e-01, 2.56000251e-01, 1.03999257e+00, 8.14993083e-01]],\n",
       "\n",
       "       [[1.65075569e+01, 2.77453804e+01, 6.19995594e-01, 3.99589276e+00],\n",
       "        [4.15488148e+00, 1.00000007e-02, 5.00000035e-03, 4.00000019e-03],\n",
       "        [9.77832127e+00, 1.36700785e+00, 5.00000035e-03, 5.00000035e-03],\n",
       "        ...,\n",
       "        [1.04260254e+03, 8.64870987e+01, 9.71232529e+01, 2.61132774e+01],\n",
       "        [9.34614658e+00, 3.28999311e-01, 1.30800509e+00, 1.97000220e-01],\n",
       "        [3.91998500e-01, 2.56000251e-01, 1.03999257e+00, 8.14993083e-01]]],\n",
       "      dtype=float32)"
      ]
     },
     "execution_count": 8,
     "metadata": {},
     "output_type": "execute_result"
    }
   ],
   "source": [
    "dataset_dict[\"ISIs\"]"
   ]
  },
  {
   "cell_type": "code",
   "execution_count": null,
   "metadata": {},
   "outputs": [],
   "source": []
  }
 ],
 "metadata": {
  "kernelspec": {
   "display_name": "python39",
   "language": "python",
   "name": "python39"
  },
  "language_info": {
   "codemirror_mode": {
    "name": "ipython",
    "version": 3
   },
   "file_extension": ".py",
   "mimetype": "text/x-python",
   "name": "python",
   "nbconvert_exporter": "python",
   "pygments_lexer": "ipython3",
   "version": "3.9.16"
  }
 },
 "nbformat": 4,
 "nbformat_minor": 4
}
