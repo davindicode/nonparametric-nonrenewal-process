{
 "cells": [
  {
   "cell_type": "code",
   "execution_count": 1,
   "metadata": {},
   "outputs": [
    {
     "name": "stderr",
     "output_type": "stream",
     "text": [
      "/var/home/dl543/Documents/Learning/nonparametric-modulated-renewal/scripts/analysis/../../../GaussNeuro/gaussneuro/likelihoods/renewal.py:12: TqdmExperimentalWarning: Using `tqdm.autonotebook.tqdm` in notebook mode. Use `tqdm.tqdm` instead to force console mode (e.g. in jupyter console)\n",
      "  from tqdm.autonotebook import tqdm\n"
     ]
    }
   ],
   "source": [
    "%load_ext autoreload\n",
    "%autoreload\n",
    "\n",
    "import sys\n",
    "\n",
    "sys.path.append(\"../../../GaussNeuro\")\n",
    "import gaussneuro as lib\n",
    "\n",
    "sys.path.append(\"../fit/\")\n",
    "import synthetic\n",
    "\n",
    "import equinox as eqx\n",
    "import jax\n",
    "import jax.numpy as jnp\n",
    "import jax.random as jr\n",
    "import numpy as np\n",
    "\n",
    "\n",
    "import analyze_synthetic\n",
    "import utils"
   ]
  },
  {
   "cell_type": "code",
   "execution_count": 2,
   "metadata": {},
   "outputs": [],
   "source": [
    "#jax.config.update('jax_platform_name', 'cpu')\n",
    "#jax.config.update(\"jax_enable_x64\", True)\n",
    "\n",
    "seed = 123\n",
    "rng = np.random.default_rng(seed)\n",
    "prng_state = jr.PRNGKey(seed)\n",
    "batch_size = 10000"
   ]
  },
  {
   "cell_type": "code",
   "execution_count": null,
   "metadata": {},
   "outputs": [],
   "source": []
  },
  {
   "cell_type": "markdown",
   "metadata": {},
   "source": [
    "## Data"
   ]
  },
  {
   "cell_type": "code",
   "execution_count": 9,
   "metadata": {},
   "outputs": [],
   "source": [
    "### data ###\n",
    "data_path = \"../../data/synthetic/\"\n",
    "session_name = \"syn_data_seed123\"\n",
    "max_ISI_order = 4\n",
    "\n",
    "select_fracs = [0.0, 1.0]\n",
    "\n",
    "dataset_dict = synthetic.spikes_dataset(session_name, data_path, max_ISI_order, select_fracs)\n",
    "\n",
    "#covariates = dataset_dict['covariates']\n",
    "#x_t, y_t = covariates['x'], covariates['y']\n"
   ]
  },
  {
   "cell_type": "code",
   "execution_count": 5,
   "metadata": {},
   "outputs": [],
   "source": [
    "ISI_order = 4\n",
    "reg_config_names = [\n",
    "    'syn_data_seed123ISI4sel0.0to1.0_PP-log__factorized_gp-16-1000_X[x-y]_Z[]', \n",
    "    'syn_data_seed123ISI4sel0.0to1.0_isi4__nonparam_pp_gp-48-matern32-matern32-1000-n2._' + \\\n",
    "    'X[x-y]_Z[]_freeze[obs_model0log_warp_tau]', \n",
    "]\n",
    "\n",
    "tuning_model_name = reg_config_names[-1]\n",
    "\n",
    "checkpoint_dir = '../checkpoint/'"
   ]
  },
  {
   "cell_type": "code",
   "execution_count": 13,
   "metadata": {},
   "outputs": [
    {
     "name": "stdout",
     "output_type": "stream",
     "text": [
      "Analyzing regression for syn_data_seed123ISI4sel0.0to1.0_PP-log__factorized_gp-16-1000_X[x-y]_Z[]...\n",
      "Training data...\n"
     ]
    },
    {
     "data": {
      "application/vnd.jupyter.widget-view+json": {
       "model_id": "06e92869d05d465a9b0d55b75cb67623",
       "version_major": 2,
       "version_minor": 0
      },
      "text/plain": [
       "  0%|          | 0/2 [00:00<?, ?it/s]"
      ]
     },
     "metadata": {},
     "output_type": "display_data"
    },
    {
     "name": "stderr",
     "output_type": "stream",
     "text": [
      "2023-04-30 08:06:25.143116: E external/xla/xla/pjrt/pjrt_stream_executor_client.cc:2432] Execution of replica 0 failed: INTERNAL: Failed to execute XLA Runtime executable: run time error: custom call 'xla.gpu.custom_call' failed: Unable to launch triangular solve.\n"
     ]
    },
    {
     "ename": "XlaRuntimeError",
     "evalue": "INTERNAL: Failed to execute XLA Runtime executable: run time error: custom call 'xla.gpu.custom_call' failed: Unable to launch triangular solve.",
     "output_type": "error",
     "traceback": [
      "\u001b[0;31m---------------------------------------------------------------------------\u001b[0m",
      "\u001b[0;31mXlaRuntimeError\u001b[0m                           Traceback (most recent call last)",
      "Input \u001b[0;32mIn [13]\u001b[0m, in \u001b[0;36m<cell line: 1>\u001b[0;34m()\u001b[0m\n\u001b[0;32m----> 1\u001b[0m regression_dict \u001b[38;5;241m=\u001b[39m \u001b[43mutils\u001b[49m\u001b[38;5;241;43m.\u001b[39;49m\u001b[43mevaluate_regression_fits\u001b[49m\u001b[43m(\u001b[49m\n\u001b[1;32m      2\u001b[0m \u001b[43m    \u001b[49m\u001b[43mcheckpoint_dir\u001b[49m\u001b[43m,\u001b[49m\u001b[43m \u001b[49m\u001b[43mreg_config_names\u001b[49m\u001b[43m,\u001b[49m\u001b[43m \u001b[49m\u001b[43msynthetic\u001b[49m\u001b[38;5;241;43m.\u001b[39;49m\u001b[43mobserved_kernel_dict_induc_list\u001b[49m\u001b[43m,\u001b[49m\u001b[43m \u001b[49m\n\u001b[1;32m      3\u001b[0m \u001b[43m    \u001b[49m\u001b[43mdataset_dict\u001b[49m\u001b[43m,\u001b[49m\u001b[43m \u001b[49m\u001b[43m[\u001b[49m\u001b[43m]\u001b[49m\u001b[43m,\u001b[49m\u001b[43m \u001b[49m\u001b[43mrng\u001b[49m\u001b[43m,\u001b[49m\u001b[43m \u001b[49m\u001b[43mprng_state\u001b[49m\n\u001b[1;32m      4\u001b[0m \u001b[43m)\u001b[49m\n",
      "File \u001b[0;32m~/Documents/Learning/nonparametric-modulated-renewal/scripts/analysis/utils.py:641\u001b[0m, in \u001b[0;36mevaluate_regression_fits\u001b[0;34m(checkpoint_dir, reg_config_names, kernel_gen_func, dataset_dict, test_dataset_dicts, rng, prng_state)\u001b[0m\n\u001b[1;32m    636\u001b[0m         train_lpd \u001b[38;5;241m=\u001b[39m \u001b[38;5;28;01mNone\u001b[39;00m\n\u001b[1;32m    637\u001b[0m \u001b[38;5;66;03m#         train_lpd = likelihood_metric(\u001b[39;00m\n\u001b[1;32m    638\u001b[0m \u001b[38;5;66;03m#             prng_state, data, model.obs_model, obs_type, lik_int_method, jitter, log_predictive=True)\u001b[39;00m\n\u001b[1;32m    639\u001b[0m \u001b[38;5;66;03m#         prng_state, _ = jr.split(prng_state)\u001b[39;00m\n\u001b[0;32m--> 641\u001b[0m         sort_cdfs, T_KSs, sign_KSs, p_KSs \u001b[38;5;241m=\u001b[39m \u001b[43mtime_rescaling_statistics\u001b[49m\u001b[43m(\u001b[49m\n\u001b[1;32m    642\u001b[0m \u001b[43m            \u001b[49m\u001b[43mdata\u001b[49m\u001b[43m,\u001b[49m\u001b[43m \u001b[49m\u001b[43mmodel\u001b[49m\u001b[38;5;241;43m.\u001b[39;49m\u001b[43mobs_model\u001b[49m\u001b[43m,\u001b[49m\u001b[43m \u001b[49m\u001b[43mobs_type\u001b[49m\u001b[43m,\u001b[49m\u001b[43m \u001b[49m\u001b[43mjitter\u001b[49m\u001b[43m,\u001b[49m\u001b[43m \u001b[49m\u001b[43moutdims_per_batch\u001b[49m\u001b[38;5;241;43m=\u001b[39;49m\u001b[38;5;241;43m5\u001b[39;49m\u001b[43m)\u001b[49m\n\u001b[1;32m    644\u001b[0m         \u001b[38;5;66;03m# test data\u001b[39;00m\n\u001b[1;32m    645\u001b[0m         \u001b[38;5;28mprint\u001b[39m(\u001b[38;5;124m'\u001b[39m\u001b[38;5;124mTest data...\u001b[39m\u001b[38;5;124m'\u001b[39m)\n",
      "File \u001b[0;32m~/Documents/Learning/nonparametric-modulated-renewal/scripts/analysis/utils.py:256\u001b[0m, in \u001b[0;36mtime_rescaling_statistics\u001b[0;34m(data, obs_model, obs_type, jitter, outdims_per_batch)\u001b[0m\n\u001b[1;32m    253\u001b[0m sel_outdims \u001b[38;5;241m=\u001b[39m jnp\u001b[38;5;241m.\u001b[39marray(outdims_list[b\u001b[38;5;241m*\u001b[39moutdims_per_batch:(b\u001b[38;5;241m+\u001b[39m\u001b[38;5;241m1\u001b[39m)\u001b[38;5;241m*\u001b[39moutdims_per_batch])\n\u001b[1;32m    255\u001b[0m \u001b[38;5;28;01mif\u001b[39;00m obs_type \u001b[38;5;241m==\u001b[39m \u001b[38;5;124m'\u001b[39m\u001b[38;5;124mfactorized_gp\u001b[39m\u001b[38;5;124m'\u001b[39m:\n\u001b[0;32m--> 256\u001b[0m     post_mean_rho \u001b[38;5;241m=\u001b[39m \u001b[43mobs_model\u001b[49m\u001b[38;5;241;43m.\u001b[39;49m\u001b[43mposterior_mean\u001b[49m\u001b[43m(\u001b[49m\n\u001b[1;32m    257\u001b[0m \u001b[43m        \u001b[49m\u001b[43mcovs_t\u001b[49m\u001b[43m,\u001b[49m\u001b[43m \u001b[49m\u001b[43mys_filt\u001b[49m\u001b[43m,\u001b[49m\u001b[43m \u001b[49m\u001b[43mjitter\u001b[49m\u001b[43m,\u001b[49m\u001b[43m \u001b[49m\u001b[43msel_outdims\u001b[49m\u001b[43m)\u001b[49m\n\u001b[1;32m    259\u001b[0m \u001b[38;5;28;01melif\u001b[39;00m obs_type \u001b[38;5;241m==\u001b[39m \u001b[38;5;124m'\u001b[39m\u001b[38;5;124mrate_renewal_gp\u001b[39m\u001b[38;5;124m'\u001b[39m:  \u001b[38;5;66;03m# rate rescaling\u001b[39;00m\n\u001b[1;32m    260\u001b[0m     post_mean_rho \u001b[38;5;241m=\u001b[39m obs_model\u001b[38;5;241m.\u001b[39mposterior_mean(\n\u001b[1;32m    261\u001b[0m         covs_t, ys_filt, jitter, sel_outdims)\n",
      "File \u001b[0;32m~/Documents/Learning/nonparametric-modulated-renewal/scripts/analysis/../../../GaussNeuro/gaussneuro/observations/svgp.py:218\u001b[0m, in \u001b[0;36mModulatedFactorized.posterior_mean\u001b[0;34m(self, xs, ys_filt, jitter, sel_outdims, quadrature_pts)\u001b[0m\n\u001b[1;32m    211\u001b[0m \u001b[38;5;28;01mdef\u001b[39;00m \u001b[38;5;21mposterior_mean\u001b[39m(\u001b[38;5;28mself\u001b[39m, xs, ys_filt, jitter, sel_outdims, quadrature_pts\u001b[38;5;241m=\u001b[39m\u001b[38;5;241m30\u001b[39m):\n\u001b[1;32m    212\u001b[0m     \u001b[38;5;124;03m\"\"\"\u001b[39;00m\n\u001b[1;32m    213\u001b[0m \u001b[38;5;124;03m    Use the posterior mean to perform the time rescaling\u001b[39;00m\n\u001b[1;32m    214\u001b[0m \n\u001b[1;32m    215\u001b[0m \u001b[38;5;124;03m    :param jnp.ndarray xs: covariates of shape (ts, x_dims)\u001b[39;00m\n\u001b[1;32m    216\u001b[0m \u001b[38;5;124;03m    :param jnp.ndarray ys_filt: covariates of shape (obs_dims, ts)\u001b[39;00m\n\u001b[1;32m    217\u001b[0m \u001b[38;5;124;03m    \"\"\"\u001b[39;00m\n\u001b[0;32m--> 218\u001b[0m     f_mean, f_var, _ \u001b[38;5;241m=\u001b[39m \u001b[38;5;28;43mself\u001b[39;49m\u001b[38;5;241;43m.\u001b[39;49m\u001b[43mfiltered_gp_posterior\u001b[49m\u001b[43m(\u001b[49m\n\u001b[1;32m    219\u001b[0m \u001b[43m        \u001b[49m\u001b[38;5;28;43;01mNone\u001b[39;49;00m\u001b[43m,\u001b[49m\n\u001b[1;32m    220\u001b[0m \u001b[43m        \u001b[49m\u001b[43mxs\u001b[49m\u001b[43m[\u001b[49m\u001b[38;5;28;43;01mNone\u001b[39;49;00m\u001b[43m,\u001b[49m\u001b[43m \u001b[49m\u001b[38;5;28;43;01mNone\u001b[39;49;00m\u001b[43m]\u001b[49m\u001b[43m,\u001b[49m\n\u001b[1;32m    221\u001b[0m \u001b[43m        \u001b[49m\u001b[43mys_filt\u001b[49m\u001b[43m[\u001b[49m\u001b[38;5;28;43;01mNone\u001b[39;49;00m\u001b[43m]\u001b[49m\u001b[43m,\u001b[49m\n\u001b[1;32m    222\u001b[0m \u001b[43m        \u001b[49m\u001b[43mmean_only\u001b[49m\u001b[38;5;241;43m=\u001b[39;49m\u001b[38;5;28;43;01mFalse\u001b[39;49;00m\u001b[43m,\u001b[49m\n\u001b[1;32m    223\u001b[0m \u001b[43m        \u001b[49m\u001b[43mdiag_cov\u001b[49m\u001b[38;5;241;43m=\u001b[39;49m\u001b[38;5;28;43;01mTrue\u001b[39;49;00m\u001b[43m,\u001b[49m\n\u001b[1;32m    224\u001b[0m \u001b[43m        \u001b[49m\u001b[43mjoint_filter_samples\u001b[49m\u001b[38;5;241;43m=\u001b[39;49m\u001b[38;5;28;43;01mFalse\u001b[39;49;00m\u001b[43m,\u001b[49m\n\u001b[1;32m    225\u001b[0m \u001b[43m        \u001b[49m\u001b[43mcompute_KL\u001b[49m\u001b[38;5;241;43m=\u001b[39;49m\u001b[38;5;28;43;01mFalse\u001b[39;49;00m\u001b[43m,\u001b[49m\n\u001b[1;32m    226\u001b[0m \u001b[43m        \u001b[49m\u001b[43mjitter\u001b[49m\u001b[38;5;241;43m=\u001b[39;49m\u001b[43mjitter\u001b[49m\u001b[43m,\u001b[49m\n\u001b[1;32m    227\u001b[0m \u001b[43m        \u001b[49m\u001b[43msel_outdims\u001b[49m\u001b[38;5;241;43m=\u001b[39;49m\u001b[43msel_outdims\u001b[49m\u001b[43m,\u001b[49m\n\u001b[1;32m    228\u001b[0m \u001b[43m    \u001b[49m\u001b[43m)\u001b[49m  \u001b[38;5;66;03m# (num_samps, out_dims, ts, 1), TODO: account for probabilistic filter covariances\u001b[39;00m\n\u001b[1;32m    229\u001b[0m     f_mean, f_var \u001b[38;5;241m=\u001b[39m (\n\u001b[1;32m    230\u001b[0m         f_mean[\u001b[38;5;241m0\u001b[39m, \u001b[38;5;241m.\u001b[39m\u001b[38;5;241m.\u001b[39m\u001b[38;5;241m.\u001b[39m, \u001b[38;5;241m0\u001b[39m],\n\u001b[1;32m    231\u001b[0m         f_var[\u001b[38;5;241m0\u001b[39m, \u001b[38;5;241m.\u001b[39m\u001b[38;5;241m.\u001b[39m\u001b[38;5;241m.\u001b[39m, \u001b[38;5;241m0\u001b[39m],\n\u001b[1;32m    232\u001b[0m     )  \u001b[38;5;66;03m# (obs_dims, ts)\u001b[39;00m\n\u001b[1;32m    234\u001b[0m     \u001b[38;5;28;01mif\u001b[39;00m \u001b[38;5;28mself\u001b[39m\u001b[38;5;241m.\u001b[39mlikelihood\u001b[38;5;241m.\u001b[39mlink_type \u001b[38;5;241m==\u001b[39m LinkTypes[\u001b[38;5;124m\"\u001b[39m\u001b[38;5;124mlog\u001b[39m\u001b[38;5;124m\"\u001b[39m]:\n",
      "File \u001b[0;32m~/Documents/Learning/nonparametric-modulated-renewal/scripts/analysis/../../../GaussNeuro/gaussneuro/observations/base.py:164\u001b[0m, in \u001b[0;36mSparseGPFilterObservations.filtered_gp_posterior\u001b[0;34m(self, prng_state, x_samples, ys_filt, mean_only, diag_cov, joint_filter_samples, compute_KL, jitter, sel_outdims)\u001b[0m\n\u001b[1;32m    145\u001b[0m \u001b[38;5;28;01mdef\u001b[39;00m \u001b[38;5;21mfiltered_gp_posterior\u001b[39m(\n\u001b[1;32m    146\u001b[0m     \u001b[38;5;28mself\u001b[39m,\n\u001b[1;32m    147\u001b[0m     prng_state,\n\u001b[0;32m   (...)\u001b[0m\n\u001b[1;32m    155\u001b[0m     sel_outdims,\n\u001b[1;32m    156\u001b[0m ):\n\u001b[1;32m    157\u001b[0m     \u001b[38;5;124;03m\"\"\"\u001b[39;00m\n\u001b[1;32m    158\u001b[0m \u001b[38;5;124;03m    Include spike history filtering\u001b[39;00m\n\u001b[1;32m    159\u001b[0m \u001b[38;5;124;03m    Ignores covariance due to probabilistic filter in f_cov, but can draw from the filter\u001b[39;00m\n\u001b[0;32m   (...)\u001b[0m\n\u001b[1;32m    162\u001b[0m \u001b[38;5;124;03m    :param jnp.ndarray ys_filt: shape (num_samps, obs_dims, ts)\u001b[39;00m\n\u001b[1;32m    163\u001b[0m \u001b[38;5;124;03m    \"\"\"\u001b[39;00m\n\u001b[0;32m--> 164\u001b[0m     f_mean, f_cov, KL \u001b[38;5;241m=\u001b[39m \u001b[38;5;28;43mself\u001b[39;49m\u001b[38;5;241;43m.\u001b[39;49m\u001b[43mgp_posterior\u001b[49m\u001b[43m(\u001b[49m\n\u001b[1;32m    165\u001b[0m \u001b[43m        \u001b[49m\u001b[43mx_samples\u001b[49m\u001b[43m,\u001b[49m\u001b[43m \u001b[49m\u001b[43mmean_only\u001b[49m\u001b[43m,\u001b[49m\u001b[43m \u001b[49m\u001b[43mdiag_cov\u001b[49m\u001b[43m,\u001b[49m\u001b[43m \u001b[49m\u001b[43mcompute_KL\u001b[49m\u001b[43m,\u001b[49m\u001b[43m \u001b[49m\u001b[43mjitter\u001b[49m\u001b[43m,\u001b[49m\u001b[43m \u001b[49m\u001b[43msel_outdims\u001b[49m\n\u001b[1;32m    166\u001b[0m \u001b[43m    \u001b[49m\u001b[43m)\u001b[49m\n\u001b[1;32m    168\u001b[0m     \u001b[38;5;28;01mif\u001b[39;00m \u001b[38;5;28mself\u001b[39m\u001b[38;5;241m.\u001b[39mspikefilter \u001b[38;5;129;01mis\u001b[39;00m \u001b[38;5;129;01mnot\u001b[39;00m \u001b[38;5;28;01mNone\u001b[39;00m:\n\u001b[1;32m    169\u001b[0m         y_filtered, KL_y \u001b[38;5;241m=\u001b[39m \u001b[38;5;28mself\u001b[39m\u001b[38;5;241m.\u001b[39mspikefilter\u001b[38;5;241m.\u001b[39mapply_filter(\n\u001b[1;32m    170\u001b[0m             prng_state,\n\u001b[1;32m    171\u001b[0m             ys_filt,\n\u001b[0;32m   (...)\u001b[0m\n\u001b[1;32m    176\u001b[0m             jitter,\n\u001b[1;32m    177\u001b[0m         )\n",
      "File \u001b[0;32m~/Documents/Learning/nonparametric-modulated-renewal/scripts/analysis/../../../GaussNeuro/gaussneuro/observations/base.py:115\u001b[0m, in \u001b[0;36mSparseGPFilterObservations.gp_posterior\u001b[0;34m(self, x_samples, mean_only, diag_cov, compute_KL, jitter, sel_outdims)\u001b[0m\n\u001b[1;32m    109\u001b[0m \u001b[38;5;28;01mdef\u001b[39;00m \u001b[38;5;21mgp_posterior\u001b[39m(\n\u001b[1;32m    110\u001b[0m     \u001b[38;5;28mself\u001b[39m, x_samples, mean_only, diag_cov, compute_KL, jitter, sel_outdims\n\u001b[1;32m    111\u001b[0m ):\n\u001b[1;32m    112\u001b[0m     \u001b[38;5;124;03m\"\"\"\u001b[39;00m\n\u001b[1;32m    113\u001b[0m \u001b[38;5;124;03m    Evaluate Gaussian process posterior with mean function\u001b[39;00m\n\u001b[1;32m    114\u001b[0m \u001b[38;5;124;03m    \"\"\"\u001b[39;00m\n\u001b[0;32m--> 115\u001b[0m     f_mean, f_cov, KL, _ \u001b[38;5;241m=\u001b[39m \u001b[38;5;28;43mself\u001b[39;49m\u001b[38;5;241;43m.\u001b[39;49m\u001b[43mgp\u001b[49m\u001b[38;5;241;43m.\u001b[39;49m\u001b[43mevaluate_posterior\u001b[49m\u001b[43m(\u001b[49m\n\u001b[1;32m    116\u001b[0m \u001b[43m        \u001b[49m\u001b[43mx_samples\u001b[49m\u001b[43m,\u001b[49m\u001b[43m \u001b[49m\u001b[43mmean_only\u001b[49m\u001b[43m,\u001b[49m\u001b[43m \u001b[49m\u001b[43mdiag_cov\u001b[49m\u001b[43m,\u001b[49m\u001b[43m \u001b[49m\u001b[43mcompute_KL\u001b[49m\u001b[43m,\u001b[49m\u001b[43m \u001b[49m\u001b[38;5;28;43;01mFalse\u001b[39;49;00m\u001b[43m,\u001b[49m\u001b[43m \u001b[49m\u001b[43mjitter\u001b[49m\u001b[43m,\u001b[49m\u001b[43m \u001b[49m\u001b[43msel_outdims\u001b[49m\n\u001b[1;32m    117\u001b[0m \u001b[43m    \u001b[49m\u001b[43m)\u001b[49m  \u001b[38;5;66;03m# (num_samps, out_dims, time, 1 or time)\u001b[39;00m\n\u001b[1;32m    119\u001b[0m     \u001b[38;5;28;01mif\u001b[39;00m \u001b[38;5;28mself\u001b[39m\u001b[38;5;241m.\u001b[39mgp_mean \u001b[38;5;129;01mis\u001b[39;00m \u001b[38;5;129;01mnot\u001b[39;00m \u001b[38;5;28;01mNone\u001b[39;00m:\n\u001b[1;32m    120\u001b[0m         \u001b[38;5;28;01mif\u001b[39;00m sel_outdims \u001b[38;5;129;01mis\u001b[39;00m \u001b[38;5;28;01mNone\u001b[39;00m:\n",
      "File \u001b[0;32m~/Documents/Learning/nonparametric-modulated-renewal/scripts/analysis/../../../GaussNeuro/gaussneuro/GP/sparse.py:200\u001b[0m, in \u001b[0;36mqSVGP.evaluate_posterior\u001b[0;34m(self, x, mean_only, diag_cov, compute_KL, compute_aux, jitter, sel_outdims)\u001b[0m\n\u001b[1;32m    197\u001b[0m \u001b[38;5;28;01melse\u001b[39;00m:\n\u001b[1;32m    198\u001b[0m     Kxx \u001b[38;5;241m=\u001b[39m \u001b[38;5;28;01mNone\u001b[39;00m\n\u001b[0;32m--> 200\u001b[0m post_means, post_covs, KL, aux \u001b[38;5;241m=\u001b[39m \u001b[43mevaluate_qsparse_posterior\u001b[49m\u001b[43m(\u001b[49m\n\u001b[1;32m    201\u001b[0m \u001b[43m    \u001b[49m\u001b[43mKxx\u001b[49m\u001b[43m,\u001b[49m\n\u001b[1;32m    202\u001b[0m \u001b[43m    \u001b[49m\u001b[43mKzx\u001b[49m\u001b[43m,\u001b[49m\n\u001b[1;32m    203\u001b[0m \u001b[43m    \u001b[49m\u001b[43mKzz\u001b[49m\u001b[43m,\u001b[49m\n\u001b[1;32m    204\u001b[0m \u001b[43m    \u001b[49m\u001b[38;5;28;43mself\u001b[39;49m\u001b[38;5;241;43m.\u001b[39;49m\u001b[43mu_mu\u001b[49m\u001b[43m[\u001b[49m\u001b[43msel_outdims\u001b[49m\u001b[43m]\u001b[49m\u001b[43m,\u001b[49m\n\u001b[1;32m    205\u001b[0m \u001b[43m    \u001b[49m\u001b[38;5;28;43mself\u001b[39;49m\u001b[38;5;241;43m.\u001b[39;49m\u001b[43mu_Lcov\u001b[49m\u001b[43m[\u001b[49m\u001b[43msel_outdims\u001b[49m\u001b[43m]\u001b[49m\u001b[43m,\u001b[49m\n\u001b[1;32m    206\u001b[0m \u001b[43m    \u001b[49m\u001b[38;5;28;43mself\u001b[39;49m\u001b[38;5;241;43m.\u001b[39;49m\u001b[43mwhitened\u001b[49m\u001b[43m,\u001b[49m\n\u001b[1;32m    207\u001b[0m \u001b[43m    \u001b[49m\u001b[43mmean_only\u001b[49m\u001b[43m,\u001b[49m\n\u001b[1;32m    208\u001b[0m \u001b[43m    \u001b[49m\u001b[43mdiag_cov\u001b[49m\u001b[43m,\u001b[49m\n\u001b[1;32m    209\u001b[0m \u001b[43m    \u001b[49m\u001b[43mcompute_KL\u001b[49m\u001b[43m,\u001b[49m\n\u001b[1;32m    210\u001b[0m \u001b[43m    \u001b[49m\u001b[43mcompute_aux\u001b[49m\u001b[43m,\u001b[49m\n\u001b[1;32m    211\u001b[0m \u001b[43m    \u001b[49m\u001b[43mjitter\u001b[49m\u001b[43m,\u001b[49m\n\u001b[1;32m    212\u001b[0m \u001b[43m\u001b[49m\u001b[43m)\u001b[49m\n\u001b[1;32m    214\u001b[0m \u001b[38;5;28;01mif\u001b[39;00m \u001b[38;5;28mself\u001b[39m\u001b[38;5;241m.\u001b[39mpenalize_induc_proximity:  \u001b[38;5;66;03m# regularizer\u001b[39;00m\n\u001b[1;32m    215\u001b[0m     KL \u001b[38;5;241m+\u001b[39m\u001b[38;5;241m=\u001b[39m \u001b[38;5;28mself\u001b[39m\u001b[38;5;241m.\u001b[39minduc_proximity_cost()\n",
      "File \u001b[0;32m~/Documents/Learning/nonparametric-modulated-renewal/scripts/analysis/../../../GaussNeuro/gaussneuro/GP/linalg.py:371\u001b[0m, in \u001b[0;36mevaluate_qsparse_posterior\u001b[0;34m(Kxx, Kzx, Kzz, u_mu, u_Lcov, whitened, mean_only, diag_cov, compute_KL, compute_aux, jitter)\u001b[0m\n\u001b[1;32m    369\u001b[0m     v \u001b[38;5;241m=\u001b[39m u_mu\n\u001b[1;32m    370\u001b[0m     L \u001b[38;5;241m=\u001b[39m u_Lcov\n\u001b[0;32m--> 371\u001b[0m     W \u001b[38;5;241m=\u001b[39m \u001b[43msolve_triangular\u001b[49m\u001b[43m(\u001b[49m\u001b[43mchol_Kzz\u001b[49m\u001b[43m,\u001b[49m\u001b[43m \u001b[49m\u001b[43mKzx\u001b[49m\u001b[43m,\u001b[49m\u001b[43m \u001b[49m\u001b[43mlower\u001b[49m\u001b[38;5;241;43m=\u001b[39;49m\u001b[38;5;28;43;01mTrue\u001b[39;49;00m\u001b[43m)\u001b[49m\n\u001b[1;32m    373\u001b[0m \u001b[38;5;28;01melse\u001b[39;00m:\n\u001b[1;32m    374\u001b[0m     tpl \u001b[38;5;241m=\u001b[39m (u_mu, Kzx)\n",
      "File \u001b[0;32m/scratches/ramanujan/dl543/py3_9env/lib/python3.9/site-packages/jax/_src/scipy/linalg.py:406\u001b[0m, in \u001b[0;36msolve_triangular\u001b[0;34m(***failed resolving arguments***)\u001b[0m\n\u001b[1;32m    400\u001b[0m \u001b[38;5;129m@_wraps\u001b[39m(scipy\u001b[38;5;241m.\u001b[39mlinalg\u001b[38;5;241m.\u001b[39msolve_triangular,\n\u001b[1;32m    401\u001b[0m         lax_description\u001b[38;5;241m=\u001b[39m_no_overwrite_and_chkfinite_doc, skip_params\u001b[38;5;241m=\u001b[39m(\u001b[38;5;124m'\u001b[39m\u001b[38;5;124moverwrite_b\u001b[39m\u001b[38;5;124m'\u001b[39m, \u001b[38;5;124m'\u001b[39m\u001b[38;5;124mdebug\u001b[39m\u001b[38;5;124m'\u001b[39m, \u001b[38;5;124m'\u001b[39m\u001b[38;5;124mcheck_finite\u001b[39m\u001b[38;5;124m'\u001b[39m))\n\u001b[1;32m    402\u001b[0m \u001b[38;5;28;01mdef\u001b[39;00m \u001b[38;5;21msolve_triangular\u001b[39m(a: ArrayLike, b: ArrayLike, trans: Union[\u001b[38;5;28mint\u001b[39m, \u001b[38;5;28mstr\u001b[39m] \u001b[38;5;241m=\u001b[39m \u001b[38;5;241m0\u001b[39m, lower: \u001b[38;5;28mbool\u001b[39m \u001b[38;5;241m=\u001b[39m \u001b[38;5;28;01mFalse\u001b[39;00m,\n\u001b[1;32m    403\u001b[0m                      unit_diagonal: \u001b[38;5;28mbool\u001b[39m \u001b[38;5;241m=\u001b[39m \u001b[38;5;28;01mFalse\u001b[39;00m, overwrite_b: \u001b[38;5;28mbool\u001b[39m \u001b[38;5;241m=\u001b[39m \u001b[38;5;28;01mFalse\u001b[39;00m,\n\u001b[1;32m    404\u001b[0m                      debug: Any \u001b[38;5;241m=\u001b[39m \u001b[38;5;28;01mNone\u001b[39;00m, check_finite: \u001b[38;5;28mbool\u001b[39m \u001b[38;5;241m=\u001b[39m \u001b[38;5;28;01mTrue\u001b[39;00m) \u001b[38;5;241m-\u001b[39m\u001b[38;5;241m>\u001b[39m Array:\n\u001b[1;32m    405\u001b[0m   \u001b[38;5;28;01mdel\u001b[39;00m overwrite_b, debug, check_finite  \u001b[38;5;66;03m# unused\u001b[39;00m\n\u001b[0;32m--> 406\u001b[0m   \u001b[38;5;28;01mreturn\u001b[39;00m \u001b[43m_solve_triangular\u001b[49m\u001b[43m(\u001b[49m\u001b[43ma\u001b[49m\u001b[43m,\u001b[49m\u001b[43m \u001b[49m\u001b[43mb\u001b[49m\u001b[43m,\u001b[49m\u001b[43m \u001b[49m\u001b[43mtrans\u001b[49m\u001b[43m,\u001b[49m\u001b[43m \u001b[49m\u001b[43mlower\u001b[49m\u001b[43m,\u001b[49m\u001b[43m \u001b[49m\u001b[43munit_diagonal\u001b[49m\u001b[43m)\u001b[49m\n",
      "    \u001b[0;31m[... skipping hidden 8 frame]\u001b[0m\n",
      "File \u001b[0;32m/scratches/ramanujan/dl543/py3_9env/lib/python3.9/site-packages/jax/_src/interpreters/pxla.py:1916\u001b[0m, in \u001b[0;36mExecuteReplicated.__call__\u001b[0;34m(self, *args)\u001b[0m\n\u001b[1;32m   1911\u001b[0m   \u001b[38;5;28mself\u001b[39m\u001b[38;5;241m.\u001b[39m_handle_token_bufs(\n\u001b[1;32m   1912\u001b[0m       results\u001b[38;5;241m.\u001b[39mdisassemble_prefix_into_single_device_arrays(\n\u001b[1;32m   1913\u001b[0m           \u001b[38;5;28mlen\u001b[39m(\u001b[38;5;28mself\u001b[39m\u001b[38;5;241m.\u001b[39mordered_effects)),\n\u001b[1;32m   1914\u001b[0m       results\u001b[38;5;241m.\u001b[39mconsume_token())\n\u001b[1;32m   1915\u001b[0m \u001b[38;5;28;01melse\u001b[39;00m:\n\u001b[0;32m-> 1916\u001b[0m   results \u001b[38;5;241m=\u001b[39m \u001b[38;5;28;43mself\u001b[39;49m\u001b[38;5;241;43m.\u001b[39;49m\u001b[43mxla_executable\u001b[49m\u001b[38;5;241;43m.\u001b[39;49m\u001b[43mexecute_sharded\u001b[49m\u001b[43m(\u001b[49m\u001b[43minput_bufs\u001b[49m\u001b[43m)\u001b[49m\n\u001b[1;32m   1917\u001b[0m \u001b[38;5;28;01mif\u001b[39;00m dispatch\u001b[38;5;241m.\u001b[39mneeds_check_special():\n\u001b[1;32m   1918\u001b[0m   out_arrays \u001b[38;5;241m=\u001b[39m results\u001b[38;5;241m.\u001b[39mdisassemble_into_single_device_arrays()\n",
      "\u001b[0;31mXlaRuntimeError\u001b[0m: INTERNAL: Failed to execute XLA Runtime executable: run time error: custom call 'xla.gpu.custom_call' failed: Unable to launch triangular solve."
     ]
    }
   ],
   "source": [
    "regression_dict = utils.evaluate_regression_fits(\n",
    "    checkpoint_dir, reg_config_names, synthetic.observed_kernel_dict_induc_list, \n",
    "    dataset_dict, [], rng, prng_state\n",
    ")"
   ]
  },
  {
   "cell_type": "code",
   "execution_count": 36,
   "metadata": {},
   "outputs": [
    {
     "name": "stdout",
     "output_type": "stream",
     "text": [
      "Analyzing tuning for syn_data_seed123ISI4sel0.0to1.0_isi4__nonparam_pp_gp-48-matern32-1000-2._X[x-y]_Z[]...\n"
     ]
    },
    {
     "data": {
      "application/vnd.jupyter.widget-view+json": {
       "model_id": "d1640b3e683242068106b7457ef3600a",
       "version_major": 2,
       "version_minor": 0
      },
      "text/plain": [
       "  0%|          | 0/1 [00:00<?, ?it/s]"
      ]
     },
     "metadata": {},
     "output_type": "display_data"
    },
    {
     "data": {
      "application/vnd.jupyter.widget-view+json": {
       "model_id": "97d9b17e73d440f198b00a1705633a54",
       "version_major": 2,
       "version_minor": 0
      },
      "text/plain": [
       "  0%|          | 0/1 [00:00<?, ?it/s]"
      ]
     },
     "metadata": {},
     "output_type": "display_data"
    },
    {
     "data": {
      "application/vnd.jupyter.widget-view+json": {
       "model_id": "ffd74421bfef4b1da9d44e4ad75c0bd5",
       "version_major": 2,
       "version_minor": 0
      },
      "text/plain": [
       "  0%|          | 0/1 [00:00<?, ?it/s]"
      ]
     },
     "metadata": {},
     "output_type": "display_data"
    },
    {
     "data": {
      "application/vnd.jupyter.widget-view+json": {
       "model_id": "b304b2b590a046a19a54456fe4366964",
       "version_major": 2,
       "version_minor": 0
      },
      "text/plain": [
       "  0%|          | 0/1 [00:00<?, ?it/s]"
      ]
     },
     "metadata": {},
     "output_type": "display_data"
    },
    {
     "data": {
      "application/vnd.jupyter.widget-view+json": {
       "model_id": "5a7f0d622c93413881ca97e6dbf070c8",
       "version_major": 2,
       "version_minor": 0
      },
      "text/plain": [
       "  0%|          | 0/1 [00:00<?, ?it/s]"
      ]
     },
     "metadata": {},
     "output_type": "display_data"
    },
    {
     "data": {
      "application/vnd.jupyter.widget-view+json": {
       "model_id": "c48a0e13a24b492d8851f28bf3cfb49f",
       "version_major": 2,
       "version_minor": 0
      },
      "text/plain": [
       "  0%|          | 0/1 [00:00<?, ?it/s]"
      ]
     },
     "metadata": {},
     "output_type": "display_data"
    },
    {
     "data": {
      "application/vnd.jupyter.widget-view+json": {
       "model_id": "0de95aa3d9ab4822aa021652895b3af7",
       "version_major": 2,
       "version_minor": 0
      },
      "text/plain": [
       "  0%|          | 0/1 [00:00<?, ?it/s]"
      ]
     },
     "metadata": {},
     "output_type": "display_data"
    },
    {
     "data": {
      "application/vnd.jupyter.widget-view+json": {
       "model_id": "f7aa21ac4b704071b6ff149c07072d8d",
       "version_major": 2,
       "version_minor": 0
      },
      "text/plain": [
       "  0%|          | 0/1 [00:00<?, ?it/s]"
      ]
     },
     "metadata": {},
     "output_type": "display_data"
    },
    {
     "data": {
      "application/vnd.jupyter.widget-view+json": {
       "model_id": "3bffe524a76a46f7a1909464726d72c4",
       "version_major": 2,
       "version_minor": 0
      },
      "text/plain": [
       "  0%|          | 0/1 [00:00<?, ?it/s]"
      ]
     },
     "metadata": {},
     "output_type": "display_data"
    }
   ],
   "source": [
    "tuning_dict = analyze_synthetic.tuning(\n",
    "    checkpoint_dir, tuning_model_name, dataset_dict, rng, prng_state, batch_size\n",
    ")"
   ]
  },
  {
   "cell_type": "code",
   "execution_count": 7,
   "metadata": {},
   "outputs": [
    {
     "data": {
      "text/plain": [
       "dict_keys(['pos_x_locs', 'pos_isi_locs', 'pos_mean_ISI', 'pos_CV_ISI', 'ISI_t_eval', 'ISI_deltas_conds', 'ISI_xs_conds', 'ISI_densities', 'warp_tau', 'len_tau', 'len_deltas', 'len_xs'])"
      ]
     },
     "execution_count": 7,
     "metadata": {},
     "output_type": "execute_result"
    }
   ],
   "source": [
    "tuning_dict.keys()"
   ]
  },
  {
   "cell_type": "code",
   "execution_count": 8,
   "metadata": {},
   "outputs": [],
   "source": [
    "import matplotlib.pyplot as plt\n",
    "plt.style.use(['../plots/paper.mplstyle'])"
   ]
  },
  {
   "cell_type": "code",
   "execution_count": 9,
   "metadata": {},
   "outputs": [],
   "source": [
    "ts = 3000\n",
    "dt = 0.001\n",
    "p = 0.003\n",
    "spikes_at = rng.binomial(1, p, size=(ts,))\n",
    "spike_times = np.where(spikes_at > 0)[0]\n",
    "\n",
    "time_t = np.arange(ts) * dt\n",
    "rates_t = 30. * (np.sin(time_t * (1 + np.exp( -1.5 * (time_t - time_t[-1]/2.) ** 2 )))**2 + \\\n",
    "    np.exp( -0.5 * (time_t - time_t[-1]/3.) ** 2 ))\n",
    "\n",
    "\n",
    "rtime_t = np.cumsum(rates_t * dt)\n",
    "rspike_times = np.ceil(rtime_t[spike_times] / dt).astype(int)"
   ]
  },
  {
   "cell_type": "code",
   "execution_count": 13,
   "metadata": {},
   "outputs": [
    {
     "data": {
      "text/plain": [
       "array([  3.0087075,  60.18738  ,  42.552933 , 162.53026  ,   2.6303558,\n",
       "         1.9249934,  42.967896 ,  37.357735 ,   8.848629 ], dtype=float32)"
      ]
     },
     "execution_count": 13,
     "metadata": {},
     "output_type": "execute_result"
    }
   ],
   "source": [
    "tuning_dict['warp_tau']"
   ]
  },
  {
   "cell_type": "code",
   "execution_count": 17,
   "metadata": {},
   "outputs": [
    {
     "data": {
      "text/plain": [
       "array([0.172, 0.173, 0.174, ..., 0.053, 0.054, 0.055])"
      ]
     },
     "execution_count": 17,
     "metadata": {},
     "output_type": "execute_result"
    }
   ],
   "source": [
    "dataset_dict['ISIs'][:, 0, 0]"
   ]
  },
  {
   "cell_type": "code",
   "execution_count": 11,
   "metadata": {},
   "outputs": [],
   "source": [
    "sys.path.append(\"../../data/synthetic\")\n",
    "import generate\n",
    "\n",
    "mdl = generate.model('Gaussian')\n",
    "ratefunc, N = mdl.get_model()\n",
    "\n",
    "# rates\n",
    "xlist = [np.linspace(0, 500, 100), np.linspace(0, 500, 100)]\n",
    "x_dims = len(xlist)\n",
    "\n",
    "xx = np.meshgrid(*xlist)\n",
    "xx = jnp.stack(xx, axis=-1)\n",
    "\n",
    "or_shape = xx.shape[:-1]\n",
    "xx = xx.reshape(-1, x_dims)  # (evals, x_dim)\n",
    "\n",
    "rates = jax.vmap(ratefunc)(xx)\n",
    "rates = rates.reshape(*or_shape, -1)"
   ]
  },
  {
   "cell_type": "code",
   "execution_count": null,
   "metadata": {},
   "outputs": [],
   "source": [
    "# each cell has unique colour\n",
    "# no rate rescaling\n",
    "A\n",
    "# ground truth cells, bottom : renewal densities\n",
    "B \n",
    "# fitted rate maps from models\n",
    "# maybe plot: Poisson rates too\n",
    "# posterior samples\n",
    "C\n",
    "# qq plots"
   ]
  },
  {
   "cell_type": "code",
   "execution_count": 45,
   "metadata": {},
   "outputs": [
    {
     "data": {
      "image/png": "[encoded data removed]",
      "text/plain": [
       "<Figure size 576x216 with 19 Axes>"
      ]
     },
     "metadata": {},
     "output_type": "display_data"
    }
   ],
   "source": [
    "fig = plt.figure(figsize=(8, 3))\n",
    "fig.set_facecolor('white')\n",
    "\n",
    "fig.text(-0.05, 1.05, 'A', fontsize=15, ha='center')\n",
    "fig.text(0.3, 1.05, 'B', fontsize=15, ha='center')\n",
    "fig.text(0.5, 1.05, 'C', fontsize=15, ha='center')\n",
    "\n",
    "\n",
    "### rate rescaling ###\n",
    "widths = [1]\n",
    "heights = [1]\n",
    "spec = fig.add_gridspec(ncols=len(widths), nrows=len(heights), width_ratios=widths, \n",
    "                        height_ratios=heights, top=1.0, bottom=0.5, \n",
    "                        left=0.0, right=0.25, wspace=0.1)\n",
    "\n",
    "ax = fig.add_subplot(spec[0, 0])\n",
    "\n",
    "ax.plot(time_t, rates_t)\n",
    "ax.plot(time_t, rtime_t)\n",
    "ax.set_xticks([])\n",
    "ax.set_yticks([])\n",
    "ax.set_xlabel('time')\n",
    "ax.set_ylabel('rescaled time')\n",
    "\n",
    "ax.set_xlim([time_t[0], time_t[-1]])\n",
    "ax.set_ylim([rtime_t[0], 1.3*rtime_t[-1]])\n",
    "for st, rst in zip(spike_times, rspike_times):\n",
    "    ax.plot(np.ones(2)*st*dt, [0., rtime_t[st]], c='k')\n",
    "    ax.plot([0., time_t[st]], np.ones(2)*rst*dt, c='lightgray')\n",
    "\n",
    "\n",
    "widths = [1, 1, 1]\n",
    "heights = [1]\n",
    "spec = fig.add_gridspec(ncols=len(widths), nrows=len(heights), width_ratios=widths, \n",
    "                        height_ratios=heights, top=0.3, bottom=0.0, \n",
    "                        left=0.0, right=0.25, wspace=0.1)\n",
    "\n",
    "ISI = jnp.linspace(1e-12, 3., 100)[:, None]\n",
    "\n",
    "for en, rtype in enumerate(['gamma', 'lognorm', 'invgauss']):\n",
    "    rm, _ = generate.get_renewal(rtype, 3, dt)\n",
    "    ll = jax.vmap(rm.log_density)(ISI)\n",
    "    \n",
    "    ax = fig.add_subplot(spec[0, en])\n",
    "    ax.plot(ISI, np.exp(ll)[:, :])\n",
    "    ax.set_xlim([0, ISI[-1]])\n",
    "    ax.set_ylim([0, 2.])\n",
    "    ax.set_xticks([])\n",
    "    ax.set_yticks([])\n",
    "    \n",
    "    \n",
    "### KS statistics ###\n",
    "widths = [1]\n",
    "heights = [1, 1]\n",
    "spec = fig.add_gridspec(ncols=len(widths), nrows=len(heights), width_ratios=widths, \n",
    "                        height_ratios=heights, top=1.0, bottom=0.0, \n",
    "                        left=0.3, right=0.4, wspace=0.1)\n",
    "\n",
    "for en, n in enumerate(reg_config_names):\n",
    "    ax = fig.add_subplot(spec[en, 0])\n",
    "\n",
    "    dd = regression_dict[n]\n",
    "    sort_cdfs = dd['KS_quantiles']\n",
    "\n",
    "    for n in range(len(sort_cdfs)):\n",
    "        if sort_cdfs[n] is not None:\n",
    "            ax.plot(np.linspace(0., 1., len(sort_cdfs[n])), sort_cdfs[n], alpha=0.7)\n",
    "    ax.plot(np.linspace(0., 1., 100), np.linspace(0., 1., 100), c='k')\n",
    "\n",
    "\n",
    "### tuning curves ###\n",
    "widths = [1] * 3\n",
    "heights = [1] * 3\n",
    "spec = fig.add_gridspec(ncols=len(widths), nrows=len(heights), width_ratios=widths, \n",
    "                        height_ratios=heights, top=1.0, bottom=0.5, \n",
    "                        left=0.5, right=0.72, wspace=0.1)\n",
    "\n",
    "for n in range(3):\n",
    "    for m in range(3):\n",
    "        k = 3*n + m\n",
    "        ax = fig.add_subplot(spec[n, m])\n",
    "\n",
    "        ax.imshow(rates[..., k], extent=[xlist[0][0], xlist[0][-1], xlist[1][0], xlist[1][-1]], \n",
    "                  origin='lower', cmap='viridis')\n",
    "        ax.set_xlim([xlist[0][0], xlist[0][-1]])\n",
    "        ax.set_ylim([xlist[1][0], xlist[1][-1]])\n",
    "        ax.set_xticks([])\n",
    "        ax.set_yticks([])\n",
    "        \n",
    "\n",
    "ax.annotate(\"\", xy=(1.35, -0.2), xytext=(1.35, 1.2), rotation=np.pi/2., xycoords='axes fraction', \n",
    "    arrowprops=dict(arrowstyle=\"simple, head_width=1.6, head_length=1.0, tail_width=0.5\", color='gray'), \n",
    "    annotation_clip=False)\n",
    "\n",
    "ax.annotate(\"\", xy=(1.35, -0.2), xytext=(1.35, 1.2), rotation=np.pi/2., xycoords='axes fraction', \n",
    "    arrowprops=dict(arrowstyle=\"simple, head_width=1.6, head_length=1.0, tail_width=0.5\", color='gray'), \n",
    "    annotation_clip=False)\n",
    "\n",
    "ax.annotate(\"\", xy=(1.35, -0.2), xytext=(1.35, 1.2), rotation=np.pi/2., xycoords='axes fraction', \n",
    "    arrowprops=dict(arrowstyle=\"simple, head_width=1.6, head_length=1.0, tail_width=0.5\", color='gray'), \n",
    "    annotation_clip=False)\n",
    "\n",
    "\n",
    "### conditional ISI distributions ###\n",
    "widths = [1, 1, 1]\n",
    "heights = [1]\n",
    "spec = fig.add_gridspec(ncols=len(widths), nrows=len(heights), width_ratios=widths, \n",
    "                        height_ratios=heights, top=0.4, bottom=0.0, \n",
    "                        left=0.5, right=1.0, wspace=0.1)   \n",
    "    \n",
    "t_eval = tuning_dict['ISI_t_eval']\n",
    "ne = 5\n",
    "loc_inds = [0, 3, 5]\n",
    "for en, loc_ind in enumerate(loc_inds):\n",
    "    ax = fig.add_subplot(spec[0, en])\n",
    "    dens = tuning_dict['ISI_densities'][loc_ind, :, ne, :]\n",
    "    ax.plot(t_eval, dens.T, c='k', alpha=0.2)\n",
    "    \n",
    "    if en == 0:\n",
    "        ax.set_ylabel('probability')\n",
    "    elif en == 1:\n",
    "        ax.set_ylabel('ISI (s)')\n",
    "        \n",
    "        \n",
    "        \n",
    "    \n",
    "### kernel lengthscales ###\n",
    "widths = [1]\n",
    "heights = [1]\n",
    "spec = fig.add_gridspec(ncols=len(widths), nrows=len(heights), width_ratios=widths, \n",
    "                        height_ratios=heights, top=1.0, bottom=0.5, \n",
    "                        left=0.85, right=1.0, wspace=0.1)\n",
    "\n",
    "ls = tuning_dict['len_deltas']\n",
    "tls = tuning_dict['len_tau']\n",
    "cs = [\n",
    "    'b',\n",
    "    'g',\n",
    "    'r',\n",
    "    'c',\n",
    "    'm',\n",
    "    'y',\n",
    "    'k',\n",
    "    'orange',\n",
    "    'cyan'\n",
    "]\n",
    "\n",
    "ax = fig.add_subplot(spec[0, 0])\n",
    "for n in range(9):\n",
    "    lens = ls[n]\n",
    "    tlen = tls[n]\n",
    "    ax.scatter(n*np.ones_like(lens), lens, marker='.', c=cs[n])\n",
    "    ax.scatter(n*np.ones(1), tlen, marker='x', c=cs[n], s=20)\n",
    "    ax.set_yscale('log')\n",
    "    ax.set_ylabel('kernel timescales')\n",
    "    ax.plot([-.5, 9.5], 3. * np.ones(2), '--', color='gray')\n",
    "    ax.set_xlim([-.5, 9.5])\n",
    "    \n",
    "        \n",
    "        \n",
    "        \n",
    "#plt.savefig('../saves/synthetic.pdf')\n",
    "plt.show()"
   ]
  },
  {
   "cell_type": "code",
   "execution_count": null,
   "metadata": {},
   "outputs": [],
   "source": []
  },
  {
   "cell_type": "code",
   "execution_count": null,
   "metadata": {},
   "outputs": [],
   "source": []
  }
 ],
 "metadata": {
  "kernelspec": {
   "display_name": "python39",
   "language": "python",
   "name": "python39"
  },
  "language_info": {
   "codemirror_mode": {
    "name": "ipython",
    "version": 3
   },
   "file_extension": ".py",
   "mimetype": "text/x-python",
   "name": "python",
   "nbconvert_exporter": "python",
   "pygments_lexer": "ipython3",
   "version": "3.9.16"
  }
 },
 "nbformat": 4,
 "nbformat_minor": 4
}
