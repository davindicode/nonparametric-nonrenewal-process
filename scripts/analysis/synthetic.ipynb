{
 "cells": [
  {
   "cell_type": "code",
   "execution_count": 1,
   "metadata": {},
   "outputs": [
    {
     "name": "stderr",
     "output_type": "stream",
     "text": [
      "/var/home/dl543/Documents/Learning/nonparametric-modulated-renewal/scripts/analysis/../../../GaussNeuro/gaussneuro/likelihoods/renewal.py:12: TqdmExperimentalWarning: Using `tqdm.autonotebook.tqdm` in notebook mode. Use `tqdm.tqdm` instead to force console mode (e.g. in jupyter console)\n",
      "  from tqdm.autonotebook import tqdm\n"
     ]
    }
   ],
   "source": [
    "%load_ext autoreload\n",
    "%autoreload\n",
    "\n",
    "import sys\n",
    "\n",
    "sys.path.append(\"../../../GaussNeuro\")\n",
    "import gaussneuro as lib\n",
    "\n",
    "sys.path.append(\"../fit/\")\n",
    "import synthetic\n",
    "\n",
    "import equinox as eqx\n",
    "import jax\n",
    "import jax.numpy as jnp\n",
    "import jax.random as jr\n",
    "import numpy as np\n",
    "\n",
    "\n",
    "import analyze_synthetic\n",
    "import utils"
   ]
  },
  {
   "cell_type": "code",
   "execution_count": 2,
   "metadata": {},
   "outputs": [],
   "source": [
    "#jax.config.update('jax_platform_name', 'cpu')\n",
    "#jax.config.update(\"jax_enable_x64\", True)\n",
    "\n",
    "seed = 123\n",
    "rng = np.random.default_rng(seed)\n",
    "prng_state = jr.PRNGKey(seed)\n",
    "batch_size = 10000"
   ]
  },
  {
   "cell_type": "code",
   "execution_count": null,
   "metadata": {},
   "outputs": [],
   "source": []
  },
  {
   "cell_type": "markdown",
   "metadata": {},
   "source": [
    "## Data"
   ]
  },
  {
   "cell_type": "code",
   "execution_count": 3,
   "metadata": {},
   "outputs": [],
   "source": [
    "### data ###\n",
    "data_path = \"../../data/synthetic/\"\n",
    "session_name = \"syn_data_seed123\"\n",
    "max_ISI_order = 4\n",
    "\n",
    "select_fracs = [0.0, 1.0]\n",
    "\n",
    "dataset_dict = synthetic.spikes_dataset(session_name, data_path, max_ISI_order, select_fracs)\n",
    "\n",
    "#covariates = dataset_dict['covariates']\n",
    "#x_t, y_t = covariates['x'], covariates['y']\n"
   ]
  },
  {
   "cell_type": "code",
   "execution_count": 8,
   "metadata": {},
   "outputs": [],
   "source": [
    "import matplotlib.pyplot as plt\n",
    "plt.style.use(['../plots/paper.mplstyle'])"
   ]
  },
  {
   "cell_type": "code",
   "execution_count": 9,
   "metadata": {},
   "outputs": [],
   "source": [
    "ts = 3000\n",
    "dt = 0.001\n",
    "p = 0.003\n",
    "spikes_at = rng.binomial(1, p, size=(ts,))\n",
    "spike_times = np.where(spikes_at > 0)[0]\n",
    "\n",
    "time_t = np.arange(ts) * dt\n",
    "rates_t = 30. * (np.sin(time_t * (1 + np.exp( -1.5 * (time_t - time_t[-1]/2.) ** 2 )))**2 + \\\n",
    "    np.exp( -0.5 * (time_t - time_t[-1]/3.) ** 2 ))\n",
    "\n",
    "\n",
    "rtime_t = np.cumsum(rates_t * dt)\n",
    "rspike_times = np.ceil(rtime_t[spike_times] / dt).astype(int)"
   ]
  },
  {
   "cell_type": "code",
   "execution_count": 13,
   "metadata": {},
   "outputs": [
    {
     "data": {
      "text/plain": [
       "array([  3.0087075,  60.18738  ,  42.552933 , 162.53026  ,   2.6303558,\n",
       "         1.9249934,  42.967896 ,  37.357735 ,   8.848629 ], dtype=float32)"
      ]
     },
     "execution_count": 13,
     "metadata": {},
     "output_type": "execute_result"
    }
   ],
   "source": [
    "tuning_dict['warp_tau']"
   ]
  },
  {
   "cell_type": "code",
   "execution_count": 17,
   "metadata": {},
   "outputs": [
    {
     "data": {
      "text/plain": [
       "array([0.172, 0.173, 0.174, ..., 0.053, 0.054, 0.055])"
      ]
     },
     "execution_count": 17,
     "metadata": {},
     "output_type": "execute_result"
    }
   ],
   "source": [
    "dataset_dict['ISIs'][:, 0, 0]"
   ]
  },
  {
   "cell_type": "code",
   "execution_count": 60,
   "metadata": {},
   "outputs": [],
   "source": [
    "model_name = 'syn_data_seed123ISI4sel0.0to1.0_PP-log_rcb-8-17.-36.-6.-30.-self-H500_factorized_gp-16-1000_' + \\\n",
    "    'X[x-y]_Z[]_freeze[obs_model0spikefilter0a-obs_model0spikefilter0log_c-obs_model0spikefilter0phi]'\n",
    "model_name = 'syn_data_seed123ISI4sel0.0to1.0_PP-log_rcb-8-10.-20.-4.5-9.-self-H150_factorized_gp-16-1000_' + \\\n",
    "    'X[x-y]_Z[]_freeze[]'\n",
    "\n",
    "checkpoint_dir = '../checkpoint/'#checkpoint_/'\n",
    "\n",
    "# config\n",
    "model, config = utils.load_model_and_config(\n",
    "    checkpoint_dir + model_name, \n",
    "    dataset_dict, \n",
    "    synthetic.observed_kernel_dict_induc_list, \n",
    "    rng, \n",
    ")\n",
    "obs_type = config.observations.split('-')[0]\n",
    "jitter = config.jitter"
   ]
  },
  {
   "cell_type": "code",
   "execution_count": 61,
   "metadata": {},
   "outputs": [],
   "source": [
    "filter_t, _ = model.obs_model.spikefilter.sample_posterior(\n",
    "    prng_state, 1, False, None, jitter)\n",
    "filter_t = np.array(filter_t[0])  # (filter_length, outs, 1)\n",
    "prng_state, _ = jr.split(prng_state)"
   ]
  },
  {
   "cell_type": "code",
   "execution_count": 62,
   "metadata": {},
   "outputs": [
    {
     "data": {
      "image/png": "[encoded data removed]",
      "text/plain": [
       "<Figure size 432x288 with 1 Axes>"
      ]
     },
     "metadata": {
      "needs_background": "light"
     },
     "output_type": "display_data"
    }
   ],
   "source": [
    "import matplotlib.pyplot as plt\n",
    "\n",
    "plt.plot(filter_t[..., 0])\n",
    "plt.show()"
   ]
  },
  {
   "cell_type": "code",
   "execution_count": 23,
   "metadata": {},
   "outputs": [],
   "source": [
    "a, c = 4.5, 9.  # inverse width of the bumps, uniformity of the bump placement\n",
    "phi_lower, phi_upper = 10., 20.\n",
    "B = 8\n",
    "filter_length = 150\n",
    "\n",
    "obs_dims = 9\n",
    "num_samps = 10\n",
    "\n",
    "# RCB basis\n",
    "a = a * np.ones((obs_dims, 1))\n",
    "c = c * np.ones((obs_dims, 1))\n",
    "phi_h = np.linspace(phi_lower, phi_upper, B)[:, None, None].repeat(obs_dims, axis=1)\n",
    "w_h = np.array(model.obs_model.spikefilter.w)#np.zeros((B, obs_dims, 1))\n",
    "#for o in range(obs_dims):\n",
    "#    w_h[o, o, :] = 1.\n",
    "\n",
    "flt = lib.filters.RaisedCosineBumps(\n",
    "    a,\n",
    "    c,\n",
    "    w_h,\n",
    "    phi_h,\n",
    "    filter_length,\n",
    ")\n",
    "\n",
    "glm_basis = flt.sample_prior(prng_state, 1, None, jitter)\n",
    "glm_basis = np.array(glm_basis[0])  # (filter_length, outs, 1)"
   ]
  },
  {
   "cell_type": "code",
   "execution_count": 24,
   "metadata": {},
   "outputs": [
    {
     "data": {
      "image/png": "[encoded data removed]",
      "text/plain": [
       "<Figure size 432x288 with 1 Axes>"
      ]
     },
     "metadata": {
      "needs_background": "light"
     },
     "output_type": "display_data"
    }
   ],
   "source": [
    "plt.plot(glm_basis[..., 0])\n",
    "plt.show()"
   ]
  },
  {
   "cell_type": "code",
   "execution_count": 21,
   "metadata": {},
   "outputs": [
    {
     "data": {
      "text/plain": [
       "(8, 9, 1)"
      ]
     },
     "execution_count": 21,
     "metadata": {},
     "output_type": "execute_result"
    }
   ],
   "source": [
    "model.obs_model.spikefilter.phi.shape"
   ]
  },
  {
   "cell_type": "code",
   "execution_count": null,
   "metadata": {},
   "outputs": [],
   "source": []
  }
 ],
 "metadata": {
  "kernelspec": {
   "display_name": "python39",
   "language": "python",
   "name": "python39"
  },
  "language_info": {
   "codemirror_mode": {
    "name": "ipython",
    "version": 3
   },
   "file_extension": ".py",
   "mimetype": "text/x-python",
   "name": "python",
   "nbconvert_exporter": "python",
   "pygments_lexer": "ipython3",
   "version": "3.9.16"
  }
 },
 "nbformat": 4,
 "nbformat_minor": 4
}
