{
 "cells": [
  {
   "cell_type": "code",
   "execution_count": 2,
   "metadata": {},
   "outputs": [
    {
     "name": "stdout",
     "output_type": "stream",
     "text": [
      "PyTorch version: 1.7.1+cu101\n",
      "Using device: cuda:0\n"
     ]
    }
   ],
   "source": [
    "%load_ext autoreload\n",
    "%autoreload 2\n",
    "\n",
    "import torch\n",
    "import torch.nn as nn\n",
    "from torch.nn.parameter import Parameter\n",
    "import torch.nn.functional as F\n",
    "import torch.optim as optim\n",
    "\n",
    "import matplotlib.pyplot as plt\n",
    "\n",
    "import scipy.io # needed for older versions of MATLAB files\n",
    "import numpy as np\n",
    "import scipy.stats as scstats\n",
    "\n",
    "import sys\n",
    "sys.path.append(\"../neuroprob/\")\n",
    "\n",
    "import neuroprob as mdl\n",
    "from neuroprob import utils\n",
    "from neuroprob import GP\n",
    "\n",
    "import models\n",
    "\n",
    "import pickle\n",
    "\n",
    "gpu_dev = 0\n",
    "dev = utils.pytorch.get_device(gpu=gpu_dev)\n",
    "dev = 'cpu'\n",
    "\n",
    "\n",
    "plt.style.use(['paper.mplstyle'])"
   ]
  },
  {
   "cell_type": "code",
   "execution_count": 3,
   "metadata": {},
   "outputs": [],
   "source": [
    "u = np.load('./data/MN_uall.npy')\n",
    "rates = 0.3*u**2\n",
    "tbin = 0.2/1000 # seconds\n",
    "neurons = rates.shape[1]\n",
    "T = rates.shape[0]"
   ]
  },
  {
   "cell_type": "code",
   "execution_count": null,
   "metadata": {},
   "outputs": [],
   "source": []
  },
  {
   "cell_type": "code",
   "execution_count": null,
   "metadata": {},
   "outputs": [],
   "source": []
  },
  {
   "cell_type": "code",
   "execution_count": 4,
   "metadata": {},
   "outputs": [],
   "source": [
    "spktrain = mdl.point_process.gen_IBP(rates.T*tbin)\n",
    "bin_size = 100 # 20 ms\n",
    "delta_t, resamples, rc_t, _ = utils.neural.bin_data(bin_size, tbin, spktrain, T, binned=True)"
   ]
  },
  {
   "cell_type": "code",
   "execution_count": null,
   "metadata": {},
   "outputs": [],
   "source": []
  },
  {
   "cell_type": "code",
   "execution_count": 8,
   "metadata": {},
   "outputs": [
    {
     "data": {
      "application/vnd.jupyter.widget-view+json": {
       "model_id": "",
       "version_major": 2,
       "version_minor": 0
      },
      "text/plain": [
       "HBox(children=(FloatProgress(value=0.0, max=30000.0), HTML(value='')))"
      ]
     },
     "metadata": {},
     "output_type": "display_data"
    },
    {
     "name": "stdout",
     "output_type": "stream",
     "text": [
      "\r"
     ]
    }
   ],
   "source": [
    "shape = np.ones(neurons)\n",
    "ISI_dist = mdl.point_process.ISI_gamma(shape, scale=1./shape)\n",
    "\n",
    "spiketimes = mdl.point_process.gen_IRP(ISI_dist, rates[:, :1].T[None, ...], tbin)"
   ]
  },
  {
   "cell_type": "code",
   "execution_count": 9,
   "metadata": {},
   "outputs": [],
   "source": [
    "bin_size = 1 # 20 ms\n",
    "delta_t, resamples, rc_t, _ = utils.neural.bin_data(bin_size, tbin, spiketimes, T, binned=False)"
   ]
  },
  {
   "cell_type": "code",
   "execution_count": 13,
   "metadata": {},
   "outputs": [
    {
     "data": {
      "text/plain": [
       "<matplotlib.collections.PathCollection at 0x7f5bd0209e48>"
      ]
     },
     "execution_count": 13,
     "metadata": {},
     "output_type": "execute_result"
    },
    {
     "data": {
      "image/png": "[encoded data removed]",
      "text/plain": [
       "<Figure size 245x183.75 with 1 Axes>"
      ]
     },
     "metadata": {
      "needs_background": "light"
     },
     "output_type": "display_data"
    }
   ],
   "source": [
    "plt.scatter(spiketimes[0][:100], np.ones_like(spiketimes[0][:100]))"
   ]
  },
  {
   "cell_type": "code",
   "execution_count": 14,
   "metadata": {},
   "outputs": [
    {
     "data": {
      "text/plain": [
       "[<matplotlib.lines.Line2D at 0x7f5bd02d26d8>]"
      ]
     },
     "execution_count": 14,
     "metadata": {},
     "output_type": "execute_result"
    },
    {
     "data": {
      "image/png": "[encoded data removed]",
      "text/plain": [
       "<Figure size 245x183.75 with 1 Axes>"
      ]
     },
     "metadata": {
      "needs_background": "light"
     },
     "output_type": "display_data"
    }
   ],
   "source": [
    "plt.plot(rates[:6000, 0])"
   ]
  },
  {
   "cell_type": "code",
   "execution_count": null,
   "metadata": {},
   "outputs": [],
   "source": []
  },
  {
   "cell_type": "markdown",
   "metadata": {},
   "source": [
    "### GPyTorch"
   ]
  },
  {
   "cell_type": "code",
   "execution_count": null,
   "metadata": {},
   "outputs": [],
   "source": [
    "import math\n",
    "import torch\n",
    "import gpytorch\n",
    "from matplotlib import pyplot as plt\n",
    "\n",
    "%load_ext autoreload\n",
    "%autoreload 2"
   ]
  },
  {
   "cell_type": "code",
   "execution_count": 7,
   "metadata": {
    "scrolled": true
   },
   "outputs": [
    {
     "name": "stdout",
     "output_type": "stream",
     "text": [
      "Iter 1/50 - Loss: 0.936   lengthscale: 0.693   noise: 0.693\n",
      "Iter 2/50 - Loss: 0.904   lengthscale: 0.644   noise: 0.644\n",
      "Iter 3/50 - Loss: 0.870   lengthscale: 0.598   noise: 0.598\n",
      "Iter 4/50 - Loss: 0.832   lengthscale: 0.555   noise: 0.554\n",
      "Iter 5/50 - Loss: 0.790   lengthscale: 0.514   noise: 0.513\n",
      "Iter 6/50 - Loss: 0.743   lengthscale: 0.475   noise: 0.474\n",
      "Iter 7/50 - Loss: 0.694   lengthscale: 0.438   noise: 0.437\n",
      "Iter 8/50 - Loss: 0.643   lengthscale: 0.404   noise: 0.402\n",
      "Iter 9/50 - Loss: 0.595   lengthscale: 0.371   noise: 0.369\n",
      "Iter 10/50 - Loss: 0.551   lengthscale: 0.342   noise: 0.339\n",
      "Iter 11/50 - Loss: 0.512   lengthscale: 0.315   noise: 0.311\n",
      "Iter 12/50 - Loss: 0.475   lengthscale: 0.292   noise: 0.284\n",
      "Iter 13/50 - Loss: 0.441   lengthscale: 0.272   noise: 0.259\n",
      "Iter 14/50 - Loss: 0.407   lengthscale: 0.257   noise: 0.237\n",
      "Iter 15/50 - Loss: 0.375   lengthscale: 0.244   noise: 0.216\n",
      "Iter 16/50 - Loss: 0.342   lengthscale: 0.234   noise: 0.197\n",
      "Iter 17/50 - Loss: 0.310   lengthscale: 0.226   noise: 0.179\n",
      "Iter 18/50 - Loss: 0.279   lengthscale: 0.221   noise: 0.163\n",
      "Iter 19/50 - Loss: 0.248   lengthscale: 0.218   noise: 0.148\n",
      "Iter 20/50 - Loss: 0.217   lengthscale: 0.216   noise: 0.135\n",
      "Iter 21/50 - Loss: 0.188   lengthscale: 0.216   noise: 0.122\n",
      "Iter 22/50 - Loss: 0.159   lengthscale: 0.218   noise: 0.111\n",
      "Iter 23/50 - Loss: 0.132   lengthscale: 0.221   noise: 0.101\n",
      "Iter 24/50 - Loss: 0.107   lengthscale: 0.225   noise: 0.092\n",
      "Iter 25/50 - Loss: 0.084   lengthscale: 0.230   noise: 0.084\n",
      "Iter 26/50 - Loss: 0.063   lengthscale: 0.236   noise: 0.077\n",
      "Iter 27/50 - Loss: 0.044   lengthscale: 0.243   noise: 0.070\n",
      "Iter 28/50 - Loss: 0.029   lengthscale: 0.251   noise: 0.065\n",
      "Iter 29/50 - Loss: 0.016   lengthscale: 0.259   noise: 0.059\n",
      "Iter 30/50 - Loss: 0.007   lengthscale: 0.267   noise: 0.055\n",
      "Iter 31/50 - Loss: 0.000   lengthscale: 0.275   noise: 0.051\n",
      "Iter 32/50 - Loss: -0.003   lengthscale: 0.283   noise: 0.047\n",
      "Iter 33/50 - Loss: -0.004   lengthscale: 0.291   noise: 0.044\n",
      "Iter 34/50 - Loss: -0.002   lengthscale: 0.297   noise: 0.042\n",
      "Iter 35/50 - Loss: 0.001   lengthscale: 0.302   noise: 0.039\n",
      "Iter 36/50 - Loss: 0.005   lengthscale: 0.306   noise: 0.038\n",
      "Iter 37/50 - Loss: 0.009   lengthscale: 0.308   noise: 0.036\n",
      "Iter 38/50 - Loss: 0.013   lengthscale: 0.308   noise: 0.035\n",
      "Iter 39/50 - Loss: 0.016   lengthscale: 0.307   noise: 0.034\n",
      "Iter 40/50 - Loss: 0.018   lengthscale: 0.304   noise: 0.034\n",
      "Iter 41/50 - Loss: 0.018   lengthscale: 0.300   noise: 0.033\n",
      "Iter 42/50 - Loss: 0.018   lengthscale: 0.296   noise: 0.033\n",
      "Iter 43/50 - Loss: 0.017   lengthscale: 0.291   noise: 0.033\n",
      "Iter 44/50 - Loss: 0.015   lengthscale: 0.286   noise: 0.034\n",
      "Iter 45/50 - Loss: 0.013   lengthscale: 0.281   noise: 0.034\n",
      "Iter 46/50 - Loss: 0.010   lengthscale: 0.276   noise: 0.035\n",
      "Iter 47/50 - Loss: 0.008   lengthscale: 0.272   noise: 0.036\n",
      "Iter 48/50 - Loss: 0.005   lengthscale: 0.269   noise: 0.037\n",
      "Iter 49/50 - Loss: 0.003   lengthscale: 0.266   noise: 0.038\n",
      "Iter 50/50 - Loss: 0.001   lengthscale: 0.264   noise: 0.039\n",
      "tensor([[0.2623]], grad_fn=<SoftplusBackward>)\n"
     ]
    },
    {
     "data": {
      "image/png": "[encoded data removed]",
      "text/plain": [
       "<Figure size 288x216 with 1 Axes>"
      ]
     },
     "metadata": {
      "needs_background": "light"
     },
     "output_type": "display_data"
    }
   ],
   "source": [
    "# Training data is 100 points in [0,1] inclusive regularly spaced\n",
    "train_x = torch.linspace(0, 1, 100)\n",
    "# True function is sin(2*pi*x) with Gaussian noise\n",
    "train_y = torch.sin(train_x * (2 * math.pi)) + torch.randn(train_x.size()) * math.sqrt(0.04)\n",
    "\n",
    "# We will use the simplest form of GP model, exact inference\n",
    "class ExactGPModel(gpytorch.models.ExactGP):\n",
    "    def __init__(self, train_x, train_y, likelihood):\n",
    "        super(ExactGPModel, self).__init__(train_x, train_y, likelihood)\n",
    "        self.mean_module = gpytorch.means.ConstantMean()\n",
    "        self.covar_module = gpytorch.kernels.ScaleKernel(gpytorch.kernels.RBFKernel())\n",
    "\n",
    "    def forward(self, x):\n",
    "        mean_x = self.mean_module(x)\n",
    "        covar_x = self.covar_module(x)\n",
    "        return gpytorch.distributions.MultivariateNormal(mean_x, covar_x)\n",
    "\n",
    "# initialize likelihood and model\n",
    "likelihood = gpytorch.likelihoods.GaussianLikelihood()\n",
    "model = ExactGPModel(train_x, train_y, likelihood)\n",
    "\n",
    "# this is for running the notebook in our testing framework\n",
    "import os\n",
    "smoke_test = ('CI' in os.environ)\n",
    "training_iter = 2 if smoke_test else 50\n",
    "\n",
    "\n",
    "# Find optimal model hyperparameters\n",
    "model.train()\n",
    "likelihood.train()\n",
    "\n",
    "# Use the adam optimizer\n",
    "optimizer = torch.optim.Adam([\n",
    "    {'params': model.parameters()},  # Includes GaussianLikelihood parameters\n",
    "], lr=0.1)\n",
    "\n",
    "# \"Loss\" for GPs - the marginal log likelihood\n",
    "mll = gpytorch.mlls.ExactMarginalLogLikelihood(likelihood, model)\n",
    "\n",
    "for i in range(training_iter):\n",
    "    # Zero gradients from previous iteration\n",
    "    optimizer.zero_grad()\n",
    "    # Output from model\n",
    "    output = model(train_x)\n",
    "    # Calc loss and backprop gradients\n",
    "    loss = -mll(output, train_y)\n",
    "    loss.backward()\n",
    "    print('Iter %d/%d - Loss: %.3f   lengthscale: %.3f   noise: %.3f' % (\n",
    "        i + 1, training_iter, loss.item(),\n",
    "        model.covar_module.base_kernel.lengthscale.item(),\n",
    "        model.likelihood.noise.item()\n",
    "    ))\n",
    "    optimizer.step()\n",
    "    \n",
    "# Get into evaluation (predictive posterior) mode\n",
    "model.eval()\n",
    "likelihood.eval()\n",
    "\n",
    "# Test points are regularly spaced along [0,1]\n",
    "# Make predictions by feeding model through likelihood\n",
    "with torch.no_grad(), gpytorch.settings.fast_pred_var():\n",
    "    test_x = torch.linspace(0, 1, 51)\n",
    "    observed_pred = likelihood(model(test_x))\n",
    "\n",
    "with torch.no_grad():\n",
    "    # Initialize plot\n",
    "    f, ax = plt.subplots(1, 1, figsize=(4, 3))\n",
    "\n",
    "    # Get upper and lower confidence bounds\n",
    "    lower, upper = observed_pred.confidence_region()\n",
    "    # Plot training data as black stars\n",
    "    ax.plot(train_x.numpy(), train_y.numpy(), 'k*')\n",
    "    # Plot predictive means as blue line\n",
    "    ax.plot(test_x.numpy(), observed_pred.mean.numpy(), 'b')\n",
    "    # Shade between the lower and upper confidence bounds\n",
    "    ax.fill_between(test_x.numpy(), lower.numpy(), upper.numpy(), alpha=0.5)\n",
    "    ax.set_ylim([-3, 3])\n",
    "    ax.legend(['Observed Data', 'Mean', 'Confidence'])\n",
    "    "
   ]
  },
  {
   "cell_type": "code",
   "execution_count": null,
   "metadata": {},
   "outputs": [],
   "source": []
  },
  {
   "cell_type": "code",
   "execution_count": 3,
   "metadata": {},
   "outputs": [
    {
     "name": "stdout",
     "output_type": "stream",
     "text": [
      "Iter 1/50 - Loss: 123.511\n",
      "Iter 2/50 - Loss: 119.720\n",
      "Iter 3/50 - Loss: 115.690\n",
      "Iter 4/50 - Loss: 111.471\n",
      "Iter 5/50 - Loss: 107.114\n",
      "Iter 6/50 - Loss: 102.666\n",
      "Iter 7/50 - Loss: 98.172\n",
      "Iter 8/50 - Loss: 93.686\n",
      "Iter 9/50 - Loss: 89.272\n",
      "Iter 10/50 - Loss: 85.000\n",
      "Iter 11/50 - Loss: 80.908\n",
      "Iter 12/50 - Loss: 76.981\n",
      "Iter 13/50 - Loss: 73.161\n",
      "Iter 14/50 - Loss: 69.387\n",
      "Iter 15/50 - Loss: 65.618\n",
      "Iter 16/50 - Loss: 61.835\n",
      "Iter 17/50 - Loss: 58.030\n",
      "Iter 18/50 - Loss: 54.204\n",
      "Iter 19/50 - Loss: 50.363\n",
      "Iter 20/50 - Loss: 46.521\n",
      "Iter 21/50 - Loss: 42.695\n",
      "Iter 22/50 - Loss: 38.904\n",
      "Iter 23/50 - Loss: 35.174\n",
      "Iter 24/50 - Loss: 31.532\n",
      "Iter 25/50 - Loss: 28.005\n",
      "Iter 26/50 - Loss: 24.623\n",
      "Iter 27/50 - Loss: 21.412\n",
      "Iter 28/50 - Loss: 18.399\n",
      "Iter 29/50 - Loss: 15.605\n",
      "Iter 30/50 - Loss: 13.046\n",
      "Iter 31/50 - Loss: 10.730\n",
      "Iter 32/50 - Loss: 8.657\n",
      "Iter 33/50 - Loss: 6.825\n",
      "Iter 34/50 - Loss: 5.227\n",
      "Iter 35/50 - Loss: 3.857\n",
      "Iter 36/50 - Loss: 2.714\n",
      "Iter 37/50 - Loss: 1.804\n",
      "Iter 38/50 - Loss: 1.136\n",
      "Iter 39/50 - Loss: 0.712\n",
      "Iter 40/50 - Loss: 0.517\n",
      "Iter 41/50 - Loss: 0.520\n",
      "Iter 42/50 - Loss: 0.670\n",
      "Iter 43/50 - Loss: 0.915\n",
      "Iter 44/50 - Loss: 1.202\n",
      "Iter 45/50 - Loss: 1.489\n",
      "Iter 46/50 - Loss: 1.743\n",
      "Iter 47/50 - Loss: 1.943\n",
      "Iter 48/50 - Loss: 2.075\n",
      "Iter 49/50 - Loss: 2.135\n",
      "Iter 50/50 - Loss: 2.123\n"
     ]
    },
    {
     "ename": "NameError",
     "evalue": "name 'dev' is not defined",
     "output_type": "error",
     "traceback": [
      "\u001b[0;31m---------------------------------------------------------------------------\u001b[0m",
      "\u001b[0;31mNameError\u001b[0m                                 Traceback (most recent call last)",
      "\u001b[0;32m<ipython-input-3-fc9f275bec27>\u001b[0m in \u001b[0;36m<module>\u001b[0;34m\u001b[0m\n\u001b[1;32m     66\u001b[0m \u001b[0;31m# Make predictions\u001b[0m\u001b[0;34m\u001b[0m\u001b[0;34m\u001b[0m\u001b[0;34m\u001b[0m\u001b[0m\n\u001b[1;32m     67\u001b[0m \u001b[0;32mwith\u001b[0m \u001b[0mtorch\u001b[0m\u001b[0;34m.\u001b[0m\u001b[0mno_grad\u001b[0m\u001b[0;34m(\u001b[0m\u001b[0;34m)\u001b[0m\u001b[0;34m,\u001b[0m \u001b[0mgpytorch\u001b[0m\u001b[0;34m.\u001b[0m\u001b[0msettings\u001b[0m\u001b[0;34m.\u001b[0m\u001b[0mfast_pred_var\u001b[0m\u001b[0;34m(\u001b[0m\u001b[0;34m)\u001b[0m\u001b[0;34m:\u001b[0m\u001b[0;34m\u001b[0m\u001b[0;34m\u001b[0m\u001b[0m\n\u001b[0;32m---> 68\u001b[0;31m     \u001b[0mtest_x\u001b[0m \u001b[0;34m=\u001b[0m \u001b[0mtorch\u001b[0m\u001b[0;34m.\u001b[0m\u001b[0mlinspace\u001b[0m\u001b[0;34m(\u001b[0m\u001b[0;36m0\u001b[0m\u001b[0;34m,\u001b[0m \u001b[0;36m1\u001b[0m\u001b[0;34m,\u001b[0m \u001b[0;36m51\u001b[0m\u001b[0;34m)\u001b[0m\u001b[0;34m.\u001b[0m\u001b[0mto\u001b[0m\u001b[0;34m(\u001b[0m\u001b[0mdev\u001b[0m\u001b[0;34m)\u001b[0m\u001b[0;34m\u001b[0m\u001b[0;34m\u001b[0m\u001b[0m\n\u001b[0m\u001b[1;32m     69\u001b[0m     \u001b[0mpredictions\u001b[0m \u001b[0;34m=\u001b[0m \u001b[0mlikelihood\u001b[0m\u001b[0;34m(\u001b[0m\u001b[0mmodel\u001b[0m\u001b[0;34m(\u001b[0m\u001b[0mtest_x\u001b[0m\u001b[0;34m)\u001b[0m\u001b[0;34m)\u001b[0m\u001b[0;34m\u001b[0m\u001b[0;34m\u001b[0m\u001b[0m\n\u001b[1;32m     70\u001b[0m     \u001b[0mmean\u001b[0m \u001b[0;34m=\u001b[0m \u001b[0mpredictions\u001b[0m\u001b[0;34m.\u001b[0m\u001b[0mmean\u001b[0m\u001b[0;34m\u001b[0m\u001b[0;34m\u001b[0m\u001b[0m\n",
      "\u001b[0;31mNameError\u001b[0m: name 'dev' is not defined"
     ]
    },
    {
     "data": {
      "image/png": "[encoded data removed]",
      "text/plain": [
       "<Figure size 576x216 with 2 Axes>"
      ]
     },
     "metadata": {
      "needs_background": "light"
     },
     "output_type": "display_data"
    }
   ],
   "source": [
    "train_x = torch.linspace(0, 1, 100)\n",
    "\n",
    "train_y = torch.stack([\n",
    "    torch.sin(train_x * (2 * math.pi)) + torch.randn(train_x.size()) * 0.2,\n",
    "    torch.cos(train_x * (2 * math.pi)) + torch.randn(train_x.size()) * 0.2,\n",
    "], -1)\n",
    "\n",
    "class BatchIndependentMultitaskGPModel(gpytorch.models.ExactGP):\n",
    "    def __init__(self, train_x, train_y, likelihood):\n",
    "        super().__init__(train_x, train_y, likelihood)\n",
    "        self.mean_module = gpytorch.means.ConstantMean(batch_shape=torch.Size([2]))\n",
    "        self.covar_module = gpytorch.kernels.ScaleKernel(\n",
    "            gpytorch.kernels.RBFKernel(batch_shape=torch.Size([2])),\n",
    "            batch_shape=torch.Size([2])\n",
    "        )\n",
    "\n",
    "    def forward(self, x):\n",
    "        mean_x = self.mean_module(x)\n",
    "        covar_x = self.covar_module(x)\n",
    "        return gpytorch.distributions.MultitaskMultivariateNormal.from_batch_mvn(\n",
    "            gpytorch.distributions.MultivariateNormal(mean_x, covar_x)\n",
    "        )\n",
    "\n",
    "\n",
    "likelihood = gpytorch.likelihoods.MultitaskGaussianLikelihood(num_tasks=2)\n",
    "model = BatchIndependentMultitaskGPModel(train_x, train_y, likelihood)\n",
    "\n",
    "train_x = train_x.cuda()\n",
    "train_y = train_y.cuda()\n",
    "model = model.cuda()\n",
    "likelihood = likelihood.cuda()\n",
    "\n",
    "# this is for running the notebook in our testing framework\n",
    "import os\n",
    "smoke_test = ('CI' in os.environ)\n",
    "training_iterations = 2 if smoke_test else 50\n",
    "\n",
    "\n",
    "# Find optimal model hyperparameters\n",
    "model.train()\n",
    "likelihood.train()\n",
    "\n",
    "# Use the adam optimizer\n",
    "optimizer = torch.optim.Adam([\n",
    "    {'params': model.parameters()},  # Includes GaussianLikelihood parameters\n",
    "], lr=0.1)\n",
    "\n",
    "# \"Loss\" for GPs - the marginal log likelihood\n",
    "mll = gpytorch.mlls.ExactMarginalLogLikelihood(likelihood, model)\n",
    "\n",
    "for i in range(training_iterations):\n",
    "    optimizer.zero_grad()\n",
    "    output = model(train_x)\n",
    "    loss = -mll(output, train_y)\n",
    "    loss.backward()\n",
    "    print('Iter %d/%d - Loss: %.3f' % (i + 1, training_iterations, loss.item()))\n",
    "    optimizer.step()\n",
    "    \n",
    "# Set into eval mode\n",
    "model.eval()\n",
    "likelihood.eval()\n",
    "\n",
    "# Initialize plots\n",
    "f, (y1_ax, y2_ax) = plt.subplots(1, 2, figsize=(8, 3))\n",
    "\n",
    "# Make predictions\n",
    "with torch.no_grad(), gpytorch.settings.fast_pred_var():\n",
    "    test_x = torch.linspace(0, 1, 51).to(dev)\n",
    "    predictions = likelihood(model(test_x))\n",
    "    mean = predictions.mean\n",
    "    lower, upper = predictions.confidence_region()\n",
    "\n",
    "mean = mean.cpu()\n",
    "lower = lower.cpu()\n",
    "upper = upper.cpu()\n",
    "\n",
    "train_x = train_x.cpu()\n",
    "train_y = train_y.cpu()\n",
    "test_x = test_x.cpu()\n",
    "    \n",
    "# This contains predictions for both tasks, flattened out\n",
    "# The first half of the predictions is for the first task\n",
    "# The second half is for the second task\n",
    "\n",
    "with torch.no_grad():\n",
    "    # Plot training data as black stars\n",
    "    y1_ax.plot(train_x.detach().numpy(), train_y[:, 0].detach().numpy(), 'k*')\n",
    "    # Predictive mean as blue line\n",
    "    y1_ax.plot(test_x.numpy(), mean[:, 0].numpy(), 'b')\n",
    "    # Shade in confidence\n",
    "    y1_ax.fill_between(test_x.numpy(), lower[:, 0].numpy(), upper[:, 0].numpy(), alpha=0.5)\n",
    "    y1_ax.set_ylim([-3, 3])\n",
    "    y1_ax.legend(['Observed Data', 'Mean', 'Confidence'])\n",
    "    y1_ax.set_title('Observed Values (Likelihood)')\n",
    "\n",
    "    # Plot training data as black stars\n",
    "    y2_ax.plot(train_x.detach().numpy(), train_y[:, 1].detach().numpy(), 'k*')\n",
    "    # Predictive mean as blue line\n",
    "    y2_ax.plot(test_x.numpy(), mean[:, 1].numpy(), 'b')\n",
    "    # Shade in confidence\n",
    "    y2_ax.fill_between(test_x.numpy(), lower[:, 1].numpy(), upper[:, 1].numpy(), alpha=0.5)\n",
    "    y2_ax.set_ylim([-3, 3])\n",
    "    y2_ax.legend(['Observed Data', 'Mean', 'Confidence'])\n",
    "    y2_ax.set_title('Observed Values (Likelihood)')"
   ]
  },
  {
   "cell_type": "code",
   "execution_count": null,
   "metadata": {},
   "outputs": [],
   "source": [
    "plt.plot(model.X.detach().numpy())\n",
    "#plt.plot(ang)\n",
    "plt.show()"
   ]
  },
  {
   "cell_type": "code",
   "execution_count": null,
   "metadata": {},
   "outputs": [],
   "source": []
  },
  {
   "cell_type": "code",
   "execution_count": 1,
   "metadata": {},
   "outputs": [
    {
     "name": "stdout",
     "output_type": "stream",
     "text": [
      "Number of sampled arrivals: 28\n"
     ]
    },
    {
     "data": {
      "image/png": "[encoded data removed]",
      "text/plain": [
       "<Figure size 432x288 with 1 Axes>"
      ]
     },
     "metadata": {
      "needs_background": "light"
     },
     "output_type": "display_data"
    }
   ],
   "source": [
    "%load_ext autoreload\n",
    "%autoreload 2\n",
    "\n",
    "import math\n",
    "import torch\n",
    "import gpytorch\n",
    "import pyro\n",
    "from tqdm.notebook import tqdm\n",
    "import matplotlib.pyplot as plt\n",
    "\n",
    "intensity_max = 20\n",
    "true_intensity_function = lambda times: torch.cos(times * 2 * math.pi).add(1).mul(intensity_max / 2.)\n",
    "\n",
    "max_time = 2\n",
    "quad_points = 256\n",
    "\n",
    "times = torch.linspace(0, max_time, quad_points)\n",
    "num_samples = int(pyro.distributions.Poisson(true_intensity_function(times).mean() * max_time).sample().item())\n",
    "print(f\"Number of sampled arrivals: {num_samples}\")\n",
    "\n",
    "def log_prob_accept(val):\n",
    "    intensities = true_intensity_function(val)\n",
    "    res = torch.log(intensities / (true_intensity_function(times).mean() * max_time))\n",
    "    return res\n",
    "\n",
    "arrival_times = pyro.distributions.Rejector(\n",
    "    propose=pyro.distributions.Uniform(times.min(), times.max()),\n",
    "    log_prob_accept=log_prob_accept,\n",
    "    log_scale=0.\n",
    ")(torch.Size([num_samples]))\n",
    "\n",
    "fig, ax = plt.subplots(1, 1)\n",
    "ax.plot(times, true_intensity_function(times), \"--\", label=r\"True $\\lambda$\")\n",
    "ax.set_xlabel(\"Time\")\n",
    "ax.set_ylabel(\"Intensity ($\\lambda$)\")\n",
    "ax.scatter(arrival_times, torch.zeros_like(arrival_times), label=r\"Observed Arrivals\")\n",
    "ax.legend(loc=\"best\")\n",
    "\n",
    "class GPModel(gpytorch.models.ApproximateGP):\n",
    "    def __init__(self, num_arrivals, max_time, num_inducing=32, name_prefix=\"cox_gp_model\"):\n",
    "        self.name_prefix = name_prefix\n",
    "        self.max_time = max_time\n",
    "        self.mean_intensity = (num_arrivals / max_time)\n",
    "\n",
    "        # Define the variational distribution and strategy of the GP\n",
    "        # We will initialize the inducing points to lie on a grid from 0 to T\n",
    "        inducing_points = torch.linspace(0, max_time, num_inducing).unsqueeze(-1).squeeze(0)\n",
    "        variational_distribution = gpytorch.variational.CholeskyVariationalDistribution(num_inducing_points=num_inducing)\n",
    "        variational_strategy = gpytorch.variational.VariationalStrategy(self, inducing_points, variational_distribution)\n",
    "\n",
    "        # Define model\n",
    "        super().__init__(variational_strategy=variational_strategy)\n",
    "        \n",
    "        batch_shape = torch.Size([1])\n",
    "\n",
    "        # Define mean and kernel\n",
    "        self.mean_module = gpytorch.means.ConstantMean(batch_shape=batch_shape)\n",
    "        self.covar_module = gpytorch.kernels.ScaleKernel(gpytorch.kernels.RBFKernel(batch_shape=batch_shape), batch_shape=batch_shape)\n",
    "\n",
    "    def forward(self, times):\n",
    "        mean = self.mean_module(times)\n",
    "        covar = self.covar_module(times)\n",
    "        return gpytorch.distributions.MultivariateNormal(mean, covar)\n",
    "\n",
    "    def guide(self, arrival_times, quadrature_times):\n",
    "        # Draw samples from q(f) at arrival_times\n",
    "        # Also draw samples from q(f) at evenly-spaced points (quadrature_times)\n",
    "        with pyro.plate(self.name_prefix + \".times_plate\", dim=-1):\n",
    "            pyro.sample(\n",
    "                self.name_prefix + \".function_samples\",\n",
    "                self.pyro_guide(torch.cat([arrival_times, quadrature_times], -1))\n",
    "            )\n",
    "\n",
    "    def model(self, arrival_times, quadrature_times):\n",
    "        pyro.module(self.name_prefix + \".gp\", self)\n",
    "\n",
    "        # Draw samples from p(f) at arrival times\n",
    "        # Also draw samples from p(f) at evenly-spaced points (quadrature_times)\n",
    "        with pyro.plate(self.name_prefix + \".times_plate\", dim=-1):\n",
    "            function_samples = pyro.sample(\n",
    "                self.name_prefix + \".function_samples\",\n",
    "                self.pyro_model(torch.cat([arrival_times, quadrature_times], -1))\n",
    "            )\n",
    "\n",
    "        ####\n",
    "        # Convert function samples into intensity samples, using the function above\n",
    "        ####\n",
    "        intensity_samples = function_samples.exp() * self.mean_intensity\n",
    "\n",
    "        # Divide the intensity samples into arrival_intensity_samples and quadrature_intensity_samples\n",
    "        arrival_intensity_samples, quadrature_intensity_samples = intensity_samples.split([\n",
    "            arrival_times.size(-1), quadrature_times.size(-1)\n",
    "        ], dim=-1)\n",
    "\n",
    "        ####\n",
    "        # Compute the log_likelihood, using the method described above\n",
    "        ####\n",
    "        arrival_log_intensities = arrival_intensity_samples.log().sum(dim=-1)\n",
    "        est_num_arrivals = quadrature_intensity_samples.mean(dim=-1).mul(self.max_time)\n",
    "        log_likelihood = arrival_log_intensities - est_num_arrivals\n",
    "        pyro.factor(self.name_prefix + \".log_likelihood\", log_likelihood)"
   ]
  },
  {
   "cell_type": "code",
   "execution_count": 7,
   "metadata": {},
   "outputs": [
    {
     "data": {
      "application/vnd.jupyter.widget-view+json": {
       "model_id": "c5346bafea824874acc046f4725fc674",
       "version_major": 2,
       "version_minor": 0
      },
      "text/plain": [
       "HBox(children=(FloatProgress(value=0.0, max=400.0), HTML(value='')))"
      ]
     },
     "metadata": {},
     "output_type": "display_data"
    },
    {
     "name": "stdout",
     "output_type": "stream",
     "text": [
      "\n"
     ]
    }
   ],
   "source": [
    "model = GPModel(arrival_times.numel(), max_time)\n",
    "quadrature_times = torch.linspace(0, max_time, 256)\n",
    "\n",
    "# this is for running the notebook in our testing framework\n",
    "num_iter = 400\n",
    "num_particles = 1\n",
    "\n",
    "\n",
    "def train(lr=0.01):\n",
    "    pyro.clear_param_store()\n",
    "    optimizer = pyro.optim.Adam({\"lr\": lr})\n",
    "    loss = pyro.infer.Trace_ELBO(num_particles=num_particles, vectorize_particles=False, retain_graph=True)\n",
    "    infer = pyro.infer.SVI(model.model, model.guide, optimizer, loss=loss)\n",
    "\n",
    "    model.train()\n",
    "    loader = tqdm(range(num_iter))\n",
    "    for i in loader:\n",
    "        loss = infer.step(arrival_times, quadrature_times)\n",
    "        loader.set_postfix(loss=loss)\n",
    "\n",
    "train()"
   ]
  },
  {
   "cell_type": "code",
   "execution_count": 9,
   "metadata": {},
   "outputs": [],
   "source": [
    "# Here's a quick helper function for getting smoothed percentile values from samples\n",
    "def percentiles_from_samples(samples, percentiles=[0.05, 0.5, 0.95]):\n",
    "    num_samples = samples.size(0)\n",
    "    samples = samples.sort(dim=0)[0]\n",
    "\n",
    "    # Get samples corresponding to percentile\n",
    "    percentile_samples = [samples[int(num_samples * percentile)] for percentile in percentiles]\n",
    "\n",
    "    # Smooth the samples\n",
    "    kernel = torch.full((1, 1, 5), fill_value=0.2)\n",
    "    percentiles_samples = [\n",
    "        torch.nn.functional.conv1d(percentile_sample.view(1, 1, -1), kernel, padding=2).view(-1)\n",
    "        for percentile_sample in percentile_samples\n",
    "    ]\n",
    "\n",
    "    return percentile_samples"
   ]
  },
  {
   "cell_type": "code",
   "execution_count": 10,
   "metadata": {},
   "outputs": [
    {
     "name": "stdout",
     "output_type": "stream",
     "text": [
      "torch.Size([1000, 1, 256])\n"
     ]
    },
    {
     "ename": "ValueError",
     "evalue": "Input passed into argument \"'y1'\"is not 1-dimensional.",
     "output_type": "error",
     "traceback": [
      "\u001b[0;31m---------------------------------------------------------------------------\u001b[0m",
      "\u001b[0;31mValueError\u001b[0m                                Traceback (most recent call last)",
      "\u001b[0;32m<ipython-input-10-cb351025550b>\u001b[0m in \u001b[0;36m<module>\u001b[0;34m\u001b[0m\n\u001b[1;32m     10\u001b[0m \u001b[0mfig\u001b[0m\u001b[0;34m,\u001b[0m \u001b[0max\u001b[0m \u001b[0;34m=\u001b[0m \u001b[0mplt\u001b[0m\u001b[0;34m.\u001b[0m\u001b[0msubplots\u001b[0m\u001b[0;34m(\u001b[0m\u001b[0;36m1\u001b[0m\u001b[0;34m,\u001b[0m \u001b[0;36m1\u001b[0m\u001b[0;34m)\u001b[0m\u001b[0;34m\u001b[0m\u001b[0;34m\u001b[0m\u001b[0m\n\u001b[1;32m     11\u001b[0m \u001b[0mline\u001b[0m\u001b[0;34m,\u001b[0m \u001b[0;34m=\u001b[0m \u001b[0max\u001b[0m\u001b[0;34m.\u001b[0m\u001b[0mplot\u001b[0m\u001b[0;34m(\u001b[0m\u001b[0mquadrature_times\u001b[0m\u001b[0;34m,\u001b[0m \u001b[0mmean\u001b[0m\u001b[0;34m[\u001b[0m\u001b[0;36m0\u001b[0m\u001b[0;34m]\u001b[0m\u001b[0;34m,\u001b[0m \u001b[0mlabel\u001b[0m\u001b[0;34m=\u001b[0m\u001b[0;34mr\"Pred. $\\lambda$\"\u001b[0m\u001b[0;34m)\u001b[0m\u001b[0;34m\u001b[0m\u001b[0;34m\u001b[0m\u001b[0m\n\u001b[0;32m---> 12\u001b[0;31m \u001b[0max\u001b[0m\u001b[0;34m.\u001b[0m\u001b[0mfill_between\u001b[0m\u001b[0;34m(\u001b[0m\u001b[0mquadrature_times\u001b[0m\u001b[0;34m,\u001b[0m \u001b[0mlower\u001b[0m\u001b[0;34m,\u001b[0m \u001b[0mupper\u001b[0m\u001b[0;34m,\u001b[0m \u001b[0mcolor\u001b[0m\u001b[0;34m=\u001b[0m\u001b[0mline\u001b[0m\u001b[0;34m.\u001b[0m\u001b[0mget_color\u001b[0m\u001b[0;34m(\u001b[0m\u001b[0;34m)\u001b[0m\u001b[0;34m,\u001b[0m \u001b[0malpha\u001b[0m\u001b[0;34m=\u001b[0m\u001b[0;36m0.5\u001b[0m\u001b[0;34m)\u001b[0m\u001b[0;34m\u001b[0m\u001b[0;34m\u001b[0m\u001b[0m\n\u001b[0m\u001b[1;32m     13\u001b[0m \u001b[0max\u001b[0m\u001b[0;34m.\u001b[0m\u001b[0mplot\u001b[0m\u001b[0;34m(\u001b[0m\u001b[0mquadrature_times\u001b[0m\u001b[0;34m,\u001b[0m \u001b[0mtrue_intensity_function\u001b[0m\u001b[0;34m(\u001b[0m\u001b[0mquadrature_times\u001b[0m\u001b[0;34m)\u001b[0m\u001b[0;34m,\u001b[0m \u001b[0;34m\"--\"\u001b[0m\u001b[0;34m,\u001b[0m \u001b[0mcolor\u001b[0m\u001b[0;34m=\u001b[0m\u001b[0;34m\"k\"\u001b[0m\u001b[0;34m,\u001b[0m \u001b[0mlabel\u001b[0m\u001b[0;34m=\u001b[0m\u001b[0;34mr\"True $\\lambda$\"\u001b[0m\u001b[0;34m)\u001b[0m\u001b[0;34m\u001b[0m\u001b[0;34m\u001b[0m\u001b[0m\n\u001b[1;32m     14\u001b[0m \u001b[0max\u001b[0m\u001b[0;34m.\u001b[0m\u001b[0mlegend\u001b[0m\u001b[0;34m(\u001b[0m\u001b[0mloc\u001b[0m\u001b[0;34m=\u001b[0m\u001b[0;34m\"best\"\u001b[0m\u001b[0;34m)\u001b[0m\u001b[0;34m\u001b[0m\u001b[0;34m\u001b[0m\u001b[0m\n",
      "\u001b[0;32m~/.local/lib/python3.6/site-packages/matplotlib/__init__.py\u001b[0m in \u001b[0;36minner\u001b[0;34m(ax, data, *args, **kwargs)\u001b[0m\n\u001b[1;32m   1597\u001b[0m     \u001b[0;32mdef\u001b[0m \u001b[0minner\u001b[0m\u001b[0;34m(\u001b[0m\u001b[0max\u001b[0m\u001b[0;34m,\u001b[0m \u001b[0;34m*\u001b[0m\u001b[0margs\u001b[0m\u001b[0;34m,\u001b[0m \u001b[0mdata\u001b[0m\u001b[0;34m=\u001b[0m\u001b[0;32mNone\u001b[0m\u001b[0;34m,\u001b[0m \u001b[0;34m**\u001b[0m\u001b[0mkwargs\u001b[0m\u001b[0;34m)\u001b[0m\u001b[0;34m:\u001b[0m\u001b[0;34m\u001b[0m\u001b[0;34m\u001b[0m\u001b[0m\n\u001b[1;32m   1598\u001b[0m         \u001b[0;32mif\u001b[0m \u001b[0mdata\u001b[0m \u001b[0;32mis\u001b[0m \u001b[0;32mNone\u001b[0m\u001b[0;34m:\u001b[0m\u001b[0;34m\u001b[0m\u001b[0;34m\u001b[0m\u001b[0m\n\u001b[0;32m-> 1599\u001b[0;31m             \u001b[0;32mreturn\u001b[0m \u001b[0mfunc\u001b[0m\u001b[0;34m(\u001b[0m\u001b[0max\u001b[0m\u001b[0;34m,\u001b[0m \u001b[0;34m*\u001b[0m\u001b[0mmap\u001b[0m\u001b[0;34m(\u001b[0m\u001b[0msanitize_sequence\u001b[0m\u001b[0;34m,\u001b[0m \u001b[0margs\u001b[0m\u001b[0;34m)\u001b[0m\u001b[0;34m,\u001b[0m \u001b[0;34m**\u001b[0m\u001b[0mkwargs\u001b[0m\u001b[0;34m)\u001b[0m\u001b[0;34m\u001b[0m\u001b[0;34m\u001b[0m\u001b[0m\n\u001b[0m\u001b[1;32m   1600\u001b[0m \u001b[0;34m\u001b[0m\u001b[0m\n\u001b[1;32m   1601\u001b[0m         \u001b[0mbound\u001b[0m \u001b[0;34m=\u001b[0m \u001b[0mnew_sig\u001b[0m\u001b[0;34m.\u001b[0m\u001b[0mbind\u001b[0m\u001b[0;34m(\u001b[0m\u001b[0max\u001b[0m\u001b[0;34m,\u001b[0m \u001b[0;34m*\u001b[0m\u001b[0margs\u001b[0m\u001b[0;34m,\u001b[0m \u001b[0;34m**\u001b[0m\u001b[0mkwargs\u001b[0m\u001b[0;34m)\u001b[0m\u001b[0;34m\u001b[0m\u001b[0;34m\u001b[0m\u001b[0m\n",
      "\u001b[0;32m~/.local/lib/python3.6/site-packages/matplotlib/axes/_axes.py\u001b[0m in \u001b[0;36mfill_between\u001b[0;34m(self, x, y1, y2, where, interpolate, step, **kwargs)\u001b[0m\n\u001b[1;32m   5237\u001b[0m             \u001b[0;32mif\u001b[0m \u001b[0marray\u001b[0m\u001b[0;34m.\u001b[0m\u001b[0mndim\u001b[0m \u001b[0;34m>\u001b[0m \u001b[0;36m1\u001b[0m\u001b[0;34m:\u001b[0m\u001b[0;34m\u001b[0m\u001b[0;34m\u001b[0m\u001b[0m\n\u001b[1;32m   5238\u001b[0m                 raise ValueError('Input passed into argument \"%r\"' % name +\n\u001b[0;32m-> 5239\u001b[0;31m                                  'is not 1-dimensional.')\n\u001b[0m\u001b[1;32m   5240\u001b[0m \u001b[0;34m\u001b[0m\u001b[0m\n\u001b[1;32m   5241\u001b[0m         \u001b[0;32mif\u001b[0m \u001b[0mwhere\u001b[0m \u001b[0;32mis\u001b[0m \u001b[0;32mNone\u001b[0m\u001b[0;34m:\u001b[0m\u001b[0;34m\u001b[0m\u001b[0;34m\u001b[0m\u001b[0m\n",
      "\u001b[0;31mValueError\u001b[0m: Input passed into argument \"'y1'\"is not 1-dimensional."
     ]
    },
    {
     "data": {
      "image/png": "[encoded data removed]",
      "text/plain": [
       "<Figure size 432x288 with 1 Axes>"
      ]
     },
     "metadata": {
      "needs_background": "light"
     },
     "output_type": "display_data"
    }
   ],
   "source": [
    "# Get the average predicted intensity function, and the intensity confidence region\n",
    "model.eval()\n",
    "with torch.no_grad():\n",
    "    function_dist = model(quadrature_times)\n",
    "    intensity_samples = function_dist(torch.Size([1000])).exp() * model.mean_intensity\n",
    "    print(intensity_samples.shape)\n",
    "    lower, mean, upper = percentiles_from_samples(intensity_samples)\n",
    "\n",
    "# Plot the predicted intensity function\n",
    "fig, ax = plt.subplots(1, 1)\n",
    "line, = ax.plot(quadrature_times, mean[0], label=r\"Pred. $\\lambda$\")\n",
    "ax.fill_between(quadrature_times, lower, upper, color=line.get_color(), alpha=0.5)\n",
    "ax.plot(quadrature_times, true_intensity_function(quadrature_times), \"--\", color=\"k\", label=r\"True $\\lambda$\")\n",
    "ax.legend(loc=\"best\")\n",
    "ax.set_xlabel(\"Time\")\n",
    "ax.set_ylabel(\"Intensity ($\\lambda$)\")\n",
    "ax.scatter(arrival_times, torch.zeros_like(arrival_times), label=r\"Observed Arrivals\")"
   ]
  },
  {
   "cell_type": "code",
   "execution_count": null,
   "metadata": {},
   "outputs": [],
   "source": []
  },
  {
   "cell_type": "code",
   "execution_count": 1,
   "metadata": {},
   "outputs": [
    {
     "data": {
      "application/vnd.jupyter.widget-view+json": {
       "model_id": "4fb9395da724490faecb940c0e1e52e7",
       "version_major": 2,
       "version_minor": 0
      },
      "text/plain": [
       "HBox(children=(FloatProgress(value=0.0, max=1000.0), HTML(value='')))"
      ]
     },
     "metadata": {},
     "output_type": "display_data"
    },
    {
     "ename": "KeyboardInterrupt",
     "evalue": "",
     "output_type": "error",
     "traceback": [
      "\u001b[0;31m---------------------------------------------------------------------------\u001b[0m",
      "\u001b[0;31mKeyboardInterrupt\u001b[0m                         Traceback (most recent call last)",
      "\u001b[0;32m<ipython-input-1-2900159aac4b>\u001b[0m in \u001b[0;36m<module>\u001b[0;34m\u001b[0m\n\u001b[1;32m    157\u001b[0m \u001b[0mmodel\u001b[0m \u001b[0;34m=\u001b[0m \u001b[0mPVGPRegressionModel\u001b[0m\u001b[0;34m(\u001b[0m\u001b[0;34m)\u001b[0m\u001b[0;34m\u001b[0m\u001b[0;34m\u001b[0m\u001b[0m\n\u001b[1;32m    158\u001b[0m \u001b[0mmodel\u001b[0m\u001b[0;34m.\u001b[0m\u001b[0mpreprocess\u001b[0m\u001b[0;34m(\u001b[0m\u001b[0mtorch\u001b[0m\u001b[0;34m.\u001b[0m\u001b[0msplit\u001b[0m\u001b[0;34m(\u001b[0m\u001b[0mtrain_x\u001b[0m\u001b[0;34m,\u001b[0m \u001b[0;36m100\u001b[0m\u001b[0;34m)\u001b[0m\u001b[0;34m,\u001b[0m \u001b[0mtorch\u001b[0m\u001b[0;34m.\u001b[0m\u001b[0msplit\u001b[0m\u001b[0;34m(\u001b[0m\u001b[0mtrain_y\u001b[0m\u001b[0;34m,\u001b[0m \u001b[0;36m100\u001b[0m\u001b[0;34m)\u001b[0m\u001b[0;34m)\u001b[0m\u001b[0;34m\u001b[0m\u001b[0;34m\u001b[0m\u001b[0m\n\u001b[0;32m--> 159\u001b[0;31m \u001b[0mmodel\u001b[0m\u001b[0;34m.\u001b[0m\u001b[0mfit\u001b[0m\u001b[0;34m(\u001b[0m\u001b[0;34m)\u001b[0m\u001b[0;34m\u001b[0m\u001b[0;34m\u001b[0m\u001b[0m\n\u001b[0m\u001b[1;32m    160\u001b[0m \u001b[0;34m\u001b[0m\u001b[0m\n\u001b[1;32m    161\u001b[0m \"\"\"\n",
      "\u001b[0;32m<ipython-input-1-2900159aac4b>\u001b[0m in \u001b[0;36mfit\u001b[0;34m(self)\u001b[0m\n\u001b[1;32m    149\u001b[0m                 \u001b[0moptimizer\u001b[0m\u001b[0;34m.\u001b[0m\u001b[0mzero_grad\u001b[0m\u001b[0;34m(\u001b[0m\u001b[0;34m)\u001b[0m\u001b[0;34m\u001b[0m\u001b[0;34m\u001b[0m\u001b[0m\n\u001b[1;32m    150\u001b[0m                 \u001b[0mloss\u001b[0m \u001b[0;34m=\u001b[0m \u001b[0mloss_fn\u001b[0m\u001b[0;34m(\u001b[0m\u001b[0mself\u001b[0m\u001b[0;34m.\u001b[0m\u001b[0mmodel\u001b[0m\u001b[0;34m,\u001b[0m \u001b[0mself\u001b[0m\u001b[0;34m.\u001b[0m\u001b[0mguide\u001b[0m\u001b[0;34m,\u001b[0m \u001b[0mb\u001b[0m\u001b[0;34m)\u001b[0m\u001b[0;34m\u001b[0m\u001b[0;34m\u001b[0m\u001b[0m\n\u001b[0;32m--> 151\u001b[0;31m                 \u001b[0mloss\u001b[0m\u001b[0;34m.\u001b[0m\u001b[0mbackward\u001b[0m\u001b[0;34m(\u001b[0m\u001b[0mretain_graph\u001b[0m\u001b[0;34m=\u001b[0m\u001b[0;32mTrue\u001b[0m\u001b[0;34m)\u001b[0m\u001b[0;34m\u001b[0m\u001b[0;34m\u001b[0m\u001b[0m\n\u001b[0m\u001b[1;32m    152\u001b[0m                 \u001b[0moptimizer\u001b[0m\u001b[0;34m.\u001b[0m\u001b[0mstep\u001b[0m\u001b[0;34m(\u001b[0m\u001b[0;34m)\u001b[0m\u001b[0;34m\u001b[0m\u001b[0;34m\u001b[0m\u001b[0m\n\u001b[1;32m    153\u001b[0m \u001b[0;34m\u001b[0m\u001b[0m\n",
      "\u001b[0;32m~/.local/lib/python3.6/site-packages/torch/tensor.py\u001b[0m in \u001b[0;36mbackward\u001b[0;34m(self, gradient, retain_graph, create_graph)\u001b[0m\n\u001b[1;32m    196\u001b[0m                 \u001b[0mproducts\u001b[0m\u001b[0;34m.\u001b[0m \u001b[0mDefaults\u001b[0m \u001b[0mto\u001b[0m\u001b[0;31m \u001b[0m\u001b[0;31m`\u001b[0m\u001b[0;31m`\u001b[0m\u001b[0;32mFalse\u001b[0m\u001b[0;31m`\u001b[0m\u001b[0;31m`\u001b[0m\u001b[0;34m.\u001b[0m\u001b[0;34m\u001b[0m\u001b[0;34m\u001b[0m\u001b[0m\n\u001b[1;32m    197\u001b[0m         \"\"\"\n\u001b[0;32m--> 198\u001b[0;31m         \u001b[0mtorch\u001b[0m\u001b[0;34m.\u001b[0m\u001b[0mautograd\u001b[0m\u001b[0;34m.\u001b[0m\u001b[0mbackward\u001b[0m\u001b[0;34m(\u001b[0m\u001b[0mself\u001b[0m\u001b[0;34m,\u001b[0m \u001b[0mgradient\u001b[0m\u001b[0;34m,\u001b[0m \u001b[0mretain_graph\u001b[0m\u001b[0;34m,\u001b[0m \u001b[0mcreate_graph\u001b[0m\u001b[0;34m)\u001b[0m\u001b[0;34m\u001b[0m\u001b[0;34m\u001b[0m\u001b[0m\n\u001b[0m\u001b[1;32m    199\u001b[0m \u001b[0;34m\u001b[0m\u001b[0m\n\u001b[1;32m    200\u001b[0m     \u001b[0;32mdef\u001b[0m \u001b[0mregister_hook\u001b[0m\u001b[0;34m(\u001b[0m\u001b[0mself\u001b[0m\u001b[0;34m,\u001b[0m \u001b[0mhook\u001b[0m\u001b[0;34m)\u001b[0m\u001b[0;34m:\u001b[0m\u001b[0;34m\u001b[0m\u001b[0;34m\u001b[0m\u001b[0m\n",
      "\u001b[0;32m~/.local/lib/python3.6/site-packages/torch/autograd/__init__.py\u001b[0m in \u001b[0;36mbackward\u001b[0;34m(tensors, grad_tensors, retain_graph, create_graph, grad_variables)\u001b[0m\n\u001b[1;32m     98\u001b[0m     Variable._execution_engine.run_backward(\n\u001b[1;32m     99\u001b[0m         \u001b[0mtensors\u001b[0m\u001b[0;34m,\u001b[0m \u001b[0mgrad_tensors\u001b[0m\u001b[0;34m,\u001b[0m \u001b[0mretain_graph\u001b[0m\u001b[0;34m,\u001b[0m \u001b[0mcreate_graph\u001b[0m\u001b[0;34m,\u001b[0m\u001b[0;34m\u001b[0m\u001b[0;34m\u001b[0m\u001b[0m\n\u001b[0;32m--> 100\u001b[0;31m         allow_unreachable=True)  # allow_unreachable flag\n\u001b[0m\u001b[1;32m    101\u001b[0m \u001b[0;34m\u001b[0m\u001b[0m\n\u001b[1;32m    102\u001b[0m \u001b[0;34m\u001b[0m\u001b[0m\n",
      "\u001b[0;31mKeyboardInterrupt\u001b[0m: "
     ]
    },
    {
     "data": {
      "image/png": "[encoded data removed]",
      "text/plain": [
       "<Figure size 720x216 with 2 Axes>"
      ]
     },
     "metadata": {
      "needs_background": "light"
     },
     "output_type": "display_data"
    }
   ],
   "source": [
    "import math\n",
    "import torch\n",
    "import gpytorch\n",
    "import pyro\n",
    "import tqdm\n",
    "import matplotlib.pyplot as plt\n",
    "import numpy as np\n",
    "\n",
    "# Here we specify a 'true' latent function lambda\n",
    "scale = lambda x: np.sin(2 * math.pi * x) + 1\n",
    "\n",
    "# Generate synthetic data\n",
    "# here we generate some synthetic samples\n",
    "NSamp = 100\n",
    "\n",
    "X = np.linspace(0, 1, NSamp)\n",
    "\n",
    "fig, (lambdaf, samples) = plt.subplots(1, 2, figsize=(10, 3))\n",
    "\n",
    "lambdaf.plot(X,scale(X))\n",
    "lambdaf.set_xlabel('x')\n",
    "lambdaf.set_ylabel('$\\lambda$')\n",
    "lambdaf.set_title('Latent function')\n",
    "\n",
    "Y = np.zeros_like(X)\n",
    "for i,x in enumerate(X):\n",
    "    Y[i] = np.random.exponential(scale(x), 1)\n",
    "samples.scatter(X,Y)\n",
    "samples.set_xlabel('x')\n",
    "samples.set_ylabel('y')\n",
    "samples.set_title('Samples from exp. distrib.')\n",
    "\n",
    "train_x = torch.tensor(X).float()\n",
    "train_y = torch.tensor(Y).float()\n",
    "\n",
    "class PVGPRegressionModel(gpytorch.Module):\n",
    "    def __init__(self, num_inducing=64, name_prefix=\"mixture_gp\"):\n",
    "        gpytorch.Module.__init__(self)\n",
    "        self.name_prefix = name_prefix\n",
    "\n",
    "        # Define all the variational stuff\n",
    "        inducing_points = torch.linspace(0, 1, num_inducing)\n",
    "        self.variational_strategy = gpytorch.variational.VariationalStrategy(\n",
    "            self, inducing_points,\n",
    "            gpytorch.variational.CholeskyVariationalDistribution(num_inducing_points=num_inducing)\n",
    "        )\n",
    "\n",
    "        # Mean, covar, likelihood\n",
    "        self.mean_module = gpytorch.means.ConstantMean()\n",
    "        self.covar_module = gpytorch.kernels.ScaleKernel(gpytorch.kernels.RBFKernel())\n",
    "\n",
    "    def __call__(self, inputs, prior=False, **kwargs):\n",
    "        if inputs.dim() == 1:\n",
    "            inputs = inputs.unsqueeze(-1)\n",
    "        return self.variational_strategy(inputs, prior=prior)\n",
    "        \n",
    "    def forward(self, x):\n",
    "        mean = self.mean_module(x)\n",
    "        covar = self.covar_module(x)\n",
    "        return gpytorch.distributions.MultivariateNormal(mean, covar)\n",
    "\n",
    "    def pyro_guide(self, input, beta=1.0, name_prefix=\"\"):\n",
    "        # Inducing values q(u)\n",
    "        with pyro.poutine.scale(scale=beta):\n",
    "            pyro.sample(name_prefix + \".u\", self.variational_strategy.variational_distribution)\n",
    "\n",
    "        # Draw samples from q(f)\n",
    "        function_dist = self(input, prior=False)\n",
    "        #function_dist = pyro.distributions.Normal(loc=function_dist.mean, scale=function_dist.stddev).to_event(1)\n",
    "        return pyro.distributions.Normal(loc=function_dist.mean, scale=function_dist.stddev).to_event(len(function_dist.event_shape) - 1).mask(False)\n",
    "        #return pyro.distributions.MultivariateNormal(function_dist.mean, \\\n",
    "        #                                             covariance_matrix=function_dist.covariance_matrix)#.to_event(1)#function_dist.mask(False)\n",
    "\n",
    "    def pyro_model(self, input, beta=1.0, name_prefix=\"\"):\n",
    "        # Inducing values p(u)\n",
    "        with pyro.poutine.scale(scale=beta):\n",
    "            u_samples = pyro.sample(name_prefix + \".u\", self.variational_strategy.prior_distribution)\n",
    "\n",
    "        # Include term for GPyTorch priors\n",
    "        log_prior = torch.tensor(0.0, dtype=u_samples.dtype, device=u_samples.device)\n",
    "        for _, prior, closure, _ in self.named_priors():\n",
    "            log_prior.add_(prior.log_prob(closure()).sum().div(self.num_data))\n",
    "        pyro.factor(name_prefix + \".log_prior\", log_prior)\n",
    "\n",
    "        # Include factor for added loss terms\n",
    "        added_loss = torch.tensor(0.0, dtype=u_samples.dtype, device=u_samples.device)\n",
    "        for added_loss_term in self.added_loss_terms():\n",
    "            added_loss.add_(added_loss_term.loss())\n",
    "        pyro.factor(name_prefix + \".added_loss\", added_loss)\n",
    "\n",
    "        # Draw samples from p(f)\n",
    "        function_dist = self(input, prior=True)\n",
    "        return pyro.distributions.Normal(loc=function_dist.mean, scale=function_dist.stddev).to_event(len(function_dist.event_shape) - 1).mask(False)\n",
    "        #return pyro.distributions.MultivariateNormal(function_dist.mean, \\\n",
    "        #                                             covariance_matrix=function_dist.covariance_matrix)#.to_event(1)#function_dist.mask(False)\n",
    "\n",
    "    \n",
    "    def guide(self, b):\n",
    "        # Get q(f) - variational (guide) distribution of latent function\n",
    "        function_dist = self.pyro_guide(self.x[b])\n",
    "\n",
    "        # Use a plate here to mark conditional independencies\n",
    "        with pyro.plate(self.name_prefix + \".data_plate\", dim=-1):\n",
    "            # Sample from latent function distribution\n",
    "            pyro.sample(self.name_prefix + \".f(x)\", function_dist)\n",
    "\n",
    "    def model(self, b):\n",
    "        pyro.module(self.name_prefix + \".gp\", self)\n",
    "\n",
    "        # Get p(f) - prior distribution of latent function\n",
    "        function_dist = self.pyro_model(self.x[b])\n",
    "\n",
    "        # Use a plate here to mark conditional independencies\n",
    "        with pyro.plate(self.name_prefix + \".data_plate\", dim=-1):\n",
    "            # Sample from latent function distribution\n",
    "            function_samples = pyro.sample(self.name_prefix + \".f(x)\", function_dist)\n",
    "\n",
    "            # Use the link function to convert GP samples into scale samples\n",
    "            scale_samples = function_samples.exp()\n",
    "\n",
    "            # Sample from observed distribution\n",
    "            pyro.sample(\n",
    "                self.name_prefix + \".y\",\n",
    "                pyro.distributions.Exponential(scale_samples.reciprocal()),  # rate = 1 / scale\n",
    "                obs=self.y[b]\n",
    "            )\n",
    "            \n",
    "    def preprocess(self, x, y):\n",
    "        self.x = x\n",
    "        self.y = y\n",
    "        self.batches = len(x)\n",
    "            \n",
    "    def fit(self):\n",
    "        # this is for running the notebook in our testing framework\n",
    "        num_iter = 200\n",
    "        num_particles = 1024\n",
    "\n",
    "        pyro.clear_param_store()\n",
    "        optimizer = torch.optim.Adam(list(self.parameters()), lr=0.005)\n",
    "        loss_fn = pyro.infer.Trace_ELBO(num_particles=num_particles, vectorize_particles=True, retain_graph=True).differentiable_loss\n",
    "        #loss_fn = pyro.infer.TraceMeanField_ELBO().differentiable_loss\n",
    "        losses = []\n",
    "        num_iter = 1000\n",
    "        intv = 50\n",
    "        iterator = tqdm.autonotebook.tqdm(range(num_iter))\n",
    "        for i in iterator:\n",
    "            for b in range(self.batches):\n",
    "                optimizer.zero_grad()\n",
    "                loss = loss_fn(self.model, self.guide, b)\n",
    "                loss.backward(retain_graph=True)\n",
    "                optimizer.step()\n",
    "\n",
    "            iterator.set_postfix(loss=loss)\n",
    "            losses.append(loss.item())\n",
    "        \n",
    "model = PVGPRegressionModel()\n",
    "model.preprocess(torch.split(train_x, 100), torch.split(train_y, 100))\n",
    "model.fit()\n",
    "\n",
    "\"\"\"\n",
    "def train():\n",
    "    optimizer = pyro.optim.Adam({\"lr\": 0.01})\n",
    "    elbo = pyro.infer.Trace_ELBO(num_particles=num_particles, vectorize_particles=True, retain_graph=True)\n",
    "    svi = pyro.infer.SVI(model.model, model.guide, optimizer, elbo)\n",
    "\n",
    "    model.train()\n",
    "    iterator = tqdm.tqdm(range(num_iter))\n",
    "    for i in iterator:\n",
    "        model.zero_grad()\n",
    "        loss = svi.step(train_x, train_y)\n",
    "        iterator.set_postfix(loss=loss, lengthscale=model.covar_module.base_kernel.lengthscale.item())\n",
    "\n",
    "%time train()\"\"\""
   ]
  },
  {
   "cell_type": "code",
   "execution_count": 7,
   "metadata": {},
   "outputs": [
    {
     "name": "stdout",
     "output_type": "stream",
     "text": [
      "torch.Size([1000, 200])\n"
     ]
    },
    {
     "data": {
      "text/plain": [
       "<matplotlib.legend.Legend at 0x7fe75316dcf8>"
      ]
     },
     "execution_count": 7,
     "metadata": {},
     "output_type": "execute_result"
    },
    {
     "data": {
      "image/png": "[encoded data removed]",
      "text/plain": [
       "<Figure size 864x216 with 2 Axes>"
      ]
     },
     "metadata": {
      "needs_background": "light"
     },
     "output_type": "display_data"
    }
   ],
   "source": [
    "#plt.plot(losses)\n",
    "#plt.show()\n",
    "\n",
    "# define test set (optionally on GPU)\n",
    "denser = 2 # make test set 2 times denser then the training set\n",
    "test_x = torch.linspace(0, 1, denser * NSamp).float()#.cuda()\n",
    "\n",
    "model.eval()\n",
    "with torch.no_grad():\n",
    "    output = model(test_x)\n",
    "\n",
    "# Get E[exp(f)] via f_i ~ GP, 1/n \\sum_{i=1}^{n} exp(f_i).\n",
    "# Similarly get the 5th and 95th percentiles\n",
    "samples = output(torch.Size([1000])).exp()\n",
    "lower, mean, upper = percentiles_from_samples(samples)\n",
    "print(samples.shape)\n",
    "\n",
    "# Draw some simulated y values\n",
    "scale_sim = model(train_x)().exp()\n",
    "y_sim = pyro.distributions.Exponential(scale_sim.reciprocal())()\n",
    "\n",
    "# visualize the result\n",
    "fig, (func, samp) = plt.subplots(1, 2, figsize=(12, 3))\n",
    "line, = func.plot(test_x, mean.detach().cpu().numpy(), label='GP prediction')\n",
    "func.fill_between(\n",
    "    test_x, lower.detach().cpu().numpy(),\n",
    "    upper.detach().cpu().numpy(), color=line.get_color(), alpha=0.5\n",
    ")\n",
    "\n",
    "func.plot(test_x, scale(test_x), label='True latent function')\n",
    "func.legend()\n",
    "\n",
    "# sample from p(y|D,x) = \\int p(y|f) p(f|D,x) df (doubly stochastic)\n",
    "samp.scatter(train_x, train_y, alpha = 0.5, label='True train data')\n",
    "samp.scatter(train_x, y_sim.cpu().detach().numpy(), alpha=0.5, label='Sample from the model')\n",
    "samp.legend()"
   ]
  },
  {
   "cell_type": "code",
   "execution_count": null,
   "metadata": {},
   "outputs": [],
   "source": []
  }
 ],
 "metadata": {
  "kernelspec": {
   "display_name": "Python 3",
   "language": "python",
   "name": "python3"
  },
  "language_info": {
   "codemirror_mode": {
    "name": "ipython",
    "version": 3
   },
   "file_extension": ".py",
   "mimetype": "text/x-python",
   "name": "python",
   "nbconvert_exporter": "python",
   "pygments_lexer": "ipython3",
   "version": "3.6.9"
  }
 },
 "nbformat": 4,
 "nbformat_minor": 4
}
