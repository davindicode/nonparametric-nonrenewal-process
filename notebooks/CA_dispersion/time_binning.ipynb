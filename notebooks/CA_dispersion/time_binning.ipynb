{
 "cells": [
  {
   "cell_type": "code",
   "execution_count": 1,
   "metadata": {},
   "outputs": [
    {
     "name": "stdout",
     "output_type": "stream",
     "text": [
      "PyTorch version: 1.7.1+cu101\n",
      "Using device: cuda:0\n"
     ]
    }
   ],
   "source": [
    "%load_ext autoreload\n",
    "%autoreload 2\n",
    "\n",
    "import torch\n",
    "import torch.nn as nn\n",
    "from torch.nn.parameter import Parameter\n",
    "import torch.nn.functional as F\n",
    "import torch.optim as optim\n",
    "\n",
    "import matplotlib.pyplot as plt\n",
    "\n",
    "import numpy as np\n",
    "import random\n",
    "\n",
    "import sys\n",
    "sys.path.append(\"../../../neuroprob/\")\n",
    "\n",
    "import neuroprob as mdl\n",
    "from neuroprob import utils\n",
    "\n",
    "\n",
    "import pickle\n",
    "\n",
    "\n",
    "dev = utils.pytorch.get_device()\n",
    "\n",
    "\n",
    "\n",
    "plt.style.use(['paper.mplstyle'])"
   ]
  },
  {
   "cell_type": "code",
   "execution_count": null,
   "metadata": {},
   "outputs": [],
   "source": []
  },
  {
   "cell_type": "markdown",
   "metadata": {},
   "source": [
    "### Data preparation"
   ]
  },
  {
   "cell_type": "code",
   "execution_count": 3,
   "metadata": {},
   "outputs": [],
   "source": [
    "sample_bin, track_samples, x_t, y_t, emp_s_t, dir_t, \\\n",
    "    hd_t, eeg_t, theta_t, pause_ind, pause_size, \\\n",
    "    sep_t_spike, clu_id, t_spike, spike_samples, units, \\\n",
    "    shank_id, local_clu, FR_waveshape, SpkWidthC, \\\n",
    "    refract_viol, isolation_dist, \\\n",
    "    left_x, right_x, bottom_y, top_y = pickle.load(open('../data/datasets/hc5_13.p', 'rb'))\n"
   ]
  },
  {
   "cell_type": "code",
   "execution_count": 15,
   "metadata": {},
   "outputs": [],
   "source": [
    "vx_t = (x_t[1:]-x_t[:-1])/sample_bin\n",
    "vy_t = (y_t[1:]-y_t[:-1])/sample_bin\n",
    "\n",
    "s_t = np.sqrt(vx_t**2 + vy_t**2)\n",
    "\n",
    "max_speed = s_t.max()\n",
    "wrap_theta_t = utils.signal.WrapPi(theta_t, True)\n",
    "behav_data = (x_t, y_t, wrap_theta_t)\n",
    "\n",
    "\n",
    "left_a = x_t.min()\n",
    "right_a = x_t.max()\n",
    "bottom_a = y_t.min()\n",
    "top_a = y_t.max()"
   ]
  },
  {
   "cell_type": "code",
   "execution_count": 9,
   "metadata": {},
   "outputs": [],
   "source": [
    "# Fit to subset of neurons\n",
    "unit_used = np.arange(30)\n",
    "units_used = len(unit_used)\n",
    "used_t_spike = [sep_t_spike[u] for u in unit_used]\n",
    "#behav_data = (x_t, y_t, wrap_theta_t)\n",
    "\n",
    "\n",
    "bin_size = 1\n",
    "tbin, _, syn_train, _ = utils.neural.bin_data(bin_size, sample_bin, used_t_spike, track_samples)\n",
    "\n",
    "neurons = syn_train.shape[0]\n",
    "#track_samples = syn_train.shape[-1]"
   ]
  },
  {
   "cell_type": "code",
   "execution_count": 11,
   "metadata": {},
   "outputs": [],
   "source": [
    "# rebin data\n",
    "datasets = []\n",
    "bin_sizes = [10, 20, 30, 50, 70, 100, 125, 200, 400]\n",
    "\n",
    "for bin_size in bin_sizes:\n",
    "    tbin, resamples, rc_t, rbehav = utils.neural.bin_data(bin_size, sample_bin, used_t_spike, \n",
    "                                                          track_samples, behav_data, average_behav=False, binned=False)\n",
    "    \n",
    "    datasets.append((tbin, resamples, rc_t, rbehav))\n"
   ]
  },
  {
   "cell_type": "code",
   "execution_count": null,
   "metadata": {},
   "outputs": [],
   "source": []
  },
  {
   "cell_type": "code",
   "execution_count": null,
   "metadata": {},
   "outputs": [],
   "source": []
  },
  {
   "cell_type": "code",
   "execution_count": 20,
   "metadata": {},
   "outputs": [],
   "source": []
  },
  {
   "cell_type": "code",
   "execution_count": null,
   "metadata": {},
   "outputs": [],
   "source": []
  },
  {
   "cell_type": "code",
   "execution_count": null,
   "metadata": {},
   "outputs": [],
   "source": [
    "binnings = 10\n",
    "folds = 5\n",
    "\n",
    "\n",
    "fit_set, valid_set = neural_utils.SpikeTrainCV(folds, used_t_spike, track_samples, behav_data)\n",
    "cv_set = []\n",
    "for f, v in zip(fit_set, valid_set):\n",
    "    _, v_size, v_spk, _ = \\\n",
    "            neural_utils.BinTrain(bin_size, sample_bin, v[0], len(v[1][0]), _)\n",
    "    cv_set.append((f[1], f[0], v[1], v_spk, v_size))\n",
    "    "
   ]
  },
  {
   "cell_type": "code",
   "execution_count": null,
   "metadata": {},
   "outputs": [],
   "source": []
  },
  {
   "cell_type": "markdown",
   "metadata": {},
   "source": [
    "### Model fitting"
   ]
  },
  {
   "cell_type": "code",
   "execution_count": 12,
   "metadata": {},
   "outputs": [],
   "source": [
    "loss_arr = []"
   ]
  },
  {
   "cell_type": "code",
   "execution_count": null,
   "metadata": {
    "scrolled": true
   },
   "outputs": [
    {
     "data": {
      "application/vnd.jupyter.widget-view+json": {
       "model_id": "9a096365458a4da7b9984f6c25025af0",
       "version_major": 2,
       "version_minor": 0
      },
      "text/plain": [
       "HBox(children=(FloatProgress(value=0.0, max=3000.0), HTML(value='')))"
      ]
     },
     "metadata": {},
     "output_type": "display_data"
    }
   ],
   "source": [
    "for dd in datasets:\n",
    "    tbin, resamples, rc_t, rbehav = dd\n",
    "    rx_t, ry_t, rwrap_theta_t = rbehav\n",
    "    ini_X = [rx_t, ry_t, rwrap_theta_t]\n",
    "\n",
    "    \n",
    "    # GP model\n",
    "    l = 10.*np.array([np.ones(2)]).T\n",
    "    l_ang = 4.*np.array([np.ones(1)])\n",
    "    v = np.ones(neurons)\n",
    "    kernels_tuples = [('variance', v), ('RBF', 'euclid', l), ('RBF', 'torus', l_ang)]\n",
    "    VI_tuples = [(None, None, None, 1), (None, None, None, 1), (None, None, None, 1)]\n",
    "    in_dims = 3\n",
    "\n",
    "\n",
    "    num_induc = 8\n",
    "    U = np.concatenate([\n",
    "        np.linspace(left_a, right_a, num_induc)[None, :, None],\n",
    "        np.linspace(bottom_a, top_a, num_induc)[None, :, None],\n",
    "        np.linspace(0, 2*np.pi, num_induc+1)[None, :-1, None], \n",
    "    ], axis=-1)\n",
    "    inducing_points = U.repeat(neurons, axis=0)\n",
    "\n",
    "    gpr = mdl.nonparametrics.Gaussian_process(\n",
    "        in_dims, neurons, kernels_tuples, inducing_points=inducing_points, \n",
    "        inv_link='exp', whiten=True, jitter=1e-4, mean=np.zeros(neurons), learn_mean=True\n",
    "    )\n",
    "\n",
    "    gpd = mdl.nonparametrics.Gaussian_process(\n",
    "        in_dims, neurons, kernels_tuples, inducing_points=inducing_points, \n",
    "        inv_link='exp', whiten=True, jitter=1e-4, mean=np.zeros(neurons), learn_mean=True\n",
    "    )\n",
    "\n",
    "\n",
    "    inputs = mdl.inference.input_group(in_dims, VI_tuples)\n",
    "    inputs.set_XZ(ini_X, resamples, batch_size=5000, filter_len=1)  \n",
    "\n",
    "    likelihood = mdl.likelihoods.Poisson(tbin, neurons, 'exp')\n",
    "    #r_inv = 10.*np.ones(neurons)\n",
    "    #likelihood = mdl.likelihoods.Negative_binomial(sample_bin, neurons, 'exp', r_inv)\n",
    "    #alpha = .1*np.ones(neurons)\n",
    "    #likelihood = mdl.likelihoods.ZI_Poisson(sample_bin, neurons, 'exp', alpha, dispersion_mapping=None)\n",
    "    \n",
    "    \n",
    "    likelihood = mdl.likelihoods.Universal(inner_dims//C, C, 'identity', cutoff, mapping_net)\n",
    "    likelihood.set_Y(rc_t, batch_size=5000, filter_len=1) \n",
    "\n",
    "\n",
    "    glm = mdl.inference.VI_optimized(inputs, gpr, likelihood)\n",
    "    glm.to(dev)\n",
    "\n",
    "\n",
    "\n",
    "    # fitting\n",
    "    sch = lambda o: optim.lr_scheduler.MultiplicativeLR(o, lambda e: 0.9)\n",
    "    opt_tuple = (optim.Adam, 100, sch)\n",
    "    opt_lr_dict = {'default': 1e-2}\n",
    "\n",
    "    glm.set_optimizers(opt_tuple, opt_lr_dict)\n",
    "\n",
    "    annealing = lambda x: 1.0#min(1.0, 0.005*x)\n",
    "    losses = glm.fit(3000, loss_margin=0.0, margin_epochs=100, kl_anneal_func=annealing, \n",
    "                     cov_samples=1, ll_samples=10, ll_mode='MC')\n",
    "\n",
    "    loss_arr.append(losses)\n",
    "    plt.figure()\n",
    "    plt.plot(losses)\n",
    "    plt.xlabel('epoch')\n",
    "    plt.ylabel('NLL per time sample')\n",
    "    plt.show()"
   ]
  },
  {
   "cell_type": "code",
   "execution_count": 26,
   "metadata": {},
   "outputs": [],
   "source": [
    "ll = np.array([l[-1] for l in loss_arr])\n",
    "#nt = np.array([dd[1] for dd in datasets])\n",
    "ct = np.array([dd[2].sum(-1) for dd in datasets])\n",
    "ts = np.array([dd[0] for dd in datasets])\n",
    "#ratio = -ll - ct.sum(-1)*np.log(ts)"
   ]
  },
  {
   "cell_type": "code",
   "execution_count": 111,
   "metadata": {},
   "outputs": [
    {
     "data": {
      "text/plain": [
       "Text(0.5, 0, 'bin size (ms)')"
      ]
     },
     "execution_count": 111,
     "metadata": {},
     "output_type": "execute_result"
    },
    {
     "data": {
      "image/png": "[encoded data removed]",
      "text/plain": [
       "<Figure size 245x183.75 with 1 Axes>"
      ]
     },
     "metadata": {
      "needs_background": "light"
     },
     "output_type": "display_data"
    }
   ],
   "source": [
    "plt.plot(bin_sizes, ratio)\n",
    "plt.scatter(bin_sizes[3], ratio[3], c='r')\n",
    "\n",
    "#plt.plot(bin_sizes, 20*np.log(bin_sizes)-30, 'k--')\n",
    "\n",
    "plt.ylabel('ELBO/timesteps')\n",
    "plt.xlabel('bin size (ms)')"
   ]
  },
  {
   "cell_type": "code",
   "execution_count": null,
   "metadata": {},
   "outputs": [],
   "source": []
  },
  {
   "cell_type": "code",
   "execution_count": 28,
   "metadata": {},
   "outputs": [
    {
     "data": {
      "text/plain": [
       "[<matplotlib.lines.Line2D at 0x7f71f4cae400>]"
      ]
     },
     "execution_count": 28,
     "metadata": {},
     "output_type": "execute_result"
    },
    {
     "data": {
      "image/png": "[encoded data removed]",
      "text/plain": [
       "<Figure size 245x183.75 with 1 Axes>"
      ]
     },
     "metadata": {
      "needs_background": "light"
     },
     "output_type": "display_data"
    }
   ],
   "source": [
    "# Poisson\n",
    "plt.plot(ts, ll)"
   ]
  },
  {
   "cell_type": "code",
   "execution_count": null,
   "metadata": {},
   "outputs": [],
   "source": []
  },
  {
   "cell_type": "markdown",
   "metadata": {},
   "source": [
    "### Point process"
   ]
  },
  {
   "cell_type": "code",
   "execution_count": null,
   "metadata": {},
   "outputs": [],
   "source": []
  },
  {
   "cell_type": "code",
   "execution_count": null,
   "metadata": {},
   "outputs": [],
   "source": [
    "# GP fit and compare lengthscales\n",
    "num_induc = 30\n",
    "inducing_points = np.array([left_x + arena_width*np.random.rand(num_induc), \\\n",
    "                            bottom_y + arena_height*np.random.rand(num_induc)]).T[None, ...].repeat(units_used, axis=0)\n",
    "\n",
    "l = np.ones(units_used)\n",
    "v = np.ones(units_used)\n",
    "\n",
    "\n",
    "kt = [('RBF', 'euclid', np.array([l, l]), v)]\n",
    "\n",
    "glm_rate = mdl.nonparametrics.GP_covariates(units_used, inducing_points, kt, ([None],)*2, ([None],)*2, \n",
    "                                            inv_link='exp', shared_kernel_params=False, \n",
    "                                            jitter=1e-4, mean_ini=np.zeros((1, units_used, 1)))\n",
    "glm_rate.set_params(sample_bin)\n",
    "\n",
    "likelihood = mdl.likelihoods.Poisson(units_used, 'exp')\n",
    "likelihood.set_params(sample_bin)\n",
    "\n",
    "# NLL model\n",
    "hist_len = 99 # 100 steps of spiketrain, no instantaneous element\n",
    "hist_couple = mdl.filters.GP_filter(units_used, units_used, hist_len, sample_bin)\n",
    "\n",
    "glm = mdl.inference.nll_optimized([glm_rate], likelihood, spk_couple=hist_couple)\n",
    "glm.preprocess([r for r in rbehav_t[:2]], resamples, rc_t, batch_size=10000)\n",
    "glm.to(dev)\n",
    "\n",
    "\n",
    "# fit\n",
    "sch = lambda o: optim.lr_scheduler.MultiplicativeLR(o, lambda e: 0.9)\n",
    "opt_tuple = (optim.Adam, 100, sch)\n",
    "opt_lr_dict = {'default': 1e-2}\n",
    "glm.set_optimizers(opt_tuple, opt_lr_dict)\n",
    "\n",
    "annealing = lambda x: min(1.0, 0.005*x)\n",
    "losses = glm.fit(1000, margin=1e0, anneal_func=annealing)\n",
    "\n",
    "plt.figure()\n",
    "plt.plot(losses)\n",
    "plt.xlabel('epoch')\n",
    "plt.ylabel('loss')\n",
    "plt.show()"
   ]
  },
  {
   "cell_type": "code",
   "execution_count": null,
   "metadata": {},
   "outputs": [],
   "source": []
  },
  {
   "cell_type": "code",
   "execution_count": null,
   "metadata": {},
   "outputs": [],
   "source": []
  }
 ],
 "metadata": {
  "kernelspec": {
   "display_name": "Python 3",
   "language": "python",
   "name": "python3"
  },
  "language_info": {
   "codemirror_mode": {
    "name": "ipython",
    "version": 3
   },
   "file_extension": ".py",
   "mimetype": "text/x-python",
   "name": "python",
   "nbconvert_exporter": "python",
   "pygments_lexer": "ipython3",
   "version": "3.6.9"
  }
 },
 "nbformat": 4,
 "nbformat_minor": 4
}
