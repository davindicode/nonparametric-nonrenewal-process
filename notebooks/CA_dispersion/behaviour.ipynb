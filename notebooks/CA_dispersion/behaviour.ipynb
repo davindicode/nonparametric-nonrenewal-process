{
 "cells": [
  {
   "cell_type": "code",
   "execution_count": 17,
   "metadata": {},
   "outputs": [
    {
     "name": "stdout",
     "output_type": "stream",
     "text": [
      "The autoreload extension is already loaded. To reload it, use:\n",
      "  %reload_ext autoreload\n",
      "PyTorch version: 1.6.0+cu101\n",
      "Using device: cuda:0\n"
     ]
    }
   ],
   "source": [
    "%load_ext autoreload\n",
    "%autoreload 2\n",
    "\n",
    "import torch\n",
    "import torch.nn as nn\n",
    "from torch.nn.parameter import Parameter\n",
    "import torch.nn.functional as F\n",
    "import torch.optim as optim\n",
    "\n",
    "import matplotlib.pyplot as plt\n",
    "from mpl_toolkits.mplot3d import Axes3D\n",
    "from matplotlib.ticker import MultipleLocator # for minor ticks\n",
    "from matplotlib import gridspec\n",
    "from matplotlib import patches\n",
    "\n",
    "import numpy as np\n",
    "\n",
    "from scipy import signal # for convolution\n",
    "import scipy.stats as scstats\n",
    "import scipy.special as sps\n",
    "\n",
    "import pickle\n",
    "\n",
    "import sys\n",
    "sys.path.append(\"../..\")\n",
    "\n",
    "from neuroprob.utils import stats, tools, neural_utils\n",
    "import neuroprob.models as mdl\n",
    "\n",
    "\n",
    "dev = tools.PyTorch()\n",
    "\n",
    "plt.style.use(['paper.mplstyle'])"
   ]
  },
  {
   "cell_type": "code",
   "execution_count": 54,
   "metadata": {},
   "outputs": [],
   "source": [
    "### Real data ###\n",
    "sample_bin, track_samples, x_t, y_t, s_t, dir_t, \\\n",
    "    hd_t, eeg_t, theta_t, pause_ind, pause_size, \\\n",
    "    sep_t_spike, clu_id, t_spike, spike_samples, units, \\\n",
    "    shank_id, local_clu, FR_waveshape, SpkWidthC, \\\n",
    "    refract_viol, isolation_dist, \\\n",
    "    left_x, right_x, bottom_y, top_y = pickle.load(open('../data/datasets/hc5_13.p', 'rb'))\n",
    "\n",
    "wrap_theta_t = tools.WrapPi(theta_t, True)"
   ]
  },
  {
   "cell_type": "code",
   "execution_count": 44,
   "metadata": {},
   "outputs": [],
   "source": [
    "pre_x_t = x_t\n",
    "pre_y_t = y_t"
   ]
  },
  {
   "cell_type": "code",
   "execution_count": 50,
   "metadata": {
    "scrolled": true
   },
   "outputs": [
    {
     "name": "stdout",
     "output_type": "stream",
     "text": [
      "10305\n",
      "10316\n",
      "10325\n",
      "33672\n",
      "33683\n",
      "33697\n",
      "67605\n",
      "67612\n",
      "115833\n",
      "115846\n",
      "115859\n",
      "194470\n",
      "194490\n",
      "268825\n",
      "268832\n",
      "268835\n",
      "268838\n",
      "268841\n",
      "268844\n",
      "268851\n",
      "268854\n",
      "268857\n",
      "268863\n",
      "269856\n",
      "269877\n",
      "296938\n",
      "296941\n",
      "296946\n",
      "296949\n",
      "296952\n",
      "296957\n",
      "296960\n",
      "296968\n",
      "296971\n",
      "306790\n",
      "349455\n",
      "349470\n",
      "363548\n",
      "363560\n",
      "363575\n",
      "372703\n",
      "372706\n",
      "372714\n",
      "372719\n",
      "372724\n",
      "372727\n",
      "372732\n",
      "374502\n",
      "494717\n"
     ]
    },
    {
     "ename": "KeyboardInterrupt",
     "evalue": "",
     "output_type": "error",
     "traceback": [
      "\u001b[0;31m---------------------------------------------------------\u001b[0m",
      "\u001b[0;31mKeyboardInterrupt\u001b[0m       Traceback (most recent call last)",
      "\u001b[0;32m<ipython-input-50-37baaeb90618>\u001b[0m in \u001b[0;36m<module>\u001b[0;34m\u001b[0m\n\u001b[1;32m      7\u001b[0m     \u001b[0myy\u001b[0m \u001b[0;34m=\u001b[0m \u001b[0mdy\u001b[0m\u001b[0;34m[\u001b[0m\u001b[0mt\u001b[0m\u001b[0;34m:\u001b[0m\u001b[0mt\u001b[0m\u001b[0;34m+\u001b[0m\u001b[0;36m4\u001b[0m\u001b[0;34m]\u001b[0m\u001b[0;34m\u001b[0m\u001b[0;34m\u001b[0m\u001b[0m\n\u001b[1;32m      8\u001b[0m \u001b[0;34m\u001b[0m\u001b[0m\n\u001b[0;32m----> 9\u001b[0;31m     \u001b[0;32mif\u001b[0m \u001b[0mnp\u001b[0m\u001b[0;34m.\u001b[0m\u001b[0mabs\u001b[0m\u001b[0;34m(\u001b[0m\u001b[0mxx\u001b[0m\u001b[0;34m[\u001b[0m\u001b[0;36m1\u001b[0m\u001b[0;34m]\u001b[0m\u001b[0;34m-\u001b[0m\u001b[0mxx\u001b[0m\u001b[0;34m[\u001b[0m\u001b[0;36m2\u001b[0m\u001b[0;34m]\u001b[0m\u001b[0;34m)\u001b[0m \u001b[0;34m>\u001b[0m \u001b[0;34m(\u001b[0m\u001b[0mnp\u001b[0m\u001b[0;34m.\u001b[0m\u001b[0mabs\u001b[0m\u001b[0;34m(\u001b[0m\u001b[0mxx\u001b[0m\u001b[0;34m[\u001b[0m\u001b[0;36m0\u001b[0m\u001b[0;34m]\u001b[0m\u001b[0;34m)\u001b[0m\u001b[0;34m+\u001b[0m\u001b[0mnp\u001b[0m\u001b[0;34m.\u001b[0m\u001b[0mabs\u001b[0m\u001b[0;34m(\u001b[0m\u001b[0mxx\u001b[0m\u001b[0;34m[\u001b[0m\u001b[0;36m3\u001b[0m\u001b[0;34m]\u001b[0m\u001b[0;34m)\u001b[0m\u001b[0;34m)\u001b[0m\u001b[0;34m*\u001b[0m\u001b[0;36m2.\u001b[0m \u001b[0;32mor\u001b[0m \u001b[0mnp\u001b[0m\u001b[0;34m.\u001b[0m\u001b[0mabs\u001b[0m\u001b[0;34m(\u001b[0m\u001b[0myy\u001b[0m\u001b[0;34m[\u001b[0m\u001b[0;36m1\u001b[0m\u001b[0;34m]\u001b[0m\u001b[0;34m-\u001b[0m\u001b[0myy\u001b[0m\u001b[0;34m[\u001b[0m\u001b[0;36m2\u001b[0m\u001b[0;34m]\u001b[0m\u001b[0;34m)\u001b[0m \u001b[0;34m>\u001b[0m \u001b[0;34m(\u001b[0m\u001b[0mnp\u001b[0m\u001b[0;34m.\u001b[0m\u001b[0mabs\u001b[0m\u001b[0;34m(\u001b[0m\u001b[0myy\u001b[0m\u001b[0;34m[\u001b[0m\u001b[0;36m0\u001b[0m\u001b[0;34m]\u001b[0m\u001b[0;34m)\u001b[0m\u001b[0;34m+\u001b[0m\u001b[0mnp\u001b[0m\u001b[0;34m.\u001b[0m\u001b[0mabs\u001b[0m\u001b[0;34m(\u001b[0m\u001b[0myy\u001b[0m\u001b[0;34m[\u001b[0m\u001b[0;36m3\u001b[0m\u001b[0;34m]\u001b[0m\u001b[0;34m)\u001b[0m\u001b[0;34m)\u001b[0m\u001b[0;34m*\u001b[0m\u001b[0;36m2.\u001b[0m\u001b[0;34m:\u001b[0m\u001b[0;34m\u001b[0m\u001b[0;34m\u001b[0m\u001b[0m\n\u001b[0m\u001b[1;32m     10\u001b[0m         \u001b[0mx_t\u001b[0m\u001b[0;34m[\u001b[0m\u001b[0mt\u001b[0m\u001b[0;34m+\u001b[0m\u001b[0;36m2\u001b[0m\u001b[0;34m]\u001b[0m \u001b[0;34m=\u001b[0m \u001b[0;34m(\u001b[0m\u001b[0mx_t\u001b[0m\u001b[0;34m[\u001b[0m\u001b[0mt\u001b[0m\u001b[0;34m+\u001b[0m\u001b[0;36m1\u001b[0m\u001b[0;34m]\u001b[0m\u001b[0;34m+\u001b[0m\u001b[0mx_t\u001b[0m\u001b[0;34m[\u001b[0m\u001b[0mt\u001b[0m\u001b[0;34m+\u001b[0m\u001b[0;36m3\u001b[0m\u001b[0;34m]\u001b[0m\u001b[0;34m)\u001b[0m\u001b[0;34m/\u001b[0m\u001b[0;36m2.\u001b[0m\u001b[0;34m\u001b[0m\u001b[0;34m\u001b[0m\u001b[0m\n\u001b[1;32m     11\u001b[0m         \u001b[0my_t\u001b[0m\u001b[0;34m[\u001b[0m\u001b[0mt\u001b[0m\u001b[0;34m+\u001b[0m\u001b[0;36m2\u001b[0m\u001b[0;34m]\u001b[0m \u001b[0;34m=\u001b[0m \u001b[0;34m(\u001b[0m\u001b[0my_t\u001b[0m\u001b[0;34m[\u001b[0m\u001b[0mt\u001b[0m\u001b[0;34m+\u001b[0m\u001b[0;36m1\u001b[0m\u001b[0;34m]\u001b[0m\u001b[0;34m+\u001b[0m\u001b[0my_t\u001b[0m\u001b[0;34m[\u001b[0m\u001b[0mt\u001b[0m\u001b[0;34m+\u001b[0m\u001b[0;36m3\u001b[0m\u001b[0;34m]\u001b[0m\u001b[0;34m)\u001b[0m\u001b[0;34m/\u001b[0m\u001b[0;36m2.\u001b[0m\u001b[0;34m\u001b[0m\u001b[0;34m\u001b[0m\u001b[0m\n",
      "\u001b[0;31mKeyboardInterrupt\u001b[0m: "
     ]
    }
   ],
   "source": [
    "# tracking errors as single points\n",
    "dx = x_t[1:] - x_t[:-1]\n",
    "dy = y_t[1:] - y_t[:-1]\n",
    "\n",
    "for t in range(track_samples-5):\n",
    "    xx = dx[t:t+4]\n",
    "    yy = dy[t:t+4]\n",
    "    \n",
    "    if np.abs(xx[1]-xx[2]) > (np.abs(xx[0])+np.abs(xx[3]))*2. or np.abs(yy[1]-yy[2]) > (np.abs(yy[0])+np.abs(yy[3]))*2.:\n",
    "        x_t[t+2] = (x_t[t+1]+x_t[t+3])/2.\n",
    "        y_t[t+2] = (y_t[t+1]+y_t[t+3])/2.\n",
    "        print(t)"
   ]
  },
  {
   "cell_type": "code",
   "execution_count": 57,
   "metadata": {},
   "outputs": [
    {
     "data": {
      "image/png": "[encoded data removed]",
      "text/plain": [
       "<Figure size 245x183.75 with 1 Axes>"
      ]
     },
     "metadata": {
      "needs_background": "light"
     },
     "output_type": "display_data"
    }
   ],
   "source": [
    "plt.hist(s_t, bins=np.linspace(0, 400, 100))\n",
    "plt.show()"
   ]
  },
  {
   "cell_type": "code",
   "execution_count": null,
   "metadata": {},
   "outputs": [],
   "source": []
  },
  {
   "cell_type": "code",
   "execution_count": 4,
   "metadata": {},
   "outputs": [
    {
     "name": "stdout",
     "output_type": "stream",
     "text": [
      "0.028386777002903464\n",
      "0.0592322273078766\n",
      "0.07958954956762958\n",
      "-0.15757703608860915\n",
      "-0.0006284564574182164\n",
      "1.7018978879653776e-05\n",
      "0.003943053736834164\n"
     ]
    }
   ],
   "source": [
    "# regressor correlation\n",
    "print(stats.corr_lin_lin(x_t, y_t))\n",
    "print(stats.corr_lin_lin(x_t, s_t))\n",
    "print(stats.corr_lin_lin(y_t, s_t))\n",
    "\n",
    "print(stats.corr_circ_circ(dir_t, hd_t))\n",
    "print(stats.corr_circ_circ(dir_t, theta_t))\n",
    "\n",
    "print(stats.corr_lin_circ(x_t, theta_t))\n",
    "print(stats.corr_lin_circ(s_t, theta_t))"
   ]
  },
  {
   "cell_type": "code",
   "execution_count": 13,
   "metadata": {},
   "outputs": [
    {
     "data": {
      "image/png": "[encoded data removed]",
      "text/plain": [
       "<Figure size 245x183.75 with 1 Axes>"
      ]
     },
     "metadata": {
      "needs_background": "light"
     },
     "output_type": "display_data"
    },
    {
     "data": {
      "image/png": "[encoded data removed]",
      "text/plain": [
       "<Figure size 245x183.75 with 1 Axes>"
      ]
     },
     "metadata": {
      "needs_background": "light"
     },
     "output_type": "display_data"
    },
    {
     "data": {
      "image/png": "[encoded data removed]",
      "text/plain": [
       "<Figure size 245x183.75 with 1 Axes>"
      ]
     },
     "metadata": {
      "needs_background": "light"
     },
     "output_type": "display_data"
    }
   ],
   "source": [
    "# conditional densities of behavioural variables\n",
    "conditions = [(x_t, np.array([300.]), 1.0), (y_t, np.array([300.]), 1.0)]\n",
    "\n",
    "ind_old = None\n",
    "for c in conditions:\n",
    "    ind = np.where(tools.metric(c[0], c[1]) < c[2])[0]\n",
    "    if ind_old is not None:\n",
    "        ind_old = np.intersect1d(ind_old, ind, return_indices=False)\n",
    "    else:\n",
    "        ind_old = np.copy(ind)\n",
    "        \n",
    "plt.hist(wrap_theta_t[ind_old])\n",
    "plt.show()\n",
    "\n",
    "plt.hist(hd_t[ind_old])\n",
    "plt.show()\n",
    "\n",
    "plt.hist(s_t[ind_old])\n",
    "plt.show()"
   ]
  },
  {
   "cell_type": "code",
   "execution_count": null,
   "metadata": {},
   "outputs": [],
   "source": [
    "from statsmodels.tsa.ar_model import AR\n",
    "from statsmodels.tsa.ar_model import AutoReg\n",
    "from statsmodels.tsa.stattools import adfuller\n",
    "from sklearn.metrics import mean_squared_error\n",
    "\n",
    "# get increments\n",
    "del_x_t = x_t[1:] - x_t[0:-1]\n",
    "del_y_t = y_t[1:] - y_t[0:-1]"
   ]
  },
  {
   "cell_type": "code",
   "execution_count": null,
   "metadata": {},
   "outputs": [],
   "source": [
    "# test stationarity with augmented Dickey-Fuller\n",
    "trange = np.arange(0, 100000)\n",
    "\n",
    "result = adfuller(del_x_t[trange])\n",
    "print('ADF statistic: %f' % result[0])\n",
    "print('p-value: %f' % result[1])\n",
    "print('Critical Values:')\n",
    "for key, value in result[4].items():\n",
    "    print('\\t%s: %.3f' % (key, value))\n",
    "    \n",
    "result = adfuller(del_y_t[trange])\n",
    "print('ADF statistic: %f' % result[0])\n",
    "print('p-value: %f' % result[1])\n",
    "print('Critical Values:')\n",
    "for key, value in result[4].items():\n",
    "    print('\\t%s: %.3f' % (key, value))"
   ]
  },
  {
   "cell_type": "code",
   "execution_count": null,
   "metadata": {},
   "outputs": [],
   "source": [
    "AR_model = animal_AR()\n",
    "AR_model.to(dev)\n",
    "\n",
    "data = torch.tensor(list(zip(x_t, y_t)), device=dev)\n",
    "AR_model.fit(data)"
   ]
  },
  {
   "cell_type": "code",
   "execution_count": null,
   "metadata": {},
   "outputs": [],
   "source": [
    "#traj = AR_model.sample_traj(1, 100000, torch.tensor([250.0, 200.0], device=dev))\n",
    "#traj = traj.to('cpu').data.numpy()\n",
    "plt.plot((traj[0, :, 0]-traj[0, :, 0].mean())*15 + traj[0, :, 0].mean(), \n",
    "         (traj[0, :, 1] - traj[0, :, 1].mean())*15 + traj[0, :, 1].mean())\n",
    "plt.plot(x_t[:100000], y_t[:100000], alpha=0.3)\n",
    "plt.show()\n",
    "\n",
    "print(list(AR_model.parameters()))\n",
    "\n",
    "\n",
    "\n"
   ]
  },
  {
   "cell_type": "code",
   "execution_count": null,
   "metadata": {},
   "outputs": [],
   "source": [
    "# head direction\n",
    "fig = plt.figure(figsize=(5, 5))\n",
    "ax = plt.subplot(1, 1, 1, projection='polar')\n",
    "#ax.set_rticks([0.04, 0.08, 0.12, 0.16])\n",
    "ax.set_xlabel('Head angle distribution')\n",
    "ax.grid(True)\n",
    "hd_pol = bin_hd[:-1] + delta_bin_hd/2\n",
    "yy = hd_prob/(bin_hd[1]-bin_hd[0])*np.pi/180.0 # to have integral to one, discrete to density\n",
    "plt.polar(np.append(hd_pol, hd_pol[0]), np.append(yy, yy[0]), 'r')\n",
    "\n",
    "# direction\n",
    "fig = plt.figure(figsize=(5, 5))\n",
    "ax = plt.subplot(1, 1, 1, projection='polar')\n",
    "#ax.set_rticks([0.04, 0.08, 0.12, 0.16])\n",
    "ax.set_xlabel('Movement direction distribution')\n",
    "ax.grid(True)\n",
    "dir_pol = bin_dir[:-1] + delta_bin_dir/2\n",
    "yy = dir_prob/(bin_dir[1]-bin_dir[0])*np.pi/180.0 # to have integral to one, discrete to density\n",
    "plt.polar(np.append(dir_pol, dir_pol[0]), np.append(yy, yy[0]), 'r')\n",
    "\n",
    "# speed distribution\n",
    "fig = plt.figure(figsize=(5, 5))\n",
    "ax = plt.subplot(1, 1, 1)\n",
    "ax.set_ylabel('Frequency')\n",
    "ax.set_xlabel('Speed (mm/s)')\n",
    "yy = s_prob/delta_bin_s # to have integral to one, discrete to density\n",
    "ax.set_ylim(0, yy.max()*1.1)\n",
    "ax.set_xlim(0, max_speed)\n",
    "ax.plot(bin_s[:-1], yy, color='r')\n",
    "d = np.zeros(len(s_prob))\n",
    "ax.fill_between(bin_s[:-1], yy, where=yy>=d, interpolate=True, color='blue')\n",
    "\n",
    "# position distribution (time spent)\n",
    "mm = sp_prob.max()\n",
    "fig, ax = tools.draw_2d(np.transpose(sp_prob), (11,8), origin='lower', aspect='equal', \n",
    "           vmax=mm, ticks=[0, mm//4, mm//2, mm*3//4, mm], ticktitle='Probability', \n",
    "           ticklabels=['0', str(int(mm//4)), str(int(mm//2)), \n",
    "                       str(int(mm*3//4)), '>{}'.format(int(mm))])\n",
    "# tu.draw_2d(np.transpose(sp_prob), (12,7), origin='lower', xticks=[], yticks=[], aspect='equal', vmax=sp_prob.max()) same\n",
    "\n",
    "# dot of the pause locations\n",
    "ax.scatter(x_t[pause_ind]/delta_bin_x, y_t[pause_ind]/delta_bin_y, marker='.', color='r')\n",
    "\n",
    "plt.show()"
   ]
  },
  {
   "cell_type": "code",
   "execution_count": null,
   "metadata": {},
   "outputs": [],
   "source": [
    "# EEG analysis of theta modulated by speed/pauses\n",
    "inds = np.where(theta_t[1:] - theta_t[:-1] < 0)[0] # ends of theta cycles\n",
    "cycle_bins = inds[1:] - inds[:-1]\n",
    "cycle_s = []\n",
    "cycle_times = []\n",
    "for i in range(len(inds[:-1])):\n",
    "    cycle_s.append(s_t[inds[i]:inds[i]+cycle_bins[i]].mean())\n",
    "    cycle_times.append(cycle_bins[i]*sample_bin)\n",
    "    \n",
    "plt.scatter(cycle_s, cycle_times, s=1)\n",
    "plt.show()\n",
    "\n",
    "p = np.argmax(pause_size)\n",
    "margin = pause_size[p]*3\n",
    "time = pause_ind[p] + np.arange(pause_size[p]+2*margin) - margin\n",
    "plt.plot(time[:margin], eeg_t[time[:margin]], color='b')\n",
    "plt.plot(time[margin:margin+pause_size[p]], eeg_t[time[margin:margin+pause_size[p]]], color='y')\n",
    "plt.plot(time[margin+pause_size[p]:2*margin+pause_size[p]], eeg_t[time[margin+pause_size[p]:2*margin+pause_size[p]]], color='b')\n",
    "plt.show()\n",
    "\n",
    "# check that head angle and movement direction are correlated\n",
    "plt.figure()\n",
    "plt.plot(hd_t[0:200], label='movement')\n",
    "plt.plot(dir_t[0:200], label='head')\n",
    "plt.xlabel('Timestep')\n",
    "plt.ylabel('Angle (rad)')\n",
    "plt.legend()\n",
    "plt.show()"
   ]
  },
  {
   "cell_type": "code",
   "execution_count": null,
   "metadata": {},
   "outputs": [],
   "source": []
  },
  {
   "cell_type": "code",
   "execution_count": null,
   "metadata": {},
   "outputs": [],
   "source": []
  }
 ],
 "metadata": {
  "kernelspec": {
   "display_name": "Python 3",
   "language": "python",
   "name": "python3"
  },
  "language_info": {
   "codemirror_mode": {
    "name": "ipython",
    "version": 3
   },
   "file_extension": ".py",
   "mimetype": "text/x-python",
   "name": "python",
   "nbconvert_exporter": "python",
   "pygments_lexer": "ipython3",
   "version": "3.6.9"
  }
 },
 "nbformat": 4,
 "nbformat_minor": 4
}
