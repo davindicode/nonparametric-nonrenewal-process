{
 "cells": [
  {
   "cell_type": "code",
   "execution_count": 10,
   "metadata": {},
   "outputs": [
    {
     "name": "stdout",
     "output_type": "stream",
     "text": [
      "The autoreload extension is already loaded. To reload it, use:\n",
      "  %reload_ext autoreload\n"
     ]
    }
   ],
   "source": [
    "%load_ext autoreload\n",
    "%autoreload 2\n",
    "\n",
    "import jax\n",
    "import jax.numpy as jnp\n",
    "import jax.random as jr\n",
    "\n",
    "import optax\n",
    "jax.config.update('jax_platform_name', 'cpu')\n",
    "\n",
    "\n",
    "import numpy as np\n",
    "\n",
    "import pickle\n",
    "\n",
    "import sys\n",
    "sys.path.append(\"..\")\n",
    "\n",
    "import lib\n",
    "\n",
    "\n",
    "\n",
    "import matplotlib.pyplot as plt\n",
    "plt.style.use(['../paper.mplstyle'])"
   ]
  },
  {
   "cell_type": "code",
   "execution_count": null,
   "metadata": {},
   "outputs": [],
   "source": []
  },
  {
   "cell_type": "markdown",
   "metadata": {},
   "source": [
    "## Load data"
   ]
  },
  {
   "cell_type": "code",
   "execution_count": 7,
   "metadata": {},
   "outputs": [],
   "source": [
    "# binning\n",
    "def binning(bin_size, spktrain):\n",
    "    tbin, resamples, rc_t, (rhd_t, rth_t, rx_t, ry_t) = neural_utils.BinTrain(bin_size, sample_bin, spktrain, \n",
    "                                                        spktrain.shape[1], (np.unwrap(hd_t), np.unwrap(theta_t), x_t, y_t), \n",
    "                                                        average_behav=True, binned=True)\n",
    "\n",
    "\n",
    "    rw_t = (rhd_t[1:]-rhd_t[:-1])/tbin\n",
    "    rw_t = np.concatenate((rw_t, rw_t[-1:]))\n",
    "\n",
    "    rvx_t = (rx_t[1:]-rx_t[:-1])/tbin\n",
    "    rvy_t = (ry_t[1:]-ry_t[:-1])/tbin\n",
    "    rs_t = np.sqrt(rvx_t**2 + rvy_t**2)\n",
    "    rs_t = np.concatenate((rs_t, rs_t[-1:]))\n",
    "    rtime_t = np.arange(resamples)*tbin\n",
    "\n",
    "    units_used = rc_t.shape[0]\n",
    "    rcov = (rx_t, ry_t, tools.WrapPi(rth_t, True), rs_t, tools.WrapPi(rhd_t, True), rw_t, rtime_t)\n",
    "    return rcov, units_used, tbin, resamples, rc_t"
   ]
  },
  {
   "cell_type": "code",
   "execution_count": 8,
   "metadata": {},
   "outputs": [],
   "source": [
    "session_id = 'hc5_15'\n",
    "data = np.load('../data/{}.npz'.format(session_id))\n",
    "spktrain = data['spktrain']\n",
    "x_t = data['x_t']\n",
    "y_t = data['y_t']\n",
    "s_t = data['s_t']\n",
    "dir_t = data['dir_t']\n",
    "hd_t = data['hd_t']\n",
    "theta_t = data['theta_t']\n",
    "arena = data['arena']\n",
    "\n",
    "sample_bin = 0.0008\n",
    "\n",
    "left_x, right_x, bottom_y, top_y = arena\n",
    "units_used = spktrain.shape[0]"
   ]
  },
  {
   "cell_type": "code",
   "execution_count": null,
   "metadata": {},
   "outputs": [],
   "source": [
    "from scipy.signal import hilbert\n",
    "\n",
    "\n",
    "data = np.load('./checkpoint/hc5_13_eeg.npz')\n",
    "\n",
    "\n",
    "# hilbert signal of filtered\n",
    "eeg_filt = utils.signal.filter_signal(eeg_t, 5., 12., sample_bin)\n",
    "\n",
    "analytic_signal = hilbert(eeg_filt[:])\n",
    "#hilbert_amp = np.abs(analytic_signal)\n",
    "hilbtheta_t = np.unwrap(np.angle(analytic_signal))"
   ]
  },
  {
   "cell_type": "code",
   "execution_count": 9,
   "metadata": {},
   "outputs": [
    {
     "data": {
      "text/plain": [
       "(34, 4519193)"
      ]
     },
     "execution_count": 9,
     "metadata": {},
     "output_type": "execute_result"
    }
   ],
   "source": [
    "spktrain.shape"
   ]
  },
  {
   "cell_type": "code",
   "execution_count": 16,
   "metadata": {},
   "outputs": [],
   "source": [
    "lagged_ISIs = lib.utils.neural.get_lagged_ISIs(spktrain.T, 3)"
   ]
  },
  {
   "cell_type": "code",
   "execution_count": 17,
   "metadata": {},
   "outputs": [
    {
     "data": {
      "text/plain": [
       "[<matplotlib.lines.Line2D at 0x7fec487983a0>]"
      ]
     },
     "execution_count": 17,
     "metadata": {},
     "output_type": "execute_result"
    },
    {
     "data": {
      "image/png": "[encoded data removed]",
      "text/plain": [
       "<Figure size 245x183.75 with 1 Axes>"
      ]
     },
     "metadata": {},
     "output_type": "display_data"
    }
   ],
   "source": [
    "n = 0\n",
    "\n",
    "plt.plot(lagged_ISIs[:, n, 0])\n",
    "plt.plot(lagged_ISIs[:, n, 1])\n",
    "plt.plot(lagged_ISIs[:, n, 2])"
   ]
  },
  {
   "cell_type": "code",
   "execution_count": 35,
   "metadata": {},
   "outputs": [],
   "source": [
    "ind = np.isnan(lagged_ISIs.sum(1).sum(1)).astype(float)\n",
    "start_timestep = np.where((ind[1:] - ind[:-1]) < 0.)[0][0]+1"
   ]
  },
  {
   "cell_type": "code",
   "execution_count": 36,
   "metadata": {},
   "outputs": [
    {
     "data": {
      "text/plain": [
       "DeviceArray(2.1979743e+12, dtype=float32)"
      ]
     },
     "execution_count": 36,
     "metadata": {},
     "output_type": "execute_result"
    }
   ],
   "source": [
    "lagged_ISIs[start_timestep:, ...]"
   ]
  },
  {
   "cell_type": "markdown",
   "metadata": {},
   "source": []
  },
  {
   "cell_type": "markdown",
   "metadata": {},
   "source": [
    "## Count processes"
   ]
  },
  {
   "cell_type": "code",
   "execution_count": 11,
   "metadata": {},
   "outputs": [],
   "source": [
    "x_dims = 2\n",
    "f_dims = 3\n",
    "neurons = f_dims\n",
    "tbin = 0.01  # s\n",
    "\n",
    "jitter = 1e-12\n",
    "\n",
    "n_samp = 10\n",
    "\n",
    "prng_state = jax.random.PRNGKey(123)"
   ]
  },
  {
   "cell_type": "code",
   "execution_count": 12,
   "metadata": {},
   "outputs": [],
   "source": [
    "len_fx = 1.*np.ones((f_dims, x_dims))  # GP lengthscale\n",
    "var_f = 1.*np.ones(f_dims)  # observation noise\n",
    "kern = lib.GP.kernels.SquaredExponential(f_dims, variance=var_f, lengthscale=len_fx)\n",
    "mean_f = np.zeros(f_dims)\n",
    "\n",
    "\n",
    "### inducing points ###\n",
    "num_induc = 5\n",
    "induc_locs = jax.random.normal(prng_state, shape=(f_dims, num_induc, x_dims))\n",
    "prng_state, _ = jr.split(prng_state)\n",
    "\n",
    "\n",
    "u_mu = 1. + 0.*jax.random.normal(prng_state, shape=(f_dims, num_induc, 1))\n",
    "u_Lcov = 0.01*jnp.eye(num_induc)[None, ...].repeat(f_dims, axis=0)\n",
    "prng_state, _ = jr.split(prng_state)\n",
    "\n",
    "\n",
    "svgp = lib.GP.sparse.qSVGP(kern, mean_f, induc_locs, u_mu, u_Lcov, RFF_num_feats=0)\n",
    "\n",
    "Kzz = svgp.kernel.K(svgp.induc_locs, None, False)\n",
    "lambda_1, chol_Lambda_2 = lib.GP.sparse.t_from_q_svgp_moments(Kzz, u_mu, u_Lcov)\n"
   ]
  },
  {
   "cell_type": "code",
   "execution_count": 13,
   "metadata": {},
   "outputs": [],
   "source": [
    "count_type = 'nb'\n",
    "\n",
    "if count_type == 'p':\n",
    "    count = lib.likelihoods.factorized.Poisson(\n",
    "        neurons,\n",
    "        tbin,\n",
    "    )\n",
    "    \n",
    "elif count_type == 'zip':\n",
    "    alpha = np.linspace(0.0, 0.95, neurons)\n",
    "    count = lib.likelihoods.factorized.ZeroInflatedPoisson(\n",
    "        neurons,\n",
    "        tbin,\n",
    "        alpha,\n",
    "    )\n",
    "    \n",
    "elif count_type == 'nb':\n",
    "    r_inv = np.linspace(0.0, 1.5, neurons)\n",
    "    count = lib.likelihoods.factorized.NegativeBinomial(\n",
    "        neurons,\n",
    "        tbin,\n",
    "        r_inv,\n",
    "    )\n",
    "    \n",
    "elif count_type == 'cmp':\n",
    "    nu = np.linspace(0.5, 1.5, neurons)\n",
    "    count = lib.likelihoods.factorized.ConwayMaxwellPoisson(\n",
    "        neurons,\n",
    "        tbin,\n",
    "        nu,\n",
    "    )"
   ]
  },
  {
   "cell_type": "code",
   "execution_count": 14,
   "metadata": {},
   "outputs": [],
   "source": [
    "y = jnp.arange(0, 20)[:, None].repeat(neurons, axis=1)\n",
    "f = jnp.linspace(6, 6, neurons)\n",
    "\n",
    "log_p_y = jax.vmap(count.log_likelihood, (None, 0), 0)(f, y)"
   ]
  },
  {
   "cell_type": "code",
   "execution_count": 15,
   "metadata": {},
   "outputs": [
    {
     "data": {
      "text/plain": [
       "[<matplotlib.lines.Line2D at 0x7f4af85ef0d0>,\n",
       " <matplotlib.lines.Line2D at 0x7f4af85ef550>,\n",
       " <matplotlib.lines.Line2D at 0x7f4adc6f14f0>]"
      ]
     },
     "execution_count": 15,
     "metadata": {},
     "output_type": "execute_result"
    },
    {
     "data": {
      "image/png": "[encoded data removed]",
      "text/plain": [
       "<Figure size 245x183.75 with 1 Axes>"
      ]
     },
     "metadata": {},
     "output_type": "display_data"
    }
   ],
   "source": [
    "plt.plot(np.exp(log_p_y))"
   ]
  },
  {
   "cell_type": "code",
   "execution_count": 16,
   "metadata": {},
   "outputs": [],
   "source": [
    "fmdl = lib.inference.gplvm.FactorizedGPLVM(svgp, count)"
   ]
  },
  {
   "cell_type": "code",
   "execution_count": null,
   "metadata": {},
   "outputs": [],
   "source": [
    "fmdl.sample_prior()"
   ]
  },
  {
   "cell_type": "code",
   "execution_count": null,
   "metadata": {},
   "outputs": [],
   "source": []
  },
  {
   "cell_type": "markdown",
   "metadata": {},
   "source": [
    "## Modulated renewal process"
   ]
  },
  {
   "cell_type": "code",
   "execution_count": 4,
   "metadata": {},
   "outputs": [],
   "source": [
    "x_dims = 2\n",
    "f_dims = 3\n",
    "neurons = f_dims\n",
    "dt = 1.  # ms\n",
    "\n",
    "jitter = 1e-12\n",
    "\n",
    "n_samp = 10\n",
    "\n",
    "prng_state = jax.random.PRNGKey(123)"
   ]
  },
  {
   "cell_type": "code",
   "execution_count": 5,
   "metadata": {},
   "outputs": [],
   "source": [
    "len_fx = 1.*np.ones((f_dims, x_dims))  # GP lengthscale\n",
    "var_f = 1.*np.ones(f_dims)  # observation noise\n",
    "kern = lib.GP.kernels.SquaredExponential(f_dims, variance=var_f, lengthscale=len_fx)\n",
    "mean_f = np.zeros(f_dims)\n",
    "\n",
    "\n",
    "### inducing points ###\n",
    "num_induc = 5\n",
    "induc_locs = jax.random.normal(prng_state, shape=(f_dims, num_induc, x_dims))\n",
    "prng_state, _ = jr.split(prng_state)\n",
    "\n",
    "\n",
    "u_mu = 1. + 0.*jax.random.normal(prng_state, shape=(f_dims, num_induc, 1))\n",
    "u_Lcov = 0.01*jnp.eye(num_induc)[None, ...].repeat(f_dims, axis=0)\n",
    "prng_state, _ = jr.split(prng_state)\n",
    "\n",
    "\n",
    "svgp = lib.GP.sparse.qSVGP(kern, mean_f, induc_locs, u_mu, u_Lcov, RFF_num_feats=0)\n",
    "\n",
    "Kzz = svgp.kernel.K(svgp.induc_locs, None, False)\n",
    "lambda_1, chol_Lambda_2 = lib.GP.sparse.t_from_q_svgp_moments(Kzz, u_mu, u_Lcov)\n"
   ]
  },
  {
   "cell_type": "code",
   "execution_count": 6,
   "metadata": {},
   "outputs": [],
   "source": [
    "renewal_type = 'lognorm'\n",
    "\n",
    "if renewal_type == 'gamma':\n",
    "    alpha = np.linspace(0.5, 1.5, neurons)\n",
    "    renewal = lib.likelihoods.renewal.Gamma(\n",
    "        neurons,\n",
    "        dt,\n",
    "        alpha,\n",
    "    )\n",
    "    \n",
    "elif renewal_type == 'lognorm':\n",
    "    sigma = np.linspace(0.5, 1.5, neurons)\n",
    "    renewal = lib.likelihoods.renewal.LogNormal(\n",
    "        neurons,\n",
    "        dt,\n",
    "        sigma,\n",
    "    )\n",
    "    \n",
    "elif renewal_type == 'invgauss':\n",
    "    mu = np.linspace(0.5, 1.5, neurons)\n",
    "    renewal = lib.likelihoods.renewal.InverseGaussian(\n",
    "        neurons,\n",
    "        dt,\n",
    "        mu,\n",
    "    )"
   ]
  },
  {
   "cell_type": "code",
   "execution_count": null,
   "metadata": {},
   "outputs": [],
   "source": []
  },
  {
   "cell_type": "code",
   "execution_count": 7,
   "metadata": {},
   "outputs": [
    {
     "data": {
      "image/png": "[encoded data removed]",
      "text/plain": [
       "<Figure size 245x183.75 with 1 Axes>"
      ]
     },
     "metadata": {},
     "output_type": "display_data"
    },
    {
     "data": {
      "image/png": "[encoded data removed]",
      "text/plain": [
       "<Figure size 245x183.75 with 1 Axes>"
      ]
     },
     "metadata": {},
     "output_type": "display_data"
    }
   ],
   "source": [
    "ISI = jnp.linspace(0.001, 10., 100)[:, None]\n",
    "ll = jax.vmap(renewal.log_renewal_density)(ISI)\n",
    "plt.plot(jnp.exp(ll)[:, :])\n",
    "plt.show()\n",
    "\n",
    "ISI = jnp.linspace(0.001, 3., 100)[:, None]\n",
    "ll = jax.vmap(renewal.cum_renewal_density)(ISI)\n",
    "plt.plot(ll[:, :])\n",
    "plt.show()"
   ]
  },
  {
   "cell_type": "code",
   "execution_count": 9,
   "metadata": {},
   "outputs": [
    {
     "ename": "NameError",
     "evalue": "name 'renewal' is not defined",
     "output_type": "error",
     "traceback": [
      "\u001b[0;31m---------------------------------------------------------------------------\u001b[0m",
      "\u001b[0;31mNameError\u001b[0m                                 Traceback (most recent call last)",
      "Input \u001b[0;32mIn [9]\u001b[0m, in \u001b[0;36m<cell line: 1>\u001b[0;34m()\u001b[0m\n\u001b[0;32m----> 1\u001b[0m mrp \u001b[38;5;241m=\u001b[39m lib\u001b[38;5;241m.\u001b[39minference\u001b[38;5;241m.\u001b[39mgplvm\u001b[38;5;241m.\u001b[39mRenewalGPLVM(svgp, \u001b[43mrenewal\u001b[49m)\n",
      "\u001b[0;31mNameError\u001b[0m: name 'renewal' is not defined"
     ]
    }
   ],
   "source": [
    "mrp = lib.inference.gplvm.RenewalGPLVM(svgp, renewal)"
   ]
  },
  {
   "cell_type": "code",
   "execution_count": 9,
   "metadata": {},
   "outputs": [],
   "source": [
    "t_eval = jnp.linspace(0, 10, 100)\n",
    "x_cond = jnp.zeros((2, f_dims, x_dims))\n",
    "\n",
    "jitter = 1e-6\n",
    "\n",
    "renewal_density = mrp.sample_instantaneous_renewal(\n",
    "    prng_state, t_eval, x_cond, jitter, num_samps = 20, prior = True)"
   ]
  },
  {
   "cell_type": "code",
   "execution_count": 10,
   "metadata": {},
   "outputs": [
    {
     "data": {
      "text/plain": [
       "[<matplotlib.lines.Line2D at 0x7f50c8181d00>,\n",
       " <matplotlib.lines.Line2D at 0x7f50c81794c0>]"
      ]
     },
     "execution_count": 10,
     "metadata": {},
     "output_type": "execute_result"
    },
    {
     "data": {
      "image/png": "[encoded data removed]",
      "text/plain": [
       "<Figure size 245x183.75 with 1 Axes>"
      ]
     },
     "metadata": {},
     "output_type": "display_data"
    }
   ],
   "source": [
    "s = 0\n",
    "n = 0\n",
    "\n",
    "plt.plot(renewal_density[:, n, :].T)"
   ]
  },
  {
   "cell_type": "code",
   "execution_count": null,
   "metadata": {},
   "outputs": [],
   "source": [
    "rho_t = mrp.evaluate_conditional_intensity(\n",
    "    prng_state, x_eval, jitter, num_samps = 20, prior = True)"
   ]
  },
  {
   "cell_type": "code",
   "execution_count": 8,
   "metadata": {},
   "outputs": [
    {
     "name": "stderr",
     "output_type": "stream",
     "text": [
      "[autoreload of lib.inference.gplvm failed: Traceback (most recent call last):\n",
      "  File \"/scratches/ramanujan/dl543/py3_9env/lib/python3.9/site-packages/IPython/extensions/autoreload.py\", line 257, in check\n",
      "    superreload(m, reload, self.old_objects)\n",
      "  File \"/scratches/ramanujan/dl543/py3_9env/lib/python3.9/site-packages/IPython/extensions/autoreload.py\", line 480, in superreload\n",
      "    update_generic(old_obj, new_obj)\n",
      "  File \"/scratches/ramanujan/dl543/py3_9env/lib/python3.9/site-packages/IPython/extensions/autoreload.py\", line 377, in update_generic\n",
      "    update(a, b)\n",
      "  File \"/scratches/ramanujan/dl543/py3_9env/lib/python3.9/site-packages/IPython/extensions/autoreload.py\", line 345, in update_class\n",
      "    update_instances(old, new)\n",
      "  File \"/scratches/ramanujan/dl543/py3_9env/lib/python3.9/site-packages/IPython/extensions/autoreload.py\", line 303, in update_instances\n",
      "    ref.__class__ = new\n",
      "  File \"<string>\", line 4, in __setattr__\n",
      "dataclasses.FrozenInstanceError: cannot assign to field '__class__'\n",
      "]\n"
     ]
    },
    {
     "ename": "NameError",
     "evalue": "name 'mrp' is not defined",
     "output_type": "error",
     "traceback": [
      "\u001b[0;31m---------------------------------------------------------------------------\u001b[0m",
      "\u001b[0;31mNameError\u001b[0m                                 Traceback (most recent call last)",
      "Input \u001b[0;32mIn [8]\u001b[0m, in \u001b[0;36m<cell line: 1>\u001b[0;34m()\u001b[0m\n\u001b[0;32m----> 1\u001b[0m y_samples, f_samples, x_samples \u001b[38;5;241m=\u001b[39m \u001b[43mmrp\u001b[49m\u001b[38;5;241m.\u001b[39msample_prior(\n\u001b[1;32m      2\u001b[0m     prng_state, x_eval, jitter, num_samps \u001b[38;5;241m=\u001b[39m \u001b[38;5;241m20\u001b[39m)\n",
      "\u001b[0;31mNameError\u001b[0m: name 'mrp' is not defined"
     ]
    }
   ],
   "source": [
    "y_samples, f_samples, x_samples = mrp.sample_prior(\n",
    "    prng_state, x_eval, jitter, num_samps = 20)"
   ]
  },
  {
   "cell_type": "code",
   "execution_count": null,
   "metadata": {},
   "outputs": [],
   "source": []
  },
  {
   "cell_type": "markdown",
   "metadata": {},
   "source": [
    "## Nonparametric non-renewal process"
   ]
  },
  {
   "cell_type": "code",
   "execution_count": 9,
   "metadata": {},
   "outputs": [],
   "source": [
    "x_dims = 3\n",
    "num_samps = 5\n",
    "prng_state = jax.random.PRNGKey(123)\n",
    "\n",
    "jitter = 1e-6\n",
    "\n",
    "\n",
    "### state space GP ###\n",
    "var_x = 1.0*np.ones((x_dims))  # GP variance\n",
    "len_x = 1.0*np.ones((x_dims, 1))  # GP lengthscale\n",
    "\n",
    "kernx = lib.GP.kernels.Matern52(x_dims, variance=var_x, lengthscale=len_x)\n",
    "\n",
    "\n",
    "num_samps = 20\n",
    "Tsteps = 1000\n",
    "\n",
    "site_locs = np.linspace(0., 1., Tsteps)  # s\n",
    "#timedata = (jnp.array(t), jnp.diff(t)[:1])\n",
    "\n",
    "evalsteps = 2000\n",
    "t_eval = jnp.linspace(0.0, 1.0, evalsteps)\n",
    "        \n",
    "\n",
    "# site_init\n",
    "site_obs = 0. * np.ones([Tsteps, x_dims, 1]) + 0*np.random.randn(Tsteps, x_dims, 1)\n",
    "site_Lcov = 1. * np.eye(x_dims)[None, ...].repeat(Tsteps, axis=0)\n",
    "\n",
    "state_space = lib.GP.markovian.MultiOutputLTI(\n",
    "    kernx, site_locs, site_obs, site_Lcov, diagonal_site=True, fixed_grid_locs=True)\n",
    "\n",
    "\n",
    "\n",
    "prior_samples = state_space.sample_prior(\n",
    "    prng_state, num_samps, t_eval, jitter)\n",
    "\n",
    "\n",
    "post_mean, post_cov, _ = state_space.evaluate_posterior(\n",
    "    t_eval, mean_only=False, compute_KL=False, jitter=1e-6)\n",
    "post_mean = post_mean[..., 0]\n",
    "\n",
    "post_samples, _ = state_space.sample_posterior(\n",
    "    prng_state, num_samps, t_eval, jitter, False)  # (tr, time, N, 1)\n"
   ]
  },
  {
   "cell_type": "code",
   "execution_count": null,
   "metadata": {},
   "outputs": [],
   "source": [
    "bnpp = lib.inference.NonparametricPPGPLVM(state_space)"
   ]
  },
  {
   "cell_type": "code",
   "execution_count": null,
   "metadata": {},
   "outputs": [],
   "source": []
  },
  {
   "cell_type": "code",
   "execution_count": 53,
   "metadata": {},
   "outputs": [],
   "source": [
    "np.savez_compressed('./checkpoint/hc5_13_2.npz', arena=arena, eeg_t=eeg_t, \n",
    "                    spktrain=spktrain, x_t=x_t, y_t=y_t, s_t=s_t, dir_t=dir_t, hd_t=hd_t, theta_t=theta_t)"
   ]
  },
  {
   "cell_type": "code",
   "execution_count": 52,
   "metadata": {},
   "outputs": [],
   "source": [
    "data = np.load('./checkpoint/hc5_13_2.npz')\n",
    "spktrain = data['spktrain']\n",
    "x_t = data['x_t']\n",
    "y_t = data['y_t']\n",
    "s_t = data['s_t']\n",
    "dir_t = data['dir_t']\n",
    "hd_t = data['hd_t']\n",
    "theta_t = data['theta_t']\n",
    "eeg_t = data['eeg_t']\n",
    "arena = data['arena']\n",
    "\n",
    "sample_bin = 0.0008"
   ]
  },
  {
   "cell_type": "code",
   "execution_count": null,
   "metadata": {},
   "outputs": [],
   "source": []
  },
  {
   "cell_type": "code",
   "execution_count": 3,
   "metadata": {},
   "outputs": [],
   "source": [
    "left_x, right_x, bottom_y, top_y = arena\n",
    "units_used = spktrain.shape[0]"
   ]
  },
  {
   "cell_type": "code",
   "execution_count": 4,
   "metadata": {},
   "outputs": [],
   "source": [
    "behav_data = (x_t, y_t)\n",
    "\n",
    "bin_size = 500\n",
    "tbin, resamples_, rc_t_, rcov_t = neural_utils.BinTrain(bin_size, sample_bin, spktrain, \n",
    "                                                            spktrain[0].shape[0], behav_data, average_behav=True, binned=True)"
   ]
  },
  {
   "cell_type": "code",
   "execution_count": 5,
   "metadata": {},
   "outputs": [],
   "source": [
    "# Gaussian\n",
    "filter_size = 1001\n",
    "t = np.arange(filter_size)\n",
    "t_cent = (filter_size // 2)\n",
    "l_filt = 10 # 1000 ms gaussian std\n",
    "smth_filter = np.exp(-0.5*((t-t_cent)/l_filt)**2)\n",
    "smth_filter = smth_filter / smth_filter.sum() # normalize\n",
    "\n",
    "rc_t_g = neural_utils.smoothen_binned_train(rc_t_/tbin, smth_filter, dev)"
   ]
  },
  {
   "cell_type": "code",
   "execution_count": 26,
   "metadata": {},
   "outputs": [],
   "source": [
    "resamples = 2000\n",
    "k = 0\n",
    "\n",
    "rc_t = rc_t_[:, k*resamples:(k+1)*resamples]\n",
    "rx_t = rcov_t[0][k*resamples:(k+1)*resamples]\n",
    "ry_t = rcov_t[1][k*resamples:(k+1)*resamples]"
   ]
  },
  {
   "cell_type": "code",
   "execution_count": null,
   "metadata": {},
   "outputs": [],
   "source": []
  },
  {
   "cell_type": "code",
   "execution_count": null,
   "metadata": {},
   "outputs": [],
   "source": [
    "fig = plt.figure(figsize=(8,5))\n",
    "\n",
    "widths = [1]\n",
    "heights = [1]\n",
    "spec = fig.add_gridspec(ncols=1, nrows=1, width_ratios=widths, height_ratios=heights, \n",
    "                        left=0., right=0.35, bottom=0.55, top=1.0)\n",
    "\n",
    "\n",
    "start = neurpass_start[n]\n",
    "end = start+neurpass_len[n]\n",
    "traj = [0, 1, 2]\n",
    "indicator = [-0.5, 0.3, 0.3] # left or right (0,1)\n",
    "\n",
    "ax = fig.add_subplot(spec[0, 0])\n",
    "ax.text(-0.21, 1.16, 'A', transform=ax.transAxes, size=15)\n",
    "grid_shape = (left_x, right_x, bottom_y, top_y)\n",
    "_, ax = vs.visualize_field_(np.transpose(sp_rate[unit_used[n]]), grid_shape, \n",
    "                            figax=(fig, ax), ticktitle='firing rate (Hz)', aspect='equal')\n",
    "\n",
    "\n",
    "\n",
    "\n",
    "for i, tr in enumerate(traj):\n",
    "    ax.plot(x_t[start[tr]:end[tr]], y_t[start[tr]:end[tr]], \\\n",
    "            color='w')\n",
    "    ax.text(x_t[start[tr]]+indicator[i], y_t[start[tr]]-5., str(tr+1), \n",
    "            color='tab:orange', fontdict={'weight': 'bold', 'size': 14})\n",
    "\n",
    "\n",
    "\n",
    "widths = [1, 1]\n",
    "heights = [1, 3]\n",
    "spec = fig.add_gridspec(ncols=2, nrows=2, width_ratios=widths, height_ratios=heights,\n",
    "                        left=0.55, right=1.0, bottom=0.55, top=1.0)\n",
    "\n",
    "\n",
    "# Histogram (differential of KS curve)\n",
    "samples = len(q_cdf_CNT)\n",
    "bins = np.linspace(0.0, 1.0, 31)\n",
    "\n",
    "axes = fig.add_subplot(spec[0, 0])\n",
    "axes.text(-0.4, 1.4, 'B', transform=axes.transAxes, size=15)\n",
    "axes.xaxis.set_minor_locator(MultipleLocator(1))\n",
    "axes.set_xlim(0.0, 1.0)\n",
    "axes.set_xticks([])\n",
    "axes.hist(q_cdf_CNT, bins=bins, edgecolor='b', facecolor=(0.95, 0.95, 0.95), density=True)\n",
    "axes.plot(bins, np.ones_like(bins), 'r--')\n",
    "axes.set_ylabel(r\"$p(q)$\", fontsize=12)\n",
    "axes.set_title('Count method', fontsize=14, pad=10)\n",
    "\n",
    "axes2 = fig.add_subplot(spec[1, 0])\n",
    "tools.decorate_ax(axes2, ylabel=\"empirical distribution\", xlim=[0.0, 1.0], ylim=[0.0, 1.0],\n",
    "                  xticks=[0, 1], yticks=[0, 1])\n",
    "bb = np.arange(0, samples+1)/samples\n",
    "line, = axes2.plot(bb, bb, 'r--')\n",
    "axes2.fill_between(\n",
    "    bins, bins-s_KS_CNT*np.ones_like(bins),\n",
    "    bins+s_KS_CNT*np.ones_like(bins), color='grey', alpha=0.5\n",
    ")\n",
    "line, = axes2.plot(q_order_CNT, bb, 'b')\n",
    "\n",
    "axes2.text(.05, .815, r'$p_{KS}=$'+r'{:.2f}'.format(p_KS_CNT), ha='left', va='center', fontsize=11)\n",
    "axes2.text(.05, .9, r'$p_{DS}=$'+r'{:.2f}'.format(p_DS_CNT), ha='left', va='center', fontsize=11)\n",
    "\n",
    "\n",
    "\n",
    "\n",
    "# Histogram (differential of KS curve)\n",
    "samples = len(q_cdf_ISI)\n",
    "\n",
    "axes3 = fig.add_subplot(spec[0, 1])\n",
    "axes3.xaxis.set_minor_locator(MultipleLocator(1))\n",
    "axes3.set_xlim(0.0, 1.0)\n",
    "axes3.set_xticks([])\n",
    "axes3.hist(q_cdf_ISI, bins=bins, edgecolor='b', facecolor=(0.95, 0.95, 0.95), density=True)\n",
    "axes3.plot(bins, np.ones_like(bins), 'r--')\n",
    "axes3.set_title('ISI method', fontsize=14, pad=10)\n",
    "\n",
    "axes4 = fig.add_subplot(spec[1, 1])\n",
    "tools.decorate_ax(axes4, xlim=[0.0, 1.0], ylim=[0.0, 1.0],\n",
    "                  xticks=[0, 1], yticks=[0, 1])\n",
    "bb = np.arange(0, samples+1)/samples\n",
    "line, = axes4.plot(bb, bb, 'r--')\n",
    "axes4.fill_between(\n",
    "    bins, bins-s_KS_ISI*np.ones_like(bins),\n",
    "    bins+s_KS_ISI*np.ones_like(bins), color='grey', alpha=0.5\n",
    ")\n",
    "line, = axes4.plot(q_order_ISI, bb, 'b')\n",
    "\n",
    "\"\"\"\n",
    "texts = [r'$p_{DS}=$'+r'{:.1e}'.format(p_DS), r'$p_{KS}=$'+r'{:.1e}'.format(p_KS)]\n",
    "colors = ['black','black']\n",
    "Texts = []\n",
    "for t,c in zip(texts,colors):\n",
    "    Texts.append(TextArea(t, textprops=dict(color=c, fontsize=12)))\n",
    "texts_vbox = VPacker(children=Texts, pad=2, sep=0)\n",
    "ann = AnnotationBbox(texts_vbox, (.05,.875), xycoords=axes4.transAxes,\n",
    "                            box_alignment=(0,.5), bboxprops = \n",
    "                            dict(facecolor=(0.9, 0.9, 0.9), boxstyle='round'))\n",
    "ann.set_figure(fig)\n",
    "fig.artists.append(ann)\n",
    "\"\"\"\n",
    "\n",
    "axes4.text(.05, .815, r'$p_{KS}=$'+r'{:.2f}'.format(p_KS_ISI), ha='left', va='center', fontsize=11)\n",
    "axes4.text(.05, .9, r'$p_{DS}=$'+r'{:.2f}'.format(p_DS_ISI), ha='left', va='center', fontsize=11)\n",
    "\n",
    "\n",
    "axes2.text(1.1, -0.2, r'quantile $q$', ha='center', va='center', fontsize=12)\n",
    "\n",
    "\n",
    "\n",
    "# Z score comparison\n",
    "z_tot = []\n",
    "for u in [n]:#range(units_used):\n",
    "    # compute the dispersion value z\n",
    "    passes = neurpass_avg[u].shape[0]\n",
    "    z = np.empty(passes)\n",
    "    for p in range(passes):\n",
    "        #sgn = (i_spikes[p] > i_avg[p])*2 - 1\n",
    "        sgn = 0.0 # correction is appropriate for CDF\n",
    "        z[p] = (len(neurpass_spikes[u][p])-neurpass_avg[u][p]-sgn*0.5)/np.sqrt(neurpass_avg[u][p])\n",
    "    z_tot.append((z, neurpass_len[u]*sample_bin))\n",
    "\n",
    "# histogram of z values for all used place cels\n",
    "unzip = list(zip(*z_tot))\n",
    "z_val = np.concatenate(unzip[0])\n",
    "pass_len = np.concatenate(unzip[1])\n",
    "tot_passes = pass_len.shape[0]\n",
    "print(tot_passes)\n",
    "\n",
    "mu = 0.0\n",
    "sigma = 1.0\n",
    "\n",
    "\n",
    "\n",
    "widths = [1, 1, 1]\n",
    "heights = [1]\n",
    "spec = fig.add_gridspec(ncols=3, nrows=1, width_ratios=widths, height_ratios=heights,\n",
    "                        left=0.0, right=1.0, bottom=0.0, top=0.4)\n",
    "\n",
    "axes = fig.add_subplot(spec[0, 0])\n",
    "axes.text(-0.25, 1.1, 'C', transform=axes.transAxes, size=15)\n",
    "axes.xaxis.set_minor_locator(MultipleLocator(1))\n",
    "zm = 3*np.var(z_val)\n",
    "bins = np.linspace(-zm, zm, 100)\n",
    "y = scstats.norm.pdf(bins, mu, sigma)\n",
    "axes.set_xlim(-zm, zm)\n",
    "axes.set_title(r'$Z$-score')\n",
    "axes.hist(z_val, bins=bins, edgecolor='grey', facecolor='grey', density=True)\n",
    "axes.plot(bins, y, 'r')\n",
    "axes.legend(['Theory', 'Data'])\n",
    "#axes.set_xlabel(\"$Z$\")\n",
    "axes.set_ylabel(\"Probability\")\n",
    "axes.text(0.5, 0.1, r'$\\sigma^2=${:.2f}'.format(np.var(z_val)), color='b', \n",
    "          fontsize=12, transform=axes.transAxes, ha='center')\n",
    "\n",
    "\n",
    "\n",
    "z_tot_CNT = scstats.norm.isf(1. - q_cdf_CNT)\n",
    "z_tot_ISI = scstats.norm.isf(1. - q_cdf_ISI)\n",
    "\n",
    "axes = fig.add_subplot(spec[0, 1])\n",
    "axes.xaxis.set_minor_locator(MultipleLocator(1))\n",
    "zm = 3*np.var(z_tot_CNT)\n",
    "bins = np.linspace(-zm, zm, 100)\n",
    "y = scstats.norm.pdf(bins, mu, sigma)\n",
    "axes.set_xlim(-zm, zm)\n",
    "axes.set_title('Count')\n",
    "axes.hist(z_tot_CNT, bins=bins, edgecolor='grey', facecolor='grey', density=True)\n",
    "axes.plot(bins, y, 'r')\n",
    "#axes.legend(['Theory ($\\sigma^2=1$)', 'Data ($\\sigma^2={:.2f}$)'.format(z_var)])\n",
    "axes.set_xlabel(\"$Z$\")\n",
    "#axes.set_ylabel(\"Probability\")\n",
    "axes.text(0.5, 0.1, r'$\\sigma^2=${:.2f}'.format(np.var(z_tot_CNT)), color='b', \n",
    "          fontsize=12, transform=axes.transAxes, ha='center')\n",
    "\n",
    "\n",
    "\n",
    "axes = fig.add_subplot(spec[0, 2])\n",
    "axes.xaxis.set_minor_locator(MultipleLocator(1))\n",
    "zm = 3*np.var(z_tot_ISI)\n",
    "bins = np.linspace(-zm, zm, 100)\n",
    "y = scstats.norm.pdf(bins, mu, sigma)\n",
    "axes.set_xlim(-zm, zm)\n",
    "axes.set_title('ISI')\n",
    "axes.hist(z_tot_ISI, bins=bins, edgecolor='grey', facecolor='grey', density=True)\n",
    "axes.plot(bins, y, 'r')\n",
    "#axes.legend(['Theory ($\\sigma^2=1$)', 'Data ($\\sigma^2={:.2f}$)'.format(z_var)])\n",
    "#axes.set_xlabel(\"$Z$\")\n",
    "#axes.set_ylabel(\"Probability\")\n",
    "axes.text(0.5, 0.1, r'$\\sigma^2=${:.2f}'.format(np.var(z_tot_ISI)), color='b', \n",
    "          fontsize=12, transform=axes.transAxes, ha='center')\n",
    "\n",
    "\n",
    "\n",
    "# Fisher F test, but denominator is unit normal\n",
    "F = np.var(z_val, ddof=1) # sample variance\n",
    "df = len(z_val) - 1\n",
    "F_z = scstats.chi2.sf(F, df)\n",
    "print(F_z) # extremely small\n",
    "print(F)\n",
    "\n",
    "\n",
    "\n",
    "plt.savefig('output/Z_score.svg')\n",
    "plt.savefig('output/Z_score.pdf')\n",
    "plt.show()"
   ]
  },
  {
   "cell_type": "code",
   "execution_count": null,
   "metadata": {},
   "outputs": [],
   "source": []
  },
  {
   "cell_type": "code",
   "execution_count": null,
   "metadata": {},
   "outputs": [],
   "source": []
  }
 ],
 "metadata": {
  "kernelspec": {
   "display_name": "python39",
   "language": "python",
   "name": "python39"
  },
  "language_info": {
   "codemirror_mode": {
    "name": "ipython",
    "version": 3
   },
   "file_extension": ".py",
   "mimetype": "text/x-python",
   "name": "python",
   "nbconvert_exporter": "python",
   "pygments_lexer": "ipython3",
   "version": "3.9.7"
  }
 },
 "nbformat": 4,
 "nbformat_minor": 4
}
