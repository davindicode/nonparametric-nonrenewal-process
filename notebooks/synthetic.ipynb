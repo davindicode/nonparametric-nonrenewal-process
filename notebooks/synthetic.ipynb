{
 "cells": [
  {
   "cell_type": "code",
   "execution_count": 1,
   "metadata": {},
   "outputs": [
    {
     "name": "stderr",
     "output_type": "stream",
     "text": [
      "/var/home/dl543/Documents/Learning/nonparametric-modulated-renewal/notebooks/../lib/filters/FIR.py:8: TqdmExperimentalWarning: Using `tqdm.autonotebook.tqdm` in notebook mode. Use `tqdm.tqdm` instead to force console mode (e.g. in jupyter console)\n",
      "  from tqdm.autonotebook import tqdm\n"
     ]
    }
   ],
   "source": [
    "%load_ext autoreload\n",
    "%autoreload 2\n",
    "\n",
    "import numpy as np\n",
    "\n",
    "import jax\n",
    "import jax.numpy as jnp\n",
    "import jax.random as jr\n",
    "\n",
    "import optax\n",
    "jax.config.update('jax_platform_name', 'cpu')\n",
    "\n",
    "import pickle\n",
    "\n",
    "import os\n",
    "if not os.path.exists('./output'):\n",
    "    os.makedirs('./output')\n",
    "\n",
    "import sys\n",
    "\n",
    "sys.path.append(\"..\")\n",
    "import lib\n",
    "\n",
    "sys.path.append(\"../scripts/\")\n",
    "import synthetic\n",
    "\n",
    "\n",
    "\n",
    "import matplotlib.pyplot as plt\n",
    "plt.style.use(['../paper.mplstyle'])"
   ]
  },
  {
   "cell_type": "code",
   "execution_count": 2,
   "metadata": {},
   "outputs": [],
   "source": [
    "datadir = '../scripts/checkpoint/'\n",
    "name = 'syn_data_seed123ISI3sel0.0to0.1_isi3__nonparam_pp_gp-8-matern32-10-spatial_full-fixed_grid-100-12._X[x-y-theta]_Z[]'\n",
    "#'syn_data_seed123ISI3sel0.0to0.1_PP-log__factorized_gp-32-100_X[x-y-theta]_Z[]'\n",
    "\n",
    "model = pickle.load(\n",
    "    open(datadir + name + \".p\", \"rb\")\n",
    ")\n",
    "results = pickle.load(\n",
    "    open(datadir + name + \"_result.p\", \"rb\")\n",
    ")"
   ]
  },
  {
   "cell_type": "code",
   "execution_count": 3,
   "metadata": {},
   "outputs": [
    {
     "data": {
      "text/plain": [
       "[<matplotlib.lines.Line2D at 0x7f52301e6d90>]"
      ]
     },
     "execution_count": 3,
     "metadata": {},
     "output_type": "execute_result"
    },
    {
     "data": {
      "image/png": "[encoded data removed]",
      "text/plain": [
       "<Figure size 245x183.75 with 1 Axes>"
      ]
     },
     "metadata": {},
     "output_type": "display_data"
    }
   ],
   "source": [
    "plt.plot(results['losses']['train_loss_batches'])\n",
    "plt.plot(results['losses']['train_loss_epochs'])"
   ]
  },
  {
   "cell_type": "code",
   "execution_count": 26,
   "metadata": {},
   "outputs": [
    {
     "ename": "TypeError",
     "evalue": "evaluate_posterior() missing 6 required positional arguments: 'x', 'mean_only', 'diag_cov', 'compute_KL', 'compute_aux', and 'jitter'",
     "output_type": "error",
     "traceback": [
      "\u001b[0;31m---------------------------------------------------------------------------\u001b[0m",
      "\u001b[0;31mTypeError\u001b[0m                                 Traceback (most recent call last)",
      "Input \u001b[0;32mIn [26]\u001b[0m, in \u001b[0;36m<cell line: 1>\u001b[0;34m()\u001b[0m\n\u001b[0;32m----> 1\u001b[0m \u001b[43mmodel\u001b[49m\u001b[38;5;241;43m.\u001b[39;49m\u001b[43mobs_model\u001b[49m\u001b[38;5;241;43m.\u001b[39;49m\u001b[43mgp\u001b[49m\u001b[38;5;241;43m.\u001b[39;49m\u001b[43mevaluate_posterior\u001b[49m\u001b[43m(\u001b[49m\u001b[43m)\u001b[49m\n",
      "\u001b[0;31mTypeError\u001b[0m: evaluate_posterior() missing 6 required positional arguments: 'x', 'mean_only', 'diag_cov', 'compute_KL', 'compute_aux', and 'jitter'"
     ]
    }
   ],
   "source": [
    "model.obs_model.gp.evaluate_posterior()"
   ]
  },
  {
   "cell_type": "code",
   "execution_count": 4,
   "metadata": {},
   "outputs": [
    {
     "data": {
      "text/plain": [
       "GPLVM(\n",
       "  array_type=0,\n",
       "  inp_model=GaussianLatentObservedSeries(\n",
       "    array_type=0,\n",
       "    ssgp=None,\n",
       "    lat_dims=[],\n",
       "    obs_dims=[0, 1, 2],\n",
       "    x_dims=3,\n",
       "    diagonal_cov=True\n",
       "  ),\n",
       "  obs_model=NonparametricPointProcess(\n",
       "    array_type=0,\n",
       "    gp=KroneckerLTI(\n",
       "      array_type=0,\n",
       "      site_locs=f32[5,10],\n",
       "      site_obs=f32[5,10,8,1],\n",
       "      site_Lcov=f32[5,10,8,8],\n",
       "      kernel=MarkovSparseKronecker(\n",
       "        array_type=0,\n",
       "        in_dims=6,\n",
       "        out_dims=5,\n",
       "        state_dims=50,\n",
       "        markov_factor=Matern32(\n",
       "          array_type=0,\n",
       "          in_dims=1,\n",
       "          out_dims=5,\n",
       "          state_dims=10,\n",
       "          pre_len=f32[5,1],\n",
       "          pre_var=f32[5],\n",
       "          metric_type=0\n",
       "        ),\n",
       "        sparse_factor=Product(\n",
       "          array_type=0,\n",
       "          in_dims=5,\n",
       "          out_dims=5,\n",
       "          kernels=[\n",
       "            SquaredExponential(\n",
       "              array_type=0,\n",
       "              in_dims=4,\n",
       "              out_dims=5,\n",
       "              state_dims=None,\n",
       "              pre_len=f32[5,4],\n",
       "              pre_var=f32[5],\n",
       "              metric_type=0\n",
       "            ),\n",
       "            SquaredExponential(\n",
       "              array_type=0,\n",
       "              in_dims=1,\n",
       "              out_dims=5,\n",
       "              state_dims=None,\n",
       "              pre_len=f32[5,1],\n",
       "              pre_var=f32[5],\n",
       "              metric_type=1\n",
       "            )\n",
       "          ],\n",
       "          dims_list=[[0, 1, 2, 3], [4]]\n",
       "        ),\n",
       "        induc_locs=f32[5,8,5]\n",
       "      ),\n",
       "      spatial_MF=False,\n",
       "      fixed_grid_locs=True,\n",
       "      RFF_num_feats=100\n",
       "    ),\n",
       "    pp=PointProcess(\n",
       "      array_type=0,\n",
       "      f_dims=5,\n",
       "      obs_dims=5,\n",
       "      link_type=0,\n",
       "      num_f_per_obs=1,\n",
       "      dt=0.001\n",
       "    ),\n",
       "    modulated=True,\n",
       "    warp_tau=f32[5],\n",
       "    refract_tau=f32[5],\n",
       "    refract_neg=-12.0,\n",
       "    mean_bias=f32[5]\n",
       "  )\n",
       ")"
      ]
     },
     "execution_count": 4,
     "metadata": {},
     "output_type": "execute_result"
    }
   ],
   "source": [
    "model"
   ]
  },
  {
   "cell_type": "code",
   "execution_count": null,
   "metadata": {},
   "outputs": [],
   "source": []
  },
  {
   "cell_type": "code",
   "execution_count": null,
   "metadata": {},
   "outputs": [],
   "source": []
  },
  {
   "cell_type": "code",
   "execution_count": null,
   "metadata": {},
   "outputs": [],
   "source": []
  }
 ],
 "metadata": {
  "kernelspec": {
   "display_name": "python39",
   "language": "python",
   "name": "python39"
  },
  "language_info": {
   "codemirror_mode": {
    "name": "ipython",
    "version": 3
   },
   "file_extension": ".py",
   "mimetype": "text/x-python",
   "name": "python",
   "nbconvert_exporter": "python",
   "pygments_lexer": "ipython3",
   "version": "3.9.16"
  }
 },
 "nbformat": 4,
 "nbformat_minor": 4
}
