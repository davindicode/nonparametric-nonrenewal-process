{
 "cells": [
  {
   "cell_type": "code",
   "execution_count": 2,
   "metadata": {},
   "outputs": [
    {
     "name": "stderr",
     "output_type": "stream",
     "text": [
      "/var/home/dl543/Documents/Learning/nonparametric-modulated-renewal/notebooks/../../GaussNeuro/gaussneuro/filters/FIR.py:8: TqdmExperimentalWarning: Using `tqdm.autonotebook.tqdm` in notebook mode. Use `tqdm.tqdm` instead to force console mode (e.g. in jupyter console)\n",
      "  from tqdm.autonotebook import tqdm\n"
     ]
    }
   ],
   "source": [
    "%load_ext autoreload\n",
    "%autoreload 2\n",
    "\n",
    "import numpy as np\n",
    "\n",
    "import equinox as eqx\n",
    "import jax\n",
    "import jax.numpy as jnp\n",
    "import jax.random as jr\n",
    "\n",
    "import optax\n",
    "jax.config.update('jax_platform_name', 'cpu')\n",
    "#jax.config.update(\"jax_enable_x64\", True)\n",
    "\n",
    "import pickle\n",
    "\n",
    "\n",
    "import sys\n",
    "\n",
    "sys.path.append(\"../../GaussNeuro\")\n",
    "import gaussneuro as lib\n",
    "\n",
    "sys.path.append(\"../scripts/fit\")\n",
    "import synthetic\n",
    "import template\n",
    "\n",
    "\n",
    "\n",
    "import matplotlib.pyplot as plt\n",
    "#plt.style.use(['../paper.mplstyle'])"
   ]
  },
  {
   "cell_type": "code",
   "execution_count": 3,
   "metadata": {},
   "outputs": [],
   "source": [
    "jax.config.update('jax_platform_name', 'cpu')\n",
    "#jax.config.update(\"jax_enable_x64\", True)\n",
    "\n",
    "# seed everything\n",
    "seed = 1234\n",
    "prng_state = jax.random.PRNGKey(seed)\n",
    "rng = np.random.default_rng(seed)"
   ]
  },
  {
   "cell_type": "markdown",
   "metadata": {},
   "source": [
    "## Data"
   ]
  },
  {
   "cell_type": "code",
   "execution_count": 14,
   "metadata": {},
   "outputs": [],
   "source": [
    "### data ###\n",
    "data_path = \"../data/synthetic/\"\n",
    "session_name = \"syn_data_seed123\"\n",
    "max_ISI_order = 4\n",
    "\n",
    "select_fracs = [0.0, 1.0]\n",
    "\n",
    "dataset_dict = synthetic.spikes_dataset(session_name, data_path, max_ISI_order, select_fracs)\n",
    "\n",
    "#covariates = dataset_dict['covariates']\n",
    "#x_t, y_t = covariates['x'], covariates['y']\n"
   ]
  },
  {
   "cell_type": "code",
   "execution_count": 16,
   "metadata": {},
   "outputs": [
    {
     "data": {
      "text/plain": [
       "(973113, 9, 4)"
      ]
     },
     "execution_count": 16,
     "metadata": {},
     "output_type": "execute_result"
    }
   ],
   "source": [
    "dataset_dict[\"ISIs\"].shape"
   ]
  },
  {
   "cell_type": "markdown",
   "metadata": {},
   "source": [
    "<a id='behav'></a>\n",
    "## Poisson point process"
   ]
  },
  {
   "cell_type": "code",
   "execution_count": 17,
   "metadata": {
    "scrolled": true
   },
   "outputs": [],
   "source": [
    "### model ###\n",
    "checkpoint_dir = '../scripts/checkpoint/'\n",
    "name = 'syn_data_seed123ISI4sel0.0to1.0_PP-log__factorized_gp-32-100_X[x-y-theta]_Z[]'\n",
    "\n",
    "\n",
    "results = pickle.load(\n",
    "    open(datadir + name + \".p\", \"rb\")\n",
    ")\n",
    "config = results[\"config\"]\n",
    "seed = results[\"best_seed\"]\n",
    "\n",
    "\n",
    "# data\n",
    "timestamps, covariates, ISIs, observations, filter_length = template.select_inputs(\n",
    "    dataset_dict, config)\n",
    "obs_covs_dims = covariates.shape[-1]\n",
    "spikes = observations.astype(bool)\n",
    "\n",
    "\n",
    "# model\n",
    "model = template.build_model(\n",
    "    config, dataset_dict, synthetic.observed_kernel_dict_induc_list, seed, timestamps, obs_covs_dims)\n",
    "model = eqx.tree_deserialise_leaves(checkpoint_dir + name + \".eqx\", model)\n"
   ]
  },
  {
   "cell_type": "code",
   "execution_count": 18,
   "metadata": {},
   "outputs": [
    {
     "data": {
      "image/png": "[encoded data removed]",
      "text/plain": [
       "<Figure size 432x288 with 1 Axes>"
      ]
     },
     "metadata": {
      "needs_background": "light"
     },
     "output_type": "display_data"
    },
    {
     "data": {
      "image/png": "[encoded data removed]",
      "text/plain": [
       "<Figure size 432x288 with 1 Axes>"
      ]
     },
     "metadata": {
      "needs_background": "light"
     },
     "output_type": "display_data"
    }
   ],
   "source": [
    "batches = len(results['losses']['train_loss_batches'])\n",
    "epochs = len(results['losses']['train_loss_epochs'])\n",
    "delta_be = batches // epochs\n",
    "\n",
    "plt.plot(np.arange(batches), results['losses']['train_loss_batches'], alpha=0.4)\n",
    "plt.plot(delta_be*np.arange(epochs), results['losses']['train_loss_epochs'])\n",
    "plt.show()\n",
    "\n",
    "plt.plot(np.log10(results['lrs']))\n",
    "plt.show()"
   ]
  },
  {
   "cell_type": "code",
   "execution_count": 20,
   "metadata": {},
   "outputs": [
    {
     "ename": "AttributeError",
     "evalue": "module 'gaussneuro.utils.neural' has no attribute 'KS_test'",
     "output_type": "error",
     "traceback": [
      "\u001b[0;31m---------------------------------------------------------------------------\u001b[0m",
      "\u001b[0;31mAttributeError\u001b[0m                            Traceback (most recent call last)",
      "Input \u001b[0;32mIn [20]\u001b[0m, in \u001b[0;36m<cell line: 18>\u001b[0;34m()\u001b[0m\n\u001b[1;32m     13\u001b[0m rescaled_intervals \u001b[38;5;241m=\u001b[39m lib\u001b[38;5;241m.\u001b[39mutils\u001b[38;5;241m.\u001b[39mneural\u001b[38;5;241m.\u001b[39mtime_rescale(\n\u001b[1;32m     14\u001b[0m     ys\u001b[38;5;241m.\u001b[39mT, post_mean_rho\u001b[38;5;241m.\u001b[39mT, model\u001b[38;5;241m.\u001b[39mobs_model\u001b[38;5;241m.\u001b[39mlikelihood\u001b[38;5;241m.\u001b[39mdt, max_intervals\u001b[38;5;241m=\u001b[39m\u001b[38;5;241m100\u001b[39m)\n\u001b[1;32m     16\u001b[0m pp \u001b[38;5;241m=\u001b[39m lib\u001b[38;5;241m.\u001b[39mlikelihoods\u001b[38;5;241m.\u001b[39mExponential(\n\u001b[1;32m     17\u001b[0m     model\u001b[38;5;241m.\u001b[39mobs_model\u001b[38;5;241m.\u001b[39mlikelihood\u001b[38;5;241m.\u001b[39mobs_dims, model\u001b[38;5;241m.\u001b[39mobs_model\u001b[38;5;241m.\u001b[39mlikelihood\u001b[38;5;241m.\u001b[39mdt)\n\u001b[0;32m---> 18\u001b[0m sort_cdfs, T_KS, p \u001b[38;5;241m=\u001b[39m \u001b[43mlib\u001b[49m\u001b[38;5;241;43m.\u001b[39;49m\u001b[43mutils\u001b[49m\u001b[38;5;241;43m.\u001b[39;49m\u001b[43mneural\u001b[49m\u001b[38;5;241;43m.\u001b[39;49m\u001b[43mKS_test\u001b[49m(pp\u001b[38;5;241m.\u001b[39mcum_density, rescaled_intervals)\n\u001b[1;32m     21\u001b[0m \u001b[38;5;66;03m# LPD\u001b[39;00m\n\u001b[1;32m     22\u001b[0m lik_int_method \u001b[38;5;241m=\u001b[39m {\n\u001b[1;32m     23\u001b[0m     \u001b[38;5;124m\"\u001b[39m\u001b[38;5;124mtype\u001b[39m\u001b[38;5;124m\"\u001b[39m: \u001b[38;5;124m\"\u001b[39m\u001b[38;5;124mGH\u001b[39m\u001b[38;5;124m\"\u001b[39m, \n\u001b[1;32m     24\u001b[0m     \u001b[38;5;124m\"\u001b[39m\u001b[38;5;124mapprox_pts\u001b[39m\u001b[38;5;124m\"\u001b[39m: \u001b[38;5;241m100\u001b[39m, \n\u001b[1;32m     25\u001b[0m }\n",
      "\u001b[0;31mAttributeError\u001b[0m: module 'gaussneuro.utils.neural' has no attribute 'KS_test'"
     ]
    }
   ],
   "source": [
    "prng_state = jr.PRNGKey(123)\n",
    "jitter = 1e-6\n",
    "\n",
    "st = 0\n",
    "xs = covariates\n",
    "deltas = ISIs.transpose(1, 0, 2)[:, st:, :1] if ISIs is not None else ISIs\n",
    "ys = spikes[:, st:]\n",
    "ys_filt = spikes[:, st+filter_length:]\n",
    "\n",
    "post_mean_rho = model.obs_model.evaluate_posterior_mean(\n",
    "    prng_state, xs, ys_filt, jitter, None)\n",
    "\n",
    "rescaled_intervals = lib.utils.neural.time_rescale(\n",
    "    ys.T, post_mean_rho.T, model.obs_model.likelihood.dt, max_intervals=100)\n",
    "\n",
    "pp = lib.likelihoods.Exponential(\n",
    "    model.obs_model.likelihood.obs_dims, model.obs_model.likelihood.dt)\n",
    "quants = lib.utils.stats.ISIs_to_quantiles(pp.cum_density, rescaled_intervals)\n",
    "sort_cdfs, T_KS, p = lib.utils.stats.KS_test(quants)\n",
    "\n",
    "\n",
    "# LPD\n",
    "lik_int_method = {\n",
    "    \"type\": \"GH\", \n",
    "    \"approx_pts\": 100, \n",
    "}\n",
    "\n",
    "lpd, _ = model.obs_model.variational_expectation(\n",
    "    prng_state, jitter, xs[None, None], ys, ys_filt, False, lik_int_method, False)\n"
   ]
  },
  {
   "cell_type": "code",
   "execution_count": 42,
   "metadata": {},
   "outputs": [
    {
     "data": {
      "image/png": "[encoded data removed]",
      "text/plain": [
       "<Figure size 245x183.75 with 1 Axes>"
      ]
     },
     "metadata": {},
     "output_type": "display_data"
    },
    {
     "name": "stdout",
     "output_type": "stream",
     "text": [
      "0.00767702\n"
     ]
    }
   ],
   "source": [
    "for n in range(len(sort_cdfs)):\n",
    "    plt.plot(np.linspace(0., 1., len(sort_cdfs[n])), sort_cdfs[n], alpha=0.7)\n",
    "plt.plot(np.linspace(0., 1., 100), np.linspace(0., 1., 100), c='k')\n",
    "plt.show()\n",
    "\n",
    "print(lpd)"
   ]
  },
  {
   "cell_type": "code",
   "execution_count": 12,
   "metadata": {},
   "outputs": [],
   "source": [
    "### evaluation ###\n",
    "x_evals = 40\n",
    "y_evals = 40\n",
    "x_dims = 2\n",
    "\n",
    "x_eval = jnp.linspace(0, 500, x_evals)\n",
    "y_eval = jnp.linspace(0, 500, y_evals)\n",
    "evalsteps = x_eval*y_eval\n",
    "\n",
    "x_eval, y_eval = np.meshgrid(x_eval, y_eval)\n",
    "or_shape = x_eval.shape\n",
    "\n",
    "pos_eval = jnp.stack([x_eval, y_eval], axis=-1).reshape(-1, x_dims)\n",
    "theta_eval = 0.0 * jnp.ones((pos_eval.shape[0], 1))\n",
    "\n",
    "sp_locs = model.obs_model.gp.induc_locs\n",
    "locs_eval = jnp.concatenate((pos_eval, theta_eval), axis=-1)[None, None, ...]\n",
    "\n",
    "\n",
    "post_mean, post_cov, KL = model.obs_model._gp_posterior(\n",
    "    locs_eval, mean_only=False, diag_cov=True, compute_KL=True, jitter=1e-8)\n",
    "\n",
    "neurons = model.obs_model.likelihood.obs_dims\n",
    "\n",
    "post_mean = post_mean[0].reshape(neurons, *or_shape)\n",
    "post_var = post_cov[0].reshape(neurons, *or_shape)\n",
    "\n",
    "link_fn = model.obs_model.likelihood.inverse_link"
   ]
  },
  {
   "cell_type": "code",
   "execution_count": null,
   "metadata": {},
   "outputs": [],
   "source": []
  },
  {
   "cell_type": "code",
   "execution_count": 21,
   "metadata": {},
   "outputs": [
    {
     "data": {
      "image/png": "[encoded data removed]",
      "text/plain": [
       "<Figure size 560x280 with 2 Axes>"
      ]
     },
     "metadata": {},
     "output_type": "display_data"
    },
    {
     "data": {
      "image/png": "[encoded data removed]",
      "text/plain": [
       "<Figure size 245x183.75 with 1 Axes>"
      ]
     },
     "metadata": {},
     "output_type": "display_data"
    }
   ],
   "source": [
    "n = 1\n",
    "\n",
    "\n",
    "fig = plt.figure(figsize=(8, 4))\n",
    "widths = [1, 1, 0.03]\n",
    "heights = [1]\n",
    "\n",
    "spec = fig.add_gridspec(ncols=len(widths), nrows=len(heights), width_ratios=widths, \n",
    "                        height_ratios=heights, top=1., bottom=0.0, \n",
    "                        left=0., right=1., wspace=0.3)\n",
    "\n",
    "ax = fig.add_subplot(spec[0, 1])\n",
    "lib.utils.plots.decorate_ax(ax)  # get all four spines around plot\n",
    "ax.scatter(sp_locs[n, :, 0], sp_locs[n, :, 1], marker='.', c='r')\n",
    "im = ax.imshow(link_fn(post_mean[n, ...]), \n",
    "           extent=[locs_eval[..., 0].min(), locs_eval[..., 0].max(), \n",
    "                   locs_eval[..., 1].min(), locs_eval[..., 1].max()], \n",
    "           aspect='equal', origin='lower', cmap='viridis', vmin=0.)\n",
    "ax.set_xlabel('$x$')\n",
    "ax.set_ylabel('$y$')\n",
    "#ax.set_title('noise correlations')\n",
    "\n",
    "\n",
    "ax = fig.add_subplot(spec[0, 2])\n",
    "lib.utils.plots.add_colorbar((fig, ax), im, cbar_outline=False, cbar_ori='vertical', cbar_fontsize=12, \n",
    "    cbar_pad=20, ticktitle=None, ticks=None, ticklabels=None, cbar_format=None)\n",
    "\n",
    "\n",
    "# plt.scatter(sp_locs[n, :, 0], sp_locs[n, :, 1], marker='.', c='r')\n",
    "# plt.imshow(post_var[n, ...], \n",
    "#            extent=[locs_eval[..., 0].min(), locs_eval[..., 0].max(), \n",
    "#                    locs_eval[..., 1].min(), locs_eval[..., 1].max()], \n",
    "#            aspect='equal', vmin=0., origin='lower', cmap='viridis')\n",
    "# plt.show()\n",
    "\n",
    "fig = plt.figure()\n",
    "n = 0\n",
    "plt.plot(x_t, y_t, alpha=0.5)\n",
    "plt.scatter(x_t[spikes[n].astype(bool)], y_t[spikes[n].astype(bool)], c='r')\n",
    "plt.show()"
   ]
  },
  {
   "cell_type": "code",
   "execution_count": 22,
   "metadata": {},
   "outputs": [
    {
     "data": {
      "text/plain": [
       "[<matplotlib.lines.Line2D at 0x7f72986cbb50>]"
      ]
     },
     "execution_count": 22,
     "metadata": {},
     "output_type": "execute_result"
    },
    {
     "data": {
      "image/png": "[encoded data removed]",
      "text/plain": [
       "<Figure size 245x183.75 with 1 Axes>"
      ]
     },
     "metadata": {},
     "output_type": "display_data"
    }
   ],
   "source": [
    "plt.plot(link_fn(post_mean)[n, 25, :])\n",
    "\n",
    "\n",
    "f_dim = 0\n",
    "x_dim = 0\n",
    "tr = list(range(num_samps))\n",
    "\n",
    "n_ps = qf_c.shape[-2]\n",
    "#qf_v = qf_c[f_dim, tr, 0]\n",
    "qf_v = qf_c[0, f_dim, np.arange(n_ps), np.arange(n_ps)]\n",
    "lb = qf_m[0, f_dim, :, 0] - 1.96 * qf_v ** 0.5\n",
    "ub = qf_m[0, f_dim, :, 0] + 1.96 * qf_v ** 0.5\n",
    "m = qf_m[0, f_dim, :, 0]\n",
    "\n",
    "x = xx[0, f_dim ,:, x_dim]\n",
    "\n",
    "plt.plot(x, m, 'b', label='posterior mean')\n",
    "plt.fill_between(x, lb, ub, color='b', alpha=0.05, label='95% confidence')#\n",
    "plt.plot(x, qf_x[tr, f_dim, :].T, alpha=0.3)\n",
    "plt.scatter(induc_locs[f_dim, :, x_dim], u_mu[f_dim, :, 0], marker='x', s=100)\n",
    "plt.show()"
   ]
  },
  {
   "cell_type": "markdown",
   "metadata": {},
   "source": [
    "<a id='behav'></a>\n",
    "## Modulated renewal process"
   ]
  },
  {
   "cell_type": "code",
   "execution_count": 214,
   "metadata": {},
   "outputs": [],
   "source": [
    "### model ###\n",
    "datadir = '../scripts/checkpoint/'\n",
    "name = 'syn_data_seed123ISI4sel0.0to1.0_gamma-log__mod_renewal_gp-32-100_X[x-y-theta]_Z[]'\n",
    "\n",
    "\n",
    "results = pickle.load(\n",
    "    open(datadir + name + \".p\", \"rb\")\n",
    ")\n",
    "config = results[\"config\"]\n",
    "seed = results[\"best_seed\"]\n",
    "\n",
    "# data\n",
    "timestamps, covariates, ISIs, observations, filter_length = gplvm_template.select_inputs(\n",
    "    dataset_dict, config)\n",
    "obs_covs_dims = covariates.shape[-1]\n",
    "spikes = observations.astype(bool)\n",
    "\n",
    "\n",
    "# model\n",
    "model = gplvm_template.build_model(\n",
    "    config, dataset_dict, synthetic.observed_kernel_dict_induc_list, seed, timestamps, obs_covs_dims)\n",
    "model = eqx.tree_deserialise_leaves(datadir + name + \".eqx\", model)"
   ]
  },
  {
   "cell_type": "code",
   "execution_count": 215,
   "metadata": {},
   "outputs": [
    {
     "data": {
      "image/png": "[encoded data removed]",
      "text/plain": [
       "<Figure size 245x183.75 with 1 Axes>"
      ]
     },
     "metadata": {},
     "output_type": "display_data"
    },
    {
     "data": {
      "image/png": "[encoded data removed]",
      "text/plain": [
       "<Figure size 245x183.75 with 1 Axes>"
      ]
     },
     "metadata": {},
     "output_type": "display_data"
    }
   ],
   "source": [
    "batches = len(results['losses']['train_loss_batches'])\n",
    "epochs = len(results['losses']['train_loss_epochs'])\n",
    "delta_be = batches // epochs\n",
    "\n",
    "plt.plot(np.arange(batches), results['losses']['train_loss_batches'], alpha=0.4)\n",
    "plt.scatter(delta_be//2 + delta_be*np.arange(epochs), results['losses']['train_loss_epochs'])\n",
    "plt.show()\n",
    "\n",
    "plt.plot(np.log10(results['lrs']))\n",
    "plt.show()"
   ]
  },
  {
   "cell_type": "code",
   "execution_count": 217,
   "metadata": {},
   "outputs": [
    {
     "name": "stdout",
     "output_type": "stream",
     "text": [
      "(970749, 5)\n"
     ]
    }
   ],
   "source": [
    "prng_state = jr.PRNGKey(123)\n",
    "jitter = 1e-6\n",
    "\n",
    "st = 0\n",
    "xs = covariates\n",
    "taus = ISIs[:, st:, 0] if ISIs is not None else ISIs\n",
    "ys = spikes[:, st:]\n",
    "ys_filt = spikes[:, st+filter_length:]\n",
    "\n",
    "post_mean_rho = model.obs_model.evaluate_posterior_mean(prng_state, xs, taus, ys_filt, jitter)\n",
    "\n",
    "rescaled_intervals = lib.utils.neural.time_rescale(\n",
    "    ys.T, post_mean_rho.T, model.obs_model.renewal.dt, max_intervals=100)\n",
    "\n",
    "pp = lib.likelihoods.Exponential(\n",
    "    model.obs_model.renewal.obs_dims, model.obs_model.renewal.dt)\n",
    "sort_cdfs, T_KS, p = lib.utils.neural.KS_test(pp.cum_density, rescaled_intervals)\n",
    "\n",
    "\n",
    "# LPD\n",
    "lik_int_method = {\n",
    "    \"type\": \"GH\", \n",
    "    \"approx_pts\": 100, \n",
    "}\n",
    "\n",
    "lpd, _ = model.obs_model.variational_expectation(\n",
    "    prng_state, jitter, xs[None, None], taus, ys, ys_filt, False, lik_int_method, True)\n"
   ]
  },
  {
   "cell_type": "code",
   "execution_count": 219,
   "metadata": {},
   "outputs": [
    {
     "data": {
      "image/png": "[encoded data removed]",
      "text/plain": [
       "<Figure size 245x183.75 with 1 Axes>"
      ]
     },
     "metadata": {},
     "output_type": "display_data"
    },
    {
     "name": "stdout",
     "output_type": "stream",
     "text": [
      "-0.0014814076\n"
     ]
    }
   ],
   "source": [
    "for n in range(len(sort_cdfs)):\n",
    "    plt.plot(np.linspace(0., 1., len(sort_cdfs[n])), sort_cdfs[n], alpha=0.7)\n",
    "plt.plot(np.linspace(0., 1., 100), np.linspace(0., 1., 100), c='k')\n",
    "plt.show()\n",
    "\n",
    "print(lpd)"
   ]
  },
  {
   "cell_type": "code",
   "execution_count": 220,
   "metadata": {},
   "outputs": [
    {
     "data": {
      "text/plain": [
       "DeviceArray([0.96334964, 2.5       , 2.5       , 2.5       , 2.5       ],            dtype=float32)"
      ]
     },
     "execution_count": 220,
     "metadata": {},
     "output_type": "execute_result"
    }
   ],
   "source": [
    "model.obs_model.renewal.alpha"
   ]
  },
  {
   "cell_type": "markdown",
   "metadata": {},
   "source": [
    "<a id='behav'></a>\n",
    "## Rate rescaled renewal process"
   ]
  },
  {
   "cell_type": "code",
   "execution_count": 2,
   "metadata": {},
   "outputs": [
    {
     "ename": "EOFError",
     "evalue": "Ran out of input",
     "output_type": "error",
     "traceback": [
      "\u001b[0;31m---------------------------------------------------------------------------\u001b[0m",
      "\u001b[0;31mEOFError\u001b[0m                                  Traceback (most recent call last)",
      "Input \u001b[0;32mIn [2]\u001b[0m, in \u001b[0;36m<cell line: 6>\u001b[0;34m()\u001b[0m\n\u001b[1;32m      2\u001b[0m datadir \u001b[38;5;241m=\u001b[39m \u001b[38;5;124m'\u001b[39m\u001b[38;5;124m../scripts/checkpoint/\u001b[39m\u001b[38;5;124m'\u001b[39m\n\u001b[1;32m      3\u001b[0m name \u001b[38;5;241m=\u001b[39m \u001b[38;5;124m'\u001b[39m\u001b[38;5;124msyn_data_seed123ISI4sel0.0to1.0_gamma-log__rate_renewal_gp-32-100_X[x-y-theta]_Z[]\u001b[39m\u001b[38;5;124m'\u001b[39m\n\u001b[0;32m----> 6\u001b[0m results \u001b[38;5;241m=\u001b[39m \u001b[43mpickle\u001b[49m\u001b[38;5;241;43m.\u001b[39;49m\u001b[43mload\u001b[49m\u001b[43m(\u001b[49m\n\u001b[1;32m      7\u001b[0m \u001b[43m    \u001b[49m\u001b[38;5;28;43mopen\u001b[39;49m\u001b[43m(\u001b[49m\u001b[43mdatadir\u001b[49m\u001b[43m \u001b[49m\u001b[38;5;241;43m+\u001b[39;49m\u001b[43m \u001b[49m\u001b[43mname\u001b[49m\u001b[43m \u001b[49m\u001b[38;5;241;43m+\u001b[39;49m\u001b[43m \u001b[49m\u001b[38;5;124;43m\"\u001b[39;49m\u001b[38;5;124;43m.p\u001b[39;49m\u001b[38;5;124;43m\"\u001b[39;49m\u001b[43m,\u001b[49m\u001b[43m \u001b[49m\u001b[38;5;124;43m\"\u001b[39;49m\u001b[38;5;124;43mrb\u001b[39;49m\u001b[38;5;124;43m\"\u001b[39;49m\u001b[43m)\u001b[49m\n\u001b[1;32m      8\u001b[0m \u001b[43m)\u001b[49m\n\u001b[1;32m      9\u001b[0m config \u001b[38;5;241m=\u001b[39m results[\u001b[38;5;124m\"\u001b[39m\u001b[38;5;124mconfig\u001b[39m\u001b[38;5;124m\"\u001b[39m]\n\u001b[1;32m     10\u001b[0m seed \u001b[38;5;241m=\u001b[39m results[\u001b[38;5;124m\"\u001b[39m\u001b[38;5;124mbest_seed\u001b[39m\u001b[38;5;124m\"\u001b[39m]\n",
      "\u001b[0;31mEOFError\u001b[0m: Ran out of input"
     ]
    }
   ],
   "source": [
    "### model ###\n",
    "datadir = '../scripts/checkpoint/'\n",
    "name = 'syn_data_seed123ISI4sel0.0to1.0_gamma-log__rate_renewal_gp-32-100_X[x-y-theta]_Z[]'\n",
    "\n",
    "\n",
    "results = pickle.load(\n",
    "    open(datadir + name + \".p\", \"rb\")\n",
    ")\n",
    "config = results[\"config\"]\n",
    "seed = results[\"best_seed\"]\n",
    "\n",
    "\n",
    "# data\n",
    "timestamps, covariates, ISIs, observations, filter_length = gplvm_template.select_inputs(\n",
    "    dataset_dict, config)\n",
    "obs_covs_dims = covariates.shape[-1]\n",
    "spikes = observations.astype(bool)\n",
    "\n",
    "\n",
    "# model\n",
    "model = gplvm_template.build_model(\n",
    "    config, dataset_dict, synthetic.observed_kernel_dict_induc_list, seed, timestamps, obs_covs_dims)\n",
    "model = eqx.tree_deserialise_leaves(datadir + name + \".eqx\", model)"
   ]
  },
  {
   "cell_type": "code",
   "execution_count": null,
   "metadata": {},
   "outputs": [],
   "source": [
    "batches = len(results['losses']['train_loss_batches'])\n",
    "epochs = len(results['losses']['train_loss_epochs'])\n",
    "delta_be = batches // epochs\n",
    "\n",
    "plt.plot(np.arange(batches), results['losses']['train_loss_batches'], alpha=0.4)\n",
    "plt.scatter(delta_be//2 + delta_be*np.arange(epochs), results['losses']['train_loss_epochs'])\n",
    "plt.show()\n",
    "\n",
    "plt.plot(np.log10(results['lrs']))\n",
    "plt.show()"
   ]
  },
  {
   "cell_type": "code",
   "execution_count": null,
   "metadata": {},
   "outputs": [],
   "source": [
    "prng_state = jr.PRNGKey(123)\n",
    "jitter = 1e-6\n",
    "\n",
    "st = 0\n",
    "xs = covariates\n",
    "taus = ISIs[:, st:, 0] if ISIs is not None else ISIs\n",
    "ys = spikes[:, st:]\n",
    "ys_filt = spikes[:, st+filter_length:]\n",
    "\n",
    "post_mean_rho = model.obs_model.evaluate_posterior_mean(prng_state, xs, ys_filt, jitter)\n",
    "\n",
    "rescaled_intervals = lib.utils.neural.time_rescale(\n",
    "    ys.T, post_mean_rho.T, model.obs_model.renewal.dt, max_intervals=100)\n",
    "\n",
    "sort_cdfs, T_KS, p = lib.utils.neural.KS_test(\n",
    "    model.obs_model.renewal.cum_density, rescaled_intervals)\n",
    "\n",
    "\n",
    "# LPD\n",
    "lik_int_method = {\n",
    "    \"type\": \"GH\", \n",
    "    \"approx_pts\": 100, \n",
    "}\n",
    "\n",
    "lpd, _ = model.obs_model.variational_expectation(\n",
    "    prng_state, jitter, xs[None, None], taus, ys, ys_filt, False, lik_int_method, True)\n"
   ]
  },
  {
   "cell_type": "code",
   "execution_count": null,
   "metadata": {},
   "outputs": [],
   "source": []
  },
  {
   "cell_type": "markdown",
   "metadata": {},
   "source": [
    "<a id='behav'></a>\n",
    "## Conditional Poisson point process"
   ]
  },
  {
   "cell_type": "code",
   "execution_count": 47,
   "metadata": {},
   "outputs": [],
   "source": [
    "### model ###\n",
    "datadir = '../scripts/checkpoint/'\n",
    "name = 'syn_data_seed123ISI4sel0.0to1.0_PP-log_rcb-1-10.-1.-1.-self-H500_factorized_gp-32-100_X[x-y-theta]_Z[]'\n",
    "\n",
    "\n",
    "results = pickle.load(\n",
    "    open(datadir + name + \".p\", \"rb\")\n",
    ")\n",
    "config = results[\"config\"]\n",
    "seed = results[\"best_seed\"]\n",
    "\n",
    "\n",
    "# data\n",
    "timestamps, covariates, ISIs, observations, filter_length = gplvm_template.select_inputs(\n",
    "    dataset_dict, config)\n",
    "obs_covs_dims = covariates.shape[-1]\n",
    "spikes = observations.astype(bool)\n",
    "\n",
    "\n",
    "# model\n",
    "model = gplvm_template.build_model(\n",
    "    config, dataset_dict, synthetic.observed_kernel_dict_induc_list, seed, timestamps, obs_covs_dims)\n",
    "model = eqx.tree_deserialise_leaves(datadir + name + \".eqx\", model)\n"
   ]
  },
  {
   "cell_type": "code",
   "execution_count": 48,
   "metadata": {},
   "outputs": [
    {
     "data": {
      "image/png": "[encoded data removed]",
      "text/plain": [
       "<Figure size 245x183.75 with 1 Axes>"
      ]
     },
     "metadata": {},
     "output_type": "display_data"
    },
    {
     "data": {
      "image/png": "[encoded data removed]",
      "text/plain": [
       "<Figure size 245x183.75 with 1 Axes>"
      ]
     },
     "metadata": {},
     "output_type": "display_data"
    }
   ],
   "source": [
    "batches = len(results['losses']['train_loss_batches'])\n",
    "epochs = len(results['losses']['train_loss_epochs'])\n",
    "delta_be = batches // epochs\n",
    "\n",
    "plt.plot(np.arange(batches), results['losses']['train_loss_batches'], alpha=0.4)\n",
    "plt.plot(delta_be*np.arange(epochs), results['losses']['train_loss_epochs'])\n",
    "plt.show()\n",
    "\n",
    "plt.plot(np.log10(results['lrs']))\n",
    "plt.show()"
   ]
  },
  {
   "cell_type": "code",
   "execution_count": 52,
   "metadata": {},
   "outputs": [],
   "source": [
    "prng_state = jr.PRNGKey(123)\n",
    "jitter = 1e-6\n",
    "\n",
    "st = 0\n",
    "xs = covariates\n",
    "deltas = ISIs.transpose(1, 0, 2)[:, st:, :1] if ISIs is not None else ISIs\n",
    "ys = spikes[:, st+filter_length:]\n",
    "ys_filt = observations[:, st:-1]\n",
    "\n",
    "post_mean_rho = model.obs_model.evaluate_posterior_mean(prng_state, xs, ys_filt, jitter)\n",
    "\n",
    "rescaled_intervals = lib.utils.neural.time_rescale(\n",
    "    ys.T, post_mean_rho.T, model.obs_model.likelihood.dt, max_intervals=100)\n",
    "\n",
    "pp = lib.likelihoods.Exponential(\n",
    "    model.obs_model.likelihood.obs_dims, model.obs_model.likelihood.dt)\n",
    "sort_cdfs, T_KS, p = lib.utils.neural.KS_test(pp.cum_density, rescaled_intervals)\n",
    "\n",
    "\n",
    "# LPD\n",
    "lik_int_method = {\n",
    "    \"type\": \"GH\", \n",
    "    \"approx_pts\": 100, \n",
    "}\n",
    "\n",
    "lpd, _ = model.obs_model.variational_expectation(\n",
    "    prng_state, jitter, xs[None, None], ys, ys_filt, False, lik_int_method, False)\n"
   ]
  },
  {
   "cell_type": "code",
   "execution_count": 53,
   "metadata": {},
   "outputs": [
    {
     "data": {
      "image/png": "[encoded data removed]",
      "text/plain": [
       "<Figure size 245x183.75 with 1 Axes>"
      ]
     },
     "metadata": {},
     "output_type": "display_data"
    },
    {
     "name": "stdout",
     "output_type": "stream",
     "text": [
      "0.007847116\n"
     ]
    }
   ],
   "source": [
    "for n in range(len(sort_cdfs)):\n",
    "    plt.plot(np.linspace(0., 1., len(sort_cdfs[n])), sort_cdfs[n], alpha=0.7)\n",
    "plt.plot(np.linspace(0., 1., 100), np.linspace(0., 1., 100), c='k')\n",
    "plt.show()\n",
    "\n",
    "print(lpd)"
   ]
  },
  {
   "cell_type": "code",
   "execution_count": 54,
   "metadata": {},
   "outputs": [],
   "source": [
    "prng_state = jr.PRNGKey(123)\n",
    "\n",
    "h, KL = model.obs_model.spikefilter.compute_filter(prng_state, True)"
   ]
  },
  {
   "cell_type": "code",
   "execution_count": 56,
   "metadata": {},
   "outputs": [
    {
     "data": {
      "image/png": "[encoded data removed]",
      "text/plain": [
       "<Figure size 245x183.75 with 1 Axes>"
      ]
     },
     "metadata": {},
     "output_type": "display_data"
    }
   ],
   "source": [
    "n = 0\n",
    "\n",
    "plt.plot(h[:, n, 0])\n",
    "plt.show()"
   ]
  },
  {
   "cell_type": "code",
   "execution_count": null,
   "metadata": {},
   "outputs": [],
   "source": []
  },
  {
   "cell_type": "markdown",
   "metadata": {},
   "source": [
    "<a id='behav'></a>\n",
    "## Conditional renewal process"
   ]
  },
  {
   "cell_type": "code",
   "execution_count": null,
   "metadata": {},
   "outputs": [],
   "source": []
  },
  {
   "cell_type": "markdown",
   "metadata": {},
   "source": [
    "<a id='behav'></a>\n",
    "## Nonparametric point process"
   ]
  },
  {
   "cell_type": "code",
   "execution_count": 162,
   "metadata": {},
   "outputs": [],
   "source": [
    "### model ###\n",
    "datadir = '../scripts/checkpoint/'\n",
    "\n",
    "ISI_order = 4\n",
    "name = 'syn_data_seed123ISI4sel0.0to1.0_isi{}__nonparam_pp_gp-32-matern32-300-12._X[x-y-theta]_Z[]'.format(ISI_order)\n",
    "\n",
    "\n",
    "\n",
    "results = pickle.load(\n",
    "    open(datadir + name + \".p\", \"rb\")\n",
    ")\n",
    "config = results[\"config\"]\n",
    "seed = results[\"best_seed\"]\n",
    "\n",
    "\n",
    "# data\n",
    "timestamps, covariates, ISIs, observations, filter_length = gplvm_template.select_inputs(\n",
    "    dataset_dict, config)\n",
    "obs_covs_dims = covariates.shape[-1]\n",
    "spikes = observations.astype(bool)\n",
    "\n",
    "\n",
    "# model\n",
    "model = gplvm_template.build_model(\n",
    "    config, dataset_dict, synthetic.observed_kernel_dict_induc_list, seed, timestamps, obs_covs_dims)\n",
    "model = eqx.tree_deserialise_leaves(datadir + name + \".eqx\", model)\n"
   ]
  },
  {
   "cell_type": "code",
   "execution_count": 163,
   "metadata": {},
   "outputs": [
    {
     "data": {
      "image/png": "[encoded data removed]",
      "text/plain": [
       "<Figure size 245x183.75 with 1 Axes>"
      ]
     },
     "metadata": {},
     "output_type": "display_data"
    },
    {
     "data": {
      "image/png": "[encoded data removed]",
      "text/plain": [
       "<Figure size 245x183.75 with 1 Axes>"
      ]
     },
     "metadata": {},
     "output_type": "display_data"
    }
   ],
   "source": [
    "batches = len(results['losses']['train_loss_batches'])\n",
    "epochs = len(results['losses']['train_loss_epochs'])\n",
    "delta_be = batches // epochs\n",
    "\n",
    "plt.plot(np.arange(batches), results['losses']['train_loss_batches'], alpha=0.4)\n",
    "plt.scatter(delta_be//2 + delta_be*np.arange(epochs), results['losses']['train_loss_epochs'])\n",
    "plt.show()\n",
    "\n",
    "plt.plot(np.log10(results['lrs']))\n",
    "plt.show()"
   ]
  },
  {
   "cell_type": "code",
   "execution_count": 164,
   "metadata": {},
   "outputs": [],
   "source": [
    "prng_state = jr.PRNGKey(123)\n",
    "jitter = 1e-6\n",
    "\n",
    "st = 0\n",
    "xs = covariates\n",
    "deltas = ISIs[:, st:, :ISI_order] if ISIs is not None else ISIs\n",
    "ys = spikes[:, st:]\n",
    "ys_filt = spikes[:, st+filter_length:]\n",
    "\n",
    "post_mean_rho = model.obs_model.evaluate_posterior_mean(xs, deltas, jitter)\n",
    "\n",
    "rescaled_intervals = lib.utils.neural.time_rescale(\n",
    "    ys.T, post_mean_rho.T, model.obs_model.pp.dt, max_intervals=100)\n",
    "\n",
    "pp = lib.likelihoods.Exponential(\n",
    "    model.obs_model.pp.obs_dims, model.obs_model.pp.dt)\n",
    "sort_cdfs, T_KS, p = lib.utils.neural.KS_test(pp.cum_density, rescaled_intervals)\n",
    "\n",
    "\n",
    "# LPD\n",
    "lik_int_method = {\n",
    "    \"type\": \"GH\", \n",
    "    \"approx_pts\": 50, \n",
    "}\n",
    "\n",
    "lpd, _ = model.obs_model.variational_expectation(\n",
    "    prng_state, jitter, xs[None, None], deltas, ys, False, lik_int_method, False)\n"
   ]
  },
  {
   "cell_type": "code",
   "execution_count": 165,
   "metadata": {},
   "outputs": [
    {
     "data": {
      "image/png": "[encoded data removed]",
      "text/plain": [
       "<Figure size 245x183.75 with 1 Axes>"
      ]
     },
     "metadata": {},
     "output_type": "display_data"
    },
    {
     "name": "stdout",
     "output_type": "stream",
     "text": [
      "0.00767826\n"
     ]
    }
   ],
   "source": [
    "for n in range(len(sort_cdfs)):\n",
    "    plt.plot(np.linspace(0., 1., len(sort_cdfs[n])), sort_cdfs[n], alpha=0.7)\n",
    "plt.plot(np.linspace(0., 1., 100), np.linspace(0., 1., 100), c='k')\n",
    "plt.show()\n",
    "\n",
    "print(lpd)"
   ]
  },
  {
   "cell_type": "code",
   "execution_count": 187,
   "metadata": {},
   "outputs": [],
   "source": [
    "evalsteps = 120\n",
    "num_samps = 100\n",
    "N = observations.shape[0]\n",
    "x_dims = model.inp_model.x_dims\n",
    "\n",
    "cisi_t_eval = jnp.linspace(0.0, 1., evalsteps)\n",
    "isi_cond = jnp.ones((N, ISI_order-1))\n",
    "x_cond = 250.*jnp.ones(x_dims)\n",
    "\n",
    "\n",
    "prng_state = jr.PRNGKey(123)\n",
    "\n",
    "\n",
    "ISI_density = model.obs_model.sample_conditional_ISI(\n",
    "    prng_state,\n",
    "    num_samps,\n",
    "    cisi_t_eval,\n",
    "    isi_cond, \n",
    "    x_cond,\n",
    "    int_eval_pts=1000,\n",
    "    num_quad_pts=100,\n",
    "    prior=False,\n",
    ")\n",
    "\n",
    "\n",
    "mean_ISI = model.obs_model.sample_conditional_ISI_expectation(\n",
    "    prng_state,\n",
    "    num_samps,\n",
    "    lambda x: x,\n",
    "    isi_cond, \n",
    "    x_cond,\n",
    "    int_eval_pts=1000,\n",
    "    f_num_quad_pts=100,\n",
    "    isi_num_quad_pts=100, \n",
    "    prior=False,\n",
    ")\n",
    "\n",
    "\n",
    "secmom_ISI = model.obs_model.sample_conditional_ISI_expectation(\n",
    "    prng_state,\n",
    "    num_samps,\n",
    "    lambda x: x**2,\n",
    "    isi_cond, \n",
    "    x_cond,\n",
    "    int_eval_pts=1000,\n",
    "    f_num_quad_pts=100,\n",
    "    isi_num_quad_pts=100, \n",
    "    prior=False,\n",
    ")\n",
    "\n",
    "var_ISI = (secmom_ISI - mean_ISI**2)\n",
    "CV_ISI = np.sqrt(var_ISI) / (mean_ISI + 1e-12)"
   ]
  },
  {
   "cell_type": "code",
   "execution_count": 218,
   "metadata": {},
   "outputs": [
    {
     "name": "stderr",
     "output_type": "stream",
     "text": [
      "[autoreload of lib.inference.svgp failed: Traceback (most recent call last):\n",
      "  File \"/scratches/ramanujan/dl543/py3_9env/lib/python3.9/site-packages/IPython/extensions/autoreload.py\", line 257, in check\n",
      "    superreload(m, reload, self.old_objects)\n",
      "  File \"/scratches/ramanujan/dl543/py3_9env/lib/python3.9/site-packages/IPython/extensions/autoreload.py\", line 480, in superreload\n",
      "    update_generic(old_obj, new_obj)\n",
      "  File \"/scratches/ramanujan/dl543/py3_9env/lib/python3.9/site-packages/IPython/extensions/autoreload.py\", line 377, in update_generic\n",
      "    update(a, b)\n",
      "  File \"/scratches/ramanujan/dl543/py3_9env/lib/python3.9/site-packages/IPython/extensions/autoreload.py\", line 345, in update_class\n",
      "    update_instances(old, new)\n",
      "  File \"/scratches/ramanujan/dl543/py3_9env/lib/python3.9/site-packages/IPython/extensions/autoreload.py\", line 303, in update_instances\n",
      "    ref.__class__ = new\n",
      "  File \"<string>\", line 4, in __setattr__\n",
      "dataclasses.FrozenInstanceError: cannot assign to field '__class__'\n",
      "]\n"
     ]
    },
    {
     "data": {
      "image/png": "[encoded data removed]",
      "text/plain": [
       "<Figure size 245x183.75 with 1 Axes>"
      ]
     },
     "metadata": {},
     "output_type": "display_data"
    }
   ],
   "source": [
    "n = 1\n",
    "\n",
    "plt.plot(cisi_t_eval, ISI_density[:, n, :].T)\n",
    "plt.show()"
   ]
  },
  {
   "cell_type": "code",
   "execution_count": 206,
   "metadata": {},
   "outputs": [
    {
     "data": {
      "text/plain": [
       "DeviceArray([77.89916 , 96.40688 , 86.909775, 85.46123 , 75.39087 ], dtype=float32)"
      ]
     },
     "execution_count": 206,
     "metadata": {},
     "output_type": "execute_result"
    }
   ],
   "source": [
    "model.obs_model.gp.kernel.kernels[1].kernels[0].pre_len[:, 3]"
   ]
  },
  {
   "cell_type": "code",
   "execution_count": 208,
   "metadata": {},
   "outputs": [
    {
     "data": {
      "text/plain": [
       "DeviceArray([10.630195, 19.668236,  9.893603, 26.626442,  9.591334], dtype=float32)"
      ]
     },
     "execution_count": 208,
     "metadata": {},
     "output_type": "execute_result"
    }
   ],
   "source": [
    "model.obs_model.gp.kernel.kernels[0].pre_len[:, 0]"
   ]
  },
  {
   "cell_type": "code",
   "execution_count": 209,
   "metadata": {},
   "outputs": [],
   "source": [
    "### evaluation ###\n",
    "x_evals = 10\n",
    "y_evals = 10\n",
    "x_dims = 2\n",
    "\n",
    "x_eval = jnp.linspace(0, 500, x_evals)\n",
    "y_eval = jnp.linspace(0, 500, y_evals)\n",
    "evalsteps = x_eval*y_eval\n",
    "\n",
    "x_eval, y_eval = np.meshgrid(x_eval, y_eval)\n",
    "or_shape = x_eval.shape\n",
    "\n",
    "pos_eval = jnp.stack([x_eval, y_eval], axis=-1).reshape(-1, x_dims)\n",
    "theta_eval = 0.0 * jnp.ones((pos_eval.shape[0], 1))\n",
    "\n",
    "locs_eval = jnp.concatenate((pos_eval, theta_eval), axis=-1)"
   ]
  },
  {
   "cell_type": "code",
   "execution_count": 210,
   "metadata": {},
   "outputs": [],
   "source": [
    "def m(x_cond):\n",
    "    mean_ISI = model.obs_model.sample_conditional_ISI_expectation(\n",
    "        prng_state,\n",
    "        num_samps,\n",
    "        lambda x: x,\n",
    "        isi_cond, \n",
    "        x_cond,\n",
    "        int_eval_pts=1000,\n",
    "        f_num_quad_pts=100,\n",
    "        isi_num_quad_pts=100, \n",
    "        prior=False,\n",
    "    )\n",
    "    return mean_ISI"
   ]
  },
  {
   "cell_type": "code",
   "execution_count": 211,
   "metadata": {},
   "outputs": [
    {
     "ename": "XlaRuntimeError",
     "evalue": "RESOURCE_EXHAUSTED: Out of memory allocating 475440000000 bytes.",
     "output_type": "error",
     "traceback": [
      "\u001b[0;31m---------------------------------------------------------------------------\u001b[0m",
      "\u001b[0;31mXlaRuntimeError\u001b[0m                           Traceback (most recent call last)",
      "Input \u001b[0;32mIn [211]\u001b[0m, in \u001b[0;36m<cell line: 1>\u001b[0;34m()\u001b[0m\n\u001b[0;32m----> 1\u001b[0m mean_ISI \u001b[38;5;241m=\u001b[39m \u001b[43mjax\u001b[49m\u001b[38;5;241;43m.\u001b[39;49m\u001b[43mvmap\u001b[49m\u001b[43m(\u001b[49m\u001b[43mm\u001b[49m\u001b[43m)\u001b[49m\u001b[43m(\u001b[49m\u001b[43mlocs_eval\u001b[49m\u001b[43m)\u001b[49m\n",
      "    \u001b[0;31m[... skipping hidden 3 frame]\u001b[0m\n",
      "Input \u001b[0;32mIn [210]\u001b[0m, in \u001b[0;36mm\u001b[0;34m(x_cond)\u001b[0m\n\u001b[1;32m      1\u001b[0m \u001b[38;5;28;01mdef\u001b[39;00m \u001b[38;5;21mm\u001b[39m(x_cond):\n\u001b[0;32m----> 2\u001b[0m     mean_ISI \u001b[38;5;241m=\u001b[39m \u001b[43mmodel\u001b[49m\u001b[38;5;241;43m.\u001b[39;49m\u001b[43mobs_model\u001b[49m\u001b[38;5;241;43m.\u001b[39;49m\u001b[43msample_conditional_ISI_expectation\u001b[49m\u001b[43m(\u001b[49m\n\u001b[1;32m      3\u001b[0m \u001b[43m        \u001b[49m\u001b[43mprng_state\u001b[49m\u001b[43m,\u001b[49m\n\u001b[1;32m      4\u001b[0m \u001b[43m        \u001b[49m\u001b[43mnum_samps\u001b[49m\u001b[43m,\u001b[49m\n\u001b[1;32m      5\u001b[0m \u001b[43m        \u001b[49m\u001b[38;5;28;43;01mlambda\u001b[39;49;00m\u001b[43m \u001b[49m\u001b[43mx\u001b[49m\u001b[43m:\u001b[49m\u001b[43m \u001b[49m\u001b[43mx\u001b[49m\u001b[43m,\u001b[49m\n\u001b[1;32m      6\u001b[0m \u001b[43m        \u001b[49m\u001b[43misi_cond\u001b[49m\u001b[43m,\u001b[49m\u001b[43m \u001b[49m\n\u001b[1;32m      7\u001b[0m \u001b[43m        \u001b[49m\u001b[43mx_cond\u001b[49m\u001b[43m,\u001b[49m\n\u001b[1;32m      8\u001b[0m \u001b[43m        \u001b[49m\u001b[43mint_eval_pts\u001b[49m\u001b[38;5;241;43m=\u001b[39;49m\u001b[38;5;241;43m1000\u001b[39;49m\u001b[43m,\u001b[49m\n\u001b[1;32m      9\u001b[0m \u001b[43m        \u001b[49m\u001b[43mf_num_quad_pts\u001b[49m\u001b[38;5;241;43m=\u001b[39;49m\u001b[38;5;241;43m100\u001b[39;49m\u001b[43m,\u001b[49m\n\u001b[1;32m     10\u001b[0m \u001b[43m        \u001b[49m\u001b[43misi_num_quad_pts\u001b[49m\u001b[38;5;241;43m=\u001b[39;49m\u001b[38;5;241;43m100\u001b[39;49m\u001b[43m,\u001b[49m\u001b[43m \u001b[49m\n\u001b[1;32m     11\u001b[0m \u001b[43m        \u001b[49m\u001b[43mprior\u001b[49m\u001b[38;5;241;43m=\u001b[39;49m\u001b[38;5;28;43;01mFalse\u001b[39;49;00m\u001b[43m,\u001b[49m\n\u001b[1;32m     12\u001b[0m \u001b[43m    \u001b[49m\u001b[43m)\u001b[49m\n\u001b[1;32m     13\u001b[0m     \u001b[38;5;28;01mreturn\u001b[39;00m mean_ISI\n",
      "File \u001b[0;32m~/Documents/Learning/nonparametric-modulated-renewal/notebooks/../lib/inference/svgp.py:1079\u001b[0m, in \u001b[0;36mNonparametricPointProcess.sample_conditional_ISI_expectation\u001b[0;34m(self, prng_state, num_samps, func_of_tau, isi_cond, x_cond, int_eval_pts, f_num_quad_pts, isi_num_quad_pts, prior, jitter)\u001b[0m\n\u001b[1;32m   1074\u001b[0m tau_pts \u001b[38;5;241m=\u001b[39m vmap(\u001b[38;5;28mself\u001b[39m\u001b[38;5;241m.\u001b[39m_log_time_transform, (\u001b[38;5;241m1\u001b[39m, \u001b[38;5;28;01mNone\u001b[39;00m), \u001b[38;5;241m1\u001b[39m)(\n\u001b[1;32m   1075\u001b[0m     tau_tilde_pts, \u001b[38;5;28;01mTrue\u001b[39;00m)  \u001b[38;5;66;03m# (out_dims, locs)\u001b[39;00m\n\u001b[1;32m   1077\u001b[0m f_pts \u001b[38;5;241m=\u001b[39m func_of_tau(tau_pts)\n\u001b[0;32m-> 1079\u001b[0m log_ISI_tilde_pts \u001b[38;5;241m=\u001b[39m \u001b[38;5;28;43mself\u001b[39;49m\u001b[38;5;241;43m.\u001b[39;49m\u001b[43m_sample_log_ISI_tilde\u001b[49m\u001b[43m(\u001b[49m\u001b[43m \u001b[49m\n\u001b[1;32m   1080\u001b[0m \u001b[43m    \u001b[49m\u001b[43mprng_state\u001b[49m\u001b[43m,\u001b[49m\u001b[43m \u001b[49m\n\u001b[1;32m   1081\u001b[0m \u001b[43m    \u001b[49m\u001b[43mnum_samps\u001b[49m\u001b[43m,\u001b[49m\u001b[43m \u001b[49m\n\u001b[1;32m   1082\u001b[0m \u001b[43m    \u001b[49m\u001b[43mtau_tilde_pts\u001b[49m\u001b[43m,\u001b[49m\u001b[43m \u001b[49m\n\u001b[1;32m   1083\u001b[0m \u001b[43m    \u001b[49m\u001b[43misi_cond\u001b[49m\u001b[43m,\u001b[49m\u001b[43m \u001b[49m\n\u001b[1;32m   1084\u001b[0m \u001b[43m    \u001b[49m\u001b[43mx_cond\u001b[49m\u001b[43m,\u001b[49m\n\u001b[1;32m   1085\u001b[0m \u001b[43m    \u001b[49m\u001b[43msigma_pts\u001b[49m\u001b[43m,\u001b[49m\u001b[43m \u001b[49m\n\u001b[1;32m   1086\u001b[0m \u001b[43m    \u001b[49m\u001b[43mweights\u001b[49m\u001b[43m,\u001b[49m\u001b[43m \u001b[49m\n\u001b[1;32m   1087\u001b[0m \u001b[43m    \u001b[49m\u001b[43mint_eval_pts\u001b[49m\u001b[43m,\u001b[49m\n\u001b[1;32m   1088\u001b[0m \u001b[43m    \u001b[49m\u001b[43mprior\u001b[49m\u001b[43m,\u001b[49m\n\u001b[1;32m   1089\u001b[0m \u001b[43m    \u001b[49m\u001b[43mjitter\u001b[49m\u001b[43m,\u001b[49m\n\u001b[1;32m   1090\u001b[0m \u001b[43m\u001b[49m\u001b[43m)\u001b[49m\n\u001b[1;32m   1092\u001b[0m \u001b[38;5;28;01mreturn\u001b[39;00m (f_pts \u001b[38;5;241m*\u001b[39m jnp\u001b[38;5;241m.\u001b[39mexp(log_ISI_tilde_pts) \u001b[38;5;241m*\u001b[39m ws)\u001b[38;5;241m.\u001b[39msum(\u001b[38;5;241m-\u001b[39m\u001b[38;5;241m1\u001b[39m)\n",
      "File \u001b[0;32m~/Documents/Learning/nonparametric-modulated-renewal/notebooks/../lib/inference/svgp.py:983\u001b[0m, in \u001b[0;36mNonparametricPointProcess._sample_log_ISI_tilde\u001b[0;34m(self, prng_state, num_samps, tau_tilde, isi_cond, x_cond, sigma_pts, weights, int_eval_pts, prior, jitter)\u001b[0m\n\u001b[1;32m    977\u001b[0m isi_cond \u001b[38;5;241m=\u001b[39m isi_cond[:, \u001b[38;5;28;01mNone\u001b[39;00m]\u001b[38;5;241m.\u001b[39mrepeat(cat_pts, axis\u001b[38;5;241m=\u001b[39m\u001b[38;5;241m1\u001b[39m) \u001b[38;5;28;01mif\u001b[39;00m isi_cond \u001b[38;5;129;01mis\u001b[39;00m \u001b[38;5;129;01mnot\u001b[39;00m \u001b[38;5;28;01mNone\u001b[39;00m \u001b[38;5;28;01melse\u001b[39;00m \u001b[38;5;28;01mNone\u001b[39;00m\n\u001b[1;32m    978\u001b[0m x_cond \u001b[38;5;241m=\u001b[39m jnp\u001b[38;5;241m.\u001b[39mbroadcast_to(\n\u001b[1;32m    979\u001b[0m     x_cond[\u001b[38;5;28;01mNone\u001b[39;00m, \u001b[38;5;28;01mNone\u001b[39;00m, \u001b[38;5;28;01mNone\u001b[39;00m], \n\u001b[1;32m    980\u001b[0m     (num_samps, obs_dims, cat_pts, x_cond\u001b[38;5;241m.\u001b[39mshape[\u001b[38;5;241m0\u001b[39m]), \n\u001b[1;32m    981\u001b[0m ) \u001b[38;5;28;01mif\u001b[39;00m x_cond \u001b[38;5;129;01mis\u001b[39;00m \u001b[38;5;129;01mnot\u001b[39;00m \u001b[38;5;28;01mNone\u001b[39;00m \u001b[38;5;28;01melse\u001b[39;00m \u001b[38;5;28;01mNone\u001b[39;00m\n\u001b[0;32m--> 983\u001b[0m log_rho_tilde_cat \u001b[38;5;241m=\u001b[39m \u001b[38;5;28;43mself\u001b[39;49m\u001b[38;5;241;43m.\u001b[39;49m\u001b[43m_log_rho_tilde_sample\u001b[49m\u001b[43m(\u001b[49m\n\u001b[1;32m    984\u001b[0m \u001b[43m    \u001b[49m\u001b[43mprng_state\u001b[49m\u001b[43m,\u001b[49m\u001b[43m \u001b[49m\u001b[43mtau_tilde_cat\u001b[49m\u001b[43m,\u001b[49m\u001b[43m \u001b[49m\u001b[43misi_cond\u001b[49m\u001b[43m,\u001b[49m\u001b[43m \u001b[49m\u001b[43mx_cond\u001b[49m\u001b[43m,\u001b[49m\u001b[43m \u001b[49m\u001b[43mprior\u001b[49m\u001b[43m,\u001b[49m\u001b[43m \u001b[49m\u001b[43mjitter\u001b[49m\u001b[43m)\u001b[49m\n\u001b[1;32m    985\u001b[0m log_rho_tilde \u001b[38;5;241m=\u001b[39m log_rho_tilde_cat[\u001b[38;5;241m.\u001b[39m\u001b[38;5;241m.\u001b[39m\u001b[38;5;241m.\u001b[39m, int_eval_pts:]\n\u001b[1;32m    986\u001b[0m rho_tilde_pts \u001b[38;5;241m=\u001b[39m jnp\u001b[38;5;241m.\u001b[39mexp(log_rho_tilde_cat[\u001b[38;5;241m.\u001b[39m\u001b[38;5;241m.\u001b[39m\u001b[38;5;241m.\u001b[39m, :int_eval_pts])\n",
      "File \u001b[0;32m~/Documents/Learning/nonparametric-modulated-renewal/notebooks/../lib/inference/svgp.py:792\u001b[0m, in \u001b[0;36mNonparametricPointProcess._log_rho_tilde_sample\u001b[0;34m(self, prng_state, tau_tilde, isi, x, prior, jitter)\u001b[0m\n\u001b[1;32m    787\u001b[0m     f_samples \u001b[38;5;241m=\u001b[39m \u001b[38;5;28mself\u001b[39m\u001b[38;5;241m.\u001b[39mgp\u001b[38;5;241m.\u001b[39msample_prior(\n\u001b[1;32m    788\u001b[0m         prng_state, covariates, jitter\n\u001b[1;32m    789\u001b[0m     )  \u001b[38;5;66;03m# (samp, f_dim, evals)\u001b[39;00m\n\u001b[1;32m    791\u001b[0m \u001b[38;5;28;01melse\u001b[39;00m:\n\u001b[0;32m--> 792\u001b[0m     f_samples, _ \u001b[38;5;241m=\u001b[39m \u001b[38;5;28;43mself\u001b[39;49m\u001b[38;5;241;43m.\u001b[39;49m\u001b[43mgp\u001b[49m\u001b[38;5;241;43m.\u001b[39;49m\u001b[43msample_posterior\u001b[49m\u001b[43m(\u001b[49m\n\u001b[1;32m    793\u001b[0m \u001b[43m        \u001b[49m\u001b[43mprng_state\u001b[49m\u001b[43m,\u001b[49m\u001b[43m \u001b[49m\u001b[43mcovariates\u001b[49m\u001b[43m,\u001b[49m\u001b[43m \u001b[49m\u001b[43mjitter\u001b[49m\u001b[43m,\u001b[49m\u001b[43m \u001b[49m\u001b[43mcompute_KL\u001b[49m\u001b[38;5;241;43m=\u001b[39;49m\u001b[38;5;28;43;01mTrue\u001b[39;49;00m\n\u001b[1;32m    794\u001b[0m \u001b[43m    \u001b[49m\u001b[43m)\u001b[49m  \u001b[38;5;66;03m# (samp, f_dim, evals)\u001b[39;00m\n\u001b[1;32m    796\u001b[0m m_eval \u001b[38;5;241m=\u001b[39m vmap(\u001b[38;5;28mself\u001b[39m\u001b[38;5;241m.\u001b[39m_refractory_mean, \u001b[38;5;241m1\u001b[39m, \u001b[38;5;241m1\u001b[39m)(tau_tilde)  \u001b[38;5;66;03m# (out_dims, locs)\u001b[39;00m\n\u001b[1;32m    797\u001b[0m log_rho_tilde \u001b[38;5;241m=\u001b[39m f_samples \u001b[38;5;241m+\u001b[39m m_eval[\u001b[38;5;28;01mNone\u001b[39;00m]\n",
      "File \u001b[0;32m~/Documents/Learning/nonparametric-modulated-renewal/notebooks/../lib/GP/sparse.py:104\u001b[0m, in \u001b[0;36mSparseGP.sample_posterior\u001b[0;34m(self, prng_state, x, jitter, compute_KL)\u001b[0m\n\u001b[1;32m     94\u001b[0m prng_keys \u001b[38;5;241m=\u001b[39m jr\u001b[38;5;241m.\u001b[39msplit(prng_state, \u001b[38;5;241m2\u001b[39m)\n\u001b[1;32m     96\u001b[0m x_aug \u001b[38;5;241m=\u001b[39m jnp\u001b[38;5;241m.\u001b[39mconcatenate(\n\u001b[1;32m     97\u001b[0m     (\n\u001b[1;32m     98\u001b[0m         jnp\u001b[38;5;241m.\u001b[39mbroadcast_to(x, (num_samps, out_dims, ts, in_dims)),\n\u001b[0;32m   (...)\u001b[0m\n\u001b[1;32m    101\u001b[0m     axis\u001b[38;5;241m=\u001b[39m\u001b[38;5;241m2\u001b[39m,\n\u001b[1;32m    102\u001b[0m )  \u001b[38;5;66;03m# (num_samps, out_dims, num_locs, in_dims)\u001b[39;00m\n\u001b[0;32m--> 104\u001b[0m prior_samps \u001b[38;5;241m=\u001b[39m \u001b[38;5;28;43mself\u001b[39;49m\u001b[38;5;241;43m.\u001b[39;49m\u001b[43msample_prior\u001b[49m\u001b[43m(\u001b[49m\n\u001b[1;32m    105\u001b[0m \u001b[43m    \u001b[49m\u001b[43mprng_keys\u001b[49m\u001b[43m[\u001b[49m\u001b[38;5;241;43m0\u001b[39;49m\u001b[43m]\u001b[49m\u001b[43m,\u001b[49m\u001b[43m \u001b[49m\u001b[43mx_aug\u001b[49m\u001b[43m,\u001b[49m\u001b[43m \u001b[49m\u001b[43mjitter\u001b[49m\n\u001b[1;32m    106\u001b[0m \u001b[43m\u001b[49m\u001b[43m)\u001b[49m  \u001b[38;5;66;03m# (num_samps, out_dims, num_locs)\u001b[39;00m\n\u001b[1;32m    107\u001b[0m prior_samps_x, prior_samps_z \u001b[38;5;241m=\u001b[39m prior_samps[\u001b[38;5;241m.\u001b[39m\u001b[38;5;241m.\u001b[39m\u001b[38;5;241m.\u001b[39m, :ts], prior_samps[\u001b[38;5;241m.\u001b[39m\u001b[38;5;241m.\u001b[39m\u001b[38;5;241m.\u001b[39m, ts:]\n\u001b[1;32m    109\u001b[0m prior_samps_z \u001b[38;5;241m=\u001b[39m prior_samps_z[\u001b[38;5;241m.\u001b[39m\u001b[38;5;241m.\u001b[39m\u001b[38;5;241m.\u001b[39m, \u001b[38;5;28;01mNone\u001b[39;00m]\n",
      "File \u001b[0;32m~/Documents/Learning/nonparametric-modulated-renewal/notebooks/../lib/GP/base.py:93\u001b[0m, in \u001b[0;36mGP.sample_prior\u001b[0;34m(self, prng_state, x, jitter)\u001b[0m\n\u001b[1;32m     82\u001b[0m ks, amplitude \u001b[38;5;241m=\u001b[39m \u001b[38;5;28mself\u001b[39m\u001b[38;5;241m.\u001b[39mkernel\u001b[38;5;241m.\u001b[39msample_spectrum(\n\u001b[1;32m     83\u001b[0m     prng_keys[\u001b[38;5;241m0\u001b[39m], num_samps, \u001b[38;5;28mself\u001b[39m\u001b[38;5;241m.\u001b[39mRFF_num_feats\n\u001b[1;32m     84\u001b[0m )  \u001b[38;5;66;03m# (num_samps, out_dims, feats, in_dims), (out_dims,)\u001b[39;00m\n\u001b[1;32m     85\u001b[0m phi \u001b[38;5;241m=\u001b[39m (\n\u001b[1;32m     86\u001b[0m     \u001b[38;5;241m2\u001b[39m\n\u001b[1;32m     87\u001b[0m     \u001b[38;5;241m*\u001b[39m jnp\u001b[38;5;241m.\u001b[39mpi\n\u001b[0;32m   (...)\u001b[0m\n\u001b[1;32m     90\u001b[0m     )\n\u001b[1;32m     91\u001b[0m )\n\u001b[1;32m     92\u001b[0m cos_terms \u001b[38;5;241m=\u001b[39m jnp\u001b[38;5;241m.\u001b[39mcos(\n\u001b[0;32m---> 93\u001b[0m     (\u001b[43mks\u001b[49m\u001b[43m[\u001b[49m\u001b[38;5;241;43m.\u001b[39;49m\u001b[38;5;241;43m.\u001b[39;49m\u001b[38;5;241;43m.\u001b[39;49m\u001b[43m,\u001b[49m\u001b[43m \u001b[49m\u001b[38;5;28;43;01mNone\u001b[39;49;00m\u001b[43m,\u001b[49m\u001b[43m \u001b[49m\u001b[43m:\u001b[49m\u001b[43m,\u001b[49m\u001b[43m \u001b[49m\u001b[43m:\u001b[49m\u001b[43m]\u001b[49m\u001b[43m \u001b[49m\u001b[38;5;241;43m*\u001b[39;49m\u001b[43m \u001b[49m\u001b[43mx\u001b[49m\u001b[43m[\u001b[49m\u001b[38;5;241;43m.\u001b[39;49m\u001b[38;5;241;43m.\u001b[39;49m\u001b[38;5;241;43m.\u001b[39;49m\u001b[43m,\u001b[49m\u001b[43m \u001b[49m\u001b[38;5;28;43;01mNone\u001b[39;49;00m\u001b[43m,\u001b[49m\u001b[43m \u001b[49m\u001b[43m:\u001b[49m\u001b[43m]\u001b[49m)\u001b[38;5;241m.\u001b[39msum(\u001b[38;5;241m-\u001b[39m\u001b[38;5;241m1\u001b[39m) \u001b[38;5;241m+\u001b[39m phi[\u001b[38;5;241m.\u001b[39m\u001b[38;5;241m.\u001b[39m\u001b[38;5;241m.\u001b[39m, \u001b[38;5;28;01mNone\u001b[39;00m, :]\n\u001b[1;32m     94\u001b[0m )  \u001b[38;5;66;03m# (num_samps, out_dims, time, feats)\u001b[39;00m\n\u001b[1;32m     95\u001b[0m amps \u001b[38;5;241m=\u001b[39m amplitude[\u001b[38;5;28;01mNone\u001b[39;00m, :, \u001b[38;5;28;01mNone\u001b[39;00m] \u001b[38;5;241m*\u001b[39m jnp\u001b[38;5;241m.\u001b[39msqrt(\n\u001b[1;32m     96\u001b[0m     \u001b[38;5;241m2.0\u001b[39m \u001b[38;5;241m/\u001b[39m \u001b[38;5;28mself\u001b[39m\u001b[38;5;241m.\u001b[39mRFF_num_feats\n\u001b[1;32m     97\u001b[0m )  \u001b[38;5;66;03m# (num_samps, out_dims, feats)\u001b[39;00m\n\u001b[1;32m     98\u001b[0m samples \u001b[38;5;241m=\u001b[39m amps \u001b[38;5;241m*\u001b[39m cos_terms\u001b[38;5;241m.\u001b[39msum(\n\u001b[1;32m     99\u001b[0m     \u001b[38;5;241m-\u001b[39m\u001b[38;5;241m1\u001b[39m\n\u001b[1;32m    100\u001b[0m )  \u001b[38;5;66;03m# (num_samps, out_dims, time)\u001b[39;00m\n",
      "File \u001b[0;32m/scratches/ramanujan/dl543/py3_9env/lib/python3.9/site-packages/jax/_src/numpy/lax_numpy.py:4710\u001b[0m, in \u001b[0;36m_defer_to_unrecognized_arg.<locals>.deferring_binary_op\u001b[0;34m(self, other)\u001b[0m\n\u001b[1;32m   4708\u001b[0m args \u001b[38;5;241m=\u001b[39m (other, \u001b[38;5;28mself\u001b[39m) \u001b[38;5;28;01mif\u001b[39;00m swap \u001b[38;5;28;01melse\u001b[39;00m (\u001b[38;5;28mself\u001b[39m, other)\n\u001b[1;32m   4709\u001b[0m \u001b[38;5;28;01mif\u001b[39;00m \u001b[38;5;28misinstance\u001b[39m(other, _accepted_binop_types):\n\u001b[0;32m-> 4710\u001b[0m   \u001b[38;5;28;01mreturn\u001b[39;00m \u001b[43mbinary_op\u001b[49m\u001b[43m(\u001b[49m\u001b[38;5;241;43m*\u001b[39;49m\u001b[43margs\u001b[49m\u001b[43m)\u001b[49m\n\u001b[1;32m   4711\u001b[0m \u001b[38;5;28;01mif\u001b[39;00m \u001b[38;5;28misinstance\u001b[39m(other, _rejected_binop_types):\n\u001b[1;32m   4712\u001b[0m   \u001b[38;5;28;01mraise\u001b[39;00m \u001b[38;5;167;01mTypeError\u001b[39;00m(\u001b[38;5;124mf\u001b[39m\u001b[38;5;124m\"\u001b[39m\u001b[38;5;124munsupported operand type(s) for \u001b[39m\u001b[38;5;132;01m{\u001b[39;00mopchar\u001b[38;5;132;01m}\u001b[39;00m\u001b[38;5;124m: \u001b[39m\u001b[38;5;124m\"\u001b[39m\n\u001b[1;32m   4713\u001b[0m                   \u001b[38;5;124mf\u001b[39m\u001b[38;5;124m\"\u001b[39m\u001b[38;5;132;01m{\u001b[39;00m\u001b[38;5;28mtype\u001b[39m(args[\u001b[38;5;241m0\u001b[39m])\u001b[38;5;241m.\u001b[39m\u001b[38;5;18m__name__\u001b[39m\u001b[38;5;132;01m!r}\u001b[39;00m\u001b[38;5;124m and \u001b[39m\u001b[38;5;132;01m{\u001b[39;00m\u001b[38;5;28mtype\u001b[39m(args[\u001b[38;5;241m1\u001b[39m])\u001b[38;5;241m.\u001b[39m\u001b[38;5;18m__name__\u001b[39m\u001b[38;5;132;01m!r}\u001b[39;00m\u001b[38;5;124m\"\u001b[39m)\n",
      "    \u001b[0;31m[... skipping hidden 9 frame]\u001b[0m\n",
      "File \u001b[0;32m/scratches/ramanujan/dl543/py3_9env/lib/python3.9/site-packages/jax/_src/dispatch.py:878\u001b[0m, in \u001b[0;36m_execute_compiled\u001b[0;34m(name, compiled, input_handler, output_buffer_counts, result_handler, has_unordered_effects, ordered_effects, kept_var_idx, has_host_callbacks, *args)\u001b[0m\n\u001b[1;32m    876\u001b[0m     runtime_token \u001b[38;5;241m=\u001b[39m \u001b[38;5;28;01mNone\u001b[39;00m\n\u001b[1;32m    877\u001b[0m \u001b[38;5;28;01melse\u001b[39;00m:\n\u001b[0;32m--> 878\u001b[0m   out_flat \u001b[38;5;241m=\u001b[39m \u001b[43mcompiled\u001b[49m\u001b[38;5;241;43m.\u001b[39;49m\u001b[43mexecute\u001b[49m\u001b[43m(\u001b[49m\u001b[43min_flat\u001b[49m\u001b[43m)\u001b[49m\n\u001b[1;32m    879\u001b[0m check_special(name, out_flat)\n\u001b[1;32m    880\u001b[0m out_bufs \u001b[38;5;241m=\u001b[39m unflatten(out_flat, output_buffer_counts)\n",
      "\u001b[0;31mXlaRuntimeError\u001b[0m: RESOURCE_EXHAUSTED: Out of memory allocating 475440000000 bytes."
     ]
    }
   ],
   "source": [
    "mean_ISI = jax.vmap(m)(locs_eval)"
   ]
  },
  {
   "cell_type": "code",
   "execution_count": 89,
   "metadata": {},
   "outputs": [
    {
     "data": {
      "text/plain": [
       "<matplotlib.image.AxesImage at 0x7f95705db0a0>"
      ]
     },
     "execution_count": 89,
     "metadata": {},
     "output_type": "execute_result"
    },
    {
     "data": {
      "image/png": "[encoded data removed]",
      "text/plain": [
       "<Figure size 245x183.75 with 1 Axes>"
      ]
     },
     "metadata": {},
     "output_type": "display_data"
    }
   ],
   "source": [
    "n = 4\n",
    "\n",
    "mISI = 1. / mean_ISI.mean(1).reshape(*or_shape, -1)\n",
    "\n",
    "\n",
    "plt.imshow(mISI[..., n], origin='lower', cmap='viridis')"
   ]
  },
  {
   "cell_type": "code",
   "execution_count": 14,
   "metadata": {},
   "outputs": [
    {
     "data": {
      "text/plain": [
       "DeviceArray([84.39792 , 91.77319 , 81.77376 , 99.47742 , 95.164154], dtype=float32)"
      ]
     },
     "execution_count": 14,
     "metadata": {},
     "output_type": "execute_result"
    }
   ],
   "source": [
    "jax.nn.softplus(model.obs_model.gp.kernel.kernels[1].kernels[0].pre_len[:, 0])"
   ]
  },
  {
   "cell_type": "code",
   "execution_count": 164,
   "metadata": {},
   "outputs": [
    {
     "data": {
      "text/plain": [
       "DeviceArray([ 4.270699 , 10.023429 ,  7.5824785,  6.3220124,  9.321433 ],            dtype=float32)"
      ]
     },
     "execution_count": 164,
     "metadata": {},
     "output_type": "execute_result"
    }
   ],
   "source": [
    "jax.nn.softplus(model.obs_model.gp.kernel.kernels[0].pre_len[:, 0])"
   ]
  },
  {
   "cell_type": "code",
   "execution_count": null,
   "metadata": {},
   "outputs": [],
   "source": []
  },
  {
   "cell_type": "code",
   "execution_count": null,
   "metadata": {},
   "outputs": [],
   "source": []
  }
 ],
 "metadata": {
  "kernelspec": {
   "display_name": "python39",
   "language": "python",
   "name": "python39"
  },
  "language_info": {
   "codemirror_mode": {
    "name": "ipython",
    "version": 3
   },
   "file_extension": ".py",
   "mimetype": "text/x-python",
   "name": "python",
   "nbconvert_exporter": "python",
   "pygments_lexer": "ipython3",
   "version": "3.9.16"
  }
 },
 "nbformat": 4,
 "nbformat_minor": 4
}
