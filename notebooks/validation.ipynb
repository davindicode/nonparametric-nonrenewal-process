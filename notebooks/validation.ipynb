{
 "cells": [
  {
   "cell_type": "markdown",
   "metadata": {},
   "source": [
    "# Validation of method\n",
    "\n",
    "### Table of contents\n",
    "\n",
    "1. [**Building the model**](#build)\n",
    "3. [**Generating synthetic data**](#gen)\n",
    "4. [**Model recovery**](#fit)"
   ]
  },
  {
   "cell_type": "code",
   "execution_count": 1,
   "metadata": {},
   "outputs": [],
   "source": [
    "%load_ext autoreload\n",
    "%autoreload 2"
   ]
  },
  {
   "cell_type": "code",
   "execution_count": 2,
   "metadata": {},
   "outputs": [],
   "source": [
    "import numpy as np\n",
    "\n",
    "import sys\n",
    "sys.path.append(\"..\")\n",
    "\n",
    "\n",
    "import jax\n",
    "import jax.numpy as jnp\n",
    "import jax.random as jr\n",
    "from jax.nn import softplus\n",
    "\n",
    "import optax\n",
    "\n",
    "jax.config.update('jax_platform_name', 'cpu')\n",
    "#jax.config.update('jax_disable_jit', True)\n",
    "jax.config.update(\"jax_enable_x64\", True)\n",
    "\n",
    "#import os\n",
    "#if not os.path.exists('./saves'):\n",
    "#    os.makedirs('./saves')\n",
    "\n",
    "\n",
    "import pickle\n",
    "\n",
    "\n",
    "import lib\n",
    "\n",
    "\n",
    "import matplotlib.pyplot as plt\n",
    "plt.style.use(['paper.mplstyle'])"
   ]
  },
  {
   "cell_type": "code",
   "execution_count": null,
   "metadata": {},
   "outputs": [],
   "source": []
  },
  {
   "cell_type": "code",
   "execution_count": null,
   "metadata": {},
   "outputs": [],
   "source": []
  },
  {
   "cell_type": "markdown",
   "metadata": {},
   "source": [
    "<a id='build'></a>\n",
    "## Building the model"
   ]
  },
  {
   "cell_type": "code",
   "execution_count": 24,
   "metadata": {
    "scrolled": true
   },
   "outputs": [],
   "source": [
    "def get_stat_model(mu, lsigma, log_beta, log_gamma, len_x, kernel_class, neurons):\n",
    "    \"\"\"\n",
    "    \"\"\"\n",
    "    f_dims = neurons\n",
    "    x_dims = f_dims\n",
    "    \n",
    "    v_t = 1.*np.ones(neurons)\n",
    "    v_r = -.3*np.ones(neurons)\n",
    "    tau_m = 0.01*np.ones(neurons)\n",
    "    tau_s = np.ones(neurons)\n",
    "    log_beta = log_beta*np.ones(neurons)\n",
    "    log_gamma = log_gamma*np.ones(neurons)\n",
    "    \n",
    "    tau_h = 0.1*np.ones(neurons)\n",
    "    a = 1.0*np.ones(neurons)\n",
    "    b = 1000.0*np.ones(neurons)\n",
    "\n",
    "    IF_model = lib.IF_models.LIF(log_beta, log_gamma, v_t, v_r, tau_s, tau_m)#, tau_h, a, b)\n",
    "    \n",
    "    eps_mapping = lib.mappings.Identity(f_dims)\n",
    "\n",
    "    ### state space GP ###\n",
    "    var_x = 1.0*np.ones(x_dims)  # GP variance\n",
    "    len_x = len_x*np.ones((x_dims, 1))  # GP lengthscale\n",
    "\n",
    "    kernx = kernel_class(x_dims, variance=var_x, lengthscale=len_x)\n",
    "    #kernx = lib.kernels.IID(jnp.eye(x_dims))\n",
    "    \n",
    "    state_space = lib.state_space.FullLDS(kernx, diagonal_site=True)\n",
    "\n",
    "    ### mu and sigma ###\n",
    "    params = {'value': mu*jnp.ones((f_dims,))}\n",
    "    mu_mapping = lib.mappings.Constant(x_dims, f_dims, params)\n",
    "\n",
    "    params = {'value': lsigma*jnp.ones((f_dims,))}\n",
    "    lsigma_mapping = lib.mappings.Constant(x_dims, f_dims, params)\n",
    "    \n",
    "    ### initial conditions ###\n",
    "    q_vh_ic = jnp.zeros((num_samps, neurons, IF_model.q_d))\n",
    "    \n",
    "    ### IF GP model ###\n",
    "    model = lib.inference.IF_SSGP(\n",
    "        state_space, eps_mapping, mu_mapping, lsigma_mapping, IF_model, q_vh_ic, dtype=jnp.float64)\n",
    "    return model"
   ]
  },
  {
   "cell_type": "markdown",
   "metadata": {},
   "source": [
    "<a id='gen'></a>\n",
    "## Generate synthetic data"
   ]
  },
  {
   "cell_type": "code",
   "execution_count": 91,
   "metadata": {},
   "outputs": [],
   "source": [
    "neurons = 2\n",
    "num_samps = 5\n",
    "prng_state = jax.random.PRNGKey(123)\n",
    "\n",
    "model = get_stat_model(\n",
    "    0.1, -0.5, 3., 3., 0.01, lib.kernels.Matern12, neurons)\n",
    "\n",
    "\n",
    "Tsteps = 1000\n",
    "t = np.linspace(0., 5., Tsteps)  # s\n",
    "x_obs = jnp.empty((t.shape[0], 1, 0))\n",
    "y = np.zeros((t.shape[0], neurons))\n",
    "#mask = np.ones_like(y).astype(bool)\n",
    "#mask[:, 0] = False\n",
    "mask = None\n",
    "model.set_data(t, x_obs, y, mask=mask)"
   ]
  },
  {
   "cell_type": "code",
   "execution_count": 92,
   "metadata": {
    "scrolled": true
   },
   "outputs": [],
   "source": [
    "spiketrains, q_vh, I, eps_samples = model.sample_prior_spikes(\n",
    "    prng_state, num_samps, x_obs=None, timedata=None)\n"
   ]
  },
  {
   "cell_type": "code",
   "execution_count": 93,
   "metadata": {},
   "outputs": [
    {
     "data": {
      "image/png": "[encoded data removed]",
      "text/plain": [
       "<Figure size 245x183.75 with 1 Axes>"
      ]
     },
     "metadata": {
      "needs_background": "light"
     },
     "output_type": "display_data"
    }
   ],
   "source": [
    "for n in range(num_samps):\n",
    "    plt.plot(eps_samples[:, n, 1])\n",
    "             \n",
    "plt.show()"
   ]
  },
  {
   "cell_type": "code",
   "execution_count": null,
   "metadata": {},
   "outputs": [],
   "source": []
  },
  {
   "cell_type": "code",
   "execution_count": 94,
   "metadata": {},
   "outputs": [
    {
     "data": {
      "image/png": "[encoded data removed]",
      "text/plain": [
       "<Figure size 420x140 with 1 Axes>"
      ]
     },
     "metadata": {
      "needs_background": "light"
     },
     "output_type": "display_data"
    }
   ],
   "source": [
    "fig = plt.figure(figsize=(6, 2))\n",
    "\n",
    "widths = [1]\n",
    "heights = [1]\n",
    "spec = fig.add_gridspec(ncols=1, nrows=1, width_ratios=widths, \n",
    "                         height_ratios=heights, top=1.0, bottom=0.0, left=.0, right=1.0)\n",
    "\n",
    "ax = fig.add_subplot(spec[0, 0])\n",
    "    \n",
    "lib.plots.raster_plot((fig, ax), spiketrains[:, :, 0].T, \n",
    "                     time_bins=Tsteps, bin_time=model.dt[1], units=num_samps, colors=None, marker='|', markersize=10)\n",
    "\n",
    "plt.show()"
   ]
  },
  {
   "cell_type": "code",
   "execution_count": 95,
   "metadata": {},
   "outputs": [
    {
     "data": {
      "image/png": "[encoded data removed]",
      "text/plain": [
       "<Figure size 245x183.75 with 1 Axes>"
      ]
     },
     "metadata": {
      "needs_background": "light"
     },
     "output_type": "display_data"
    },
    {
     "data": {
      "image/png": "[encoded data removed]",
      "text/plain": [
       "<Figure size 245x183.75 with 1 Axes>"
      ]
     },
     "metadata": {
      "needs_background": "light"
     },
     "output_type": "display_data"
    }
   ],
   "source": [
    "plt.plot(q_vh[:300, 0, 0, 0])\n",
    "plt.show()\n",
    "\n",
    "plt.plot(q_vh[:, 0, 0, 1])\n",
    "plt.show()"
   ]
  },
  {
   "cell_type": "code",
   "execution_count": null,
   "metadata": {},
   "outputs": [],
   "source": []
  },
  {
   "cell_type": "code",
   "execution_count": null,
   "metadata": {},
   "outputs": [],
   "source": []
  },
  {
   "cell_type": "code",
   "execution_count": null,
   "metadata": {},
   "outputs": [],
   "source": []
  },
  {
   "cell_type": "code",
   "execution_count": null,
   "metadata": {},
   "outputs": [],
   "source": []
  },
  {
   "cell_type": "markdown",
   "metadata": {},
   "source": [
    "<a id='fit'></a>\n",
    "## Model recovery"
   ]
  },
  {
   "cell_type": "code",
   "execution_count": 109,
   "metadata": {},
   "outputs": [],
   "source": [
    "neurons = 2\n",
    "num_samps = 5\n",
    "prng_state = jax.random.PRNGKey(123)\n",
    "\n",
    "model = get_stat_model(\n",
    "    0.0, 0.0, 2., 2., 0.1, lib.kernels.Matern12, neurons)\n",
    "\n",
    "\n",
    "Tsteps = 1000\n",
    "t = np.linspace(0., 5., Tsteps)  # s\n",
    "x_obs = jnp.empty((t.shape[0], 1, 0))\n",
    "tr = 0\n",
    "y = np.array(spiketrains[:, tr, :])\n",
    "#mask = np.ones_like(y).astype(bool)\n",
    "#mask[:, 0] = False\n",
    "mask = None\n",
    "model.set_data(t, x_obs, y, mask=mask)\n",
    "\n",
    "\n",
    "\n",
    "model.state_space.normal_site_init(model.t.shape[0], std=1.0)\n",
    "model.state_space.var_params['site_obs'] = model.state_space.var_params['site_obs'].at[500, :, 0].set(0.)"
   ]
  },
  {
   "cell_type": "code",
   "execution_count": null,
   "metadata": {},
   "outputs": [],
   "source": []
  },
  {
   "cell_type": "code",
   "execution_count": null,
   "metadata": {},
   "outputs": [],
   "source": []
  },
  {
   "cell_type": "code",
   "execution_count": null,
   "metadata": {},
   "outputs": [],
   "source": []
  },
  {
   "cell_type": "code",
   "execution_count": null,
   "metadata": {},
   "outputs": [],
   "source": []
  },
  {
   "cell_type": "code",
   "execution_count": 110,
   "metadata": {},
   "outputs": [],
   "source": [
    "learning_rate_schedule = optax.exponential_decay(\n",
    "    init_value=1e-2, transition_steps=20, decay_rate=0.9, \n",
    "    transition_begin=0, staircase=True, end_value=None\n",
    ")\n",
    "\n",
    "optim = optax.adam(learning_rate_schedule)"
   ]
  },
  {
   "cell_type": "code",
   "execution_count": null,
   "metadata": {},
   "outputs": [],
   "source": []
  },
  {
   "cell_type": "code",
   "execution_count": 111,
   "metadata": {},
   "outputs": [],
   "source": [
    "def split_all_params_func(all_params):\n",
    "    \n",
    "    learned = lib.utils.copy_pytree(all_params)\n",
    "    learned['hyp']['IF_model']['v_t'] = None\n",
    "    learned['hyp']['IF_model']['v_r'] = None\n",
    "    #learned['hyp']['IF_model']['log_beta'] = None\n",
    "    #learned['hyp']['IF_model']['log_gamma'] = None\n",
    "    fixed = jax.tree_map(lambda x: None, all_params)\n",
    "    fixed['hyp']['IF_model']['v_t'] = all_params['hyp']['IF_model']['v_t']\n",
    "    fixed['hyp']['IF_model']['v_r'] = all_params['hyp']['IF_model']['v_r']\n",
    "    #fixed['hyp']['IF_model']['log_beta'] = all_params['hyp']['IF_model']['log_beta']\n",
    "    #fixed['hyp']['IF_model']['log_gamma'] = all_params['hyp']['IF_model']['log_gamma']\n",
    "\n",
    "    return learned, fixed\n"
   ]
  },
  {
   "cell_type": "code",
   "execution_count": 112,
   "metadata": {
    "scrolled": true,
    "tags": []
   },
   "outputs": [
    {
     "name": "stdout",
     "output_type": "stream",
     "text": [
      "347.5414656383447\n",
      "330.2101424976272\n",
      "323.7870295776181\n",
      "319.60441268531895\n",
      "316.3046068745768\n",
      "312.8223379014687\n",
      "309.52407919008056\n",
      "306.35624030486315\n",
      "303.04242113512237\n",
      "300.00540769656254\n",
      "297.0987073654733\n",
      "294.0960765913865\n",
      "291.1587495834773\n",
      "288.33006871704794\n",
      "285.6303638240249\n",
      "282.7468167935948\n",
      "279.8930026083275\n",
      "277.27842010846047\n",
      "274.4982179388216\n",
      "271.923411795314\n",
      "269.2680468485095\n",
      "267.0316669205186\n",
      "264.7259283844455\n",
      "262.4724571570044\n",
      "260.2761755602917\n",
      "258.1684045485417\n",
      "255.8619364012494\n",
      "254.002622763573\n",
      "251.68853738677586\n",
      "249.88949131559286\n",
      "247.83533511147482\n",
      "245.74754860794766\n",
      "243.86321773636632\n",
      "241.82441427346038\n",
      "239.9045243752388\n",
      "237.9443648661914\n",
      "236.00229791907557\n",
      "234.08636559279648\n",
      "232.53157872726263\n",
      "230.47260285111352\n",
      "228.99147494611518\n",
      "227.39242698552434\n",
      "225.83253567273283\n",
      "224.16306060297947\n",
      "222.68958060245137\n",
      "221.14393768727993\n",
      "219.83245644232082\n",
      "218.42116323980179\n",
      "216.77702667556196\n",
      "215.54612512068132\n",
      "213.89357325324437\n",
      "212.59722626273876\n",
      "211.19641495999468\n",
      "209.86800402273204\n",
      "208.63805800412442\n",
      "207.38658926124023\n",
      "205.756602589144\n",
      "204.5976206387815\n",
      "203.28746285551256\n",
      "202.06894323615188\n",
      "201.00971936555948\n",
      "199.57374721852074\n",
      "198.41299414292973\n",
      "197.4491823538012\n",
      "196.3744856384829\n",
      "195.35067507447954\n",
      "194.34481658086145\n",
      "193.20184327191294\n",
      "192.349693654978\n",
      "191.3994366284565\n",
      "190.33942606796177\n",
      "189.31244862480304\n",
      "188.19053339365252\n",
      "187.4696716751876\n",
      "186.40687341220965\n",
      "185.230097003461\n",
      "184.2857637160385\n",
      "183.30394816626458\n",
      "182.7056166498292\n",
      "181.5637860840206\n",
      "180.66837089682082\n",
      "179.86881901571758\n",
      "179.143984884475\n",
      "178.2796081422535\n",
      "177.51698093210956\n",
      "176.47475527658202\n",
      "175.84643552361862\n",
      "175.14963106369134\n",
      "174.1214605314588\n",
      "173.52747633529924\n",
      "172.8321112666968\n",
      "171.96267073516336\n",
      "171.30920468490768\n",
      "170.44481874745844\n",
      "169.6664733684655\n",
      "168.9820649008201\n",
      "168.26450614752832\n",
      "167.56030720161715\n",
      "166.79811376735665\n",
      "166.08708271793546\n",
      "165.34882610920022\n",
      "164.63064859829922\n",
      "164.03827481770855\n",
      "163.50701810997546\n",
      "162.70828988999335\n",
      "162.13667587490767\n",
      "161.45980174544576\n",
      "161.1496608811333\n",
      "160.4596617122814\n",
      "159.7111424081861\n",
      "159.1378174251974\n",
      "158.494733113106\n",
      "157.94371664580308\n",
      "157.3283629106361\n",
      "156.7490122041712\n",
      "156.13047548723\n",
      "155.53708192714842\n",
      "154.86704335640002\n",
      "154.31748741582788\n",
      "153.76003561980713\n",
      "153.24902340481353\n",
      "152.7737577908054\n",
      "152.04640994676\n",
      "151.60476803001004\n",
      "151.19608437869752\n",
      "150.68790805707965\n",
      "150.03130915815075\n",
      "149.54400758292022\n",
      "149.00406050359612\n",
      "148.57887234553226\n",
      "147.9638810877259\n",
      "147.51712886889183\n",
      "147.0171546270017\n",
      "146.4701657735466\n",
      "146.03320705898358\n",
      "145.44144301295853\n",
      "144.94475165225668\n",
      "144.49509317978885\n",
      "143.9473451733901\n",
      "143.70312208878482\n",
      "142.9913575388908\n",
      "142.60553298558327\n",
      "142.11550052962588\n",
      "141.74243301901976\n",
      "141.31230673308085\n",
      "140.84795421518166\n",
      "140.53418670215544\n",
      "139.92385838544993\n",
      "139.54304893586894\n",
      "139.05359182396865\n",
      "138.70992409296824\n",
      "138.23557742420624\n",
      "137.829977112827\n",
      "137.3582855274097\n",
      "136.94541009131046\n",
      "136.47730206982143\n",
      "136.0715370275481\n",
      "135.7350321567176\n",
      "135.20669241925094\n",
      "134.87428573294375\n",
      "134.45793341956153\n",
      "134.03094893642054\n",
      "133.613572797928\n",
      "133.36647144846077\n",
      "133.054564480382\n",
      "132.59878757649514\n",
      "132.14652643863676\n",
      "131.66636235681545\n",
      "131.47585535842737\n",
      "130.92993193963667\n",
      "130.66079267462482\n",
      "130.21052240691176\n",
      "129.9654467355989\n",
      "129.5923559643074\n",
      "129.17316736988687\n",
      "128.76228895595298\n",
      "128.4717496839218\n",
      "128.01877315508528\n",
      "127.69753063979513\n",
      "127.23745890573201\n",
      "126.98712709543243\n",
      "126.59953344665702\n",
      "126.33112863334377\n",
      "126.1071422677121\n",
      "125.68663716090839\n",
      "125.33928257211409\n",
      "125.1381101864171\n",
      "124.72428998961823\n",
      "124.27391979349133\n",
      "124.03882702164555\n",
      "123.69278167718949\n",
      "123.37589054685621\n",
      "123.03659497833047\n",
      "122.77280924367524\n",
      "122.44215704229819\n",
      "122.05699805877389\n",
      "121.90779284284937\n",
      "121.49351138194442\n",
      "121.16575666535795\n",
      "120.86777271172772\n",
      "120.51403342899002\n",
      "120.1902558797731\n",
      "119.93251665350942\n",
      "119.74015253952747\n",
      "119.33303635900415\n",
      "119.00030139035235\n",
      "118.89852531958391\n",
      "118.60805651151665\n",
      "118.21282441209078\n",
      "117.83044073263052\n",
      "117.78627632321263\n",
      "117.41319492333515\n",
      "117.17536113339361\n",
      "116.9110392564229\n",
      "116.69707494046932\n",
      "116.34745781663833\n",
      "116.02557558095998\n",
      "115.64521727215575\n",
      "115.47174553937238\n",
      "115.2042405506356\n",
      "114.97442695416723\n",
      "114.63762305340997\n",
      "114.4343354239065\n",
      "114.24121979161539\n",
      "113.95066749449225\n",
      "113.76562538111207\n",
      "113.4787109566712\n",
      "113.29975088839896\n",
      "113.06322660311454\n",
      "112.78438532143633\n",
      "112.57732581467044\n",
      "112.40231601190152\n",
      "112.11727741783187\n",
      "111.86441549895844\n",
      "111.72486564922869\n",
      "111.30080555106316\n",
      "111.15986926627932\n",
      "111.07747612735193\n",
      "110.72100753564172\n",
      "110.39065458214597\n",
      "110.27796936069385\n",
      "110.03060938906853\n",
      "109.84528338438815\n",
      "109.67768100413807\n",
      "109.3561470644996\n",
      "109.18950652930849\n",
      "109.02591849092238\n",
      "108.86197914418989\n",
      "108.55232204643065\n",
      "108.4170873417523\n",
      "108.20201280797885\n",
      "108.05185900516771\n",
      "107.82946120660436\n",
      "107.49163138571717\n",
      "107.37667396659785\n",
      "107.18261556529603\n",
      "106.8678725771083\n",
      "106.78867071829701\n",
      "106.59329256253321\n",
      "106.36295755923527\n",
      "106.30097123522872\n",
      "106.04121616130271\n",
      "105.78939114471447\n",
      "105.71508382386016\n",
      "105.4822371089616\n",
      "105.29723246006296\n",
      "105.15206981488649\n",
      "105.02186949466598\n",
      "104.76334120176543\n",
      "104.52634026911869\n",
      "104.38855508097485\n",
      "104.17940497369116\n",
      "104.10585149146351\n",
      "103.95680101697477\n",
      "103.7198127622185\n",
      "103.60517160510136\n",
      "103.36451401189748\n",
      "103.21655433481824\n",
      "103.00673156152254\n",
      "102.80565798414003\n",
      "102.6046170541524\n",
      "102.53875948477447\n",
      "102.40451962728014\n",
      "102.3506306994063\n",
      "102.11362742282871\n",
      "101.91551642310624\n",
      "101.7705101208027\n",
      "101.62695990332142\n",
      "101.48653016092359\n",
      "101.33637127559899\n",
      "101.12577066669107\n",
      "101.02369908519972\n",
      "100.81401930196726\n",
      "100.63210252122006\n",
      "100.56718611879032\n",
      "100.37575207676525\n",
      "100.3128899322154\n",
      "100.0731836477681\n",
      "100.00030063698325\n",
      "99.80448462057213\n",
      "99.6200043971689\n",
      "99.51490877402124\n",
      "99.32748073744509\n",
      "99.2414727704195\n",
      "99.1125497383214\n",
      "98.96338290759732\n",
      "98.82827645152008\n",
      "98.69045046586692\n",
      "98.59376608105975\n",
      "98.42044050893313\n",
      "98.33065822384756\n",
      "98.16907962858069\n",
      "98.03506539101599\n",
      "97.84719081969652\n",
      "97.80613757873638\n",
      "97.67198504111384\n",
      "97.52796377730937\n",
      "97.3847977725772\n",
      "97.262211857647\n",
      "97.10518833426272\n",
      "97.01614268941233\n",
      "96.87066719578118\n",
      "96.7605823763823\n",
      "96.67136901617849\n",
      "96.52680825037126\n",
      "96.45174878815699\n",
      "96.27016017853762\n",
      "96.17346143140352\n",
      "96.05392703788932\n",
      "95.96645477021397\n",
      "95.91385762172345\n",
      "95.71363158806584\n",
      "95.60166259285947\n",
      "95.46570804378192\n",
      "95.40829402009535\n",
      "95.2601487404386\n",
      "95.19185480299302\n",
      "95.02465715920977\n",
      "94.93315203558709\n",
      "94.80003693871177\n",
      "94.70228539626518\n",
      "94.56004770197087\n",
      "94.50852209498169\n",
      "94.40131289208767\n",
      "94.28838787744552\n",
      "94.1866633676834\n",
      "94.03717236212177\n",
      "93.95446495709712\n",
      "93.90030206877776\n",
      "93.84888249635758\n",
      "93.67652113400857\n",
      "93.5839917086641\n",
      "93.42898557374278\n",
      "93.37690743476526\n",
      "93.28745245114669\n",
      "93.20205855232749\n",
      "93.12169914757939\n",
      "92.96306463415384\n",
      "92.83354242935229\n",
      "92.795957145984\n",
      "92.68123238216975\n",
      "92.55077361139911\n",
      "92.49664324317085\n",
      "92.34915599167621\n",
      "92.39674709656084\n",
      "92.22623104920638\n",
      "92.13018699221195\n",
      "92.01021061755523\n",
      "91.98028186732381\n",
      "91.91098895063519\n",
      "91.77145062906206\n",
      "91.65228035906439\n",
      "91.59176646489733\n",
      "91.47615861439073\n",
      "91.4527833761263\n",
      "91.36414011683956\n",
      "91.24340462910124\n",
      "91.1455870968458\n",
      "91.08246722812575\n",
      "90.96640025813488\n",
      "90.90199076677263\n",
      "90.78868584990664\n",
      "90.68167668190668\n",
      "90.67632005772512\n",
      "90.56500427653675\n",
      "90.454414300978\n",
      "90.39080601294685\n",
      "90.30543429920075\n",
      "90.23259209582737\n",
      "90.15809351659185\n",
      "90.07965852141405\n",
      "90.01480090907401\n",
      "89.9279833113756\n",
      "89.88233767059833\n",
      "89.74117256697767\n",
      "89.68722672828156\n",
      "89.60575009227597\n",
      "89.51513484580806\n",
      "89.42979374024785\n",
      "89.40631229868384\n",
      "89.2827381584835\n",
      "89.24369131691041\n",
      "89.16356896744628\n",
      "89.09610454894985\n",
      "89.03742652078844\n",
      "88.98085893240307\n",
      "88.90169956479674\n",
      "88.79506284735342\n",
      "88.77214570033297\n",
      "88.70725689822427\n",
      "88.62198053828754\n",
      "88.56400339863649\n",
      "88.47908922985833\n",
      "88.37582352371996\n",
      "88.33475302218815\n",
      "88.2376957519489\n",
      "88.18846404125347\n",
      "88.13069830741838\n",
      "88.04428084221112\n",
      "87.97726916820721\n",
      "87.9208270446276\n",
      "87.84428524408864\n",
      "87.84451717140476\n",
      "87.73419303782003\n",
      "87.60172937011035\n",
      "87.6142894250586\n",
      "87.52709218587154\n",
      "87.46483775716226\n",
      "87.3593261659197\n",
      "87.31143260083991\n",
      "87.28170282178998\n",
      "87.2113984424355\n",
      "87.15215112395464\n",
      "87.1047170955724\n",
      "86.99096447699281\n",
      "86.97495803579282\n",
      "86.89088553517203\n",
      "86.85207712817706\n",
      "86.76804434425875\n",
      "86.70731612282593\n",
      "86.6697229509218\n",
      "86.58762827415488\n",
      "86.54139893768723\n",
      "86.49595520534791\n",
      "86.46962599557176\n",
      "86.35748996539292\n",
      "86.34878500151275\n",
      "86.2430190844824\n",
      "86.19599459745136\n",
      "86.19889752341403\n",
      "86.1002016318257\n",
      "86.05114433415915\n",
      "85.99909545638096\n",
      "85.91436356505376\n",
      "85.89863844203859\n",
      "85.81408545224954\n",
      "85.8103157368585\n",
      "85.7006069261805\n",
      "85.67933371707656\n",
      "85.6023326174767\n",
      "85.56554439277663\n",
      "85.49528260802808\n",
      "85.49099818914706\n",
      "85.41374340459575\n",
      "85.3486624969164\n",
      "85.31907398073199\n",
      "85.24785335959103\n",
      "85.21792972328186\n",
      "85.1312909939912\n",
      "85.08171209625857\n",
      "85.09219238697956\n",
      "85.00986994424451\n",
      "84.94765574654241\n",
      "84.90101001653257\n",
      "84.88503484056548\n",
      "84.78575180956554\n",
      "84.7333075888074\n",
      "84.72628415938348\n",
      "84.66835669259358\n",
      "84.64391110280529\n",
      "84.54223316705693\n",
      "84.49196317343349\n",
      "84.44248044810456\n",
      "84.39127758113585\n",
      "84.38228521941511\n",
      "84.34408477100112\n",
      "84.3099795251012\n",
      "84.25559851845043\n",
      "84.23458713275008\n",
      "84.18033857281156\n",
      "84.13325075104356\n",
      "84.09330685097535\n",
      "84.02555057352697\n",
      "83.99739601400225\n",
      "83.9723499394787\n",
      "83.91759523920507\n",
      "83.82338286440873\n",
      "83.82006256894888\n",
      "83.7663591405325\n",
      "83.74720354258184\n"
     ]
    }
   ],
   "source": [
    "plot_intermediate = False\n",
    "print_every = 10\n",
    "epochs = 500\n",
    "\n",
    "\n",
    "all_params = model.get_all_params()\n",
    "opt_state = optim.init(all_params)\n",
    "\n",
    "loss_tracker = []\n",
    "for j in range(epochs):\n",
    "    \n",
    "    loss, grads = model.train_ELBO(all_params, prng_state, num_samps, \n",
    "                                   split_all_params_func, take_grads=True)\n",
    "    print(loss)\n",
    "    \n",
    "    # gradient step\n",
    "    updates, opt_state = optim.update(grads, opt_state)\n",
    "    all_params = optax.apply_updates(all_params, updates)\n",
    "    all_params = model.constraints(all_params)\n",
    "    \n",
    "    prng_state, _ = jr.split(prng_state)\n",
    "    \n",
    "    loss_tracker.append(loss)"
   ]
  },
  {
   "cell_type": "code",
   "execution_count": 113,
   "metadata": {},
   "outputs": [
    {
     "data": {
      "text/plain": [
       "[<matplotlib.lines.Line2D at 0x2b7117700>]"
      ]
     },
     "execution_count": 113,
     "metadata": {},
     "output_type": "execute_result"
    },
    {
     "data": {
      "image/png": "[encoded data removed]",
      "text/plain": [
       "<Figure size 245x183.75 with 1 Axes>"
      ]
     },
     "metadata": {
      "needs_background": "light"
     },
     "output_type": "display_data"
    }
   ],
   "source": [
    "plt.plot(loss_tracker)"
   ]
  },
  {
   "cell_type": "code",
   "execution_count": 114,
   "metadata": {},
   "outputs": [],
   "source": [
    "model.set_all_params(all_params)  # set new model parameters"
   ]
  },
  {
   "cell_type": "code",
   "execution_count": 115,
   "metadata": {},
   "outputs": [
    {
     "data": {
      "text/plain": [
       "{'log_beta': DeviceArray([1.96359624, 1.962971  ], dtype=float64),\n",
       " 'log_gamma': DeviceArray([0.62920215, 0.63002833], dtype=float64),\n",
       " 'tau_m': DeviceArray([0.00694127, 0.00688686], dtype=float64),\n",
       " 'tau_s': DeviceArray([1., 1.], dtype=float64),\n",
       " 'v_r': DeviceArray([-0.3, -0.3], dtype=float64),\n",
       " 'v_t': DeviceArray([1., 1.], dtype=float64)}"
      ]
     },
     "execution_count": 115,
     "metadata": {},
     "output_type": "execute_result"
    }
   ],
   "source": [
    "model.IF_model.params"
   ]
  },
  {
   "cell_type": "code",
   "execution_count": 116,
   "metadata": {},
   "outputs": [
    {
     "data": {
      "text/plain": [
       "{'hyp': {'IF_model': {'log_beta': DeviceArray([1.96359624, 1.962971  ], dtype=float64),\n",
       "   'log_gamma': DeviceArray([0.62920215, 0.63002833], dtype=float64),\n",
       "   'tau_m': DeviceArray([0.00694127, 0.00688686], dtype=float64),\n",
       "   'tau_s': DeviceArray([1., 1.], dtype=float64),\n",
       "   'v_r': DeviceArray([-0.3, -0.3], dtype=float64),\n",
       "   'v_t': DeviceArray([1., 1.], dtype=float64)},\n",
       "  'eps_mapping': {},\n",
       "  'ic': DeviceArray([[[-1.13357429],\n",
       "                [-1.18084182]],\n",
       "  \n",
       "               [[-1.09797717],\n",
       "                [-1.38525354]],\n",
       "  \n",
       "               [[-1.15651047],\n",
       "                [-1.29187711]],\n",
       "  \n",
       "               [[-1.10172422],\n",
       "                [-1.3443614 ]],\n",
       "  \n",
       "               [[-1.16440337],\n",
       "                [-1.30868106]]], dtype=float64),\n",
       "  'lsigma_mapping': {'value': DeviceArray([0.57293694, 0.55069517], dtype=float64)},\n",
       "  'mu_mapping': {'value': DeviceArray([-0.81691319, -0.81133502], dtype=float64)},\n",
       "  'state_space': {'kernel': {'lengthscale': DeviceArray([[-1.55567975],\n",
       "                 [-1.70790557]], dtype=float64),\n",
       "    'variance': DeviceArray([-0.05327158,  0.05198508], dtype=float64)}}},\n",
       " 'sites': {'eps_mapping': {},\n",
       "  'lsigma_mapping': {},\n",
       "  'mu_mapping': {},\n",
       "  'state_space': {'site_Lcov': DeviceArray([[[ 0.32433574,  0.40091905],\n",
       "                 [ 0.29568918,  0.89201413]],\n",
       "   \n",
       "                [[ 0.21372016,  0.25828163],\n",
       "                 [ 0.32097149,  0.95042015]],\n",
       "   \n",
       "                [[ 0.18182185, -0.31395985],\n",
       "                 [-0.53257997,  0.91161117]],\n",
       "   \n",
       "                ...,\n",
       "   \n",
       "                [[ 0.95890574, -0.28046383],\n",
       "                 [-0.2394849 ,  0.07255438]],\n",
       "   \n",
       "                [[ 0.80811999,  0.6286613 ],\n",
       "                 [ 0.37648311,  0.38733489]],\n",
       "   \n",
       "                [[ 0.94038494,  0.41212302],\n",
       "                 [ 0.19797373,  0.703696  ]]], dtype=float64),\n",
       "   'site_obs': DeviceArray([[[-0.49248063],\n",
       "                 [-0.50973782]],\n",
       "   \n",
       "                [[-0.57282711],\n",
       "                 [-0.44586942]],\n",
       "   \n",
       "                [[-1.98447725],\n",
       "                 [-0.86692385]],\n",
       "   \n",
       "                ...,\n",
       "   \n",
       "                [[-1.10304909],\n",
       "                 [-1.82760098]],\n",
       "   \n",
       "                [[-0.60093321],\n",
       "                 [-0.05559577]],\n",
       "   \n",
       "                [[-0.56773895],\n",
       "                 [-0.08646834]]], dtype=float64)}}}"
      ]
     },
     "execution_count": 116,
     "metadata": {},
     "output_type": "execute_result"
    }
   ],
   "source": [
    "all_params"
   ]
  },
  {
   "cell_type": "code",
   "execution_count": null,
   "metadata": {},
   "outputs": [],
   "source": []
  },
  {
   "cell_type": "markdown",
   "metadata": {},
   "source": [
    "<a id='analysis'></a>\n",
    "## Analysis"
   ]
  },
  {
   "cell_type": "code",
   "execution_count": 117,
   "metadata": {},
   "outputs": [],
   "source": [
    "spiketrains, q_vh, I, eps_samples = model.sample_posterior_spikes(prng_state, num_samps)"
   ]
  },
  {
   "cell_type": "code",
   "execution_count": 118,
   "metadata": {},
   "outputs": [],
   "source": [
    "t_eval = np.linspace(-2., 7., 100)  # s\n",
    "timedata = (model.t, model.dt)\n",
    "\n",
    "post_mean, post_cov, _ = model.state_space.evaluate_posterior(\n",
    "    t_eval, timedata, model.state_space.params, model.state_space.var_params, \n",
    "    mean_only=False, compute_KL=False, jitter=1e-8)\n",
    "post_mean = post_mean[..., 0]\n",
    "\n",
    "evaldata = lib.state_space.get_evaldata(t_eval, timedata)\n",
    "post_samples, _ = model.state_space.sample_posterior(\n",
    "    model.state_space.params, model.state_space.var_params, prng_state, 100, \n",
    "    timedata, evaldata, jitter=1e-8, compute_KL=False)\n"
   ]
  },
  {
   "cell_type": "code",
   "execution_count": 119,
   "metadata": {},
   "outputs": [
    {
     "data": {
      "image/png": "[encoded data removed]",
      "text/plain": [
       "<Figure size 245x183.75 with 1 Axes>"
      ]
     },
     "metadata": {
      "needs_background": "light"
     },
     "output_type": "display_data"
    },
    {
     "data": {
      "image/png": "[encoded data removed]",
      "text/plain": [
       "<Figure size 245x183.75 with 1 Axes>"
      ]
     },
     "metadata": {
      "needs_background": "light"
     },
     "output_type": "display_data"
    }
   ],
   "source": [
    "post_var = post_cov[:, np.arange(model.x_dims), np.arange(model.x_dims)]\n",
    "lb = post_mean - 1.96 * post_var ** 0.5\n",
    "ub = post_mean + 1.96 * post_var ** 0.5\n",
    "\n",
    "for plot_out in range(model.f_dims):\n",
    "    plt.figure()\n",
    "    plt.plot(t_eval, post_mean[:, plot_out], 'b', label='posterior mean')\n",
    "    plt.fill_between(t_eval, lb[:, plot_out], ub[:, plot_out], color='b', alpha=0.2, label='95% confidence')\n",
    "    plt.plot(t_eval, post_samples[..., plot_out, 0], 'b', alpha=0.15)\n",
    "    plt.xlim([t_eval[0], t_eval[-1]])\n",
    "    plt.legend()\n",
    "    plt.xlabel('time $t$')\n",
    "    plt.show()"
   ]
  },
  {
   "cell_type": "code",
   "execution_count": 120,
   "metadata": {},
   "outputs": [
    {
     "data": {
      "image/png": "[encoded data removed]",
      "text/plain": [
       "<Figure size 420x140 with 1 Axes>"
      ]
     },
     "metadata": {
      "needs_background": "light"
     },
     "output_type": "display_data"
    }
   ],
   "source": [
    "fig = plt.figure(figsize=(6, 2))\n",
    "\n",
    "widths = [1]\n",
    "heights = [1]\n",
    "spec = fig.add_gridspec(ncols=1, nrows=1, width_ratios=widths, \n",
    "                         height_ratios=heights, top=1.0, bottom=0.0, left=.0, right=1.0)\n",
    "\n",
    "ax = fig.add_subplot(spec[0, 0])\n",
    "    \n",
    "lib.plots.raster_plot((fig, ax), spiketrains[:, :, 0].T, \n",
    "                     time_bins=Tsteps, bin_time=model.dt[1], units=num_samps, colors=None, marker='|', markersize=10)\n",
    "\n",
    "plt.show()"
   ]
  },
  {
   "cell_type": "code",
   "execution_count": 121,
   "metadata": {},
   "outputs": [
    {
     "data": {
      "image/png": "[encoded data removed]",
      "text/plain": [
       "<Figure size 560x210 with 1 Axes>"
      ]
     },
     "metadata": {
      "needs_background": "light"
     },
     "output_type": "display_data"
    },
    {
     "data": {
      "image/png": "[encoded data removed]",
      "text/plain": [
       "<Figure size 560x210 with 1 Axes>"
      ]
     },
     "metadata": {
      "needs_background": "light"
     },
     "output_type": "display_data"
    }
   ],
   "source": [
    "tr, n = 4, 0\n",
    "\n",
    "fig, ax = plt.subplots(figsize=(8, 3))\n",
    "\n",
    "ax.plot(q_vh[:, tr, n, 0])\n",
    "plt.show()\n",
    "\n",
    "\n",
    "fig, ax = plt.subplots(figsize=(8, 3))\n",
    "\n",
    "ax.plot(I[:1000, tr, n])\n",
    "plt.show()"
   ]
  },
  {
   "cell_type": "code",
   "execution_count": null,
   "metadata": {},
   "outputs": [],
   "source": []
  },
  {
   "cell_type": "code",
   "execution_count": 64,
   "metadata": {},
   "outputs": [
    {
     "data": {
      "image/png": "[encoded data removed]",
      "text/plain": [
       "<Figure size 245x183.75 with 1 Axes>"
      ]
     },
     "metadata": {
      "needs_background": "light"
     },
     "output_type": "display_data"
    }
   ],
   "source": [
    "import matplotlib.pyplot as plt\n",
    "from jax import vmap, grad\n",
    "\n",
    "t = jnp.linspace(-1., 1.5, 1000)\n",
    "sg_beta = jnp.exp(3.)\n",
    "l = sg_beta / jnp.exp(3.)\n",
    "t_t = 1.\n",
    "softpl = jax.nn.softplus(-sg_beta*(t-t_t))\n",
    "\n",
    "pr = np.exp(-softpl / l)\n",
    "\n",
    "\n",
    "#plt.plot(t, lib.IF_models.heaviside(t, sg_beta))\n",
    "plt.plot(t, pr, '--')\n",
    "#plt.plot(t, sg_beta*vmap(grad(heaviside))(sg_beta*t))\n",
    "#plt.plot(t, sg_beta*vmap(grad(jax.nn.sigmoid))(sg_beta*t), '--')\n",
    "plt.show()"
   ]
  },
  {
   "cell_type": "code",
   "execution_count": null,
   "metadata": {},
   "outputs": [],
   "source": []
  },
  {
   "cell_type": "code",
   "execution_count": 27,
   "metadata": {},
   "outputs": [],
   "source": [
    "def make_T(n, a, b, c):\n",
    "    # Create a psuedo-random tridiagonal Jacobian and store band\n",
    "    T = jnp.zeros((n, n), dtype=jnp.float32)\n",
    "    T = T.at[jnp.arange(n-1), jnp.arange(n-1)+1].set(a)\n",
    "    T = T.at[jnp.arange(n), jnp.arange(n)].set(b)\n",
    "    T = T.at[jnp.arange(n-1)+1, jnp.arange(n-1)].set(c)\n",
    "    return T"
   ]
  },
  {
   "cell_type": "code",
   "execution_count": 55,
   "metadata": {},
   "outputs": [],
   "source": [
    "T = make_T(21, 0.5, 1., 0.5)\n",
    "eigval, eigvec = jnp.linalg.eig(T)"
   ]
  },
  {
   "cell_type": "code",
   "execution_count": 57,
   "metadata": {},
   "outputs": [
    {
     "name": "stderr",
     "output_type": "stream",
     "text": [
      "/Library/Frameworks/Python.framework/Versions/3.10/lib/python3.10/site-packages/matplotlib/cbook/__init__.py:1298: ComplexWarning: Casting complex values to real discards the imaginary part\n",
      "  return np.asarray(x, float)\n"
     ]
    },
    {
     "data": {
      "text/plain": [
       "[<matplotlib.lines.Line2D at 0x28eacb730>]"
      ]
     },
     "execution_count": 57,
     "metadata": {},
     "output_type": "execute_result"
    },
    {
     "data": {
      "image/png": "[encoded data removed]",
      "text/plain": [
       "<Figure size 245x183.75 with 1 Axes>"
      ]
     },
     "metadata": {
      "needs_background": "light"
     },
     "output_type": "display_data"
    }
   ],
   "source": [
    "plt.plot(eigvec[0, :])"
   ]
  },
  {
   "cell_type": "code",
   "execution_count": 54,
   "metadata": {},
   "outputs": [
    {
     "data": {
      "text/plain": [
       "DeviceArray([0.98020405, 0.98081064, 0.9818082 , 0.98317546, 0.9848846 ,\n",
       "             0.9869025 , 0.98918664, 0.9916916 , 0.99436426, 0.99715406,\n",
       "             0.99999976, 1.0197967 , 1.0191902 , 1.0181915 , 1.016825  ,\n",
       "             1.0151157 , 1.0028456 , 1.005635  , 1.0130972 , 1.0083079 ,\n",
       "             1.010813  ], dtype=float32)"
      ]
     },
     "execution_count": 54,
     "metadata": {},
     "output_type": "execute_result"
    }
   ],
   "source": [
    "jnp.real(eigval)"
   ]
  },
  {
   "cell_type": "code",
   "execution_count": null,
   "metadata": {},
   "outputs": [],
   "source": [
    "%load_ext autoreload\n",
    "%autoreload 2\n",
    "\n",
    "import numpy as np\n",
    "import torch\n",
    "import torch.nn as nn\n",
    "import torch.optim as optim\n",
    "\n",
    "\n",
    "import pickle\n",
    "\n",
    "import sys\n",
    "sys.path.append(\"../../neuroppl/\")\n",
    "sys.path.append(\"..\")\n",
    "sys.path.append(\"../scripts/\")\n",
    "\n",
    "\n",
    "import neuroppl as nppl\n",
    "from neuroppl import utils\n",
    "\n",
    "\n",
    "import matplotlib.pyplot as plt\n",
    "\n",
    "import os\n",
    "if not os.path.exists('./saves'):\n",
    "    os.makedirs('./saves')\n",
    "\n",
    "\n",
    "import pickle\n",
    "\n",
    "\n",
    "import lib\n",
    "import synthetic\n",
    "\n",
    "\n",
    "gpu_dev = 0\n",
    "dev = utils.pytorch.get_device(gpu_dev)\n",
    "plt.style.use(['paper.mplstyle'])"
   ]
  },
  {
   "cell_type": "code",
   "execution_count": null,
   "metadata": {},
   "outputs": [],
   "source": []
  },
  {
   "cell_type": "code",
   "execution_count": null,
   "metadata": {},
   "outputs": [],
   "source": []
  },
  {
   "cell_type": "code",
   "execution_count": 17,
   "metadata": {},
   "outputs": [],
   "source": [
    "# data\n",
    "checkpoint_dir = '../scripts/checkpoint/'\n",
    "datatype = 1\n",
    "\n",
    "single_spikes = False\n",
    "bin_size = 500\n",
    "\n",
    "dataset_tuple = synthetic.get_dataset(datatype)\n",
    "rcov, units_used, tbin, resamples, rc_t, max_count, bin_size, metainfo, mdl_name = dataset_tuple\n",
    "#region_edge = metainfo[0]\n",
    "\n",
    "# model\n",
    "ll_mode = 'IPPexp'\n",
    "filt_mode = ''\n",
    "map_mode = 'svgp32'\n",
    "x_mode = 'hd-isi1'\n",
    "z_mode = ''\n",
    "hist_len = 0\n",
    "folds = 5\n",
    "delays = [0]\n",
    "m = (ll_mode, filt_mode, map_mode, x_mode, z_mode, hist_len, folds, delays)\n",
    "\n",
    "# load\n",
    "cv_run = -1\n",
    "delay = 0\n",
    "batch_size = 5000\n",
    "\n",
    "inputs_used = lambda *args: synthetic.inputs_used_(datatype, *args)\n",
    "enc_used = lambda *args: synthetic.enc_used_(datatype, *args)\n",
    "\n",
    "modelfit, fit_set, validation_set = lib.models.load_model(\n",
    "    checkpoint_dir, m, dataset_tuple, inputs_used, enc_used, \n",
    "    delay, cv_run, batch_size, gpu_dev, tensor_type=torch.float, jitter=1e-5, J=100\n",
    ")"
   ]
  },
  {
   "cell_type": "code",
   "execution_count": null,
   "metadata": {},
   "outputs": [],
   "source": []
  },
  {
   "cell_type": "code",
   "execution_count": null,
   "metadata": {},
   "outputs": [],
   "source": []
  },
  {
   "cell_type": "code",
   "execution_count": 19,
   "metadata": {},
   "outputs": [
    {
     "data": {
      "text/plain": [
       "[<matplotlib.lines.Line2D at 0x7f9b38484780>]"
      ]
     },
     "execution_count": 19,
     "metadata": {},
     "output_type": "execute_result"
    },
    {
     "data": {
      "image/png": "[encoded data removed]",
      "text/plain": [
       "<Figure size 245x183.75 with 1 Axes>"
      ]
     },
     "metadata": {
      "needs_background": "light"
     },
     "output_type": "display_data"
    }
   ],
   "source": [
    "rcov, units_used, tbin, resamples, rc_t, max_count, bin_size, metainfo, mdl_name = dataset_tuple\n",
    "\n",
    "plt.plot(rcov[1][2, :, 0])"
   ]
  },
  {
   "cell_type": "code",
   "execution_count": null,
   "metadata": {},
   "outputs": [],
   "source": []
  },
  {
   "cell_type": "code",
   "execution_count": 83,
   "metadata": {},
   "outputs": [],
   "source": []
  },
  {
   "cell_type": "code",
   "execution_count": null,
   "metadata": {},
   "outputs": [],
   "source": []
  },
  {
   "cell_type": "code",
   "execution_count": null,
   "metadata": {},
   "outputs": [],
   "source": []
  },
  {
   "cell_type": "code",
   "execution_count": null,
   "metadata": {},
   "outputs": [],
   "source": []
  },
  {
   "cell_type": "code",
   "execution_count": 78,
   "metadata": {},
   "outputs": [],
   "source": [
    "steps = 1000\n",
    "covariates = [torch.linspace(0, 2*np.pi, steps)*0, torch.linspace(0, 1000.0, steps)]\n",
    "\n",
    "use_neuron = [0, 1, 2]\n",
    "trials = 1\n",
    "\n",
    "cov = modelfit.mapping.to_XZ(covariates, trials)\n",
    "with torch.no_grad():\n",
    "    F_mu, F_var = modelfit.mapping.compute_F(cov)\n",
    "\n",
    "\n",
    "with torch.no_grad():\n",
    "    modelfit.mapping.jitter = 1e-4\n",
    "    mc = 10\n",
    "    eps = torch.randn(mc, 50, 1000, device=modelfit.mapping.dummy.device)\n",
    "    F = modelfit.mapping.sample_F(cov, eps)"
   ]
  },
  {
   "cell_type": "code",
   "execution_count": 79,
   "metadata": {},
   "outputs": [
    {
     "data": {
      "text/plain": [
       "DeepKernel(\n",
       "  (kern): RBF()\n",
       "  (map): time_transform()\n",
       ")"
      ]
     },
     "execution_count": 79,
     "metadata": {},
     "output_type": "execute_result"
    }
   ],
   "source": [
    "modelfit.mapping.kernel.kern1"
   ]
  },
  {
   "cell_type": "code",
   "execution_count": 80,
   "metadata": {},
   "outputs": [],
   "source": [
    "x = torch.exp(F)\n",
    "p = x*torch.exp(-torch.cumsum(x, dim=-1)*0.001)"
   ]
  },
  {
   "cell_type": "code",
   "execution_count": null,
   "metadata": {},
   "outputs": [],
   "source": []
  },
  {
   "cell_type": "code",
   "execution_count": 90,
   "metadata": {},
   "outputs": [
    {
     "data": {
      "image/png": "[encoded data removed]",
      "text/plain": [
       "<Figure size 245x183.75 with 1 Axes>"
      ]
     },
     "metadata": {
      "needs_background": "light"
     },
     "output_type": "display_data"
    }
   ],
   "source": [
    "plt.plot(p[:, 26, :].cpu().numpy().T)\n",
    "plt.show()"
   ]
  },
  {
   "cell_type": "code",
   "execution_count": 28,
   "metadata": {},
   "outputs": [
    {
     "data": {
      "text/plain": [
       "[<matplotlib.lines.Line2D at 0x7f9b1e7c7e80>]"
      ]
     },
     "execution_count": 28,
     "metadata": {},
     "output_type": "execute_result"
    },
    {
     "data": {
      "image/png": "[encoded data removed]",
      "text/plain": [
       "<Figure size 245x183.75 with 1 Axes>"
      ]
     },
     "metadata": {
      "needs_background": "light"
     },
     "output_type": "display_data"
    }
   ],
   "source": [
    "n = 3\n",
    "fm = F_mu.cpu().numpy()[0, n, :]\n",
    "\n",
    "plt.plot(fm)"
   ]
  },
  {
   "cell_type": "code",
   "execution_count": 32,
   "metadata": {},
   "outputs": [
    {
     "ename": "AxisError",
     "evalue": "axis 1 is out of bounds for array of dimension 1",
     "output_type": "error",
     "traceback": [
      "\u001b[0;31m---------------------------------------------------------------------------\u001b[0m",
      "\u001b[0;31mAxisError\u001b[0m                                 Traceback (most recent call last)",
      "\u001b[0;32m<ipython-input-32-78895293b136>\u001b[0m in \u001b[0;36m<module>\u001b[0;34m\u001b[0m\n\u001b[1;32m      1\u001b[0m \u001b[0mx\u001b[0m \u001b[0;34m=\u001b[0m \u001b[0mnp\u001b[0m\u001b[0;34m.\u001b[0m\u001b[0mexp\u001b[0m\u001b[0;34m(\u001b[0m\u001b[0mfm\u001b[0m\u001b[0;34m)\u001b[0m\u001b[0;34m\u001b[0m\u001b[0;34m\u001b[0m\u001b[0m\n\u001b[0;32m----> 2\u001b[0;31m \u001b[0mp\u001b[0m \u001b[0;34m=\u001b[0m \u001b[0mx\u001b[0m\u001b[0;34m*\u001b[0m\u001b[0mnp\u001b[0m\u001b[0;34m.\u001b[0m\u001b[0mexp\u001b[0m\u001b[0;34m(\u001b[0m\u001b[0;34m-\u001b[0m\u001b[0mnp\u001b[0m\u001b[0;34m.\u001b[0m\u001b[0mcumsum\u001b[0m\u001b[0;34m(\u001b[0m\u001b[0mx\u001b[0m\u001b[0;34m,\u001b[0m \u001b[0maxis\u001b[0m\u001b[0;34m=\u001b[0m\u001b[0;36m1\u001b[0m\u001b[0;34m)\u001b[0m\u001b[0;34m*\u001b[0m\u001b[0mdt\u001b[0m\u001b[0;34m)\u001b[0m \u001b[0;31m# natural time\u001b[0m\u001b[0;34m\u001b[0m\u001b[0;34m\u001b[0m\u001b[0m\n\u001b[0m",
      "\u001b[0;32m<__array_function__ internals>\u001b[0m in \u001b[0;36mcumsum\u001b[0;34m(*args, **kwargs)\u001b[0m\n",
      "\u001b[0;32m~/.local/lib/python3.6/site-packages/numpy/core/fromnumeric.py\u001b[0m in \u001b[0;36mcumsum\u001b[0;34m(a, axis, dtype, out)\u001b[0m\n\u001b[1;32m   2468\u001b[0m \u001b[0;34m\u001b[0m\u001b[0m\n\u001b[1;32m   2469\u001b[0m     \"\"\"\n\u001b[0;32m-> 2470\u001b[0;31m     \u001b[0;32mreturn\u001b[0m \u001b[0m_wrapfunc\u001b[0m\u001b[0;34m(\u001b[0m\u001b[0ma\u001b[0m\u001b[0;34m,\u001b[0m \u001b[0;34m'cumsum'\u001b[0m\u001b[0;34m,\u001b[0m \u001b[0maxis\u001b[0m\u001b[0;34m=\u001b[0m\u001b[0maxis\u001b[0m\u001b[0;34m,\u001b[0m \u001b[0mdtype\u001b[0m\u001b[0;34m=\u001b[0m\u001b[0mdtype\u001b[0m\u001b[0;34m,\u001b[0m \u001b[0mout\u001b[0m\u001b[0;34m=\u001b[0m\u001b[0mout\u001b[0m\u001b[0;34m)\u001b[0m\u001b[0;34m\u001b[0m\u001b[0;34m\u001b[0m\u001b[0m\n\u001b[0m\u001b[1;32m   2471\u001b[0m \u001b[0;34m\u001b[0m\u001b[0m\n\u001b[1;32m   2472\u001b[0m \u001b[0;34m\u001b[0m\u001b[0m\n",
      "\u001b[0;32m~/.local/lib/python3.6/site-packages/numpy/core/fromnumeric.py\u001b[0m in \u001b[0;36m_wrapfunc\u001b[0;34m(obj, method, *args, **kwds)\u001b[0m\n\u001b[1;32m     59\u001b[0m \u001b[0;34m\u001b[0m\u001b[0m\n\u001b[1;32m     60\u001b[0m     \u001b[0;32mtry\u001b[0m\u001b[0;34m:\u001b[0m\u001b[0;34m\u001b[0m\u001b[0;34m\u001b[0m\u001b[0m\n\u001b[0;32m---> 61\u001b[0;31m         \u001b[0;32mreturn\u001b[0m \u001b[0mbound\u001b[0m\u001b[0;34m(\u001b[0m\u001b[0;34m*\u001b[0m\u001b[0margs\u001b[0m\u001b[0;34m,\u001b[0m \u001b[0;34m**\u001b[0m\u001b[0mkwds\u001b[0m\u001b[0;34m)\u001b[0m\u001b[0;34m\u001b[0m\u001b[0;34m\u001b[0m\u001b[0m\n\u001b[0m\u001b[1;32m     62\u001b[0m     \u001b[0;32mexcept\u001b[0m \u001b[0mTypeError\u001b[0m\u001b[0;34m:\u001b[0m\u001b[0;34m\u001b[0m\u001b[0;34m\u001b[0m\u001b[0m\n\u001b[1;32m     63\u001b[0m         \u001b[0;31m# A TypeError occurs if the object does have such a method in its\u001b[0m\u001b[0;34m\u001b[0m\u001b[0;34m\u001b[0m\u001b[0;34m\u001b[0m\u001b[0m\n",
      "\u001b[0;31mAxisError\u001b[0m: axis 1 is out of bounds for array of dimension 1"
     ]
    }
   ],
   "source": [
    "x = np.exp(fm)\n",
    "p = x*np.exp(-np.cumsum(x, axis=1)*dt) # natural time"
   ]
  },
  {
   "cell_type": "code",
   "execution_count": null,
   "metadata": {},
   "outputs": [],
   "source": [
    "tau = np.arange(Tl)*dt\n",
    "tau_0 = 0.001\n",
    "t = tau_0*(np.exp(tau) - 1)\n",
    "dtau_dt = 1/(t+tau_0)"
   ]
  },
  {
   "cell_type": "code",
   "execution_count": null,
   "metadata": {},
   "outputs": [],
   "source": [
    "(p*dt).sum(1)"
   ]
  },
  {
   "cell_type": "code",
   "execution_count": null,
   "metadata": {},
   "outputs": [],
   "source": []
  },
  {
   "cell_type": "code",
   "execution_count": null,
   "metadata": {},
   "outputs": [],
   "source": []
  }
 ],
 "metadata": {
  "kernelspec": {
   "display_name": "Python 3 (ipykernel)",
   "language": "python",
   "name": "python3"
  },
  "language_info": {
   "codemirror_mode": {
    "name": "ipython",
    "version": 3
   },
   "file_extension": ".py",
   "mimetype": "text/x-python",
   "name": "python",
   "nbconvert_exporter": "python",
   "pygments_lexer": "ipython3",
   "version": "3.6.9"
  }
 },
 "nbformat": 4,
 "nbformat_minor": 4
}
