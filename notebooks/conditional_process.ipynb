{
 "cells": [
  {
   "cell_type": "code",
   "execution_count": 1,
   "metadata": {},
   "outputs": [
    {
     "name": "stdout",
     "output_type": "stream",
     "text": [
      "PyTorch version: 1.7.0\n",
      "Using device: cuda:0\n"
     ]
    }
   ],
   "source": [
    "%load_ext autoreload\n",
    "%autoreload 2\n",
    "\n",
    "import torch\n",
    "import torch.nn as nn\n",
    "from torch.nn.parameter import Parameter\n",
    "import torch.nn.functional as F\n",
    "import torch.optim as optim\n",
    "\n",
    "import matplotlib.pyplot as plt\n",
    "\n",
    "import numpy as np\n",
    "\n",
    "import sys\n",
    "sys.path.append(\"../../neuroprob/\")\n",
    "\n",
    "import neuroprob as mdl\n",
    "from neuroprob import utils\n",
    "\n",
    "\n",
    "dev = utils.pytorch.get_device(gpu=0)\n",
    "\n",
    "\n",
    "plt.style.use(['paper.mplstyle'])"
   ]
  },
  {
   "cell_type": "code",
   "execution_count": null,
   "metadata": {},
   "outputs": [],
   "source": []
  },
  {
   "cell_type": "markdown",
   "metadata": {},
   "source": [
    "### Biophysical neuron"
   ]
  },
  {
   "cell_type": "code",
   "execution_count": 2,
   "metadata": {
    "scrolled": true
   },
   "outputs": [
    {
     "data": {
      "application/vnd.jupyter.widget-view+json": {
       "model_id": "1a283485a41449d2a4ca515fab78dcd2",
       "version_major": 2,
       "version_minor": 0
      },
      "text/plain": [
       "HBox(children=(FloatProgress(value=0.0, max=4999.0), HTML(value='')))"
      ]
     },
     "metadata": {},
     "output_type": "display_data"
    },
    {
     "name": "stdout",
     "output_type": "stream",
     "text": [
      "\n"
     ]
    }
   ],
   "source": [
    "# input stimulus\n",
    "T = 5000\n",
    "runs = 1\n",
    "\n",
    "T_int = 1000\n",
    "I_ext = np.zeros((runs, T))\n",
    "\n",
    "# biophysical model synthetic data\n",
    "dynamics = 'tonic_spiking'\n",
    "\n",
    "model, I, dt = utils.biophysical.neuron_model(dynamics, 'Izhikevich')\n",
    "sample_bin = dt\n",
    "        \n",
    "#for r in range(runs):    \n",
    "#I_ext[0, T_int:-T_int] = I*np.sin(np.arange(T-2*T_int)/(T-2*T_int)*5*np.pi)\n",
    "I_ext[0, T_int:-T_int] = I\n",
    "\n",
    "ic = np.empty((runs, 2))\n",
    "ic[:, 0] = -50.\n",
    "ic[:, 1] = 0.\n",
    "\n",
    "state, spiketrain = model.euler_int(T, runs, I_ext, ic, dt=dt)"
   ]
  },
  {
   "cell_type": "code",
   "execution_count": 3,
   "metadata": {},
   "outputs": [
    {
     "data": {
      "image/png": "[encoded data removed]",
      "text/plain": [
       "<Figure size 210x210 with 1 Axes>"
      ]
     },
     "metadata": {
      "needs_background": "light"
     },
     "output_type": "display_data"
    },
    {
     "data": {
      "image/png": "[encoded data removed]",
      "text/plain": [
       "<Figure size 280x140 with 1 Axes>"
      ]
     },
     "metadata": {
      "needs_background": "light"
     },
     "output_type": "display_data"
    }
   ],
   "source": [
    "# visualize data\n",
    "plt.figure(figsize=(3,3))\n",
    "plt.plot(state[0, :T, 0])\n",
    "plt.show()\n",
    "\n",
    "fig, ax = plt.subplots(figsize=(4, 2))\n",
    "utils.plot.raster_plot((fig, ax), spiketrain, 10000, dt*10, runs, markersize=100)\n",
    "plt.show()"
   ]
  },
  {
   "cell_type": "code",
   "execution_count": 8,
   "metadata": {},
   "outputs": [
    {
     "data": {
      "image/png": "[encoded data removed]",
      "text/plain": [
       "<Figure size 210x210 with 1 Axes>"
      ]
     },
     "metadata": {},
     "output_type": "display_data"
    },
    {
     "name": "stdout",
     "output_type": "stream",
     "text": [
      "0.6062144822560145\n",
      "-0.24479134220555054\n"
     ]
    }
   ],
   "source": [
    "samples = syn_train.shape[-1]\n",
    "rate_model = np.ones(samples)*(syn_train.sum()/samples/sample_bin)\n",
    "spiketime_indices = neural_utils.BinToTrain(syn_train[0])\n",
    "\n",
    "# ISI KS-method\n",
    "\n",
    "#dist_isi = mdl.point_process.ISI_invGauss(np.array([0.5]), np.array([1.0]))\n",
    "dist_isi = mdl.point_process.ISI_gamma(np.array([1.0]))\n",
    "q_cdf, Z_DS, T_KS, s_DS, s_KS, p_DS, p_KS = \\\n",
    "    stats.ISI_KS_method(dist_isi, sample_bin, spiketime_indices, rate_model)\n",
    "\n",
    "fig = plt.figure(figsize=(3, 3))\n",
    "ax = fig.subplots()\n",
    "ax = stats.plot_dispersion(ax, q_cdf, s_KS)\n",
    "plt.show()\n",
    "print(T_KS)\n",
    "print(Z_DS)"
   ]
  },
  {
   "cell_type": "code",
   "execution_count": null,
   "metadata": {},
   "outputs": [],
   "source": []
  },
  {
   "cell_type": "markdown",
   "metadata": {},
   "source": [
    "### Synthetic GLM data"
   ]
  },
  {
   "cell_type": "code",
   "execution_count": 4,
   "metadata": {},
   "outputs": [],
   "source": [
    "T = 5000\n",
    "runs = 1\n",
    "\n",
    "T_int = 1000\n",
    "I_ext = np.zeros((runs, T))\n",
    "\n",
    "sample_bin = 0.001\n",
    "        \n",
    "for r in range(runs):    \n",
    "    I_ext[r, T_int:-T_int] = r/10. + 10."
   ]
  },
  {
   "cell_type": "code",
   "execution_count": 5,
   "metadata": {},
   "outputs": [],
   "source": [
    "w_h = np.array([-0.1, -1.0])[:, None, None]*np.ones((2, 1, 1))\n",
    "phi_h = np.array([[[3.0]], [[1.0]]])\n",
    "\n",
    "hist_len = 100 # 100 steps of spiketrain, no instantaneous element\n",
    "hist_couple = mdl.filters.raised_cosine_bumps(a=1., c=1., phi=phi_h, w=w_h, timesteps=hist_len)\n",
    "a_t = hist_couple.compute_filter()"
   ]
  },
  {
   "cell_type": "code",
   "execution_count": 18,
   "metadata": {},
   "outputs": [
    {
     "data": {
      "text/plain": [
       "VI_optimized(\n",
       "  (inputs): input_group(\n",
       "    (stimulus_filter): raised_cosine_bumps()\n",
       "  )\n",
       "  (mapping): GLM()\n",
       "  (likelihood): filtered_likelihood(\n",
       "    (likelihood): Bernoulli()\n",
       "    (filter): raised_cosine_bumps()\n",
       "  )\n",
       ")"
      ]
     },
     "execution_count": 18,
     "metadata": {},
     "output_type": "execute_result"
    }
   ],
   "source": [
    "w_s = np.array([0.1, 1.0, -0.4])[:, None, None]*np.ones((3, 1, 1))\n",
    "phi_s = np.array([[[4.0]], [[1.0]], [[3.0]]])\n",
    "stim_hist = mdl.filters.raised_cosine_bumps(a=1., c=1., phi=phi_s, w=w_s, timesteps=hist_len)\n",
    "VI_tuples = [(None, None, None, 1)]\n",
    "\n",
    "covariates = [I_ext[0, :]]\n",
    "input_group = mdl.inference.input_group(1, VI_tuples, stimulus_filter=stim_hist)\n",
    "input_group.set_XZ(covariates, T, batch_size=5000, filter_len=hist_len)\n",
    "\n",
    "\n",
    "\n",
    "# GLM validation with synthetic GLM data\n",
    "#ivlink = 'exp'\n",
    "ivlink = lambda x: torch.sigmoid(x)/sample_bin\n",
    "\n",
    "glm_rate = mdl.parametrics.GLM(1, 1, 1, ivlink, bias=True)\n",
    "glm_rate.set_params(np.array([[1.0]]), np.array([[-20.0]]))\n",
    "\n",
    "#w_h = np.array([2.1, -2.0, -2.0])[:, None, None]*np.ones((3, 1, 1))\n",
    "#phi_h = np.array([[[4.0]], [[3.0]], [[1.0]]])\n",
    "w_h = np.array([-0.1, -1.0])[:, None, None]*np.ones((2, 1, 1))\n",
    "phi_h = np.array([[[3.0]], [[1.0]]])\n",
    "\n",
    "hist_len = 99 # 100 steps of spiketrain, no instantaneous element\n",
    "hist_couple = mdl.filters.raised_cosine_bumps(a=1., c=1., phi=phi_h, w=w_h, timesteps=hist_len-1)\n",
    "#likelihood = mdl.likelihoods.Poisson(1, ivlink)\n",
    "_likelihood = mdl.likelihoods.Bernoulli(sample_bin, 1, ivlink)\n",
    "\n",
    "likelihood = mdl.filters.filtered_likelihood(_likelihood, hist_couple)\n",
    "\n",
    "\n",
    "glm = mdl.inference.VI_optimized(input_group, glm_rate, likelihood)\n",
    "glm.to(dev)"
   ]
  },
  {
   "cell_type": "code",
   "execution_count": 1,
   "metadata": {},
   "outputs": [
    {
     "ename": "NameError",
     "evalue": "name 'glm' is not defined",
     "output_type": "error",
     "traceback": [
      "\u001b[0;31m---------------------------------------------------------\u001b[0m",
      "\u001b[0;31mNameError\u001b[0m               Traceback (most recent call last)",
      "\u001b[0;32m<ipython-input-1-4da260bdc2b5>\u001b[0m in \u001b[0;36m<module>\u001b[0;34m\u001b[0m\n\u001b[0;32m----> 1\u001b[0;31m \u001b[0m_\u001b[0m\u001b[0;34m,\u001b[0m \u001b[0mrate\u001b[0m\u001b[0;34m,\u001b[0m \u001b[0m_\u001b[0m \u001b[0;34m=\u001b[0m \u001b[0mglm\u001b[0m\u001b[0;34m.\u001b[0m\u001b[0mevaluate\u001b[0m\u001b[0;34m(\u001b[0m\u001b[0;36m0\u001b[0m\u001b[0;34m)\u001b[0m\u001b[0;34m\u001b[0m\u001b[0;34m\u001b[0m\u001b[0m\n\u001b[0m\u001b[1;32m      2\u001b[0m \u001b[0msyn_train\u001b[0m \u001b[0;34m=\u001b[0m \u001b[0mglm\u001b[0m\u001b[0;34m.\u001b[0m\u001b[0mlikelihood\u001b[0m\u001b[0;34m.\u001b[0m\u001b[0msample\u001b[0m\u001b[0;34m(\u001b[0m\u001b[0mrate\u001b[0m\u001b[0;34m[\u001b[0m\u001b[0;36m0\u001b[0m\u001b[0;34m]\u001b[0m\u001b[0;34m.\u001b[0m\u001b[0mcpu\u001b[0m\u001b[0;34m(\u001b[0m\u001b[0;34m)\u001b[0m\u001b[0;34m.\u001b[0m\u001b[0mnumpy\u001b[0m\u001b[0;34m(\u001b[0m\u001b[0;34m)\u001b[0m\u001b[0;34m)\u001b[0m\u001b[0;34m\u001b[0m\u001b[0;34m\u001b[0m\u001b[0m\n",
      "\u001b[0;31mNameError\u001b[0m: name 'glm' is not defined"
     ]
    }
   ],
   "source": [
    "_, rate, _ = glm.evaluate(0)\n",
    "syn_train = glm.likelihood.sample(rate[0].cpu().numpy())"
   ]
  },
  {
   "cell_type": "code",
   "execution_count": 81,
   "metadata": {},
   "outputs": [
    {
     "data": {
      "application/vnd.jupyter.widget-view+json": {
       "model_id": "",
       "version_major": 2,
       "version_minor": 0
      },
      "text/plain": [
       "HBox(children=(FloatProgress(value=0.0, max=4901.0), HTML(value='')))"
      ]
     },
     "metadata": {},
     "output_type": "display_data"
    }
   ],
   "source": [
    "# sample\n",
    "neurons = glm.neurons\n",
    "hist_len = glm.filter_len-1\n",
    "\n",
    "trials = 1\n",
    "ini_train = np.zeros((trials, neurons, hist_len))\n",
    "\n",
    "syn_train, _, _ = glm.sample([I_ext.flatten()], ini_train)\n",
    "syn_t_spike = []\n",
    "for n in range(neurons):\n",
    "    syn_t_spike.append(neural_utils.BinToTrain(syn_train[0, n]))\n",
    "    \n",
    "syn_train = syn_train[0]"
   ]
  },
  {
   "cell_type": "code",
   "execution_count": 82,
   "metadata": {},
   "outputs": [
    {
     "data": {
      "text/plain": [
       "[<matplotlib.lines.Line2D at 0x7feac129ca90>]"
      ]
     },
     "execution_count": 82,
     "metadata": {},
     "output_type": "execute_result"
    },
    {
     "data": {
      "image/png": "[encoded data removed]",
      "text/plain": [
       "<Figure size 245x183.75 with 1 Axes>"
      ]
     },
     "metadata": {
      "needs_background": "light"
     },
     "output_type": "display_data"
    }
   ],
   "source": [
    "fig = plt.figure()\n",
    "ax = fig.subplots()\n",
    "a_t = hist_couple.compute_filter()\n",
    "\n",
    "t = np.arange(a_t.shape[-1])*sample_bin\n",
    "ax.plot(t, a_t.data.cpu().numpy()[0, 0, ::-1])"
   ]
  },
  {
   "cell_type": "code",
   "execution_count": 83,
   "metadata": {},
   "outputs": [
    {
     "data": {
      "image/png": "[encoded data removed]",
      "text/plain": [
       "<Figure size 245x183.75 with 1 Axes>"
      ]
     },
     "metadata": {
      "needs_background": "light"
     },
     "output_type": "display_data"
    }
   ],
   "source": [
    "# stimulus history filter\n",
    "a = stim_hist.compute_filter()\n",
    "a = a.data[0,0].cpu().numpy()\n",
    "t = np.arange(len(a))*sample_bin\n",
    "plt.plot(t, a[::-1])\n",
    "plt.show()"
   ]
  },
  {
   "cell_type": "code",
   "execution_count": 88,
   "metadata": {},
   "outputs": [
    {
     "data": {
      "image/png": "[encoded data removed]",
      "text/plain": [
       "<Figure size 245x183.75 with 1 Axes>"
      ]
     },
     "metadata": {
      "needs_background": "light"
     },
     "output_type": "display_data"
    }
   ],
   "source": [
    "plt.scatter(syn_t_spike[0]*sample_bin, np.ones_like(syn_t_spike[0]), marker='|')\n",
    "plt.xlim(0, 5)\n",
    "plt.yticks([])\n",
    "plt.xlabel('time (ms)')\n",
    "plt.show()"
   ]
  },
  {
   "cell_type": "code",
   "execution_count": null,
   "metadata": {},
   "outputs": [],
   "source": []
  },
  {
   "cell_type": "code",
   "execution_count": null,
   "metadata": {},
   "outputs": [],
   "source": [
    "rate_model = np.ones(samples)*(syn_train.sum()/samples/sample_bin)\n",
    "\n",
    "# ISI KS-method\n",
    "\n",
    "#dist_isi = mdl.point_process.ISI_invGauss(np.array([0.5]), np.array([1.0]))\n",
    "dist_isi = mdl.point_process.ISI_gamma(np.array([1.0]))\n",
    "q_cdf, Z_DS, T_KS, s_DS, s_KS, p_DS, p_KS = \\\n",
    "    stats.ISI_KS_method(dist_isi, sample_bin, spiketime_indices, rate_model)\n",
    "\n",
    "fig = plt.figure(figsize=(3, 3))\n",
    "ax = fig.subplots()\n",
    "ax = stats.plot_dispersion(ax, q_cdf, s_KS)\n",
    "plt.show()\n",
    "print(T_KS)\n",
    "print(Z_DS)"
   ]
  },
  {
   "cell_type": "code",
   "execution_count": null,
   "metadata": {},
   "outputs": [],
   "source": []
  },
  {
   "cell_type": "code",
   "execution_count": 161,
   "metadata": {},
   "outputs": [
    {
     "data": {
      "image/png": "[encoded data removed]",
      "text/plain": [
       "<Figure size 245x183.75 with 1 Axes>"
      ]
     },
     "metadata": {
      "needs_background": "light"
     },
     "output_type": "display_data"
    }
   ],
   "source": [
    "fig = plt.figure()\n",
    "ax = fig.subplots()\n",
    "neurons = 1\n",
    "B = 10\n",
    "hist_len = 19\n",
    "\n",
    "for k in range(B):\n",
    "    w_h = 0.0*np.random.randn(B, neurons, 1)\n",
    "    w_h[k, :, :] = 1\n",
    "    phi_h = np.linspace(0, 6.0, B)[:, None, None].repeat(neurons, axis=1)\n",
    "\n",
    "    hist_couple = mdl.filters.raised_cosine_bumps(a=3., c=0.0, phi=phi_h, w=w_h, timesteps=hist_len, \n",
    "                                                conv_groups=neurons, learnable=[False, False, False, True])\n",
    "\n",
    "    a_t = hist_couple.compute_filter()\n",
    "\n",
    "    t = np.arange(a_t.shape[-1])*sample_bin\n",
    "    ax.plot(t, a_t.data.cpu().numpy()[0, 0, ::-1])\n",
    "\n",
    "plt.show()\n",
    "\n",
    "# higher a is more linear spacing of peaks\n",
    "# c shifts the peak maxima to the left"
   ]
  },
  {
   "cell_type": "code",
   "execution_count": null,
   "metadata": {},
   "outputs": [],
   "source": []
  },
  {
   "cell_type": "code",
   "execution_count": null,
   "metadata": {},
   "outputs": [],
   "source": []
  },
  {
   "cell_type": "code",
   "execution_count": null,
   "metadata": {},
   "outputs": [],
   "source": []
  },
  {
   "cell_type": "markdown",
   "metadata": {},
   "source": [
    "### Single neuron GLM"
   ]
  },
  {
   "cell_type": "code",
   "execution_count": 92,
   "metadata": {},
   "outputs": [],
   "source": [
    "def set_glm(I_ext, syn_train, batch_size, neurons, sample_bin, mode, stimhist=False, bernoulli=False, noisy=True):\n",
    "    \n",
    "    if mode == 'gph':\n",
    "        num_induc = 8\n",
    "        l = 100*sample_bin*np.ones((1, neurons))\n",
    "        l_b = 1000*sample_bin*np.ones((1, neurons))\n",
    "        beta = np.zeros((1, neurons))\n",
    "        l_l = 10.*np.array([np.ones(neurons)])\n",
    "        v = np.ones(neurons)\n",
    "\n",
    "        kernel_tuples = [('variance', v), \n",
    "                         ('DSE', 'euclid', l, l_b, beta), \n",
    "                         ('RBF', 'euclid', l_l)]\n",
    "        inducing_points = np.linspace(-1, 1, num_induc)[None, :, None].repeat(neurons, axis=0)\n",
    "\n",
    "        mean_func = mdl.filters.decaying_exponential(neurons, -1., 1000*sample_bin)\n",
    "    \n",
    "        hist_len = 999\n",
    "        hist_couple = mdl.filters.hetero_GP_filter(1, neurons, hist_len, sample_bin, [(None,)], \n",
    "                                                   [(None,)], inducing_points, kernel_tuples, mean_func, \n",
    "                                                   conv_groups=neurons, tens_type=torch.float, \n",
    "                                                   inner_loop_bs=10, shared_kernel_params=False, noisy=noisy)\n",
    "    elif mode == 'gp':\n",
    "        l = 100*sample_bin*np.ones((1, neurons))\n",
    "        l_b = 1000*sample_bin*np.ones((1, neurons))\n",
    "        beta = np.zeros((1, neurons))\n",
    "        v = np.ones(neurons)\n",
    "\n",
    "        kernel_tuples = [('variance', v), \n",
    "                          ('DSE', 'euclid', l, l_b, beta)]\n",
    "\n",
    "        mean_func = mdl.filters.decaying_exponential(neurons, -1., 1000*sample_bin)\n",
    "    \n",
    "        hist_len = 999\n",
    "        hist_couple = mdl.filters.GP_filter(1, neurons, hist_len, sample_bin, kernel_tuples, mean_func, \n",
    "                                            num_induc=6, conv_groups=neurons, tens_type=torch.float, \n",
    "                                            noisy=noisy)\n",
    "    elif mode == 'rcb':\n",
    "        w_h = 0.01*np.random.randn(8, neurons, 1)\n",
    "        phi_h = np.linspace(0, 1, 8)[:, None, None]*5.+0.5\n",
    "\n",
    "        hist_len = 999\n",
    "        hist_couple = mdl.filters.raised_cosine_bumps(a=1., c=1., phi=phi_h, w=w_h, timesteps=hist_len, \n",
    "                                                      learnable=[False, False, False, True])\n",
    "    else:\n",
    "        raise ValueError\n",
    "\n",
    "    if stimhist:\n",
    "        w_s = 0.01*np.random.randn(6, neurons, 1)\n",
    "        w_s[0, :, :] = 1.\n",
    "        phi_s = np.linspace(0, 1, 6)[:, None, None]*5.+0.5\n",
    "        stim_hist = mdl.filters.raised_cosine_bumps(a=1., c=1., phi=phi_s, w=w_s, timesteps=hist_len+1,\n",
    "                                                    learnable=[False, False, False, True])\n",
    "    else:\n",
    "        stim_hist = None\n",
    "        \n",
    "    if bernoulli:\n",
    "        ivlink = lambda x: torch.sigmoid(x)/sample_bin\n",
    "    else:\n",
    "        ivlink = 'exp'\n",
    "\n",
    "    ini_X = [I_ext.flatten()]\n",
    "    T = I_ext.flatten().shape[0]\n",
    "    #prior_tuples = [(None,)]\n",
    "    #var_tuples = [(None,)]\n",
    "    prior_tuples = [('Normal', 'euclid', 0.0, 1.0, False, False)]\n",
    "    var_tuples = [('Normal', 'euclid')]\n",
    "    \n",
    "    glm_rate = mdl.parametrics.GLM(neurons, 1, 1, ivlink, prior_tuples, var_tuples, bias=True)\n",
    "    glm_rate.set_params(sample_bin, w=np.zeros((neurons, 1)))\n",
    "    \n",
    "    if bernoulli:\n",
    "        likelihood = mdl.likelihoods.Bernoulli(neurons, ivlink)\n",
    "    else:\n",
    "        likelihood = mdl.likelihoods.Poisson(neurons, ivlink)\n",
    "    likelihood.set_params(sample_bin)\n",
    "    \n",
    "    glm = mdl.inference.nll_optimized([glm_rate], likelihood, stim_hist=stim_hist, spk_couple=hist_couple)\n",
    "    glm.preprocess(ini_X, T, syn_train, batch_size=batch_size)\n",
    "    return glm"
   ]
  },
  {
   "cell_type": "code",
   "execution_count": 93,
   "metadata": {},
   "outputs": [
    {
     "data": {
      "application/vnd.jupyter.widget-view+json": {
       "model_id": "b0685959450c4ad2a0bc7f7087acdb04",
       "version_major": 2,
       "version_minor": 0
      },
      "text/plain": [
       "HBox(children=(FloatProgress(value=0.0, max=10000.0), HTML(value='')))"
      ]
     },
     "metadata": {},
     "output_type": "display_data"
    },
    {
     "name": "stdout",
     "output_type": "stream",
     "text": [
      "\n",
      "Stopped at epoch 504.\n"
     ]
    },
    {
     "data": {
      "image/png": "[encoded data removed]",
      "text/plain": [
       "<Figure size 245x183.75 with 1 Axes>"
      ]
     },
     "metadata": {
      "needs_background": "light"
     },
     "output_type": "display_data"
    },
    {
     "name": "stdout",
     "output_type": "stream",
     "text": [
      "\n"
     ]
    },
    {
     "data": {
      "application/vnd.jupyter.widget-view+json": {
       "model_id": "45fd301bef7741cb86ac63668739d699",
       "version_major": 2,
       "version_minor": 0
      },
      "text/plain": [
       "HBox(children=(FloatProgress(value=0.0, max=10000.0), HTML(value='')))"
      ]
     },
     "metadata": {},
     "output_type": "display_data"
    },
    {
     "name": "stdout",
     "output_type": "stream",
     "text": [
      "\n",
      "Stopped at epoch 273.\n",
      "\n"
     ]
    },
    {
     "data": {
      "image/png": "[encoded data removed]",
      "text/plain": [
       "<Figure size 245x183.75 with 1 Axes>"
      ]
     },
     "metadata": {
      "needs_background": "light"
     },
     "output_type": "display_data"
    }
   ],
   "source": [
    "modes = ['rcb', 'gp']\n",
    "syn_train = spiketrain.reshape(1, -1)\n",
    "\n",
    "for mode in modes:\n",
    "    glm = set_glm(I_ext, syn_train, syn_train[0].shape[0], 1, sample_bin, mode, stimhist=True, bernoulli=True,\n",
    "                  noisy=True)\n",
    "    glm.to(dev)\n",
    "\n",
    "    # fit\n",
    "    sch = lambda o: optim.lr_scheduler.MultiplicativeLR(o, lambda e: 0.9)\n",
    "    opt_tuple = (optim.Adam, 100, sch)\n",
    "    opt_lr_dict = {'default': 1e-1,\n",
    "                   'rate_model.0.w': 1e-1}\n",
    "    glm.set_optimizers(opt_tuple, opt_lr_dict)\n",
    "\n",
    "    losses = glm.fit(10000, loss_margin=-1e-2, stop_iters=100, cov_samples=1, ll_samples=10)\n",
    "\n",
    "    plt.figure()\n",
    "    plt.plot(losses)\n",
    "    plt.xlabel('Epoch')\n",
    "    plt.ylabel('NLL')\n",
    "    plt.show()\n",
    "    \n",
    "    # save model\n",
    "    model_name = 'GLM_{}_{}'.format(mode, dynamics)\n",
    "    torch.save({'glm': glm.state_dict()}, './checkpoint/' + model_name)"
   ]
  },
  {
   "cell_type": "code",
   "execution_count": 113,
   "metadata": {},
   "outputs": [
    {
     "data": {
      "application/vnd.jupyter.widget-view+json": {
       "model_id": "",
       "version_major": 2,
       "version_minor": 0
      },
      "text/plain": [
       "HBox(children=(FloatProgress(value=0.0, max=5000.0), HTML(value='')))"
      ]
     },
     "metadata": {},
     "output_type": "display_data"
    },
    {
     "data": {
      "application/vnd.jupyter.widget-view+json": {
       "model_id": "",
       "version_major": 2,
       "version_minor": 0
      },
      "text/plain": [
       "HBox(children=(FloatProgress(value=0.0, max=5000.0), HTML(value='')))"
      ]
     },
     "metadata": {},
     "output_type": "display_data"
    }
   ],
   "source": [
    "hist_len = 999\n",
    "filter_data = []\n",
    "sample_data = []\n",
    "cond_data = []\n",
    "\n",
    "for mode in modes:\n",
    "    glm = set_glm(I_ext, syn_train, syn_train[0].shape[0], 1, sample_bin, mode, stimhist=True, bernoulli=True, noisy=True)\n",
    "    glm.to(dev)\n",
    "\n",
    "    model_name = 'GLM_{}_{}'.format(mode, dynamics)\n",
    "    checkpoint = torch.load('./checkpoint/' + model_name)\n",
    "    glm.load_state_dict(checkpoint['glm'])\n",
    "    \n",
    "    if glm.stim_hist is not None:\n",
    "        stim_filt = glm.stim_hist.compute_filter()\n",
    "        stim_filt = stim_filt.data[0,0].cpu().numpy()[::-1]\n",
    "    else:\n",
    "        stim_filt = None\n",
    "    \n",
    "    if mode == 'rcb':\n",
    "        spike_filter = glm.spk_couple.compute_filter()\n",
    "        spike_filter = spike_filter.data[0,0].cpu().numpy()[::-1]\n",
    "        filter_data.append((spike_filter, stim_filt))\n",
    "    elif mode == 'gp':\n",
    "        glm.noisy = False\n",
    "        spike_filter, a_v = glm.spk_couple.compute_filter()\n",
    "        spike_filter = spike_filter[0, 0].data.cpu().numpy()[::-1]\n",
    "        spike_filter_s = a_v[0, 0].data.sqrt().cpu().numpy()[::-1]\n",
    "        filter_data.append((spike_filter, spike_filter_s, stim_filt))\n",
    "        \n",
    "    spk = glm.likelihood.spikes[0][None].to(glm.rate_model[0].tbin.device)\n",
    "    spk = torch.cat((torch.zeros((1, 1, hist_len-1), device=spk.device), spk), dim=-1)\n",
    "    sphist = glm.spk_couple(spk).data.cpu().numpy()[0,0]\n",
    "    cov_, _ = glm.rate_model[0].sample_covariates(0, 1, None) # samples, timesteps, dims\n",
    "    cov_ = torch.cat((torch.zeros((1, hist_len, 1), device=spk.device), cov_), dim=1)\n",
    "    sthist = glm.stim_hist(cov_.permute(0, 2, 1)).permute(0, 2, 1).data.cpu().numpy()[0, :, 0]\n",
    "    cond_data.append((sphist, sthist))\n",
    "        \n",
    "    # sample from the model\n",
    "    glm_trials = 5\n",
    "    ini_train = np.zeros((glm_trials, 1, hist_len))\n",
    "    tr, _, _ = glm.sample([np.concatenate((np.zeros(hist_len), I_ext[0]))], ini_train)\n",
    "    sample_data.append(tr)"
   ]
  },
  {
   "cell_type": "code",
   "execution_count": null,
   "metadata": {},
   "outputs": [],
   "source": [
    "print(glm.rate_model[0].w)\n",
    "print(glm.rate_model[0].bias)\n",
    "print(glm.spk_couple.a)\n",
    "print(glm.spk_couple.c)"
   ]
  },
  {
   "cell_type": "code",
   "execution_count": null,
   "metadata": {},
   "outputs": [],
   "source": []
  },
  {
   "cell_type": "code",
   "execution_count": 114,
   "metadata": {},
   "outputs": [
    {
     "data": {
      "image/png": "[encoded data removed]",
      "text/plain": [
       "<Figure size 560x350 with 6 Axes>"
      ]
     },
     "metadata": {
      "needs_background": "light"
     },
     "output_type": "display_data"
    }
   ],
   "source": [
    "fig = plt.figure(figsize=(8,5)) # plot fits\n",
    "fig.text(-0.21, 1.16, 'A', transform=ax.transAxes, size=15)\n",
    "\n",
    "time_bins = I_ext[0].shape[0]\n",
    "tt = np.arange(time_bins)*dt\n",
    "\n",
    "\n",
    "\n",
    "widths = [1]\n",
    "heights = [1, 1, 1, 2]\n",
    "spec = fig.add_gridspec(ncols=1, nrows=4, width_ratios=widths, height_ratios=heights, \n",
    "                        left=0., right=0.7, bottom=0., top=1.0)\n",
    "\n",
    "\n",
    "# visualize the input current\n",
    "ax = fig.add_subplot(spec[0, 0])\n",
    "ax.plot(tt, I_ext[0])\n",
    "ax.set_xlim(0, time_bins * dt)\n",
    "ax.set_xticks([])\n",
    "\n",
    "# Biophysical\n",
    "ax = fig.add_subplot(spec[1, 0])\n",
    "ax.plot(tt, state[0, :, 0])\n",
    "ax.set_xlim(0, time_bins * dt)\n",
    "ax.set_xticks([])\n",
    "\n",
    "# visualize GLM conditional intensity on data\n",
    "sphist, sthist = cond_data[0]\n",
    "ax = fig.add_subplot(spec[2, 0])\n",
    "ax.plot(tt, sphist, label='spike history')\n",
    "ax.plot(tt, sthist, label='stimulus history')\n",
    "ax.legend()\n",
    "\n",
    "\n",
    "\n",
    "ax = fig.add_subplot(spec[3, 0])\n",
    "\n",
    "# Data\n",
    "t = np.nonzero(spiketrain[0])[0]*dt\n",
    "ax.scatter(t, (2*glm_trials+1) * np.ones_like(t), c='k', s=40, marker='|')\n",
    "\n",
    "# GLM repeats\n",
    "tr = sample_data[0]\n",
    "for i in range(glm_trials):\n",
    "    t = np.nonzero(tr[i, 0])[0]*dt\n",
    "    ax.scatter(t, (i+1+glm_trials) * np.ones_like(t), c='tab:blue', s=40, marker='|')\n",
    "\n",
    "tr = sample_data[1]\n",
    "for i in range(glm_trials):\n",
    "    t = np.nonzero(tr[i, 0])[0]*dt\n",
    "    ax.scatter(t, (i+1) * np.ones_like(t), c='tab:green', s=40, marker='|')\n",
    "    \n",
    "\n",
    "ax.set_xlim(0, time_bins * dt)\n",
    "ax.set_ylim(0, 2*glm_trials+2)\n",
    "#ax.set_yticks(np.arange(1, units+1))\n",
    "ax.set_xlabel('time (ms)')\n",
    "\n",
    "\n",
    "\n",
    "widths = [1]\n",
    "heights = [1, 1]\n",
    "spec = fig.add_gridspec(ncols=1, nrows=2, width_ratios=widths, height_ratios=heights, \n",
    "                        left=0.75, right=1.0, bottom=0.2, top=0.8)\n",
    "\n",
    "\n",
    "axhist = fig.add_subplot(spec[0, 0])\n",
    "axstim = fig.add_subplot(spec[1, 0])\n",
    "\n",
    "\n",
    "spikefilter, stimfilter = filter_data[0]\n",
    "t = np.arange(len(spike_filter))*sample_bin\n",
    "axhist.plot(t, spike_filter, color='tab:blue')\n",
    "t = np.arange(len(stim_filt))*sample_bin\n",
    "axstim.plot(t, stim_filt, color='tab:blue')\n",
    "\n",
    "\n",
    "spike_filter, spike_filter_s, stim_filt = filter_data[1]\n",
    "t = np.arange(len(spike_filter))*sample_bin\n",
    "line, = axhist.plot(t, spike_filter, color='tab:green')\n",
    "axhist.fill_between(\n",
    "    t, (spike_filter-spike_filter_s),\n",
    "    (spike_filter+spike_filter_s), color=line.get_color(), alpha=0.5\n",
    ")\n",
    "t = np.arange(len(stim_filt))*sample_bin\n",
    "axstim.plot(t, stim_filt, color='tab:green')\n",
    "\n",
    "\n",
    "\n",
    "\n",
    "\n",
    "plt.show()"
   ]
  },
  {
   "cell_type": "code",
   "execution_count": null,
   "metadata": {},
   "outputs": [],
   "source": [
    "if mode == 'gph':\n",
    "    cov = torch.linspace(-50., 10., 20)[:, None, None].expand(20, 999, 1)\n",
    "    fa, fa_v = glm.spk_couple.compute_filter(cov.to(dev))\n",
    "\n",
    "    \"\"\"fig, ax = plt.subplots(10, figsize=(8,6))\n",
    "    for kt in range(10):\n",
    "        a = fa[kt, 0, 0].data.cpu().numpy()\n",
    "        a_s = fa_v[kt, 0, 0].data.sqrt().cpu().numpy()\n",
    "        t = np.arange(len(a))*sample_bin\n",
    "        line, = ax[kt].plot(t, a[::-1])\n",
    "        ax[kt].plot(t, a[::-1])\n",
    "        ax[kt].fill_between(\n",
    "            t, (a-a_s)[::-1],\n",
    "            (a+a_s)[::-1], color=line.get_color(), alpha=0.5\n",
    "        )\"\"\"\n",
    "        \n",
    "    ff = fa[:, 0, 0, :].data.cpu().numpy()\n",
    "    _, ax, im = tools.draw_2d(ff, origin='lower', aspect='auto', \n",
    "                            cmap='viridis', vmin=ff.min(), vmax=ff.max())\n",
    "    tools.decorate_ax(ax, spines=[False, False, False, False])"
   ]
  },
  {
   "cell_type": "code",
   "execution_count": 115,
   "metadata": {},
   "outputs": [],
   "source": [
    "spikefilter_, stimfilter_ = filter_data[0]\n",
    "\n",
    "spike_filter, spike_filter_s, stim_filt = filter_data[1]"
   ]
  },
  {
   "cell_type": "code",
   "execution_count": 117,
   "metadata": {},
   "outputs": [
    {
     "data": {
      "text/plain": [
       "[<matplotlib.lines.Line2D at 0x7ff4740e9fd0>]"
      ]
     },
     "execution_count": 117,
     "metadata": {},
     "output_type": "execute_result"
    },
    {
     "data": {
      "image/png": "[encoded data removed]",
      "text/plain": [
       "<Figure size 245x183.75 with 1 Axes>"
      ]
     },
     "metadata": {
      "needs_background": "light"
     },
     "output_type": "display_data"
    }
   ],
   "source": [
    "plt.plot(spikefilter_)\n",
    "#plt.plot(spike_filter)"
   ]
  },
  {
   "cell_type": "code",
   "execution_count": 25,
   "metadata": {},
   "outputs": [
    {
     "data": {
      "application/vnd.jupyter.widget-view+json": {
       "model_id": "",
       "version_major": 2,
       "version_minor": 0
      },
      "text/plain": [
       "HBox(children=(FloatProgress(value=0.0, max=4000.0), HTML(value='')))"
      ]
     },
     "metadata": {},
     "output_type": "display_data"
    }
   ],
   "source": []
  },
  {
   "cell_type": "code",
   "execution_count": 27,
   "metadata": {},
   "outputs": [
    {
     "data": {
      "image/png": "[encoded data removed]",
      "text/plain": [
       "<Figure size 245x183.75 with 1 Axes>"
      ]
     },
     "metadata": {
      "needs_background": "light"
     },
     "output_type": "display_data"
    }
   ],
   "source": [
    "# plot spike raster\n",
    "s = tr[0, 0].nonzero()[0][:]\n",
    "plt.scatter(s, np.zeros_like(s), marker='.', color='r')\n",
    "plt.show()"
   ]
  },
  {
   "cell_type": "code",
   "execution_count": null,
   "metadata": {},
   "outputs": [],
   "source": []
  },
  {
   "cell_type": "code",
   "execution_count": null,
   "metadata": {},
   "outputs": [],
   "source": [
    "# decoding the stimulus (LVM) TODO!\n",
    "I_ext = I_ext.flatten()\n",
    "spiketrain = spiketrain.reshape(1, -1)\n",
    "glm.preprocess((I_ext,), spiketrain, batch_size=10000)\n",
    "\n",
    "\n",
    "# fit\n",
    "sch = lambda o: optim.lr_scheduler.MultiplicativeLR(o, lambda e: 0.9)\n",
    "opt_tuple = (optim.Adam, 100, sch)\n",
    "opt_dict = {'lr': 1e-2}\n",
    "glm.set_optimizers(opt_tuple, opt_dict, 1e-4)\n",
    "\n",
    "losses = glm.fit(1000, margin=1e0, premature=50)\n",
    "\n",
    "plt.figure()\n",
    "plt.plot(losses)\n",
    "plt.xlabel('Epoch')\n",
    "plt.ylabel('NLL')\n",
    "plt.show()"
   ]
  },
  {
   "cell_type": "code",
   "execution_count": null,
   "metadata": {},
   "outputs": [],
   "source": []
  },
  {
   "cell_type": "markdown",
   "metadata": {},
   "source": [
    "### Heteroscedastic GLM"
   ]
  },
  {
   "cell_type": "code",
   "execution_count": 33,
   "metadata": {},
   "outputs": [],
   "source": [
    "neurons = 1\n",
    "l = 100*sample_bin*np.ones((1, neurons))\n",
    "l_b = 1000*sample_bin*np.ones((1, neurons))\n",
    "beta = np.zeros((1, neurons))\n",
    "v = np.ones(neurons)\n",
    "\n",
    "kernel_tuples = [('variance', v), \n",
    "                  ('DSE', 'euclid', l, l_b, beta)]\n",
    "\n",
    "mean_func = 0.0#mdl.filters.decaying_exponential(neurons, -1., 1000*sample_bin)"
   ]
  },
  {
   "cell_type": "code",
   "execution_count": 34,
   "metadata": {},
   "outputs": [
    {
     "data": {
      "text/plain": [
       "nll_optimized(\n",
       "  (likelihood): Poisson()\n",
       "  (rate_model): ModuleList(\n",
       "    (0): GLM()\n",
       "  )\n",
       "  (spk_couple): hetero_GP_filter(\n",
       "    (GP): Gaussian_process(\n",
       "      (kernel): Product(\n",
       "        (kern0): Constant()\n",
       "        (kern1): DSE()\n",
       "      )\n",
       "    )\n",
       "  )\n",
       ")"
      ]
     },
     "execution_count": 34,
     "metadata": {},
     "output_type": "execute_result"
    }
   ],
   "source": [
    "gp = True\n",
    "\n",
    "if gp:\n",
    "    hist_len = 99 # 100 steps of spiketrain, no instantaneous element\n",
    "    hist_couple = mdl.filters.hetero_GP_filter(1, 1, hist_len, sample_bin, kernel_tuples, mean_func, \n",
    "                                               num_induc=6, conv_groups=1, tens_type=torch.float)\n",
    "else:\n",
    "    w_h = np.array([0.0, 0.0])[:, None, None]*np.ones((2, 1, 1))\n",
    "    phi_h = np.array([[[1.0]], [[1.0]]])\n",
    "\n",
    "    hist_len = 99 # 100 steps of spiketrain, no instantaneous element\n",
    "    hist_couple = mdl.filters.raised_cosine_bumps(a=1., c=1., phi=phi_h, w=w_h, timesteps=hist_len)\n",
    "\n",
    "glm_rate = mdl.parametrics.GLM(1, 1, 1, 'exp', [(None,)], [(None,)], bias=True)\n",
    "glm_rate.set_params(sample_bin)\n",
    "likelihood = mdl.likelihoods.Poisson(1, 'exp')\n",
    "likelihood.set_params(sample_bin)\n",
    "glm = mdl.inference.nll_optimized([glm_rate], likelihood, spk_couple=hist_couple)\n",
    "glm.to(dev)"
   ]
  },
  {
   "cell_type": "code",
   "execution_count": 35,
   "metadata": {},
   "outputs": [
    {
     "data": {
      "application/vnd.jupyter.widget-view+json": {
       "model_id": "0486172a44a547ffb80a173eedb78b21",
       "version_major": 2,
       "version_minor": 0
      },
      "text/plain": [
       "HBox(children=(FloatProgress(value=0.0, max=3000.0), HTML(value='')))"
      ]
     },
     "metadata": {},
     "output_type": "display_data"
    },
    {
     "name": "stdout",
     "output_type": "stream",
     "text": [
      "torch.Size([1000, 1, 99])\n",
      "torch.Size([1, 1, 6901, 99])\n",
      "torch.Size([1000, 1, 1, 99])\n"
     ]
    },
    {
     "ename": "RuntimeError",
     "evalue": "The size of tensor a (6901) must match the size of tensor b (1000) at non-singleton dimension 2",
     "output_type": "error",
     "traceback": [
      "\u001b[0;31m---------------------------------------------------------------------------\u001b[0m",
      "\u001b[0;31mRuntimeError\u001b[0m                              Traceback (most recent call last)",
      "\u001b[0;32m<ipython-input-35-577b9e091046>\u001b[0m in \u001b[0;36m<module>\u001b[0;34m\u001b[0m\n\u001b[1;32m      7\u001b[0m \u001b[0mglm\u001b[0m\u001b[0;34m.\u001b[0m\u001b[0mset_optimizers\u001b[0m\u001b[0;34m(\u001b[0m\u001b[0mopt_tuple\u001b[0m\u001b[0;34m,\u001b[0m \u001b[0mopt_lr_dict\u001b[0m\u001b[0;34m)\u001b[0m\u001b[0;34m\u001b[0m\u001b[0;34m\u001b[0m\u001b[0m\n\u001b[1;32m      8\u001b[0m \u001b[0;34m\u001b[0m\u001b[0m\n\u001b[0;32m----> 9\u001b[0;31m \u001b[0mlosses\u001b[0m \u001b[0;34m=\u001b[0m \u001b[0mglm\u001b[0m\u001b[0;34m.\u001b[0m\u001b[0mfit\u001b[0m\u001b[0;34m(\u001b[0m\u001b[0;36m3000\u001b[0m\u001b[0;34m,\u001b[0m \u001b[0mmargin\u001b[0m\u001b[0;34m=\u001b[0m\u001b[0;36m1e0\u001b[0m\u001b[0;34m,\u001b[0m \u001b[0mpremature\u001b[0m\u001b[0;34m=\u001b[0m\u001b[0;36m100\u001b[0m\u001b[0;34m)\u001b[0m\u001b[0;34m\u001b[0m\u001b[0;34m\u001b[0m\u001b[0m\n\u001b[0m\u001b[1;32m     10\u001b[0m \u001b[0;34m\u001b[0m\u001b[0m\n\u001b[1;32m     11\u001b[0m \u001b[0mplt\u001b[0m\u001b[0;34m.\u001b[0m\u001b[0mfigure\u001b[0m\u001b[0;34m(\u001b[0m\u001b[0;34m)\u001b[0m\u001b[0;34m\u001b[0m\u001b[0;34m\u001b[0m\u001b[0m\n",
      "\u001b[0;32m~/Documents/Learning/neural-data-analysis/neuroprob/models/inference.py\u001b[0m in \u001b[0;36mfit\u001b[0;34m(self, epochs, premature, margin, neuron, anneal_func, retain_graph, cov_samples, ll_samples, bound, ll_mode, enum_z)\u001b[0m\n\u001b[1;32m    408\u001b[0m                         \u001b[0mloss\u001b[0m \u001b[0;34m=\u001b[0m \u001b[0mclosure\u001b[0m\u001b[0;34m(\u001b[0m\u001b[0;34m)\u001b[0m\u001b[0;34m\u001b[0m\u001b[0;34m\u001b[0m\u001b[0m\n\u001b[1;32m    409\u001b[0m                 \u001b[0;32melse\u001b[0m\u001b[0;34m:\u001b[0m\u001b[0;34m\u001b[0m\u001b[0;34m\u001b[0m\u001b[0m\n\u001b[0;32m--> 410\u001b[0;31m                     \u001b[0mloss\u001b[0m \u001b[0;34m=\u001b[0m \u001b[0mclosure\u001b[0m\u001b[0;34m(\u001b[0m\u001b[0;34m)\u001b[0m\u001b[0;34m\u001b[0m\u001b[0;34m\u001b[0m\u001b[0m\n\u001b[0m\u001b[1;32m    411\u001b[0m                     \u001b[0moptimizer\u001b[0m\u001b[0;34m[\u001b[0m\u001b[0;36m0\u001b[0m\u001b[0;34m]\u001b[0m\u001b[0;34m.\u001b[0m\u001b[0mstep\u001b[0m\u001b[0;34m(\u001b[0m\u001b[0;34m)\u001b[0m\u001b[0;34m\u001b[0m\u001b[0;34m\u001b[0m\u001b[0m\n\u001b[1;32m    412\u001b[0m \u001b[0;34m\u001b[0m\u001b[0m\n",
      "\u001b[0;32m~/Documents/Learning/neural-data-analysis/neuroprob/models/inference.py\u001b[0m in \u001b[0;36mclosure\u001b[0;34m()\u001b[0m\n\u001b[1;32m    391\u001b[0m \u001b[0;34m\u001b[0m\u001b[0m\n\u001b[1;32m    392\u001b[0m                     loss = self.nll(b, neuron, beta=anneal_func(epoch/epochs), cov_samples=cov_samples, \n\u001b[0;32m--> 393\u001b[0;31m                                     ll_samples=ll_samples, bound=bound, ll_mode=ll_mode, enumerate_z=enum_z)\n\u001b[0m\u001b[1;32m    394\u001b[0m \u001b[0;34m\u001b[0m\u001b[0m\n\u001b[1;32m    395\u001b[0m                     \u001b[0;32mif\u001b[0m \u001b[0mloss\u001b[0m\u001b[0;34m.\u001b[0m\u001b[0mrequires_grad\u001b[0m\u001b[0;34m:\u001b[0m\u001b[0;34m\u001b[0m\u001b[0;34m\u001b[0m\u001b[0m\n",
      "\u001b[0;32m~/Documents/Learning/neural-data-analysis/neuroprob/models/inference.py\u001b[0m in \u001b[0;36mnll\u001b[0;34m(self, b, neuron, beta, cov_samples, ll_samples, bound, ll_mode, enumerate_z)\u001b[0m\n\u001b[1;32m    175\u001b[0m         \u001b[0;32mif\u001b[0m \u001b[0mself\u001b[0m\u001b[0;34m.\u001b[0m\u001b[0mspk_couple\u001b[0m \u001b[0;32mis\u001b[0m \u001b[0;32mnot\u001b[0m \u001b[0;32mNone\u001b[0m\u001b[0;34m:\u001b[0m \u001b[0;31m# spike coupling\u001b[0m\u001b[0;34m\u001b[0m\u001b[0;34m\u001b[0m\u001b[0m\n\u001b[1;32m    176\u001b[0m             \u001b[0mspk\u001b[0m \u001b[0;34m=\u001b[0m \u001b[0mself\u001b[0m\u001b[0;34m.\u001b[0m\u001b[0mlikelihood\u001b[0m\u001b[0;34m.\u001b[0m\u001b[0mspikes\u001b[0m\u001b[0;34m[\u001b[0m\u001b[0mb\u001b[0m\u001b[0;34m]\u001b[0m\u001b[0;34m[\u001b[0m\u001b[0;32mNone\u001b[0m\u001b[0;34m,\u001b[0m \u001b[0;34m...\u001b[0m\u001b[0;34m]\u001b[0m\u001b[0;34m.\u001b[0m\u001b[0mto\u001b[0m\u001b[0;34m(\u001b[0m\u001b[0mself\u001b[0m\u001b[0;34m.\u001b[0m\u001b[0mlikelihood\u001b[0m\u001b[0;34m.\u001b[0m\u001b[0mtbin\u001b[0m\u001b[0;34m.\u001b[0m\u001b[0mdevice\u001b[0m\u001b[0;34m)\u001b[0m\u001b[0;34m\u001b[0m\u001b[0;34m\u001b[0m\u001b[0m\n\u001b[0;32m--> 177\u001b[0;31m             \u001b[0mspk_filt\u001b[0m \u001b[0;34m=\u001b[0m \u001b[0mself\u001b[0m\u001b[0;34m.\u001b[0m\u001b[0mspk_couple\u001b[0m\u001b[0;34m(\u001b[0m\u001b[0mspk\u001b[0m\u001b[0;34m[\u001b[0m\u001b[0;34m:\u001b[0m\u001b[0;34m,\u001b[0m \u001b[0;34m:\u001b[0m\u001b[0;34m,\u001b[0m \u001b[0;34m:\u001b[0m\u001b[0;34m-\u001b[0m\u001b[0;36m1\u001b[0m\u001b[0;34m]\u001b[0m\u001b[0;34m,\u001b[0m \u001b[0mcov_\u001b[0m\u001b[0;34m)\u001b[0m\u001b[0;34m.\u001b[0m\u001b[0msqueeze\u001b[0m\u001b[0;34m(\u001b[0m\u001b[0;36m0\u001b[0m\u001b[0;34m)\u001b[0m\u001b[0;34m\u001b[0m\u001b[0;34m\u001b[0m\u001b[0m\n\u001b[0m\u001b[1;32m    178\u001b[0m             \u001b[0mu_prior\u001b[0m \u001b[0;34m=\u001b[0m \u001b[0mu_prior\u001b[0m \u001b[0;34m+\u001b[0m \u001b[0mself\u001b[0m\u001b[0;34m.\u001b[0m\u001b[0mspk_couple\u001b[0m\u001b[0;34m.\u001b[0m\u001b[0mprior\u001b[0m\u001b[0;34m(\u001b[0m\u001b[0;34m)\u001b[0m\u001b[0;34m\u001b[0m\u001b[0;34m\u001b[0m\u001b[0m\n\u001b[1;32m    179\u001b[0m         \u001b[0;32melse\u001b[0m\u001b[0;34m:\u001b[0m\u001b[0;34m\u001b[0m\u001b[0;34m\u001b[0m\u001b[0m\n",
      "\u001b[0;32m~/.local/lib/python3.6/site-packages/torch/nn/modules/module.py\u001b[0m in \u001b[0;36m_call_impl\u001b[0;34m(self, *input, **kwargs)\u001b[0m\n\u001b[1;32m    720\u001b[0m             \u001b[0mresult\u001b[0m \u001b[0;34m=\u001b[0m \u001b[0mself\u001b[0m\u001b[0;34m.\u001b[0m\u001b[0m_slow_forward\u001b[0m\u001b[0;34m(\u001b[0m\u001b[0;34m*\u001b[0m\u001b[0minput\u001b[0m\u001b[0;34m,\u001b[0m \u001b[0;34m**\u001b[0m\u001b[0mkwargs\u001b[0m\u001b[0;34m)\u001b[0m\u001b[0;34m\u001b[0m\u001b[0;34m\u001b[0m\u001b[0m\n\u001b[1;32m    721\u001b[0m         \u001b[0;32melse\u001b[0m\u001b[0;34m:\u001b[0m\u001b[0;34m\u001b[0m\u001b[0;34m\u001b[0m\u001b[0m\n\u001b[0;32m--> 722\u001b[0;31m             \u001b[0mresult\u001b[0m \u001b[0;34m=\u001b[0m \u001b[0mself\u001b[0m\u001b[0;34m.\u001b[0m\u001b[0mforward\u001b[0m\u001b[0;34m(\u001b[0m\u001b[0;34m*\u001b[0m\u001b[0minput\u001b[0m\u001b[0;34m,\u001b[0m \u001b[0;34m**\u001b[0m\u001b[0mkwargs\u001b[0m\u001b[0;34m)\u001b[0m\u001b[0;34m\u001b[0m\u001b[0;34m\u001b[0m\u001b[0m\n\u001b[0m\u001b[1;32m    723\u001b[0m         for hook in itertools.chain(\n\u001b[1;32m    724\u001b[0m                 \u001b[0m_global_forward_hooks\u001b[0m\u001b[0;34m.\u001b[0m\u001b[0mvalues\u001b[0m\u001b[0;34m(\u001b[0m\u001b[0;34m)\u001b[0m\u001b[0;34m,\u001b[0m\u001b[0;34m\u001b[0m\u001b[0;34m\u001b[0m\u001b[0m\n",
      "\u001b[0;32m~/Documents/Learning/neural-data-analysis/neuroprob/models/filters.py\u001b[0m in \u001b[0;36mforward\u001b[0;34m(self, input, stimulus)\u001b[0m\n\u001b[1;32m    227\u001b[0m                 \u001b[0mprint\u001b[0m\u001b[0;34m(\u001b[0m\u001b[0minput_unfold\u001b[0m\u001b[0;34m.\u001b[0m\u001b[0mshape\u001b[0m\u001b[0;34m)\u001b[0m\u001b[0;34m\u001b[0m\u001b[0;34m\u001b[0m\u001b[0m\n\u001b[1;32m    228\u001b[0m                 \u001b[0mprint\u001b[0m\u001b[0;34m(\u001b[0m\u001b[0mh_\u001b[0m\u001b[0;34m.\u001b[0m\u001b[0mshape\u001b[0m\u001b[0;34m)\u001b[0m\u001b[0;34m\u001b[0m\u001b[0;34m\u001b[0m\u001b[0m\n\u001b[0;32m--> 229\u001b[0;31m                 \u001b[0ma\u001b[0m \u001b[0;34m=\u001b[0m \u001b[0;34m(\u001b[0m\u001b[0minput_unfold\u001b[0m\u001b[0;34m*\u001b[0m\u001b[0mh_\u001b[0m\u001b[0;34m[\u001b[0m\u001b[0;34m:\u001b[0m\u001b[0;34m,\u001b[0m \u001b[0;36m0\u001b[0m\u001b[0;34m,\u001b[0m \u001b[0;34m...\u001b[0m\u001b[0;34m]\u001b[0m\u001b[0;34m.\u001b[0m\u001b[0mview\u001b[0m\u001b[0;34m(\u001b[0m\u001b[0mK\u001b[0m\u001b[0;34m,\u001b[0m \u001b[0;34m-\u001b[0m\u001b[0;36m1\u001b[0m\u001b[0;34m,\u001b[0m \u001b[0;34m*\u001b[0m\u001b[0mh_\u001b[0m\u001b[0;34m.\u001b[0m\u001b[0mshape\u001b[0m\u001b[0;34m[\u001b[0m\u001b[0;34m-\u001b[0m\u001b[0;36m2\u001b[0m\u001b[0;34m:\u001b[0m\u001b[0;34m]\u001b[0m\u001b[0;34m)\u001b[0m\u001b[0;34m.\u001b[0m\u001b[0mpermute\u001b[0m\u001b[0;34m(\u001b[0m\u001b[0;36m0\u001b[0m\u001b[0;34m,\u001b[0m \u001b[0;36m2\u001b[0m\u001b[0;34m,\u001b[0m \u001b[0;36m1\u001b[0m\u001b[0;34m,\u001b[0m \u001b[0;36m3\u001b[0m\u001b[0;34m)\u001b[0m\u001b[0;34m)\u001b[0m \u001b[0;31m# K, N, T, D_fold\u001b[0m\u001b[0;34m\u001b[0m\u001b[0;34m\u001b[0m\u001b[0m\n\u001b[0m\u001b[1;32m    230\u001b[0m                 \u001b[0ma_\u001b[0m\u001b[0;34m.\u001b[0m\u001b[0mappend\u001b[0m\u001b[0;34m(\u001b[0m\u001b[0ma\u001b[0m\u001b[0;34m.\u001b[0m\u001b[0msum\u001b[0m\u001b[0;34m(\u001b[0m\u001b[0;34m-\u001b[0m\u001b[0;36m1\u001b[0m\u001b[0;34m)\u001b[0m\u001b[0;34m)\u001b[0m \u001b[0;31m# K, N, T\u001b[0m\u001b[0;34m\u001b[0m\u001b[0;34m\u001b[0m\u001b[0m\n\u001b[1;32m    231\u001b[0m             \u001b[0;32melse\u001b[0m\u001b[0;34m:\u001b[0m \u001b[0;31m# neurons\u001b[0m\u001b[0;34m\u001b[0m\u001b[0;34m\u001b[0m\u001b[0m\n",
      "\u001b[0;31mRuntimeError\u001b[0m: The size of tensor a (6901) must match the size of tensor b (1000) at non-singleton dimension 2"
     ]
    }
   ],
   "source": [
    "glm.preprocess([I_ext.flatten()], I_ext.flatten().shape[0], syn_train, batch_size=T)\n",
    "\n",
    "# fit\n",
    "sch = lambda o: optim.lr_scheduler.MultiplicativeLR(o, lambda e: 0.9)\n",
    "opt_tuple = (optim.Adam, 100, sch)\n",
    "opt_lr_dict = {'default': 1e-3}\n",
    "glm.set_optimizers(opt_tuple, opt_lr_dict)\n",
    "\n",
    "losses = glm.fit(3000, margin=1e0, premature=100)\n",
    "\n",
    "plt.figure()\n",
    "plt.plot(losses)\n",
    "plt.xlabel('Epoch')\n",
    "plt.ylabel('NLL')\n",
    "plt.show()"
   ]
  },
  {
   "cell_type": "code",
   "execution_count": null,
   "metadata": {},
   "outputs": [],
   "source": []
  }
 ],
 "metadata": {
  "kernelspec": {
   "display_name": "Python 3",
   "language": "python",
   "name": "python3"
  },
  "language_info": {
   "codemirror_mode": {
    "name": "ipython",
    "version": 3
   },
   "file_extension": ".py",
   "mimetype": "text/x-python",
   "name": "python",
   "nbconvert_exporter": "python",
   "pygments_lexer": "ipython3",
   "version": "3.6.9"
  }
 },
 "nbformat": 4,
 "nbformat_minor": 4
}
