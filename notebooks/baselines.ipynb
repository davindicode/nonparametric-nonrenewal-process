{
 "cells": [
  {
   "cell_type": "markdown",
   "metadata": {},
   "source": [
    "# Validation of method\n",
    "\n",
    "### Table of contents\n",
    "\n",
    "1. [**Heteroscedastic GP**](#hetero)\n",
    "3. [**Renewal process GP**](#renewal)\n",
    "4. [**GP-GLM**](#gpglm)"
   ]
  },
  {
   "cell_type": "markdown",
   "metadata": {},
   "source": [
    "##### Description\n",
    "This notebook contains code for:\n",
    "- Compare LVM, LVM + self-coupling, full GLM coupling to explain correlations\n",
    "- Neural data is synthetic Gaussian place field population with low dimensional correlations and real place field data"
   ]
  },
  {
   "cell_type": "code",
   "execution_count": 4,
   "metadata": {},
   "outputs": [
    {
     "name": "stdout",
     "output_type": "stream",
     "text": [
      "The autoreload extension is already loaded. To reload it, use:\n",
      "  %reload_ext autoreload\n"
     ]
    }
   ],
   "source": [
    "%load_ext autoreload\n",
    "%autoreload 2\n",
    "\n",
    "import matplotlib.pyplot as plt\n",
    "from matplotlib.ticker import MultipleLocator # for minor ticks\n",
    "from matplotlib import gridspec\n",
    "from matplotlib import patches\n",
    "from matplotlib.offsetbox import TextArea, VPacker, AnnotationBbox\n",
    "\n",
    "import numpy as np\n",
    "\n",
    "import scipy.stats as scstats\n",
    "import scipy.special as sps\n",
    "\n",
    "import pickle\n",
    "\n",
    "import sys\n",
    "sys.path.append(\"..\")\n",
    "\n",
    "\n",
    "plt.style.use(['../paper.mplstyle'])"
   ]
  },
  {
   "cell_type": "code",
   "execution_count": null,
   "metadata": {},
   "outputs": [],
   "source": []
  },
  {
   "cell_type": "markdown",
   "metadata": {},
   "source": [
    "<a id='hetero'></a>\n",
    "## Heteroscedastic GP"
   ]
  },
  {
   "cell_type": "code",
   "execution_count": 5,
   "metadata": {},
   "outputs": [
    {
     "ename": "NameError",
     "evalue": "name 'jnp' is not defined",
     "output_type": "error",
     "traceback": [
      "\u001b[0;31m---------------------------------------------------------------------------\u001b[0m",
      "\u001b[0;31mNameError\u001b[0m                                 Traceback (most recent call last)",
      "\u001b[0;32m<ipython-input-5-43bd9a03e844>\u001b[0m in \u001b[0;36m<module>\u001b[0;34m\u001b[0m\n\u001b[1;32m      2\u001b[0m \u001b[0;34m\u001b[0m\u001b[0m\n\u001b[1;32m      3\u001b[0m \u001b[0;31m# 1D kernel - WIO layout\u001b[0m\u001b[0;34m\u001b[0m\u001b[0;34m\u001b[0m\u001b[0;34m\u001b[0m\u001b[0m\n\u001b[0;32m----> 4\u001b[0;31m kernel = jnp.array([[[1, 0, -1], [-1,  0,  1]], \n\u001b[0m\u001b[1;32m      5\u001b[0m                     [[1, 1,  1], [-1, -1, -1]]], \n\u001b[1;32m      6\u001b[0m                     dtype=jnp.float32).transpose([2,1,0])\n",
      "\u001b[0;31mNameError\u001b[0m: name 'jnp' is not defined"
     ]
    }
   ],
   "source": [
    "from jax import lax\n",
    "\n",
    "# 1D kernel - WIO layout\n",
    "kernel = jnp.array([[[1, 0, -1], [-1,  0,  1]], \n",
    "                    [[1, 1,  1], [-1, -1, -1]]], \n",
    "                    dtype=jnp.float32).transpose([2,1,0])\n",
    "# 1D data - NWC layout\n",
    "data = np.zeros((1, 200, 2), dtype=jnp.float32)\n",
    "for i in range(2):\n",
    "  for k in range(2):\n",
    "      x = 35*i + 30 + 60*k\n",
    "      data[0, x:x+30, k] = 1.0\n",
    "\n",
    "print(\"in shapes:\", data.shape, kernel.shape)\n",
    "\n",
    "plt.figure(figsize=(10,5))\n",
    "plt.plot(data[0]);\n",
    "dn = lax.conv_dimension_numbers(data.shape, kernel.shape,\n",
    "                                ('NWC', 'WIO', 'NWC'))\n",
    "print(dn)\n",
    "\n",
    "out = lax.conv_general_dilated(data,   # lhs = image tensor\n",
    "                               kernel, # rhs = conv kernel tensor\n",
    "                               (1,),   # window strides\n",
    "                               'SAME', # padding mode\n",
    "                               (1,),   # lhs/image dilation\n",
    "                               (1,),   # rhs/kernel dilation\n",
    "                               dn)     # dimension_numbers = lhs, rhs, out dimension permutation\n",
    "print(\"out shape: \", out.shape)\n",
    "plt.figure(figsize=(10,5))\n",
    "plt.plot(out[0]);"
   ]
  },
  {
   "cell_type": "code",
   "execution_count": null,
   "metadata": {},
   "outputs": [],
   "source": []
  }
 ],
 "metadata": {
  "kernelspec": {
   "display_name": "Python 3",
   "language": "python",
   "name": "python3"
  },
  "language_info": {
   "codemirror_mode": {
    "name": "ipython",
    "version": 3
   },
   "file_extension": ".py",
   "mimetype": "text/x-python",
   "name": "python",
   "nbconvert_exporter": "python",
   "pygments_lexer": "ipython3",
   "version": "3.6.9"
  }
 },
 "nbformat": 4,
 "nbformat_minor": 4
}
