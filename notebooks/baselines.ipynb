{
 "cells": [
  {
   "cell_type": "markdown",
   "metadata": {},
   "source": [
    "# Validation of method\n",
    "\n",
    "### Table of contents\n",
    "\n",
    "1. [**Heteroscedastic GP**](#hetero)\n",
    "3. [**Renewal process GP**](#renewal)\n",
    "4. [**GP-GLM**](#gpglm)"
   ]
  },
  {
   "cell_type": "markdown",
   "metadata": {},
   "source": [
    "##### Description\n",
    "This notebook contains code for:\n",
    "- Compare LVM, LVM + self-coupling, full GLM coupling to explain correlations\n",
    "- Neural data is synthetic Gaussian place field population with low dimensional correlations and real place field data"
   ]
  },
  {
   "cell_type": "code",
   "execution_count": 1,
   "metadata": {},
   "outputs": [
    {
     "name": "stderr",
     "output_type": "stream",
     "text": [
      "/var/home/dl543/Documents/Learning/nonparametric-modulated-renewal/notebooks/../lib/filters/FIR.py:8: TqdmExperimentalWarning: Using `tqdm.autonotebook.tqdm` in notebook mode. Use `tqdm.tqdm` instead to force console mode (e.g. in jupyter console)\n",
      "  from tqdm.autonotebook import tqdm\n"
     ]
    }
   ],
   "source": [
    "%load_ext autoreload\n",
    "%autoreload 2\n",
    "\n",
    "import numpy as np\n",
    "\n",
    "import sys\n",
    "sys.path.append(\"..\")\n",
    "\n",
    "\n",
    "import jax\n",
    "import jax.numpy as jnp\n",
    "import jax.random as jr\n",
    "from jax.nn import softplus\n",
    "\n",
    "import optax\n",
    "\n",
    "jax.config.update('jax_platform_name', 'cpu')\n",
    "#jax.config.update('jax_disable_jit', True)\n",
    "#jax.config.update(\"jax_enable_x64\", True)\n",
    "\n",
    "#import os\n",
    "#if not os.path.exists('./saves'):\n",
    "#    os.makedirs('./saves')\n",
    "\n",
    "\n",
    "import pickle\n",
    "\n",
    "\n",
    "import lib\n",
    "\n",
    "\n",
    "import matplotlib.pyplot as plt\n",
    "plt.style.use(['../paper.mplstyle'])"
   ]
  },
  {
   "cell_type": "code",
   "execution_count": null,
   "metadata": {},
   "outputs": [],
   "source": []
  },
  {
   "cell_type": "markdown",
   "metadata": {},
   "source": [
    "## Count processes"
   ]
  },
  {
   "cell_type": "code",
   "execution_count": 2,
   "metadata": {},
   "outputs": [],
   "source": [
    "x_dims = 2\n",
    "f_dims = 3\n",
    "neurons = f_dims\n",
    "tbin = 0.1  # s\n",
    "\n",
    "jitter = 1e-5\n",
    "\n",
    "num_samps = 10\n",
    "\n",
    "prng_state = jax.random.PRNGKey(123)"
   ]
  },
  {
   "cell_type": "code",
   "execution_count": 3,
   "metadata": {},
   "outputs": [],
   "source": [
    "len_fx = 1.*np.ones((f_dims, x_dims))  # GP lengthscale\n",
    "var_f = 1.*np.ones(f_dims)  # observation noise\n",
    "kern = lib.GP.kernels.SquaredExponential(f_dims, variance=var_f, lengthscale=len_fx)\n",
    "mean_f = np.zeros(f_dims)\n",
    "\n",
    "\n",
    "### inducing points ###\n",
    "num_induc = 5\n",
    "induc_locs = jax.random.normal(prng_state, shape=(f_dims, num_induc, x_dims))\n",
    "prng_state, _ = jr.split(prng_state)\n",
    "\n",
    "\n",
    "u_mu = 1. + 0.*jax.random.normal(prng_state, shape=(f_dims, num_induc, 1))\n",
    "u_Lcov = 0.01*jnp.eye(num_induc)[None, ...].repeat(f_dims, axis=0)\n",
    "prng_state, _ = jr.split(prng_state)\n",
    "\n",
    "\n",
    "svgp = lib.GP.sparse.qSVGP(kern, mean_f, induc_locs, u_mu, u_Lcov, RFF_num_feats=0)\n",
    "\n",
    "Kzz = svgp.kernel.K(svgp.induc_locs, None, False)\n",
    "lambda_1, chol_Lambda_2 = lib.GP.sparse.t_from_q_svgp_moments(Kzz, u_mu, u_Lcov)\n"
   ]
  },
  {
   "cell_type": "code",
   "execution_count": 4,
   "metadata": {},
   "outputs": [],
   "source": [
    "count_type = 'cmp'\n",
    "\n",
    "if count_type == 'p':\n",
    "    count = lib.likelihoods.factorized.Poisson(\n",
    "        neurons,\n",
    "        tbin,\n",
    "    )\n",
    "    \n",
    "elif count_type == 'zip':\n",
    "    alpha = np.linspace(0.0, 0.95, neurons)\n",
    "    count = lib.likelihoods.factorized.ZeroInflatedPoisson(\n",
    "        neurons,\n",
    "        tbin,\n",
    "        alpha,\n",
    "    )\n",
    "    \n",
    "elif count_type == 'nb':\n",
    "    r_inv = np.linspace(0.0, 1.5, neurons)\n",
    "    count = lib.likelihoods.factorized.NegativeBinomial(\n",
    "        neurons,\n",
    "        tbin,\n",
    "        r_inv,\n",
    "    )\n",
    "    \n",
    "elif count_type == 'cmp':\n",
    "    nu = np.linspace(0.5, 1.5, neurons)\n",
    "    count = lib.likelihoods.factorized.ConwayMaxwellPoisson(\n",
    "        neurons,\n",
    "        tbin,\n",
    "        nu,\n",
    "    )"
   ]
  },
  {
   "cell_type": "code",
   "execution_count": 5,
   "metadata": {},
   "outputs": [],
   "source": [
    "y = jnp.arange(0, 20)[:, None].repeat(neurons, axis=1)\n",
    "f = jnp.linspace(6, 6, neurons)\n",
    "\n",
    "log_p_y = jax.vmap(count.log_likelihood, (None, 0), 0)(f, y)"
   ]
  },
  {
   "cell_type": "code",
   "execution_count": 6,
   "metadata": {},
   "outputs": [
    {
     "data": {
      "image/png": "[encoded data removed]",
      "text/plain": [
       "<Figure size 245x183.75 with 1 Axes>"
      ]
     },
     "metadata": {},
     "output_type": "display_data"
    }
   ],
   "source": [
    "plt.plot(np.exp(log_p_y))\n",
    "plt.show()"
   ]
  },
  {
   "cell_type": "code",
   "execution_count": 28,
   "metadata": {},
   "outputs": [],
   "source": [
    "fmdl = lib.inference.gplvm.ModulatedFactorized(svgp, count)"
   ]
  },
  {
   "cell_type": "code",
   "execution_count": 29,
   "metadata": {},
   "outputs": [],
   "source": [
    "ts = 100\n",
    "\n",
    "x_eval = jnp.linspace(-2., 2., ts)[None, None, :, None]\n",
    "x_eval = jnp.broadcast_to(x_eval, (num_samps, 1, ts, x_dims))\n",
    "\n",
    "y = (np.random.randn(neurons, ts) > 3.).astype(float)\n",
    "\n",
    "\n",
    "pre_rates_mean, pre_rates_cov = fmdl.evaluate_pre_conditional_rate(\n",
    "    prng_state, x_eval, jitter)\n",
    "\n",
    "y_samples, f_filtered, x_samples = fmdl.sample_prior(\n",
    "    prng_state, num_samps, x_eval, time_eval=None, ini_Y=None, jitter=jitter)"
   ]
  },
  {
   "cell_type": "code",
   "execution_count": null,
   "metadata": {},
   "outputs": [],
   "source": []
  },
  {
   "cell_type": "code",
   "execution_count": null,
   "metadata": {},
   "outputs": [],
   "source": []
  },
  {
   "cell_type": "markdown",
   "metadata": {},
   "source": [
    "## Modulated renewal process"
   ]
  },
  {
   "cell_type": "code",
   "execution_count": 2,
   "metadata": {},
   "outputs": [],
   "source": [
    "x_dims = 2\n",
    "f_dims = 3\n",
    "neurons = f_dims\n",
    "dt = 1e-3  # ms\n",
    "\n",
    "jitter = 1e-5\n",
    "\n",
    "num_samps = 10\n",
    "\n",
    "prng_state = jax.random.PRNGKey(123)\n",
    "\n",
    "filter_length = 99"
   ]
  },
  {
   "cell_type": "code",
   "execution_count": 3,
   "metadata": {},
   "outputs": [],
   "source": [
    "flt_type = 'sigmoid'\n",
    "if flt_type == 'sigmoid':\n",
    "    alpha = np.ones((neurons, 1))\n",
    "    beta = np.ones((neurons, 1))\n",
    "    tau = 10*np.ones((neurons, 1))\n",
    "\n",
    "    flt = lib.filters.FIR.SigmoidRefractory(\n",
    "        alpha,\n",
    "        beta,\n",
    "        tau,\n",
    "        filter_length,\n",
    "    )\n",
    "    \n",
    "elif flt_type == 'rcb':\n",
    "    \n",
    "    a = np.ones((2, neurons, neurons))\n",
    "    c = np.ones((2, neurons, neurons))\n",
    "    w_h = np.random.randn(2, neurons, neurons)\n",
    "    phi_h = np.ones((2, neurons, neurons))\n",
    "        \n",
    "    flt = lib.filters.FIR.RaisedCosineBumps(\n",
    "        a,\n",
    "        c,\n",
    "        w_h,\n",
    "        phi_h, \n",
    "        filter_length,\n",
    "    )"
   ]
  },
  {
   "cell_type": "code",
   "execution_count": 5,
   "metadata": {},
   "outputs": [],
   "source": [
    "len_fx = 1.*np.ones((f_dims, x_dims))  # GP lengthscale\n",
    "var_f = 1.*np.ones(f_dims)  # observation noise\n",
    "kern = lib.GP.kernels.SquaredExponential(f_dims, variance=var_f, lengthscale=len_fx)\n",
    "mean_f = np.zeros(f_dims)\n",
    "\n",
    "\n",
    "### inducing points ###\n",
    "num_induc = 5\n",
    "induc_locs = jax.random.normal(prng_state, shape=(f_dims, num_induc, x_dims))\n",
    "prng_state, _ = jr.split(prng_state)\n",
    "\n",
    "\n",
    "u_mu = 1. + 0.*jax.random.normal(prng_state, shape=(f_dims, num_induc, 1))\n",
    "u_Lcov = 0.01*jnp.eye(num_induc)[None, ...].repeat(f_dims, axis=0)\n",
    "prng_state, _ = jr.split(prng_state)\n",
    "\n",
    "\n",
    "svgp = lib.GP.sparse.qSVGP(kern, induc_locs, u_mu, u_Lcov, RFF_num_feats=0)\n",
    "\n",
    "Kzz = svgp.kernel.K(svgp.induc_locs, None, False)\n",
    "lambda_1, chol_Lambda_2 = lib.GP.sparse.t_from_q_svgp_moments(Kzz, u_mu, u_Lcov)\n"
   ]
  },
  {
   "cell_type": "code",
   "execution_count": 14,
   "metadata": {},
   "outputs": [],
   "source": [
    "renewal_type = 'invgauss'\n",
    "\n",
    "if renewal_type == 'gamma':\n",
    "    alpha = np.linspace(0.5, 1.5, neurons)\n",
    "    renewal = lib.likelihoods.renewal.Gamma(\n",
    "        neurons,\n",
    "        dt,\n",
    "        alpha,\n",
    "    )\n",
    "    \n",
    "elif renewal_type == 'lognorm':\n",
    "    sigma = np.linspace(0.5, 1.5, neurons)\n",
    "    renewal = lib.likelihoods.renewal.LogNormal(\n",
    "        neurons,\n",
    "        dt,\n",
    "        sigma,\n",
    "    )\n",
    "    \n",
    "elif renewal_type == 'invgauss':\n",
    "    mu = np.linspace(0.5, 1.5, neurons)\n",
    "    renewal = lib.likelihoods.renewal.InverseGaussian(\n",
    "        neurons,\n",
    "        dt,\n",
    "        mu,\n",
    "    )"
   ]
  },
  {
   "cell_type": "code",
   "execution_count": null,
   "metadata": {},
   "outputs": [],
   "source": []
  },
  {
   "cell_type": "code",
   "execution_count": 15,
   "metadata": {},
   "outputs": [
    {
     "data": {
      "image/png": "[encoded data removed]",
      "text/plain": [
       "<Figure size 245x183.75 with 1 Axes>"
      ]
     },
     "metadata": {},
     "output_type": "display_data"
    },
    {
     "data": {
      "image/png": "[encoded data removed]",
      "text/plain": [
       "<Figure size 245x183.75 with 1 Axes>"
      ]
     },
     "metadata": {},
     "output_type": "display_data"
    },
    {
     "data": {
      "image/png": "[encoded data removed]",
      "text/plain": [
       "<Figure size 245x183.75 with 1 Axes>"
      ]
     },
     "metadata": {},
     "output_type": "display_data"
    }
   ],
   "source": [
    "ISI = jnp.linspace(0.001, 10., 100)[:, None]\n",
    "ll = jax.vmap(renewal.log_density)(ISI)\n",
    "plt.plot(jnp.exp(ll)[:, :])\n",
    "plt.show()\n",
    "\n",
    "ISI = jnp.linspace(0.001, 3., 100)[:, None]\n",
    "ll = jax.vmap(renewal.cum_density)(ISI)\n",
    "plt.plot(ll[:, :])\n",
    "plt.show()\n",
    "\n",
    "ISI = jnp.linspace(0.001, 3., 100)[:, None]\n",
    "ll = jax.vmap(renewal.log_hazard)(ISI)\n",
    "plt.plot(np.exp(ll[:, :]))\n",
    "plt.show()"
   ]
  },
  {
   "cell_type": "code",
   "execution_count": 8,
   "metadata": {},
   "outputs": [],
   "source": []
  },
  {
   "cell_type": "code",
   "execution_count": 33,
   "metadata": {},
   "outputs": [],
   "source": [
    "t_eval = jnp.linspace(0, 10, 100)\n",
    "x_cond = jnp.zeros((2, f_dims, x_dims))\n",
    "\n",
    "renewal_density = mrp.sample_instantaneous_renewal(\n",
    "    prng_state, t_eval, x_cond, jitter, num_samps = 20, prior = True)"
   ]
  },
  {
   "cell_type": "code",
   "execution_count": 34,
   "metadata": {},
   "outputs": [
    {
     "data": {
      "text/plain": [
       "[<matplotlib.lines.Line2D at 0x7eff7c3653d0>,\n",
       " <matplotlib.lines.Line2D at 0x7eff3c642370>]"
      ]
     },
     "execution_count": 34,
     "metadata": {},
     "output_type": "execute_result"
    },
    {
     "data": {
      "image/png": "[encoded data removed]",
      "text/plain": [
       "<Figure size 245x183.75 with 1 Axes>"
      ]
     },
     "metadata": {},
     "output_type": "display_data"
    }
   ],
   "source": [
    "s = 0\n",
    "n = 0\n",
    "\n",
    "plt.plot(renewal_density[:, n, :].T)"
   ]
  },
  {
   "cell_type": "code",
   "execution_count": 35,
   "metadata": {},
   "outputs": [],
   "source": [
    "ts = 100\n",
    "\n",
    "x_eval = jnp.linspace(-2., 2., ts)[None, None, :, None]\n",
    "x_eval = jnp.broadcast_to(x_eval, (num_samps, 1, ts, x_dims))\n",
    "\n",
    "y = (np.random.randn(neurons, ts) > 0.).astype(float)[None, ...]\n",
    "ini_Y = jnp.zeros((num_samps, neurons, filter_length))\n",
    "\n",
    "log_rho_t = mrp.sample_log_conditional_intensity(\n",
    "    prng_state, x_eval, jnp.concatenate((ini_Y, y.repeat(num_samps, axis=0)), axis=-1), jitter)"
   ]
  },
  {
   "cell_type": "code",
   "execution_count": 37,
   "metadata": {},
   "outputs": [
    {
     "data": {
      "image/png": "[encoded data removed]",
      "text/plain": [
       "<Figure size 245x183.75 with 1 Axes>"
      ]
     },
     "metadata": {},
     "output_type": "display_data"
    }
   ],
   "source": [
    "tr = 0\n",
    "n = 0\n",
    "\n",
    "plt.plot((log_rho_t)[:, n, :].T)\n",
    "plt.plot(y[n, :])\n",
    "\n",
    "plt.show()"
   ]
  },
  {
   "cell_type": "code",
   "execution_count": 40,
   "metadata": {},
   "outputs": [],
   "source": [
    "ini_tau = jnp.zeros((num_samps, neurons))\n",
    "x_samples = x_eval\n",
    "\n",
    "y_samples, log_rho_ts = mrp.sample_prior(\n",
    "    prng_state, num_samps, x_samples, ini_spikes=ini_Y, ini_tau=ini_tau, jitter=jitter)"
   ]
  },
  {
   "cell_type": "code",
   "execution_count": 41,
   "metadata": {},
   "outputs": [],
   "source": [
    "y_samples, log_rho_ts = mrp.sample_posterior(\n",
    "    prng_state, num_samps, x_samples, ini_spikes=ini_Y, ini_tau=ini_tau, jitter=jitter)"
   ]
  },
  {
   "cell_type": "code",
   "execution_count": null,
   "metadata": {},
   "outputs": [],
   "source": []
  },
  {
   "cell_type": "markdown",
   "metadata": {},
   "source": [
    "## Nonparametric non-renewal process"
   ]
  },
  {
   "cell_type": "code",
   "execution_count": 11,
   "metadata": {},
   "outputs": [],
   "source": [
    "x_dims = 3\n",
    "num_samps = 5\n",
    "prng_state = jax.random.PRNGKey(123)\n",
    "\n",
    "jitter = 1e-6\n",
    "\n",
    "\n",
    "### state space GP ###\n",
    "var_x = 1.0*np.ones((x_dims))  # GP variance\n",
    "len_x = 1.0*np.ones((x_dims, 1))  # GP lengthscale\n",
    "\n",
    "kernx = lib.GP.kernels.Matern32(x_dims, variance=var_x, lengthscale=len_x)\n",
    "\n",
    "\n",
    "num_samps = 20\n",
    "Tsteps = 1000\n",
    "\n",
    "site_locs = np.linspace(0., 1., Tsteps)[None, :].repeat(x_dims, axis=0)  # s\n",
    "site_obs = 0. * np.ones([x_dims, Tsteps, 1]) + 0*np.random.randn(x_dims, Tsteps, 1)\n",
    "site_Lcov = 1. * np.ones([x_dims, Tsteps, 1]) + 0*np.random.randn(x_dims, Tsteps, 1)\n",
    "\n",
    "\n",
    "# model\n",
    "state_space = lib.GP.markovian.MultiOutputLTI(\n",
    "    kernx, site_locs, site_obs, site_Lcov, fixed_grid_locs=True)\n",
    "\n",
    "\n",
    "# evaluate\n",
    "evalsteps = 2000\n",
    "t_eval = jnp.linspace(0.0, 1.0, evalsteps)\n",
    "\n",
    "prior_samples = state_space.sample_prior(\n",
    "    prng_state, num_samps, t_eval, jitter)\n",
    "\n",
    "\n",
    "post_mean, post_cov, _ = state_space.evaluate_posterior(\n",
    "    t_eval, mean_only=False, compute_KL=False, jitter=1e-6)\n",
    "post_mean = post_mean[..., 0]\n",
    "\n",
    "post_samples, _ = state_space.sample_posterior(\n",
    "    prng_state, num_samps, t_eval, jitter, False)  # (tr, time, N, 1)\n"
   ]
  },
  {
   "cell_type": "code",
   "execution_count": 19,
   "metadata": {},
   "outputs": [],
   "source": [
    "wrap_tau = 10.*np.ones((x_dims,))\n",
    "refract_tau = 1e0*np.ones((x_dims,))\n",
    "refract_neg= -12.\n",
    "mean_bias = 0.*np.ones((x_dims,))\n",
    "dt = 1e-3  # ms\n",
    "\n",
    "bnpp = lib.inference.gp.NonparametricPointProcess(state_space, wrap_tau, refract_tau, refract_neg, mean_bias, dt)"
   ]
  },
  {
   "cell_type": "code",
   "execution_count": 20,
   "metadata": {},
   "outputs": [
    {
     "data": {
      "image/png": "[encoded data removed]",
      "text/plain": [
       "<Figure size 245x183.75 with 1 Axes>"
      ]
     },
     "metadata": {},
     "output_type": "display_data"
    }
   ],
   "source": [
    "t = jnp.linspace(0, 100, 100)[:, None]\n",
    "tau = jax.vmap(bnpp._log_time_transform, (0, None), 0)(t, False)\n",
    "plt.plot(t, tau)\n",
    "plt.show()"
   ]
  },
  {
   "cell_type": "code",
   "execution_count": 25,
   "metadata": {},
   "outputs": [],
   "source": [
    "evalsteps = 300\n",
    "num_samps = 20\n",
    "\n",
    "t_eval = jnp.linspace(0.0, 100.0, evalsteps)\n",
    "isi_cond = None\n",
    "x_cond = None\n",
    "\n",
    "renewal_density = bnpp.sample_instantaneous_renewal(\n",
    "    prng_state,\n",
    "    num_samps,\n",
    "    t_eval,\n",
    "    isi_cond, \n",
    "    x_cond,\n",
    "    int_eval_pts=1000,\n",
    "    num_quad_pts=100,\n",
    "    prior=False,\n",
    ")"
   ]
  },
  {
   "cell_type": "code",
   "execution_count": 26,
   "metadata": {},
   "outputs": [
    {
     "data": {
      "image/png": "[encoded data removed]",
      "text/plain": [
       "<Figure size 245x183.75 with 1 Axes>"
      ]
     },
     "metadata": {},
     "output_type": "display_data"
    },
    {
     "name": "stdout",
     "output_type": "stream",
     "text": [
      "[[1.0023327 1.0026169 1.0024278]\n",
      " [1.0027993 1.0020548 1.0018581]\n",
      " [1.003065  1.0020221 1.0021969]\n",
      " [1.002293  1.0029966 1.0026352]\n",
      " [1.0027683 1.0027181 1.0024191]\n",
      " [1.0021749 1.002775  1.0024408]\n",
      " [1.003421  1.0020846 1.0026369]\n",
      " [1.0032256 1.0030441 1.0027436]\n",
      " [1.0029753 1.0026486 1.0023122]\n",
      " [1.0028689 1.0024412 1.0027195]\n",
      " [1.0026432 1.0019467 1.00263  ]\n",
      " [1.0028266 1.002799  1.0023018]\n",
      " [1.0026711 1.0023104 1.0022316]\n",
      " [1.0020039 1.0022982 1.0027227]\n",
      " [1.0025073 1.0021555 1.0022479]\n",
      " [1.0024661 1.0027832 1.0026239]\n",
      " [1.0026809 1.0030124 1.002653 ]\n",
      " [1.0025686 1.0020963 1.0025954]\n",
      " [1.0024421 1.0026222 1.0026062]\n",
      " [1.0027131 1.0024073 1.0028424]]\n"
     ]
    }
   ],
   "source": [
    "n = 0\n",
    "f_dim = 0\n",
    "\n",
    "\n",
    "plt.plot(t_eval, renewal_density[:, f_dim, :].T)\n",
    "#plt.plot(t_ren, a)\n",
    "#plt.yscale('log')\n",
    "plt.show()\n",
    "\n",
    "print(renewal_density.sum(-1)[:, :] * jnp.diff(t_eval)[0])"
   ]
  },
  {
   "cell_type": "code",
   "execution_count": 23,
   "metadata": {},
   "outputs": [],
   "source": [
    "evalsteps = 300\n",
    "num_samps = 20\n",
    "\n",
    "t_eval = jnp.linspace(0.0, 100.0, evalsteps)\n",
    "isi_eval = None\n",
    "x_eval = None\n",
    "\n",
    "y = None\n",
    "\n",
    "log_rho_t_mean, log_rho_t_cov = bnpp.evaluate_log_conditional_intensity(\n",
    "    prng_state, num_samps, t_eval, isi_eval, x_eval, y, jitter\n",
    ")"
   ]
  },
  {
   "cell_type": "code",
   "execution_count": 24,
   "metadata": {},
   "outputs": [
    {
     "data": {
      "text/plain": [
       "[<matplotlib.lines.Line2D at 0x7eff3c5ef550>]"
      ]
     },
     "execution_count": 24,
     "metadata": {},
     "output_type": "execute_result"
    },
    {
     "data": {
      "image/png": "[encoded data removed]",
      "text/plain": [
       "<Figure size 245x183.75 with 1 Axes>"
      ]
     },
     "metadata": {},
     "output_type": "display_data"
    }
   ],
   "source": [
    "plt.plot(log_rho_t_mean[f_dim, :])"
   ]
  },
  {
   "cell_type": "code",
   "execution_count": 9,
   "metadata": {},
   "outputs": [
    {
     "ename": "TypeError",
     "evalue": "sample_prior() takes 9 positional arguments but 10 were given",
     "output_type": "error",
     "traceback": [
      "\u001b[0;31m---------------------------------------------------------------------------\u001b[0m",
      "\u001b[0;31mTypeError\u001b[0m                                 Traceback (most recent call last)",
      "Input \u001b[0;32mIn [9]\u001b[0m, in \u001b[0;36m<cell line: 10>\u001b[0;34m()\u001b[0m\n\u001b[1;32m      6\u001b[0m past_ISIs \u001b[38;5;241m=\u001b[39m \u001b[38;5;28;01mNone\u001b[39;00m\n\u001b[1;32m      8\u001b[0m timesteps \u001b[38;5;241m=\u001b[39m \u001b[38;5;241m1000\u001b[39m\n\u001b[0;32m---> 10\u001b[0m y_samples, log_rho_ts, x_samples \u001b[38;5;241m=\u001b[39m \u001b[43mbnpp\u001b[49m\u001b[38;5;241;43m.\u001b[39;49m\u001b[43msample_prior\u001b[49m\u001b[43m(\u001b[49m\n\u001b[1;32m     11\u001b[0m \u001b[43m    \u001b[49m\u001b[43mprng_state\u001b[49m\u001b[43m,\u001b[49m\u001b[43m \u001b[49m\u001b[43mnum_samps\u001b[49m\u001b[43m,\u001b[49m\u001b[43m \u001b[49m\u001b[43mtimesteps\u001b[49m\u001b[43m,\u001b[49m\u001b[43m \u001b[49m\u001b[43mx_eval\u001b[49m\u001b[43m,\u001b[49m\u001b[43m \u001b[49m\u001b[43mtime_eval\u001b[49m\u001b[43m,\u001b[49m\u001b[43m \u001b[49m\u001b[43mini_spikes\u001b[49m\u001b[43m,\u001b[49m\u001b[43m \u001b[49m\u001b[43mini_t_since\u001b[49m\u001b[43m,\u001b[49m\u001b[43m \u001b[49m\u001b[43mpast_ISIs\u001b[49m\u001b[43m,\u001b[49m\u001b[43m \u001b[49m\u001b[43mjitter\u001b[49m\u001b[43m)\u001b[49m\n",
      "\u001b[0;31mTypeError\u001b[0m: sample_prior() takes 9 positional arguments but 10 were given"
     ]
    }
   ],
   "source": [
    "x_eval = None\n",
    "time_eval = None\n",
    "ini_spikes = None\n",
    "\n",
    "ini_t_since = jnp.zeros((num_samps, x_dims))\n",
    "past_ISIs = None\n",
    "\n",
    "timesteps = 1000\n",
    "\n",
    "y_samples, log_rho_ts, x_samples = bnpp.sample_prior(\n",
    "    prng_state, num_samps, timesteps, x_eval, time_eval, ini_spikes, ini_t_since, past_ISIs, jitter)"
   ]
  },
  {
   "cell_type": "code",
   "execution_count": null,
   "metadata": {},
   "outputs": [],
   "source": []
  },
  {
   "cell_type": "code",
   "execution_count": null,
   "metadata": {},
   "outputs": [],
   "source": []
  },
  {
   "cell_type": "code",
   "execution_count": null,
   "metadata": {},
   "outputs": [],
   "source": []
  }
 ],
 "metadata": {
  "kernelspec": {
   "display_name": "python39",
   "language": "python",
   "name": "python39"
  },
  "language_info": {
   "codemirror_mode": {
    "name": "ipython",
    "version": 3
   },
   "file_extension": ".py",
   "mimetype": "text/x-python",
   "name": "python",
   "nbconvert_exporter": "python",
   "pygments_lexer": "ipython3",
   "version": "3.9.16"
  }
 },
 "nbformat": 4,
 "nbformat_minor": 4
}
