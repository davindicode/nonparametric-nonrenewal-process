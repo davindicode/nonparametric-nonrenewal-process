{
 "cells": [
  {
   "cell_type": "markdown",
   "metadata": {},
   "source": [
    "# Validation of method\n",
    "\n",
    "### Table of contents\n",
    "\n",
    "1. [**Heteroscedastic GP**](#hetero)\n",
    "3. [**Renewal process GP**](#renewal)\n",
    "4. [**GP-GLM**](#gpglm)"
   ]
  },
  {
   "cell_type": "markdown",
   "metadata": {},
   "source": [
    "##### Description\n",
    "This notebook contains code for:\n",
    "- Compare LVM, LVM + self-coupling, full GLM coupling to explain correlations\n",
    "- Neural data is synthetic Gaussian place field population with low dimensional correlations and real place field data"
   ]
  },
  {
   "cell_type": "code",
   "execution_count": 21,
   "metadata": {},
   "outputs": [
    {
     "name": "stdout",
     "output_type": "stream",
     "text": [
      "The autoreload extension is already loaded. To reload it, use:\n",
      "  %reload_ext autoreload\n"
     ]
    }
   ],
   "source": [
    "%load_ext autoreload\n",
    "%autoreload 2\n",
    "\n",
    "import numpy as np\n",
    "\n",
    "import sys\n",
    "sys.path.append(\"..\")\n",
    "\n",
    "\n",
    "import jax\n",
    "import jax.numpy as jnp\n",
    "import jax.random as jr\n",
    "from jax.nn import softplus\n",
    "\n",
    "import optax\n",
    "\n",
    "jax.config.update('jax_platform_name', 'cpu')\n",
    "#jax.config.update('jax_disable_jit', True)\n",
    "jax.config.update(\"jax_enable_x64\", True)\n",
    "\n",
    "#import os\n",
    "#if not os.path.exists('./saves'):\n",
    "#    os.makedirs('./saves')\n",
    "\n",
    "\n",
    "import pickle\n",
    "\n",
    "\n",
    "import lib\n",
    "\n",
    "\n",
    "import matplotlib.pyplot as plt\n",
    "plt.style.use(['../paper.mplstyle'])"
   ]
  },
  {
   "cell_type": "code",
   "execution_count": null,
   "metadata": {},
   "outputs": [],
   "source": []
  },
  {
   "cell_type": "markdown",
   "metadata": {},
   "source": [
    "## Count processes"
   ]
  },
  {
   "cell_type": "code",
   "execution_count": 2,
   "metadata": {},
   "outputs": [],
   "source": [
    "x_dims = 2\n",
    "f_dims = 3\n",
    "neurons = f_dims\n",
    "tbin = 0.1  # s\n",
    "\n",
    "jitter = 1e-5\n",
    "\n",
    "num_samps = 10\n",
    "\n",
    "prng_state = jax.random.PRNGKey(123)"
   ]
  },
  {
   "cell_type": "code",
   "execution_count": 3,
   "metadata": {},
   "outputs": [],
   "source": [
    "len_fx = 1.*np.ones((f_dims, x_dims))  # GP lengthscale\n",
    "var_f = 1.*np.ones(f_dims)  # observation noise\n",
    "kern = lib.GP.kernels.SquaredExponential(f_dims, variance=var_f, lengthscale=len_fx)\n",
    "mean_f = np.zeros(f_dims)\n",
    "\n",
    "\n",
    "### inducing points ###\n",
    "num_induc = 5\n",
    "induc_locs = jax.random.normal(prng_state, shape=(f_dims, num_induc, x_dims))\n",
    "prng_state, _ = jr.split(prng_state)\n",
    "\n",
    "\n",
    "u_mu = 1. + 0.*jax.random.normal(prng_state, shape=(f_dims, num_induc, 1))\n",
    "u_Lcov = 0.01*jnp.eye(num_induc)[None, ...].repeat(f_dims, axis=0)\n",
    "prng_state, _ = jr.split(prng_state)\n",
    "\n",
    "\n",
    "svgp = lib.GP.sparse.qSVGP(kern, mean_f, induc_locs, u_mu, u_Lcov, RFF_num_feats=0)\n",
    "\n",
    "Kzz = svgp.kernel.K(svgp.induc_locs, None, False)\n",
    "lambda_1, chol_Lambda_2 = lib.GP.sparse.t_from_q_svgp_moments(Kzz, u_mu, u_Lcov)\n"
   ]
  },
  {
   "cell_type": "code",
   "execution_count": 4,
   "metadata": {},
   "outputs": [],
   "source": [
    "count_type = 'cmp'\n",
    "\n",
    "if count_type == 'p':\n",
    "    count = lib.likelihoods.factorized.Poisson(\n",
    "        neurons,\n",
    "        tbin,\n",
    "    )\n",
    "    \n",
    "elif count_type == 'zip':\n",
    "    alpha = np.linspace(0.0, 0.95, neurons)\n",
    "    count = lib.likelihoods.factorized.ZeroInflatedPoisson(\n",
    "        neurons,\n",
    "        tbin,\n",
    "        alpha,\n",
    "    )\n",
    "    \n",
    "elif count_type == 'nb':\n",
    "    r_inv = np.linspace(0.0, 1.5, neurons)\n",
    "    count = lib.likelihoods.factorized.NegativeBinomial(\n",
    "        neurons,\n",
    "        tbin,\n",
    "        r_inv,\n",
    "    )\n",
    "    \n",
    "elif count_type == 'cmp':\n",
    "    nu = np.linspace(0.5, 1.5, neurons)\n",
    "    count = lib.likelihoods.factorized.ConwayMaxwellPoisson(\n",
    "        neurons,\n",
    "        tbin,\n",
    "        nu,\n",
    "    )"
   ]
  },
  {
   "cell_type": "code",
   "execution_count": 5,
   "metadata": {},
   "outputs": [],
   "source": [
    "y = jnp.arange(0, 20)[:, None].repeat(neurons, axis=1)\n",
    "f = jnp.linspace(6, 6, neurons)\n",
    "\n",
    "log_p_y = jax.vmap(count.log_likelihood, (None, 0), 0)(f, y)"
   ]
  },
  {
   "cell_type": "code",
   "execution_count": 6,
   "metadata": {},
   "outputs": [
    {
     "data": {
      "image/png": "[encoded data removed]",
      "text/plain": [
       "<Figure size 245x183.75 with 1 Axes>"
      ]
     },
     "metadata": {},
     "output_type": "display_data"
    }
   ],
   "source": [
    "plt.plot(np.exp(log_p_y))\n",
    "plt.show()"
   ]
  },
  {
   "cell_type": "code",
   "execution_count": 28,
   "metadata": {},
   "outputs": [],
   "source": [
    "fmdl = lib.inference.gplvm.ModulatedFactorized(svgp, count)"
   ]
  },
  {
   "cell_type": "code",
   "execution_count": 29,
   "metadata": {},
   "outputs": [],
   "source": [
    "ts = 100\n",
    "\n",
    "x_eval = jnp.linspace(-2., 2., ts)[None, None, :, None]\n",
    "x_eval = jnp.broadcast_to(x_eval, (num_samps, 1, ts, x_dims))\n",
    "\n",
    "y = (np.random.randn(neurons, ts) > 3.).astype(float)\n",
    "\n",
    "\n",
    "pre_rates_mean, pre_rates_cov = fmdl.evaluate_pre_conditional_rate(\n",
    "    prng_state, x_eval, jitter)\n",
    "\n",
    "y_samples, f_filtered, x_samples = fmdl.sample_prior(\n",
    "    prng_state, num_samps, x_eval, time_eval=None, ini_Y=None, jitter=jitter)"
   ]
  },
  {
   "cell_type": "code",
   "execution_count": null,
   "metadata": {},
   "outputs": [],
   "source": []
  },
  {
   "cell_type": "code",
   "execution_count": null,
   "metadata": {},
   "outputs": [],
   "source": []
  },
  {
   "cell_type": "markdown",
   "metadata": {},
   "source": [
    "## Modulated renewal process"
   ]
  },
  {
   "cell_type": "code",
   "execution_count": 22,
   "metadata": {},
   "outputs": [],
   "source": [
    "x_dims = 2\n",
    "f_dims = 3\n",
    "neurons = f_dims\n",
    "dt = 1e-3  # ms\n",
    "\n",
    "jitter = 1e-5\n",
    "\n",
    "num_samps = 10\n",
    "\n",
    "prng_state = jax.random.PRNGKey(123)\n",
    "\n",
    "filter_length = 99"
   ]
  },
  {
   "cell_type": "code",
   "execution_count": 23,
   "metadata": {},
   "outputs": [],
   "source": [
    "flt_type = 'sigmoid'\n",
    "if flt_type == 'sigmoid':\n",
    "    alpha = np.ones((neurons, 1))\n",
    "    beta = np.ones((neurons, 1))\n",
    "    tau = 10*np.ones((neurons, 1))\n",
    "\n",
    "    flt = lib.filters.FIR.SigmoidRefractory(\n",
    "        alpha,\n",
    "        beta,\n",
    "        tau,\n",
    "        filter_length,\n",
    "    )\n",
    "    \n",
    "elif flt_type == 'rcb':\n",
    "    \n",
    "    a = np.ones((2, neurons, neurons))\n",
    "    c = np.ones((2, neurons, neurons))\n",
    "    w_h = np.random.randn(2, neurons, neurons)\n",
    "    phi_h = np.ones((2, neurons, neurons))\n",
    "        \n",
    "    flt = lib.filters.FIR.RaisedCosineBumps(\n",
    "        a,\n",
    "        c,\n",
    "        w_h,\n",
    "        phi_h, \n",
    "        filter_length,\n",
    "    )"
   ]
  },
  {
   "cell_type": "code",
   "execution_count": 24,
   "metadata": {},
   "outputs": [],
   "source": [
    "len_fx = 1.*np.ones((f_dims, x_dims))  # GP lengthscale\n",
    "var_f = 1.*np.ones(f_dims)  # observation noise\n",
    "kern = lib.GP.kernels.SquaredExponential(f_dims, variance=var_f, lengthscale=len_fx)\n",
    "mean_f = np.zeros(f_dims)\n",
    "\n",
    "\n",
    "### inducing points ###\n",
    "num_induc = 5\n",
    "induc_locs = jax.random.normal(prng_state, shape=(f_dims, num_induc, x_dims))\n",
    "prng_state, _ = jr.split(prng_state)\n",
    "\n",
    "\n",
    "u_mu = 1. + 0.*jax.random.normal(prng_state, shape=(f_dims, num_induc, 1))\n",
    "u_Lcov = 0.01*jnp.eye(num_induc)[None, ...].repeat(f_dims, axis=0)\n",
    "prng_state, _ = jr.split(prng_state)\n",
    "\n",
    "\n",
    "svgp = lib.GP.sparse.qSVGP(kern, induc_locs, u_mu, u_Lcov, RFF_num_feats=0)\n",
    "\n",
    "Kzz = svgp.kernel.K(svgp.induc_locs, None, False)\n",
    "lambda_1, chol_Lambda_2 = lib.GP.sparse.t_from_q_svgp_moments(Kzz, u_mu, u_Lcov)\n"
   ]
  },
  {
   "cell_type": "code",
   "execution_count": 31,
   "metadata": {},
   "outputs": [],
   "source": [
    "renewal_type = 'gamma'\n",
    "\n",
    "if renewal_type == 'gamma':\n",
    "    alpha = np.linspace(0.3, 1.0, neurons)\n",
    "    renewal = lib.likelihoods.renewal.Gamma(\n",
    "        neurons,\n",
    "        dt,\n",
    "        alpha,\n",
    "    )\n",
    "    \n",
    "elif renewal_type == 'lognorm':\n",
    "    sigma = np.linspace(0.5, 1.5, neurons)\n",
    "    renewal = lib.likelihoods.renewal.LogNormal(\n",
    "        neurons,\n",
    "        dt,\n",
    "        sigma,\n",
    "    )\n",
    "    \n",
    "elif renewal_type == 'invgauss':\n",
    "    mu = np.linspace(0.5, 1.5, neurons)\n",
    "    renewal = lib.likelihoods.renewal.InverseGaussian(\n",
    "        neurons,\n",
    "        dt,\n",
    "        mu,\n",
    "    )"
   ]
  },
  {
   "cell_type": "code",
   "execution_count": null,
   "metadata": {},
   "outputs": [],
   "source": []
  },
  {
   "cell_type": "code",
   "execution_count": 32,
   "metadata": {},
   "outputs": [
    {
     "data": {
      "image/png": "[encoded data removed]",
      "text/plain": [
       "<Figure size 245x183.75 with 1 Axes>"
      ]
     },
     "metadata": {},
     "output_type": "display_data"
    },
    {
     "data": {
      "image/png": "[encoded data removed]",
      "text/plain": [
       "<Figure size 245x183.75 with 1 Axes>"
      ]
     },
     "metadata": {},
     "output_type": "display_data"
    },
    {
     "data": {
      "image/png": "[encoded data removed]",
      "text/plain": [
       "<Figure size 245x183.75 with 1 Axes>"
      ]
     },
     "metadata": {},
     "output_type": "display_data"
    }
   ],
   "source": [
    "ISI = jnp.linspace(0.001, 50., 100)[:, None]\n",
    "\n",
    "ll = jax.vmap(renewal.log_density)(ISI)\n",
    "plt.plot(jnp.exp(ll)[:, :])\n",
    "plt.show()\n",
    "\n",
    "ll = jax.vmap(renewal.cum_density)(ISI)\n",
    "plt.plot(ll[:, :])\n",
    "plt.show()\n",
    "\n",
    "ll = jax.vmap(renewal.log_hazard)(ISI)\n",
    "plt.plot(np.exp(ll[10:, :]))\n",
    "plt.show()"
   ]
  },
  {
   "cell_type": "code",
   "execution_count": null,
   "metadata": {},
   "outputs": [],
   "source": []
  },
  {
   "cell_type": "code",
   "execution_count": 33,
   "metadata": {},
   "outputs": [],
   "source": [
    "t_eval = jnp.linspace(0, 10, 100)\n",
    "x_cond = jnp.zeros((2, f_dims, x_dims))\n",
    "\n",
    "renewal_density = mrp.sample_instantaneous_renewal(\n",
    "    prng_state, t_eval, x_cond, jitter, num_samps = 20, prior = True)"
   ]
  },
  {
   "cell_type": "code",
   "execution_count": 34,
   "metadata": {},
   "outputs": [
    {
     "data": {
      "text/plain": [
       "[<matplotlib.lines.Line2D at 0x7eff7c3653d0>,\n",
       " <matplotlib.lines.Line2D at 0x7eff3c642370>]"
      ]
     },
     "execution_count": 34,
     "metadata": {},
     "output_type": "execute_result"
    },
    {
     "data": {
      "image/png": "[encoded data removed]",
      "text/plain": [
       "<Figure size 245x183.75 with 1 Axes>"
      ]
     },
     "metadata": {},
     "output_type": "display_data"
    }
   ],
   "source": [
    "s = 0\n",
    "n = 0\n",
    "\n",
    "plt.plot(renewal_density[:, n, :].T)"
   ]
  },
  {
   "cell_type": "code",
   "execution_count": 35,
   "metadata": {},
   "outputs": [],
   "source": [
    "ts = 100\n",
    "\n",
    "x_eval = jnp.linspace(-2., 2., ts)[None, None, :, None]\n",
    "x_eval = jnp.broadcast_to(x_eval, (num_samps, 1, ts, x_dims))\n",
    "\n",
    "y = (np.random.randn(neurons, ts) > 0.).astype(float)[None, ...]\n",
    "ini_Y = jnp.zeros((num_samps, neurons, filter_length))\n",
    "\n",
    "log_rho_t = mrp.sample_log_conditional_intensity(\n",
    "    prng_state, x_eval, jnp.concatenate((ini_Y, y.repeat(num_samps, axis=0)), axis=-1), jitter)"
   ]
  },
  {
   "cell_type": "code",
   "execution_count": 37,
   "metadata": {},
   "outputs": [
    {
     "data": {
      "image/png": "[encoded data removed]",
      "text/plain": [
       "<Figure size 245x183.75 with 1 Axes>"
      ]
     },
     "metadata": {},
     "output_type": "display_data"
    }
   ],
   "source": [
    "tr = 0\n",
    "n = 0\n",
    "\n",
    "plt.plot((log_rho_t)[:, n, :].T)\n",
    "plt.plot(y[n, :])\n",
    "\n",
    "plt.show()"
   ]
  },
  {
   "cell_type": "code",
   "execution_count": 40,
   "metadata": {},
   "outputs": [],
   "source": [
    "ini_tau = jnp.zeros((num_samps, neurons))\n",
    "x_samples = x_eval\n",
    "\n",
    "y_samples, log_rho_ts = mrp.sample_prior(\n",
    "    prng_state, num_samps, x_samples, ini_spikes=ini_Y, ini_tau=ini_tau, jitter=jitter)"
   ]
  },
  {
   "cell_type": "code",
   "execution_count": 41,
   "metadata": {},
   "outputs": [],
   "source": [
    "y_samples, log_rho_ts = mrp.sample_posterior(\n",
    "    prng_state, num_samps, x_samples, ini_spikes=ini_Y, ini_tau=ini_tau, jitter=jitter)"
   ]
  },
  {
   "cell_type": "code",
   "execution_count": null,
   "metadata": {},
   "outputs": [],
   "source": []
  },
  {
   "cell_type": "code",
   "execution_count": null,
   "metadata": {},
   "outputs": [],
   "source": []
  },
  {
   "cell_type": "code",
   "execution_count": null,
   "metadata": {},
   "outputs": [],
   "source": []
  }
 ],
 "metadata": {
  "kernelspec": {
   "display_name": "python39",
   "language": "python",
   "name": "python39"
  },
  "language_info": {
   "codemirror_mode": {
    "name": "ipython",
    "version": 3
   },
   "file_extension": ".py",
   "mimetype": "text/x-python",
   "name": "python",
   "nbconvert_exporter": "python",
   "pygments_lexer": "ipython3",
   "version": "3.9.16"
  }
 },
 "nbformat": 4,
 "nbformat_minor": 4
}
