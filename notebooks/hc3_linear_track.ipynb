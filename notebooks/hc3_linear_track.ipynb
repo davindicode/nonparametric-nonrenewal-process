{
 "cells": [
  {
   "cell_type": "code",
   "execution_count": 1,
   "metadata": {},
   "outputs": [
    {
     "name": "stdout",
     "output_type": "stream",
     "text": [
      "PyTorch version: 1.7.1+cu101\n",
      "Using device: cuda:0\n"
     ]
    }
   ],
   "source": [
    "%load_ext autoreload\n",
    "%autoreload 2\n",
    "\n",
    "import torch\n",
    "import torch.nn as nn\n",
    "import torch.optim as optim\n",
    "\n",
    "import matplotlib.pyplot as plt\n",
    "import numpy as np\n",
    "\n",
    "import sys\n",
    "sys.path.append(\"../..\")\n",
    "\n",
    "\n",
    "import neuroprob as mdl\n",
    "from neuroprob import utils\n",
    "\n",
    "import utils_func\n",
    "\n",
    "dev = utils.pytorch.get_device()"
   ]
  },
  {
   "cell_type": "markdown",
   "metadata": {},
   "source": [
    "This notebook contains classical analysis of linear track data."
   ]
  },
  {
   "cell_type": "markdown",
   "metadata": {},
   "source": [
    "### Loading data"
   ]
  },
  {
   "cell_type": "code",
   "execution_count": 3,
   "metadata": {},
   "outputs": [],
   "source": [
    "# data\n",
    "data_path = \"../data/th1/\"\n",
    "session_name = 'ec014.468'\n",
    "max_ISI_order = 4\n",
    "\n",
    "select_fracs = [0.0, 0.1]\n",
    "dataset_dict = th1.spikes_dataset(session_name, data_path, max_ISI_order, select_fracs)\n",
    "\n",
    "test_select_fracs = [0.1, 0.2]\n",
    "test_dataset_dict = th1.spikes_dataset(session_name, data_path, max_ISI_order, test_select_fracs)"
   ]
  },
  {
   "cell_type": "code",
   "execution_count": null,
   "metadata": {},
   "outputs": [],
   "source": []
  },
  {
   "cell_type": "markdown",
   "metadata": {},
   "source": [
    "### Separate runs: L-R, R-L, stationary"
   ]
  },
  {
   "cell_type": "code",
   "execution_count": 9,
   "metadata": {},
   "outputs": [
    {
     "name": "stdout",
     "output_type": "stream",
     "text": [
      "# incompleted runs:  1\n",
      "% L_R ind: 10.62406005172688%\n",
      "% R_L ind: 13.714040059631877%\n",
      "% end/stationary ind: 75.66189988864124%\n"
     ]
    }
   ],
   "source": [
    "c_x_t = utils_func.class_x_t(x_t)\n",
    "dir_t = utils_func.L_R_run(c_x_t)\n",
    "ind_L_R = np.where(dir_t == -1)\n",
    "ind_R_L = np.where(dir_t == 1)\n",
    "ind_stat = np.where(dir_t == 0)\n",
    "print(\"% L_R ind: {}%\".format(len(ind_L_R[0]) / len(dir_t)*100))\n",
    "print(\"% R_L ind: {}%\".format(len(ind_R_L[0]) / len(dir_t)*100))\n",
    "print(\"% end/stationary ind: {}%\".format(len(ind_stat[0]) / len(dir_t)*100))"
   ]
  },
  {
   "cell_type": "markdown",
   "metadata": {},
   "source": [
    "### Select units"
   ]
  },
  {
   "cell_type": "markdown",
   "metadata": {},
   "source": [
    "Select units by number of spikes and sparsity:"
   ]
  },
  {
   "cell_type": "code",
   "execution_count": 7,
   "metadata": {},
   "outputs": [],
   "source": [
    "# binning of covariates and analysis\n",
    "bins_x = 40\n",
    "bins_y = int(arena_height/arena_width*bins_x)\n",
    "bins_theta = 20\n",
    "\n",
    "bin_x = np.linspace(left_x, right_x+1e-3, bins_x+1)\n",
    "bin_y = np.linspace(bottom_y, top_y+1e-3, bins_y+1)\n",
    "bin_theta = np.linspace(0, 2*np.pi+1e-3, bins_theta+1)\n",
    "\n",
    "#corr_t_spikes = utils.neural.spike_threshold(sample_bin, 0.25, (x_t, y_t), (bin_x, bin_y), sep_t_spike)\n",
    "# selection of bins > 0.25 already happens in IPP_model here for convenience\n",
    "# Mutual Informations\n",
    "sp_rate, sp_prob = utils.neural.IPP_model(sample_bin, 0.25, (x_t, y_t), (bin_x, bin_y), \n",
    "                                          sep_t_spike, divide=True)\n",
    "sp_MI  = utils.neural.spike_var_MI(sp_rate, sp_prob)\n",
    "\n",
    "sm_size = 5\n",
    "sm_filter = np.ones((sm_size, sm_size)) / sm_size**2\n",
    "smth_rate = utils.neural.smooth_hist(sp_rate, sm_filter, ['repeat', 'repeat'], dev='cpu')\n",
    "coherence, sparsity = utils.neural.geometric_tuning(sp_rate, smth_rate, sp_prob) # coherence and sparsity of fields"
   ]
  },
  {
   "cell_type": "code",
   "execution_count": 10,
   "metadata": {},
   "outputs": [],
   "source": [
    "n_spikes_L_R = np.sum(spktrain[:, ind_L_R], axis=(1, 2), dtype=int)\n",
    "n_spikes_R_L = np.sum(spktrain[:, ind_R_L], axis=(1, 2), dtype=int)\n",
    "n_spikes_stat = np.sum(spktrain[:, ind_stat], axis=(1, 2), dtype=int)"
   ]
  },
  {
   "cell_type": "code",
   "execution_count": 11,
   "metadata": {},
   "outputs": [
    {
     "name": "stdout",
     "output_type": "stream",
     "text": [
      "# discarded units (< 200 spikes):  39\n",
      "[ 2  6  7 13 15 16 17 18 19 22 23 27 29 30 32 40 45 46 47 48 49 50 52 54\n",
      " 58 60 61 62 65 67 72 73 74 75 78 80 81 82 90]\n",
      "Units left:  57\n"
     ]
    }
   ],
   "source": [
    "unit_discard = np.intersect1d(np.where(n_spikes_L_R < 200), np.where(n_spikes_R_L < 200))\n",
    "print(\"# discarded units (< 200 spikes): \", len(unit_discard))\n",
    "print(unit_discard)\n",
    "unit_used = np.union1d(np.where(n_spikes_L_R > 200), np.where(n_spikes_R_L > 200))\n",
    "print(\"Units left: \", len(unit_used))"
   ]
  },
  {
   "cell_type": "code",
   "execution_count": 12,
   "metadata": {},
   "outputs": [
    {
     "name": "stdout",
     "output_type": "stream",
     "text": [
      "Units left:  39\n"
     ]
    }
   ],
   "source": [
    "# Discard neurons if not sparse, enough (inhibitory neurons always ON)\n",
    "unit_used = np.intersect1d(unit_used, np.argsort(sparsity)[18:])\n",
    "print(\"Units left: \", len(unit_used))"
   ]
  },
  {
   "cell_type": "code",
   "execution_count": 16,
   "metadata": {},
   "outputs": [],
   "source": []
  },
  {
   "cell_type": "code",
   "execution_count": null,
   "metadata": {},
   "outputs": [],
   "source": []
  },
  {
   "cell_type": "markdown",
   "metadata": {},
   "source": [
    "### Fit 2D GP"
   ]
  },
  {
   "cell_type": "code",
   "execution_count": 18,
   "metadata": {},
   "outputs": [],
   "source": [
    "def heatmap_GP(rate_model, xlim, unit_used, xtheta_rate=None, eval_type='mean'):\n",
    "    # run_type: 0 for L_R, 1 for R_L\n",
    "    \n",
    "    def make_func(neuron):\n",
    "        def func_GP(pos):\n",
    "            prevshape = pos.shape[1:]\n",
    "            x = pos[0].flatten()\n",
    "            theta = pos[1].flatten()\n",
    "            covariates = [x, theta]\n",
    "            lower, mean, upper = rate_model.eval_rate(covariates, [neuron], 'posterior')\n",
    "            if eval_type == 'mean':\n",
    "                return mean[0].reshape(*prevshape)\n",
    "            elif eval_type == 'lower':\n",
    "                return lower[0].reshape(*prevshape)\n",
    "            elif eval_type == 'upper':\n",
    "                return upper[0].reshape(*prevshape)\n",
    "                \n",
    "        return func_GP\n",
    "    \n",
    "    nrows = rate_model.out_dims\n",
    "    ncols = 2 if xtheta_rate is not None else 1\n",
    "    widths = [0.5] * ncols\n",
    "    heights = [1] * nrows\n",
    "    \n",
    "    fig = plt.figure(figsize=(4*ncols, 3*nrows))\n",
    "\n",
    "    spec = fig.add_gridspec(ncols=ncols, nrows=nrows, width_ratios=widths,\n",
    "                             height_ratios=heights)#, left=0., right=0.2, bottom=0., top=1.)\n",
    "    \n",
    "    for neuron in range(rate_model.out_dims):\n",
    "        if xtheta_rate is not None:\n",
    "            grid_shape = [xlim, [0, 4*np.pi]]\n",
    "            \n",
    "            ax = fig.add_subplot(spec[neuron, 1])\n",
    "            field = np.tile(xtheta_rate[neuron].T, (2,1)) # 0->0, 1->2 as 1 is stationary/end runs\n",
    "            im = utils.plot.visualize_field((fig, ax), field, grid_shape, ticktitle='firing rate (Hz)', aspect='auto')\n",
    "\n",
    "            ylabel = r'$\\theta$'\n",
    "            xlabel = r'$x$ (mm)'\n",
    "            utils.plot.decorate_ax(ax, xlabel=xlabel, ylabel=ylabel, xlim=xlim, ylim=[0, 4*np.pi],\n",
    "                                  xticks=np.linspace(xlim[0], xlim[1], 3), yticks=[0, 2*np.pi, 4*np.pi],\n",
    "                                  spines=[False, False, False, False])\n",
    "            ax.set_yticklabels([r'$0$', r'$2\\pi$', r'$4\\pi$'])\n",
    "            ax.set_title(\"Histogram Neuron {}\".format(unit_used[neuron]))\n",
    "            vmax = np.max(field)\n",
    "            \n",
    "        \n",
    "        grid_shape = [xlim, [0, 4*np.pi]]\n",
    "        grid_size = [40, 30]\n",
    "\n",
    "        ax = fig.add_subplot(spec[neuron, 0])\n",
    "        _, field = utils.plot.compute_mesh(grid_size, grid_shape, make_func(neuron))\n",
    "        im = utils.plot.visualize_field((fig, ax), field, grid_shape, ticktitle='firing rate (Hz)', aspect='auto') #, vmax=vmax)\n",
    "\n",
    "        ylabel = r'$\\theta$'\n",
    "        xlabel = r'$x$ (mm)'\n",
    "        utils.plot.decorate_ax(ax, xlabel=xlabel, ylabel=ylabel, xlim=xlim, ylim=[0, 4*np.pi],\n",
    "                          xticks=np.linspace(xlim[0], xlim[1], 3), yticks=[0, 2*np.pi, 4*np.pi],\n",
    "                          spines=[False, False, False, False])\n",
    "        ax.set_yticklabels([r'$0$', r'$2\\pi$', r'$4\\pi$'])\n",
    "        ax.set_title(\"GP Neuron {}\".format(unit_used[neuron]))\n",
    "            \n",
    "    plt.tight_layout(w_pad=1)\n",
    "    plt.show()\n",
    "    \n",
    "    return fig"
   ]
  },
  {
   "cell_type": "code",
   "execution_count": 28,
   "metadata": {},
   "outputs": [],
   "source": []
  },
  {
   "cell_type": "code",
   "execution_count": 17,
   "metadata": {},
   "outputs": [
    {
     "name": "stdout",
     "output_type": "stream",
     "text": [
      "spktrain:  (96, 4877928)\n",
      "x_t:  (4877928,)\n",
      "theta_t:  (4877928,)\n"
     ]
    }
   ],
   "source": [
    "print(\"spktrain: \", np.shape(spktrain))\n",
    "print(\"x_t: \", np.shape(x_t))\n",
    "print(\"theta_t: \", np.shape(theta_t))"
   ]
  },
  {
   "cell_type": "code",
   "execution_count": 25,
   "metadata": {},
   "outputs": [
    {
     "name": "stdout",
     "output_type": "stream",
     "text": [
      "Reserved:  0.96468992\n",
      "Allocated:  3.584e-05\n",
      "Free:  3.330313216\n"
     ]
    }
   ],
   "source": [
    "t = torch.cuda.get_device_properties(0).total_memory\n",
    "r = torch.cuda.memory_reserved(0) \n",
    "a = torch.cuda.memory_allocated(0)\n",
    "f = t-(r-a)  # free inside reserved\n",
    "# print(\"Total: \", t/1e9)\n",
    "print(\"Reserved: \", r/1e9)\n",
    "print(\"Allocated: \", a/1e9)\n",
    "print(\"Free: \", f/1e9)"
   ]
  },
  {
   "cell_type": "code",
   "execution_count": null,
   "metadata": {},
   "outputs": [],
   "source": [
    "### evaluation ###\n",
    "x_evals = 40\n",
    "y_evals = 40\n",
    "x_dims = 2\n",
    "\n",
    "x_eval = jnp.linspace(0, 500, x_evals)\n",
    "y_eval = jnp.linspace(0, 500, y_evals)\n",
    "evalsteps = x_eval*y_eval\n",
    "\n",
    "x_eval, y_eval = np.meshgrid(x_eval, y_eval)\n",
    "or_shape = x_eval.shape\n",
    "\n",
    "pos_eval = jnp.stack([x_eval, y_eval], axis=-1).reshape(-1, x_dims)\n",
    "theta_eval = 0.0 * jnp.ones((pos_eval.shape[0], 1))\n",
    "\n",
    "sp_locs = model.obs_model.gp.induc_locs\n",
    "locs_eval = jnp.concatenate((pos_eval, theta_eval), axis=-1)[None, None, ...]\n",
    "\n",
    "\n",
    "post_mean, post_cov, KL = model.obs_model._gp_posterior(\n",
    "    locs_eval, mean_only=False, diag_cov=True, compute_KL=True, jitter=1e-8)\n",
    "\n",
    "neurons = model.obs_model.likelihood.obs_dims\n",
    "\n",
    "post_mean = post_mean[0].reshape(neurons, *or_shape)\n",
    "post_var = post_cov[0].reshape(neurons, *or_shape)\n",
    "\n",
    "link_fn = model.obs_model.likelihood.inverse_link"
   ]
  },
  {
   "cell_type": "code",
   "execution_count": 21,
   "metadata": {},
   "outputs": [
    {
     "data": {
      "image/png": "[encoded data removed]",
      "text/plain": [
       "<Figure size 560x280 with 2 Axes>"
      ]
     },
     "metadata": {},
     "output_type": "display_data"
    },
    {
     "data": {
      "image/png": "[encoded data removed]",
      "text/plain": [
       "<Figure size 245x183.75 with 1 Axes>"
      ]
     },
     "metadata": {},
     "output_type": "display_data"
    }
   ],
   "source": [
    "n = 1\n",
    "\n",
    "\n",
    "fig = plt.figure(figsize=(8, 4))\n",
    "widths = [1, 1, 0.03]\n",
    "heights = [1]\n",
    "\n",
    "spec = fig.add_gridspec(ncols=len(widths), nrows=len(heights), width_ratios=widths, \n",
    "                        height_ratios=heights, top=1., bottom=0.0, \n",
    "                        left=0., right=1., wspace=0.3)\n",
    "\n",
    "ax = fig.add_subplot(spec[0, 1])\n",
    "lib.utils.plots.decorate_ax(ax)  # get all four spines around plot\n",
    "ax.scatter(sp_locs[n, :, 0], sp_locs[n, :, 1], marker='.', c='r')\n",
    "im = ax.imshow(link_fn(post_mean[n, ...]), \n",
    "           extent=[locs_eval[..., 0].min(), locs_eval[..., 0].max(), \n",
    "                   locs_eval[..., 1].min(), locs_eval[..., 1].max()], \n",
    "           aspect='equal', origin='lower', cmap='viridis', vmin=0.)\n",
    "ax.set_xlabel('$x$')\n",
    "ax.set_ylabel('$y$')\n",
    "#ax.set_title('noise correlations')\n",
    "\n",
    "\n",
    "ax = fig.add_subplot(spec[0, 2])\n",
    "lib.utils.plots.add_colorbar((fig, ax), im, cbar_outline=False, cbar_ori='vertical', cbar_fontsize=12, \n",
    "    cbar_pad=20, ticktitle=None, ticks=None, ticklabels=None, cbar_format=None)\n",
    "\n",
    "\n",
    "# plt.scatter(sp_locs[n, :, 0], sp_locs[n, :, 1], marker='.', c='r')\n",
    "# plt.imshow(post_var[n, ...], \n",
    "#            extent=[locs_eval[..., 0].min(), locs_eval[..., 0].max(), \n",
    "#                    locs_eval[..., 1].min(), locs_eval[..., 1].max()], \n",
    "#            aspect='equal', vmin=0., origin='lower', cmap='viridis')\n",
    "# plt.show()\n",
    "\n",
    "fig = plt.figure()\n",
    "n = 0\n",
    "plt.plot(x_t, y_t, alpha=0.5)\n",
    "plt.scatter(x_t[spikes[n].astype(bool)], y_t[spikes[n].astype(bool)], c='r')\n",
    "plt.show()"
   ]
  },
  {
   "cell_type": "code",
   "execution_count": 22,
   "metadata": {},
   "outputs": [
    {
     "data": {
      "text/plain": [
       "[<matplotlib.lines.Line2D at 0x7f72986cbb50>]"
      ]
     },
     "execution_count": 22,
     "metadata": {},
     "output_type": "execute_result"
    },
    {
     "data": {
      "image/png": "[encoded data removed]",
      "text/plain": [
       "<Figure size 245x183.75 with 1 Axes>"
      ]
     },
     "metadata": {},
     "output_type": "display_data"
    }
   ],
   "source": [
    "plt.plot(link_fn(post_mean)[n, 25, :])\n",
    "\n",
    "\n",
    "f_dim = 0\n",
    "x_dim = 0\n",
    "tr = list(range(num_samps))\n",
    "\n",
    "n_ps = qf_c.shape[-2]\n",
    "#qf_v = qf_c[f_dim, tr, 0]\n",
    "qf_v = qf_c[0, f_dim, np.arange(n_ps), np.arange(n_ps)]\n",
    "lb = qf_m[0, f_dim, :, 0] - 1.96 * qf_v ** 0.5\n",
    "ub = qf_m[0, f_dim, :, 0] + 1.96 * qf_v ** 0.5\n",
    "m = qf_m[0, f_dim, :, 0]\n",
    "\n",
    "x = xx[0, f_dim ,:, x_dim]\n",
    "\n",
    "plt.plot(x, m, 'b', label='posterior mean')\n",
    "plt.fill_between(x, lb, ub, color='b', alpha=0.05, label='95% confidence')#\n",
    "plt.plot(x, qf_x[tr, f_dim, :].T, alpha=0.3)\n",
    "plt.scatter(induc_locs[f_dim, :, x_dim], u_mu[f_dim, :, 0], marker='x', s=100)\n",
    "plt.show()"
   ]
  }
 ],
 "metadata": {
  "kernelspec": {
   "display_name": "Python 3",
   "language": "python",
   "name": "python3"
  },
  "language_info": {
   "codemirror_mode": {
    "name": "ipython",
    "version": 3
   },
   "file_extension": ".py",
   "mimetype": "text/x-python",
   "name": "python",
   "nbconvert_exporter": "python",
   "pygments_lexer": "ipython3",
   "version": "3.6.9"
  }
 },
 "nbformat": 4,
 "nbformat_minor": 5
}
