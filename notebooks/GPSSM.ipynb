{
 "cells": [
  {
   "cell_type": "markdown",
   "metadata": {},
   "source": [
    "# Validation of method\n",
    "\n",
    "### Table of contents\n",
    "\n",
    "1. [**qSVGP**](#tsvgp)\n",
    "2. [**tSVGP**](#qsvgp)\n",
    "3. [**SSGP**](#ssgp)\n",
    "4. [**STGP**](#stgp)\n",
    "\n"
   ]
  },
  {
   "cell_type": "code",
   "execution_count": 69,
   "metadata": {},
   "outputs": [
    {
     "name": "stdout",
     "output_type": "stream",
     "text": [
      "The autoreload extension is already loaded. To reload it, use:\n",
      "  %reload_ext autoreload\n"
     ]
    }
   ],
   "source": [
    "%load_ext autoreload\n",
    "%autoreload 2\n",
    "\n",
    "import numpy as np\n",
    "\n",
    "import sys\n",
    "sys.path.append(\"..\")\n",
    "\n",
    "\n",
    "import jax\n",
    "import jax.numpy as jnp\n",
    "import jax.random as jr\n",
    "from jax.nn import softplus\n",
    "\n",
    "import optax\n",
    "\n",
    "jax.config.update('jax_platform_name', 'cpu')\n",
    "#jax.config.update('jax_disable_jit', True)\n",
    "jax.config.update(\"jax_enable_x64\", True)\n",
    "\n",
    "#import os\n",
    "#if not os.path.exists('./saves'):\n",
    "#    os.makedirs('./saves')\n",
    "\n",
    "\n",
    "import pickle\n",
    "\n",
    "\n",
    "import lib\n",
    "\n",
    "\n",
    "import matplotlib.pyplot as plt\n",
    "plt.style.use(['../paper.mplstyle'])"
   ]
  },
  {
   "cell_type": "code",
   "execution_count": null,
   "metadata": {},
   "outputs": [],
   "source": []
  },
  {
   "cell_type": "code",
   "execution_count": 186,
   "metadata": {},
   "outputs": [],
   "source": [
    "x_dims = 2\n",
    "f_dims = x_dims\n",
    "    \n",
    "len_fx = 1.*np.ones((f_dims, x_dims))  # GP lengthscale\n",
    "var_f = 0.01*np.ones(f_dims)  # observation noise\n",
    "kern = lib.GP.kernels.SquaredExponential(f_dims, variance=var_f, lengthscale=len_fx)\n",
    "mean_f = np.zeros(f_dims)\n",
    "num_induc = 5\n",
    "induc_locs = jax.random.normal(jax.random.PRNGKey(123), shape=(f_dims, num_induc, x_dims))\n",
    "\n",
    "lambda_1 = 1.*jax.random.normal(jax.random.PRNGKey(123), shape=(f_dims, num_induc, 1))\n",
    "chol_Lambda_2 = 1.*jnp.eye(num_induc)[None, ...].repeat(f_dims, axis=0)\n",
    "\n",
    "dynamics_function = lib.GP.sparse.tSVGP(kern, mean_f, induc_locs, lambda_1, chol_Lambda_2, RFF_num_feats=1000)\n",
    "\n",
    "chol_process_noise = 0. * jnp.eye(x_dims)\n",
    "p0_mean = jnp.zeros((x_dims, 1))\n",
    "p0_Lcov = jnp.eye(x_dims)"
   ]
  },
  {
   "cell_type": "code",
   "execution_count": 187,
   "metadata": {},
   "outputs": [],
   "source": [
    "ts = 1000\n",
    "\n",
    "As = jnp.eye(x_dims)[None, ...].repeat(ts, axis=0)\n",
    "Qs = jnp.eye(x_dims)[None, ...].repeat(ts, axis=0)\n",
    "H = jnp.zeros((1, x_dims)).at[0, 0].set(1.)\n",
    "minf = jnp.zeros((x_dims,))\n",
    "P0 = jnp.eye(x_dims)\n",
    "site_obs = jnp.zeros((ts, x_dims, 1))\n",
    "site_Lcov = .1 * jnp.eye(x_dims)[None, ...].repeat(ts, axis=0)\n",
    "\n",
    "state_posterior = lib.GP.markovian.LGSSM(As, Qs, H, minf, P0, site_obs, site_Lcov)"
   ]
  },
  {
   "cell_type": "code",
   "execution_count": 188,
   "metadata": {},
   "outputs": [],
   "source": [
    "p0_mean = jnp.zeros((x_dims, 1))\n",
    "p0_Lcov = 1. * jnp.eye(x_dims)\n",
    "\n",
    "\n",
    "gpssm = lib.GP.gpssm.DTGPSSM(dynamics_function, chol_process_noise, p0_mean, p0_Lcov, state_posterior)"
   ]
  },
  {
   "cell_type": "code",
   "execution_count": 189,
   "metadata": {},
   "outputs": [],
   "source": [
    "prng_state = jr.PRNGKey(123)\n",
    "num_samps = 5\n",
    "\n",
    "prior_samps = gpssm.sample_prior(prng_state, num_samps, ts, jitter=1e-6)"
   ]
  },
  {
   "cell_type": "code",
   "execution_count": null,
   "metadata": {},
   "outputs": [],
   "source": []
  },
  {
   "cell_type": "code",
   "execution_count": 20,
   "metadata": {},
   "outputs": [
    {
     "data": {
      "image/png": "[encoded data removed]",
      "text/plain": [
       "<Figure size 245x183.75 with 1 Axes>"
      ]
     },
     "metadata": {},
     "output_type": "display_data"
    }
   ],
   "source": [
    "f_dim = 0\n",
    "x_dim = 0\n",
    "tr = 0\n",
    "\n",
    "n_ps = qf_c.shape[-1]\n",
    "#qf_v = qf_c[f_dim, tr, 0]\n",
    "qf_v = qf_c[f_dim, tr, np.arange(n_ps), np.arange(n_ps)]\n",
    "lb = qf_m[f_dim, tr, :, 0] - 1.96 * qf_v ** 0.5\n",
    "ub = qf_m[f_dim, tr, :, 0] + 1.96 * qf_v ** 0.5\n",
    "m = qf_m[f_dim, tr, :, 0]\n",
    "\n",
    "\n",
    "\n",
    "plt.plot(xx[:, 0, x_dim], m, 'b', label='posterior mean')\n",
    "plt.fill_between(xx[:, 0, x_dim], lb, ub, color='b', alpha=0.05, label='95% confidence')\n",
    "#plt.plot(xx[:, 0, x_dim], qf_x[..., f_dim], alpha=0.3)\n",
    "plt.scatter(x_obs[f_dim, :, x_dim], f_obs[f_dim, :, 0], marker='x', s=100)\n",
    "plt.show()"
   ]
  },
  {
   "cell_type": "code",
   "execution_count": 195,
   "metadata": {},
   "outputs": [
    {
     "data": {
      "image/png": "[encoded data removed]",
      "text/plain": [
       "<Figure size 245x183.75 with 1 Axes>"
      ]
     },
     "metadata": {},
     "output_type": "display_data"
    }
   ],
   "source": [
    "tr = 4\n",
    "\n",
    "plt.plot(prior_samps[:1000, tr, 0])\n",
    "plt.plot(prior_samps[:1000, tr, 1])\n",
    "\n",
    "plt.show()"
   ]
  },
  {
   "cell_type": "code",
   "execution_count": null,
   "metadata": {},
   "outputs": [],
   "source": []
  }
 ],
 "metadata": {
  "kernelspec": {
   "display_name": "python39",
   "language": "python",
   "name": "python39"
  },
  "language_info": {
   "codemirror_mode": {
    "name": "ipython",
    "version": 3
   },
   "file_extension": ".py",
   "mimetype": "text/x-python",
   "name": "python",
   "nbconvert_exporter": "python",
   "pygments_lexer": "ipython3",
   "version": "3.9.7"
  }
 },
 "nbformat": 4,
 "nbformat_minor": 4
}
