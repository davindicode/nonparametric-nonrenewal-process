{
 "cells": [
  {
   "cell_type": "markdown",
   "metadata": {},
   "source": [
    "# Validation of method\n",
    "\n",
    "### Table of contents\n",
    "\n",
    "1. [**SVGP**](#svgp)\n",
    "3. [**SSGP**](#ssgp)\n",
    "4. [**STGP**](#stgp)\n",
    "\n",
    "\n",
    "This notebook contains code for:\n",
    "- Investigating the number of inducing points and expressivity, degree of nonconvexity of GP models\n",
    "- Multi-regressor tuning evaluation\n",
    "- GP-GLM validation in population fitting\n",
    "- GP marginal log-likelihood versus locally weighted log-likelihood model selection for kernel hyperparameters"
   ]
  },
  {
   "cell_type": "code",
   "execution_count": 1,
   "metadata": {},
   "outputs": [
    {
     "name": "stderr",
     "output_type": "stream",
     "text": [
      "/var/home/dl543/Documents/Learning/nonparametric-modulated-renewal/notebooks/../lib/inference.py:20: TqdmExperimentalWarning: Using `tqdm.autonotebook.tqdm` in notebook mode. Use `tqdm.tqdm` instead to force console mode (e.g. in jupyter console)\n",
      "  from tqdm.autonotebook import tqdm\n"
     ]
    }
   ],
   "source": [
    "%load_ext autoreload\n",
    "%autoreload 2\n",
    "\n",
    "import numpy as np\n",
    "\n",
    "import sys\n",
    "sys.path.append(\"..\")\n",
    "\n",
    "\n",
    "import jax\n",
    "import jax.numpy as jnp\n",
    "import jax.random as jr\n",
    "from jax.nn import softplus\n",
    "\n",
    "import optax\n",
    "\n",
    "jax.config.update('jax_platform_name', 'cpu')\n",
    "#jax.config.update('jax_disable_jit', True)\n",
    "jax.config.update(\"jax_enable_x64\", True)\n",
    "\n",
    "#import os\n",
    "#if not os.path.exists('./saves'):\n",
    "#    os.makedirs('./saves')\n",
    "\n",
    "\n",
    "import pickle\n",
    "\n",
    "\n",
    "import lib\n",
    "\n",
    "\n",
    "import matplotlib.pyplot as plt\n",
    "plt.style.use(['../paper.mplstyle'])"
   ]
  },
  {
   "cell_type": "markdown",
   "metadata": {},
   "source": [
    "<a id='hmm'></a>\n",
    "## HMM"
   ]
  },
  {
   "cell_type": "code",
   "execution_count": 2,
   "metadata": {},
   "outputs": [],
   "source": [
    "K = 3\n",
    "pre_T = np.random.randn(K, K)\n",
    "pre_T[1, 0] = 5.\n",
    "#T = jax.nn.softmax(pT, axis=0)\n",
    "\n",
    "ts = 1000\n",
    "site_ll = np.random.randn(ts, K)\n",
    "\n",
    "HMM = lib.GP.switching.HMM(pre_T, site_ll)"
   ]
  },
  {
   "cell_type": "code",
   "execution_count": 3,
   "metadata": {},
   "outputs": [],
   "source": [
    "pi = HMM.compute_stationary_distribution()"
   ]
  },
  {
   "cell_type": "code",
   "execution_count": 4,
   "metadata": {},
   "outputs": [],
   "source": [
    "num_samps = 10\n",
    "prng_state = jr.PRNGKey(seed=123)\n",
    "\n",
    "prior_samples = HMM.sample_prior(prng_state, num_samps, ts)"
   ]
  },
  {
   "cell_type": "code",
   "execution_count": 5,
   "metadata": {},
   "outputs": [
    {
     "data": {
      "text/plain": [
       "[<matplotlib.lines.Line2D at 0x7f91d0060c10>]"
      ]
     },
     "execution_count": 5,
     "metadata": {},
     "output_type": "execute_result"
    },
    {
     "data": {
      "image/png": "[encoded data removed]",
      "text/plain": [
       "<Figure size 245x183.75 with 1 Axes>"
      ]
     },
     "metadata": {},
     "output_type": "display_data"
    }
   ],
   "source": [
    "plt.plot(prior_samples[:, 1])"
   ]
  },
  {
   "cell_type": "code",
   "execution_count": 17,
   "metadata": {},
   "outputs": [],
   "source": [
    "log_posts, KL, aux = HMM.evaluate_posterior(HMM.site_ll, compute_KL=True)"
   ]
  },
  {
   "cell_type": "code",
   "execution_count": 18,
   "metadata": {},
   "outputs": [],
   "source": [
    "post_samples, KL = HMM.sample_posterior(prng_state, num_samps, ts, compute_KL=True)"
   ]
  },
  {
   "cell_type": "code",
   "execution_count": 19,
   "metadata": {},
   "outputs": [
    {
     "data": {
      "text/plain": [
       "[<matplotlib.lines.Line2D at 0x7f9104f81e20>]"
      ]
     },
     "execution_count": 19,
     "metadata": {},
     "output_type": "execute_result"
    },
    {
     "data": {
      "image/png": "[encoded data removed]",
      "text/plain": [
       "<Figure size 245x183.75 with 1 Axes>"
      ]
     },
     "metadata": {},
     "output_type": "display_data"
    }
   ],
   "source": [
    "plt.plot(prior_samples[:, 1])"
   ]
  },
  {
   "cell_type": "code",
   "execution_count": null,
   "metadata": {},
   "outputs": [],
   "source": []
  },
  {
   "cell_type": "code",
   "execution_count": 34,
   "metadata": {},
   "outputs": [],
   "source": [
    "def bouncing_ball(s0, timesteps, delta_t, g = 9.81, coeff_restitution = 1.):\n",
    "    \"\"\"\n",
    "    :param np.ndarray s0: initial state of shape (trials, dims)\n",
    "    \"\"\"\n",
    "    trials, state_dims = s0.shape\n",
    "    \n",
    "    timeline = np.arange(timesteps+1) * delta_t\n",
    "    s = np.empty((timesteps+1, trials, state_dims))\n",
    "    s[0, ...] = s0\n",
    "    for t in range(timesteps):\n",
    "        s[t+1, :, 0] = s[t, :, 0] + delta_t * s[t, :, 1]\n",
    "        s[t+1, :, 1] = s[t, :, 1] + delta_t * (-g)\n",
    "        \n",
    "        collides = np.where(s[t+1, :, 0] <= 0.)[0]\n",
    "        for c in collides:\n",
    "            s[t+1, c, 0] = 0.\n",
    "            s[t+1, c, 1] = -coeff_restitution * s[t+1, c, 1]\n",
    "    \n",
    "    dataset = {\n",
    "        'state': s, \n",
    "        'time': timeline, \n",
    "    }\n",
    "    return dataset\n",
    "\n",
    "\n",
    "\n",
    "def nonstationary_function(delta_t):\n",
    "    T = 4000\n",
    "    t = np.arange(T) * delta_t\n",
    "    y = np.empty(T)\n",
    "    \n",
    "    y[:1000] = np.sin(t[:1000] * 20.)\n",
    "    y[1000:2000] = t[:1000] - t[:1000]**2\n",
    "    y[2000:3000] = t[:1000]**2 \n",
    "    y[3000:] = 0.\n",
    "    \n",
    "    dataset = {\n",
    "        'y': y, \n",
    "        't': t, \n",
    "    }\n",
    "    return dataset"
   ]
  },
  {
   "cell_type": "code",
   "execution_count": 35,
   "metadata": {},
   "outputs": [],
   "source": [
    "s0 = np.ones((3, 2)) + np.arange(3)[:, None]\n",
    "s0[:, 1] = 0.\n",
    "timesteps = 100000\n",
    "delta_t = 0.0001\n",
    "\n",
    "ds = bouncing_ball(s0, timesteps, delta_t, g = 9.81, coeff_restitution = 0.8)"
   ]
  },
  {
   "cell_type": "code",
   "execution_count": 36,
   "metadata": {},
   "outputs": [],
   "source": [
    "y = ds['state'][..., 0]\n",
    "v = ds['state'][..., 1]\n",
    "t = ds['time']"
   ]
  },
  {
   "cell_type": "code",
   "execution_count": 37,
   "metadata": {},
   "outputs": [
    {
     "data": {
      "image/png": "[encoded data removed]",
      "text/plain": [
       "<Figure size 245x183.75 with 1 Axes>"
      ]
     },
     "metadata": {},
     "output_type": "display_data"
    },
    {
     "data": {
      "image/png": "[encoded data removed]",
      "text/plain": [
       "<Figure size 245x183.75 with 1 Axes>"
      ]
     },
     "metadata": {},
     "output_type": "display_data"
    }
   ],
   "source": [
    "plt.plot(t, y)\n",
    "plt.show()\n",
    "\n",
    "plt.plot(t, v)\n",
    "plt.show()"
   ]
  },
  {
   "cell_type": "code",
   "execution_count": 38,
   "metadata": {},
   "outputs": [],
   "source": [
    "ds = nonstationary_function(delta_t = 0.001)\n",
    "\n",
    "y = ds['y']\n",
    "t = ds['t']"
   ]
  },
  {
   "cell_type": "code",
   "execution_count": 39,
   "metadata": {},
   "outputs": [
    {
     "data": {
      "image/png": "[encoded data removed]",
      "text/plain": [
       "<Figure size 245x183.75 with 1 Axes>"
      ]
     },
     "metadata": {},
     "output_type": "display_data"
    }
   ],
   "source": [
    "plt.plot(t, y)\n",
    "plt.show()"
   ]
  },
  {
   "cell_type": "code",
   "execution_count": null,
   "metadata": {},
   "outputs": [],
   "source": []
  },
  {
   "cell_type": "markdown",
   "metadata": {},
   "source": [
    "### Generate data"
   ]
  },
  {
   "cell_type": "code",
   "execution_count": 59,
   "metadata": {},
   "outputs": [
    {
     "name": "stdout",
     "output_type": "stream",
     "text": [
      "generating some data ...\n"
     ]
    },
    {
     "data": {
      "text/plain": [
       "<matplotlib.legend.Legend at 0x7f2ff8e09550>"
      ]
     },
     "execution_count": 59,
     "metadata": {},
     "output_type": "execute_result"
    },
    {
     "data": {
      "image/png": "[encoded data removed]",
      "text/plain": [
       "<Figure size 840x350 with 1 Axes>"
      ]
     },
     "metadata": {
      "needs_background": "light"
     },
     "output_type": "display_data"
    }
   ],
   "source": [
    "def wiggly_time_series(x):\n",
    "    x_ = x[:, None]\n",
    "    noise_var = np.array([0.15])  # true observation noise\n",
    "    return (np.cos(0.04*x_+0.33*np.pi) * np.sin(0.2*x_) +\n",
    "            np.sqrt(noise_var)[None, :] * np.random.normal(0, 1, x.shape+noise_var.shape))\n",
    "\n",
    "\n",
    "print('generating some data ...')\n",
    "np.random.seed(12345)\n",
    "\n",
    "N = 1000\n",
    "N_test = 500\n",
    "\n",
    "# x = np.linspace(-25.0, 75.0, num=N)  # evenly spaced\n",
    "x = np.random.permutation(np.linspace(-25.0, 150.0, N) + 0.5*np.random.randn(N))  # unevenly spaced\n",
    "y = wiggly_time_series(x)\n",
    "x_test = np.linspace(np.min(x)-15.0, np.max(x)+15.0, num=N_test)\n",
    "y_test = wiggly_time_series(x_test)\n",
    "\n",
    "plot_out = 0\n",
    "\n",
    "plt.figure(1, figsize=(12, 5))\n",
    "plt.plot(x, y[:, plot_out], 'b.', label='training observations')\n",
    "plt.plot(x_test, y_test[:, plot_out], 'r.', alpha=0.4, label='test observations')\n",
    "plt.legend()"
   ]
  },
  {
   "cell_type": "code",
   "execution_count": null,
   "metadata": {},
   "outputs": [],
   "source": []
  },
  {
   "cell_type": "markdown",
   "metadata": {},
   "source": [
    "### Build the GP model"
   ]
  },
  {
   "cell_type": "code",
   "execution_count": 219,
   "metadata": {},
   "outputs": [],
   "source": [
    "out_dims = y.shape[1]\n",
    "\n",
    "var_f = 1.0*np.ones(out_dims)  # GP variance\n",
    "len_f = 5.0*np.ones(out_dims)  # GP lengthscale\n",
    "var_y = 0.5*np.ones(out_dims)  # observation noise\n",
    "\n",
    "#kernel = lib.kernels.Matern32(out_dims, variance=var_f, lengthscale=len_f)\n",
    "# kernel_list = [lib.kernels.Matern52(1, variance=var_f[:1], lengthscale=len_f[:1]), \n",
    "#                lib.kernels.Matern32(1, variance=var_f[1:], lengthscale=len_f[1:])]\n",
    "kernel = lib.kernels.Matern12(out_dims, variance=var_f, lengthscale=len_f)\n",
    "#lib.kernels.Independent(kernel_list)\n",
    "\n",
    "lik = lib.likelihoods.Gaussian(out_dims, variance=var_y)#Poisson(out_dims)#\n",
    "lik.set_approx_integration(approx_int_method='GH', num_approx_pts=20)\n",
    "\n",
    "#obs = lib.observations.Identity(out_dims, lik)\n",
    "C = np.eye(out_dims)\n",
    "b = np.zeros((out_dims,))\n",
    "obs = lib.observations.Linear(out_dims, lik, [C, b])\n",
    "#obs = lib.observations.Bayesian_Linear(out_dims, lik, [C, b])\n",
    "obs.set_approx_integration(approx_int_method='MC', num_approx_pts=20)\n",
    "\n",
    "model = lib.inference.NGD_SSGP(kernel, obs)\n",
    "model.set_data(x, y)"
   ]
  },
  {
   "cell_type": "code",
   "execution_count": null,
   "metadata": {},
   "outputs": [],
   "source": []
  },
  {
   "cell_type": "markdown",
   "metadata": {},
   "source": [
    "### Optimise the hyperparameters and site parameters"
   ]
  },
  {
   "cell_type": "code",
   "execution_count": 220,
   "metadata": {},
   "outputs": [],
   "source": [
    "plot_intermediate = False\n",
    "print_every = 10\n",
    "epochs = 500\n",
    "\n",
    "# init\n",
    "opt_init, opt_update, get_params = optimizers.adam(step_size=5e-1)\n",
    "opt_state = opt_init(model.get_params())\n",
    "inference_state = [jax.random.PRNGKey(123), 0.1, 1e-6] # PRNG state, CVI damping, jitter"
   ]
  },
  {
   "cell_type": "code",
   "execution_count": 221,
   "metadata": {
    "scrolled": true,
    "tags": []
   },
   "outputs": [
    {
     "name": "stdout",
     "output_type": "stream",
     "text": [
      "optimising the hyperparameters ...\n",
      "iter  1: loss=1173.54\n",
      "iter 10: loss=573.92 | optimisation time: 3.13 secs\n",
      "iter 20: loss=730.83 | optimisation time: 0.09 secs\n",
      "iter 30: loss=753.88 | optimisation time: 0.09 secs\n",
      "iter 40: loss=741.69 | optimisation time: 0.09 secs\n",
      "iter 50: loss=681.05 | optimisation time: 0.09 secs\n",
      "iter 60: loss=581.08 | optimisation time: 0.09 secs\n",
      "iter 70: loss=557.52 | optimisation time: 0.09 secs\n",
      "iter 80: loss=549.02 | optimisation time: 0.09 secs\n",
      "iter 90: loss=567.24 | optimisation time: 0.09 secs\n",
      "iter 100: loss=553.71 | optimisation time: 0.09 secs\n",
      "iter 110: loss=548.34 | optimisation time: 0.09 secs\n",
      "iter 120: loss=549.90 | optimisation time: 0.09 secs\n",
      "iter 130: loss=549.58 | optimisation time: 0.09 secs\n",
      "iter 140: loss=547.90 | optimisation time: 0.09 secs\n",
      "iter 150: loss=547.92 | optimisation time: 0.09 secs\n",
      "iter 160: loss=548.32 | optimisation time: 0.09 secs\n",
      "iter 170: loss=548.03 | optimisation time: 0.09 secs\n",
      "iter 180: loss=547.58 | optimisation time: 0.09 secs\n",
      "iter 190: loss=547.61 | optimisation time: 0.09 secs\n",
      "iter 200: loss=547.82 | optimisation time: 0.09 secs\n",
      "iter 210: loss=547.73 | optimisation time: 0.09 secs\n",
      "iter 220: loss=547.55 | optimisation time: 0.09 secs\n",
      "iter 230: loss=547.54 | optimisation time: 0.09 secs\n",
      "iter 240: loss=579.86 | optimisation time: 0.09 secs\n",
      "iter 250: loss=567.76 | optimisation time: 0.09 secs\n",
      "iter 260: loss=550.36 | optimisation time: 0.09 secs\n",
      "iter 270: loss=548.09 | optimisation time: 0.09 secs\n",
      "iter 280: loss=547.56 | optimisation time: 0.09 secs\n",
      "iter 290: loss=547.82 | optimisation time: 0.09 secs\n",
      "iter 300: loss=547.84 | optimisation time: 0.09 secs\n",
      "iter 310: loss=547.71 | optimisation time: 0.09 secs\n",
      "iter 320: loss=547.57 | optimisation time: 0.09 secs\n",
      "iter 330: loss=547.49 | optimisation time: 0.09 secs\n",
      "iter 340: loss=547.53 | optimisation time: 0.09 secs\n",
      "iter 350: loss=547.55 | optimisation time: 0.09 secs\n",
      "iter 360: loss=547.53 | optimisation time: 0.09 secs\n",
      "iter 370: loss=547.51 | optimisation time: 0.09 secs\n",
      "iter 380: loss=547.48 | optimisation time: 0.09 secs\n",
      "iter 390: loss=547.49 | optimisation time: 0.09 secs\n",
      "iter 400: loss=547.49 | optimisation time: 0.09 secs\n",
      "iter 410: loss=553.43 | optimisation time: 0.09 secs\n",
      "iter 420: loss=593.94 | optimisation time: 0.09 secs\n",
      "iter 430: loss=566.17 | optimisation time: 0.09 secs\n",
      "iter 440: loss=550.79 | optimisation time: 0.09 secs\n",
      "iter 450: loss=547.77 | optimisation time: 0.09 secs\n",
      "iter 460: loss=549.66 | optimisation time: 0.09 secs\n",
      "iter 470: loss=549.34 | optimisation time: 0.09 secs\n",
      "iter 480: loss=548.32 | optimisation time: 0.09 secs\n",
      "iter 490: loss=547.54 | optimisation time: 0.09 secs\n",
      "iter 500: loss=547.49 | optimisation time: 0.09 secs\n"
     ]
    }
   ],
   "source": [
    "print('optimising the hyperparameters ...')\n",
    "t0 = time.time()\n",
    "\n",
    "losses = []\n",
    "for j in range(epochs):\n",
    "    loss, gradients, inference_state = model.run_LML(inference_state) #run_ELBO(params)\n",
    "    \n",
    "    # gradient step\n",
    "    opt_state = opt_update(j, gradients, opt_state)\n",
    "    params = get_params(opt_state)\n",
    "    model.set_params(params) # set new model parameters\n",
    "    \n",
    "    # annealing\n",
    "    #inference_state[1] = np.maximum(inference_state[1]*.9, .01)\n",
    "    \n",
    "    if j == 0:\n",
    "        print('iter %2d: loss=%.2f' % (j+1, loss))\n",
    "    \n",
    "    if ((j+1) % print_every) == 0:\n",
    "        t1 = time.time()\n",
    "        print('iter %2d: loss=%.2f | optimisation time: %.2f secs' % (j+1, loss, t1-t0))\n",
    "        t0 = time.time()\n",
    "\n",
    "    if plot_intermediate:\n",
    "        plot_model(model, j)\n",
    "        \n",
    "    losses.append(loss)"
   ]
  },
  {
   "cell_type": "code",
   "execution_count": null,
   "metadata": {
    "scrolled": true,
    "tags": []
   },
   "outputs": [],
   "source": []
  },
  {
   "cell_type": "code",
   "execution_count": 222,
   "metadata": {},
   "outputs": [
    {
     "data": {
      "text/plain": [
       "[<matplotlib.lines.Line2D at 0x7f2fdb3ff150>]"
      ]
     },
     "execution_count": 222,
     "metadata": {},
     "output_type": "execute_result"
    },
    {
     "data": {
      "image/png": "[encoded data removed]",
      "text/plain": [
       "<Figure size 245x183.75 with 1 Axes>"
      ]
     },
     "metadata": {
      "needs_background": "light"
     },
     "output_type": "display_data"
    }
   ],
   "source": [
    "plt.plot(losses)"
   ]
  },
  {
   "cell_type": "code",
   "execution_count": null,
   "metadata": {},
   "outputs": [],
   "source": []
  },
  {
   "cell_type": "markdown",
   "metadata": {},
   "source": [
    "### Make predictions"
   ]
  },
  {
   "cell_type": "code",
   "execution_count": 223,
   "metadata": {},
   "outputs": [],
   "source": [
    "num_samples = 20\n",
    "x_plot = np.linspace(np.min(x)-20.0, np.max(x)+20.0, 200)"
   ]
  },
  {
   "cell_type": "code",
   "execution_count": 224,
   "metadata": {},
   "outputs": [],
   "source": [
    "model.observation.set_approx_integration(approx_int_method='GH', num_approx_pts=20)\n",
    "model.observation.likelihood.set_approx_integration(approx_int_method='GH', num_approx_pts=20)\n",
    "prng_state = jax.random.PRNGKey(123) # when using MC for evaluation"
   ]
  },
  {
   "cell_type": "code",
   "execution_count": 225,
   "metadata": {},
   "outputs": [
    {
     "name": "stdout",
     "output_type": "stream",
     "text": [
      "calculating the posterior predictive distribution ...\n",
      "prediction time: 0.85 secs\n",
      "test NLPD: 0.60\n"
     ]
    }
   ],
   "source": [
    "print('calculating the posterior predictive distribution ...')\n",
    "t0 = time.time()\n",
    "nlpd = model.negative_log_predictive_density(prng_state, t=x_test, y=y_test)\n",
    "posterior_mean, posterior_cov = model.posterior_predictive(prng_state, t=x_plot)\n",
    "t1 = time.time()\n",
    "print('prediction time: %2.2f secs' % (t1-t0))\n",
    "print('test NLPD: %1.2f' % nlpd)"
   ]
  },
  {
   "cell_type": "code",
   "execution_count": 226,
   "metadata": {},
   "outputs": [
    {
     "name": "stdout",
     "output_type": "stream",
     "text": [
      "sampling from the posterior ...\n",
      "sampling time: 1.74 secs\n"
     ]
    }
   ],
   "source": [
    "### Sample from the posterior distribution\n",
    "print('sampling from the posterior ...')\n",
    "t0 = time.time()\n",
    "posterior_samp = model.sample_posterior(num_samples, prng_state, t=x_plot)\n",
    "t1 = time.time()\n",
    "print('sampling time: %2.2f secs' % (t1-t0))"
   ]
  },
  {
   "cell_type": "code",
   "execution_count": null,
   "metadata": {},
   "outputs": [
    {
     "name": "stdout",
     "output_type": "stream",
     "text": [
      "plotting ...\n"
     ]
    }
   ],
   "source": [
    "posterior_var = posterior_cov[:, np.arange(out_dims), np.arange(out_dims)]\n",
    "lb = posterior_mean - 1.96 * posterior_var ** 0.5\n",
    "ub = posterior_mean + 1.96 * posterior_var ** 0.5\n",
    "\n",
    "for plot_out in range(out_dims):\n",
    "\n",
    "    print('plotting ...')\n",
    "    plt.figure(2, figsize=(12, 5))\n",
    "    plt.clf()\n",
    "    plt.plot(x, y[:, plot_out], 'k.', label='training observations')\n",
    "    plt.plot(x_test, y_test[:, plot_out], 'r.', alpha=0.4, label='test observations')\n",
    "    plt.plot(x_plot, posterior_mean[:, plot_out], 'b', label='posterior mean')\n",
    "    plt.fill_between(x_plot, lb[:, plot_out], ub[:, plot_out], color='b', alpha=0.05, label='95% confidence')\n",
    "    plt.plot(x_plot, posterior_samp[:, plot_out, :], 'b', alpha=0.15)\n",
    "    plt.xlim([x_plot[0], x_plot[-1]])\n",
    "    plt.legend()\n",
    "    plt.title('GP regression via Kalman smoothing. Test NLPD: %1.2f' % nlpd)\n",
    "    plt.xlabel('time $t$')\n",
    "    plt.show()"
   ]
  },
  {
   "cell_type": "code",
   "execution_count": 310,
   "metadata": {},
   "outputs": [
    {
     "data": {
      "text/plain": [
       "DeviceArray([-9.4332695], dtype=float32)"
      ]
     },
     "execution_count": 310,
     "metadata": {},
     "output_type": "execute_result"
    }
   ],
   "source": [
    "model.likelihood.hyp"
   ]
  },
  {
   "cell_type": "code",
   "execution_count": 311,
   "metadata": {},
   "outputs": [
    {
     "data": {
      "text/plain": [
       "DeviceArray([[23.959751 , -6.3740187]], dtype=float32)"
      ]
     },
     "execution_count": 311,
     "metadata": {},
     "output_type": "execute_result"
    }
   ],
   "source": [
    "model.kernel.hyp"
   ]
  },
  {
   "cell_type": "code",
   "execution_count": null,
   "metadata": {},
   "outputs": [],
   "source": []
  }
 ],
 "metadata": {
  "kernelspec": {
   "display_name": "python39",
   "language": "python",
   "name": "python39"
  },
  "language_info": {
   "codemirror_mode": {
    "name": "ipython",
    "version": 3
   },
   "file_extension": ".py",
   "mimetype": "text/x-python",
   "name": "python",
   "nbconvert_exporter": "python",
   "pygments_lexer": "ipython3",
   "version": "3.9.7"
  }
 },
 "nbformat": 4,
 "nbformat_minor": 4
}
