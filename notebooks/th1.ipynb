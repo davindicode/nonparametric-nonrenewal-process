{
 "cells": [
  {
   "cell_type": "code",
   "execution_count": 3,
   "metadata": {},
   "outputs": [
    {
     "name": "stdout",
     "output_type": "stream",
     "text": [
      "The autoreload extension is already loaded. To reload it, use:\n",
      "  %reload_ext autoreload\n"
     ]
    }
   ],
   "source": [
    "%load_ext autoreload\n",
    "%autoreload 2\n",
    "\n",
    "import numpy as np\n",
    "\n",
    "import jax\n",
    "import jax.numpy as jnp\n",
    "import jax.random as jr\n",
    "\n",
    "import optax\n",
    "jax.config.update('jax_platform_name', 'cpu')\n",
    "\n",
    "import pickle\n",
    "\n",
    "import os\n",
    "if not os.path.exists('./output'):\n",
    "    os.makedirs('./output')\n",
    "\n",
    "import sys\n",
    "\n",
    "sys.path.append(\"..\")\n",
    "import lib\n",
    "\n",
    "sys.path.append(\"../scripts/\")\n",
    "import th1\n",
    "\n",
    "\n",
    "\n",
    "import matplotlib.pyplot as plt\n",
    "plt.style.use(['../paper.mplstyle'])"
   ]
  },
  {
   "cell_type": "code",
   "execution_count": null,
   "metadata": {},
   "outputs": [],
   "source": []
  },
  {
   "cell_type": "code",
   "execution_count": null,
   "metadata": {},
   "outputs": [],
   "source": []
  },
  {
   "cell_type": "code",
   "execution_count": 2,
   "metadata": {},
   "outputs": [
    {
     "ename": "NotImplementedError",
     "evalue": "Kernel type is not supported.",
     "output_type": "error",
     "traceback": [
      "\u001b[0;31m---------------------------------------------------------------------------\u001b[0m",
      "\u001b[0;31mNotImplementedError\u001b[0m                       Traceback (most recent call last)",
      "\u001b[0;32m<ipython-input-2-1c72308dc0c1>\u001b[0m in \u001b[0;36m<module>\u001b[0;34m\u001b[0m\n\u001b[1;32m     30\u001b[0m modelfit, fit_set, validation_set = lib.models.load_model(\n\u001b[1;32m     31\u001b[0m     \u001b[0mcheckpoint_dir\u001b[0m\u001b[0;34m,\u001b[0m \u001b[0mm\u001b[0m\u001b[0;34m,\u001b[0m \u001b[0mdataset_tuple\u001b[0m\u001b[0;34m,\u001b[0m \u001b[0mHDC\u001b[0m\u001b[0;34m.\u001b[0m\u001b[0minputs_used\u001b[0m\u001b[0;34m,\u001b[0m \u001b[0mHDC\u001b[0m\u001b[0;34m.\u001b[0m\u001b[0menc_used\u001b[0m\u001b[0;34m,\u001b[0m\u001b[0;34m\u001b[0m\u001b[0;34m\u001b[0m\u001b[0m\n\u001b[0;32m---> 32\u001b[0;31m     \u001b[0mdelay\u001b[0m\u001b[0;34m,\u001b[0m \u001b[0mcv_run\u001b[0m\u001b[0;34m,\u001b[0m \u001b[0mbatch_size\u001b[0m\u001b[0;34m,\u001b[0m \u001b[0mgpu_dev\u001b[0m\u001b[0;34m,\u001b[0m \u001b[0mtensor_type\u001b[0m\u001b[0;34m=\u001b[0m\u001b[0mtorch\u001b[0m\u001b[0;34m.\u001b[0m\u001b[0mfloat\u001b[0m\u001b[0;34m,\u001b[0m \u001b[0mjitter\u001b[0m\u001b[0;34m=\u001b[0m\u001b[0;36m1e-5\u001b[0m\u001b[0;34m,\u001b[0m \u001b[0mJ\u001b[0m\u001b[0;34m=\u001b[0m\u001b[0;36m100\u001b[0m\u001b[0;34m\u001b[0m\u001b[0;34m\u001b[0m\u001b[0m\n\u001b[0m\u001b[1;32m     33\u001b[0m )\n",
      "\u001b[0;32m~/Documents/Learning/bayesian-point-process/lib/models.py\u001b[0m in \u001b[0;36mload_model\u001b[0;34m(checkpoint_dir, m, dataset_tuple, inputs_used, enc_used, delay, cv_run, batch_info, gpu, tensor_type, jitter, J)\u001b[0m\n\u001b[1;32m    608\u001b[0m     \u001b[0;31m### model\u001b[0m\u001b[0;34m\u001b[0m\u001b[0;34m\u001b[0m\u001b[0;34m\u001b[0m\u001b[0m\n\u001b[1;32m    609\u001b[0m     full_model = setup_model(fit_data, m, inputs_used, enc_used, \n\u001b[0;32m--> 610\u001b[0;31m                              jitter=jitter, J=J)\n\u001b[0m\u001b[1;32m    611\u001b[0m     \u001b[0mfull_model\u001b[0m\u001b[0;34m.\u001b[0m\u001b[0mto\u001b[0m\u001b[0;34m(\u001b[0m\u001b[0mgpu\u001b[0m\u001b[0;34m)\u001b[0m\u001b[0;34m\u001b[0m\u001b[0;34m\u001b[0m\u001b[0m\n\u001b[1;32m    612\u001b[0m \u001b[0;34m\u001b[0m\u001b[0m\n",
      "\u001b[0;32m~/Documents/Learning/bayesian-point-process/lib/models.py\u001b[0m in \u001b[0;36msetup_model\u001b[0;34m(data, m, inputs_used, enc_used, tensor_type, jitter, J)\u001b[0m\n\u001b[1;32m    353\u001b[0m \u001b[0;34m\u001b[0m\u001b[0m\n\u001b[1;32m    354\u001b[0m     \u001b[0;31m# encoder mapping\u001b[0m\u001b[0;34m\u001b[0m\u001b[0;34m\u001b[0m\u001b[0;34m\u001b[0m\u001b[0m\n\u001b[0;32m--> 355\u001b[0;31m     \u001b[0mmapping\u001b[0m\u001b[0;34m,\u001b[0m \u001b[0mhgp\u001b[0m \u001b[0;34m=\u001b[0m \u001b[0menc_used\u001b[0m\u001b[0;34m(\u001b[0m\u001b[0mmap_mode\u001b[0m\u001b[0;34m,\u001b[0m \u001b[0mll_mode\u001b[0m\u001b[0;34m,\u001b[0m \u001b[0mx_mode\u001b[0m\u001b[0;34m,\u001b[0m \u001b[0mz_mode\u001b[0m\u001b[0;34m,\u001b[0m \u001b[0mcov\u001b[0m\u001b[0;34m,\u001b[0m \u001b[0min_dims\u001b[0m\u001b[0;34m,\u001b[0m \u001b[0minner_dims\u001b[0m\u001b[0;34m,\u001b[0m \u001b[0mjitter\u001b[0m\u001b[0;34m,\u001b[0m \u001b[0mtensor_type\u001b[0m\u001b[0;34m)\u001b[0m\u001b[0;34m\u001b[0m\u001b[0;34m\u001b[0m\u001b[0m\n\u001b[0m\u001b[1;32m    356\u001b[0m \u001b[0;34m\u001b[0m\u001b[0m\n\u001b[1;32m    357\u001b[0m     \u001b[0;31m# likelihood\u001b[0m\u001b[0;34m\u001b[0m\u001b[0;34m\u001b[0m\u001b[0;34m\u001b[0m\u001b[0m\n",
      "\u001b[0;32m~/Documents/Learning/bayesian-point-process/scripts/HDC.py\u001b[0m in \u001b[0;36menc_used\u001b[0;34m(map_mode, ll_mode, x_mode, z_mode, cov_tuple, in_dims, inner_dims, jitter, tensor_type)\u001b[0m\n\u001b[1;32m    228\u001b[0m         \u001b[0mvar\u001b[0m \u001b[0;34m=\u001b[0m \u001b[0;36m1.0\u001b[0m \u001b[0;31m# initial kernel variance\u001b[0m\u001b[0;34m\u001b[0m\u001b[0;34m\u001b[0m\u001b[0m\n\u001b[1;32m    229\u001b[0m         kernelobj, inducing_points = kernel_used(x_mode, z_mode, cov_tuple, num_induc, \n\u001b[0;32m--> 230\u001b[0;31m                                                   inner_dims, var, tensor_type)\n\u001b[0m\u001b[1;32m    231\u001b[0m \u001b[0;34m\u001b[0m\u001b[0m\n\u001b[1;32m    232\u001b[0m         mapping = nppl.mappings.SVGP(\n",
      "\u001b[0;32m~/Documents/Learning/bayesian-point-process/scripts/HDC.py\u001b[0m in \u001b[0;36mkernel_used\u001b[0;34m(x_mode, z_mode, cov_tuple, num_induc, out_dims, var, tensor_type)\u001b[0m\n\u001b[1;32m    211\u001b[0m \u001b[0;34m\u001b[0m\u001b[0m\n\u001b[1;32m    212\u001b[0m         \u001b[0;31m# objects\u001b[0m\u001b[0;34m\u001b[0m\u001b[0;34m\u001b[0m\u001b[0;34m\u001b[0m\u001b[0m\n\u001b[0;32m--> 213\u001b[0;31m         \u001b[0mkernelobj\u001b[0m\u001b[0;34m,\u001b[0m \u001b[0mconstraints\u001b[0m \u001b[0;34m=\u001b[0m \u001b[0mlib\u001b[0m\u001b[0;34m.\u001b[0m\u001b[0mhelper\u001b[0m\u001b[0;34m.\u001b[0m\u001b[0mcreate_kernel\u001b[0m\u001b[0;34m(\u001b[0m\u001b[0mkernel_tuples\u001b[0m\u001b[0;34m,\u001b[0m \u001b[0;34m'exp'\u001b[0m\u001b[0;34m,\u001b[0m \u001b[0mtensor_type\u001b[0m\u001b[0;34m)\u001b[0m\u001b[0;34m\u001b[0m\u001b[0;34m\u001b[0m\u001b[0m\n\u001b[0m\u001b[1;32m    214\u001b[0m \u001b[0;34m\u001b[0m\u001b[0m\n\u001b[1;32m    215\u001b[0m         \u001b[0mXu\u001b[0m \u001b[0;34m=\u001b[0m \u001b[0mtorch\u001b[0m\u001b[0;34m.\u001b[0m\u001b[0mtensor\u001b[0m\u001b[0;34m(\u001b[0m\u001b[0mind_list\u001b[0m\u001b[0;34m)\u001b[0m\u001b[0;34m.\u001b[0m\u001b[0mT\u001b[0m\u001b[0;34m[\u001b[0m\u001b[0;32mNone\u001b[0m\u001b[0;34m,\u001b[0m \u001b[0;34m...\u001b[0m\u001b[0;34m]\u001b[0m\u001b[0;34m.\u001b[0m\u001b[0mrepeat\u001b[0m\u001b[0;34m(\u001b[0m\u001b[0mout_dims\u001b[0m\u001b[0;34m,\u001b[0m \u001b[0;36m1\u001b[0m\u001b[0;34m,\u001b[0m \u001b[0;36m1\u001b[0m\u001b[0;34m)\u001b[0m\u001b[0;34m\u001b[0m\u001b[0;34m\u001b[0m\u001b[0m\n",
      "\u001b[0;32m~/Documents/Learning/bayesian-point-process/lib/helper.py\u001b[0m in \u001b[0;36mcreate_kernel\u001b[0;34m(kernel_tuples, kern_f, tensor_type)\u001b[0m\n\u001b[1;32m    339\u001b[0m \u001b[0;34m\u001b[0m\u001b[0m\n\u001b[1;32m    340\u001b[0m                 \u001b[0;32melse\u001b[0m\u001b[0;34m:\u001b[0m\u001b[0;34m\u001b[0m\u001b[0;34m\u001b[0m\u001b[0m\n\u001b[0;32m--> 341\u001b[0;31m                     \u001b[0;32mraise\u001b[0m \u001b[0mNotImplementedError\u001b[0m\u001b[0;34m(\u001b[0m\u001b[0;34m'Kernel type is not supported.'\u001b[0m\u001b[0;34m)\u001b[0m\u001b[0;34m\u001b[0m\u001b[0;34m\u001b[0m\u001b[0m\n\u001b[0m\u001b[1;32m    342\u001b[0m \u001b[0;34m\u001b[0m\u001b[0m\n\u001b[1;32m    343\u001b[0m             \u001b[0mkernelobj\u001b[0m \u001b[0;34m=\u001b[0m \u001b[0mkernels\u001b[0m\u001b[0;34m.\u001b[0m\u001b[0mkernel\u001b[0m\u001b[0;34m.\u001b[0m\u001b[0mProduct\u001b[0m\u001b[0;34m(\u001b[0m\u001b[0mkernelobj\u001b[0m\u001b[0;34m,\u001b[0m \u001b[0mkrn\u001b[0m\u001b[0;34m)\u001b[0m \u001b[0;32mif\u001b[0m \u001b[0mkernelobj\u001b[0m \u001b[0;34m!=\u001b[0m \u001b[0;36m0\u001b[0m \u001b[0;32melse\u001b[0m \u001b[0mkrn\u001b[0m\u001b[0;34m\u001b[0m\u001b[0;34m\u001b[0m\u001b[0m\n",
      "\u001b[0;31mNotImplementedError\u001b[0m: Kernel type is not supported."
     ]
    }
   ],
   "source": [
    "# data\n",
    "checkpoint_dir = '../scripts/checkpoint/'\n",
    "session_id = '12-120806'\n",
    "phase = 'wake'\n",
    "\n",
    "single_spikes = False\n",
    "bin_size = 500\n",
    "\n",
    "dataset_tuple = HDC.get_dataset(session_id, phase)\n",
    "rcov, units_used, tbin, resamples, rc_t, max_count, bin_size, metainfo, mdl_name = dataset_tuple\n",
    "#region_edge = metainfo[0]\n",
    "\n",
    "# model\n",
    "ll_mode = 'IPPexp'\n",
    "filt_mode = ''\n",
    "map_mode = 'svgp32'\n",
    "x_mode = 'hd-isi1'\n",
    "z_mode = ''\n",
    "hist_len = 0\n",
    "folds = 5\n",
    "delays = [0]\n",
    "m = (ll_mode, filt_mode, map_mode, x_mode, z_mode, hist_len, folds, delays)\n",
    "\n",
    "# load\n",
    "cv_run = 0\n",
    "delay = 0\n",
    "batch_size = 5000\n",
    "\n",
    "\n",
    "modelfit, fit_set, validation_set = lib.models.load_model(\n",
    "    checkpoint_dir, m, dataset_tuple, HDC.inputs_used, HDC.enc_used, \n",
    "    delay, cv_run, batch_size, gpu_dev, tensor_type=torch.float, jitter=1e-5, J=100\n",
    ")"
   ]
  },
  {
   "cell_type": "code",
   "execution_count": null,
   "metadata": {},
   "outputs": [],
   "source": []
  },
  {
   "cell_type": "code",
   "execution_count": 8,
   "metadata": {
    "scrolled": true
   },
   "outputs": [
    {
     "data": {
      "text/plain": [
       "[<matplotlib.lines.Line2D at 0x7feba03c54e0>]"
      ]
     },
     "execution_count": 8,
     "metadata": {},
     "output_type": "execute_result"
    },
    {
     "data": {
      "image/png": "[encoded data removed]",
      "text/plain": [
       "<Figure size 245x183.75 with 1 Axes>"
      ]
     },
     "metadata": {
      "needs_background": "light"
     },
     "output_type": "display_data"
    }
   ],
   "source": [
    "rcov, units_used, tbin, resamples, rc_t, max_count, bin_size, metainfo, mdl_name = dataset_tuple\n",
    "\n",
    "plt.plot(rcov[-5][2, :10000, 0])"
   ]
  },
  {
   "cell_type": "code",
   "execution_count": 40,
   "metadata": {},
   "outputs": [],
   "source": [
    "steps = 1000\n",
    "covariates = [torch.linspace(0, 2*np.pi, steps)*0, torch.linspace(0, 1000.0, steps)]\n",
    "\n",
    "use_neuron = [0, 1, 2]\n",
    "trials = 1\n",
    "\n",
    "cov = modelfit.mapping.to_XZ(covariates, trials)\n",
    "with torch.no_grad():\n",
    "    F_mu, F_var = modelfit.mapping.compute_F(cov)\n",
    "\n",
    "\n",
    "with torch.no_grad():\n",
    "    modelfit.mapping.jitter = 1e-4\n",
    "    mc = 10\n",
    "    eps = torch.randn(mc, 21, 1000, device=modelfit.mapping.dummy.device)\n",
    "    F = modelfit.mapping.sample_F(cov, eps)"
   ]
  },
  {
   "cell_type": "code",
   "execution_count": 41,
   "metadata": {},
   "outputs": [],
   "source": [
    "x = torch.exp(F)\n",
    "p = x*torch.exp(-torch.cumsum(x, dim=-1)*0.001)"
   ]
  },
  {
   "cell_type": "code",
   "execution_count": 53,
   "metadata": {},
   "outputs": [
    {
     "data": {
      "image/png": "[encoded data removed]",
      "text/plain": [
       "<Figure size 245x183.75 with 1 Axes>"
      ]
     },
     "metadata": {
      "needs_background": "light"
     },
     "output_type": "display_data"
    }
   ],
   "source": [
    "plt.plot(p[:, 15, :].cpu().numpy().T)\n",
    "plt.show()"
   ]
  },
  {
   "cell_type": "code",
   "execution_count": null,
   "metadata": {},
   "outputs": [],
   "source": []
  },
  {
   "cell_type": "code",
   "execution_count": 4,
   "metadata": {},
   "outputs": [],
   "source": []
  },
  {
   "cell_type": "code",
   "execution_count": 24,
   "metadata": {
    "scrolled": true
   },
   "outputs": [
    {
     "name": "stdout",
     "output_type": "stream",
     "text": [
      "Data set time steps: 1738680\n",
      "Data set time steps: 434670\n",
      "Data set time steps: 1738680\n",
      "Data set time steps: 434670\n",
      "Data set time steps: 1738680\n",
      "Data set time steps: 434670\n",
      "Data set time steps: 1738680\n",
      "Data set time steps: 434670\n",
      "Data set time steps: 1738680\n",
      "Data set time steps: 434670\n"
     ]
    }
   ],
   "source": [
    "checkpoint_dir = '../scripts/checkpoint/'\n",
    "session_id = '12-120806'\n",
    "phase = 'wake'\n",
    "\n",
    "dt = 0.001\n",
    "\n",
    "ll_modes = ['IPPexp']#, 'IGexp', 'IIGexp', 'LNexp']\n",
    "filt_mode = ''\n",
    "map_mode = 'svgp32'\n",
    "x_mode = 'hd-isi1'\n",
    "z_mode = ''\n",
    "hist_len = 0\n",
    "folds = 5\n",
    "delays = [0]\n",
    "\n",
    "\n",
    "\n",
    "cv_meta = [(k, 0) for k in range(folds)]\n",
    "\n",
    "### CV ###\n",
    "batch_size = 5000\n",
    "LL_arr = []\n",
    "for ll_mode in ll_modes:\n",
    "    m = (ll_mode, filt_mode, map_mode, x_mode, z_mode, hist_len, folds, delays)\n",
    "    \n",
    "    for cv_run, delay in cv_meta:\n",
    "        # data\n",
    "        dataset_tuple = HDC.get_dataset(session_id, phase)\n",
    "        rcov, units_used, tbin, resamples, rc_t, max_count, bin_size, metainfo, mdl_name = dataset_tuple\n",
    "        #region_edge = metainfo[0]\n",
    "        \n",
    "        modelfit, fit_set, validation_set = lib.models.load_model(\n",
    "            checkpoint_dir, m, dataset_tuple, HDC.inputs_used, HDC.enc_used, \n",
    "            delay, cv_run, batch_size, gpu_dev, tensor_type=torch.float, jitter=1e-5, J=100\n",
    "        )\n",
    "        \n",
    "        # LL\n",
    "        LL_arr.append(\n",
    "            lib.helper.RG_pred_ll(\n",
    "                modelfit, fit_set, batch_size, neuron_group=None, ll_mode='MC', \n",
    "                ll_samples=10, cov_samples=1, beta=0.0, bound='ELBO'\n",
    "            )\n",
    "        )\n",
    "        \n",
    "        if cv_run < 0:\n",
    "            LL_arr.append(0.)\n",
    "        else:\n",
    "            LL_arr.append(\n",
    "                lib.helper.RG_pred_ll(\n",
    "                    modelfit, validation_set, batch_size, neuron_group=None, ll_mode='MC', \n",
    "                    ll_samples=10, cov_samples=1, beta=0.0, bound='ELBO'\n",
    "                )\n",
    "            )\n",
    "\n",
    "LL_arr_cv_PP = np.array(LL_arr).reshape(len(ll_modes), len(cv_meta), 2)#, units_used)"
   ]
  },
  {
   "cell_type": "code",
   "execution_count": 9,
   "metadata": {},
   "outputs": [
    {
     "data": {
      "text/plain": [
       "2173352"
      ]
     },
     "execution_count": 9,
     "metadata": {},
     "output_type": "execute_result"
    }
   ],
   "source": [
    "resamples"
   ]
  },
  {
   "cell_type": "code",
   "execution_count": 23,
   "metadata": {},
   "outputs": [
    {
     "data": {
      "text/plain": [
       "array([[[828438.230132  , 224211.0933908 ],\n",
       "        [844886.55733657, 207856.85394217],\n",
       "        [845999.07664332, 216269.45456178],\n",
       "        [863015.20644756, 207445.93256106],\n",
       "        [845015.51414332, 199756.12877155]]])"
      ]
     },
     "execution_count": 23,
     "metadata": {},
     "output_type": "execute_result"
    }
   ],
   "source": [
    "LL_arr_cv_PP"
   ]
  },
  {
   "cell_type": "code",
   "execution_count": null,
   "metadata": {},
   "outputs": [],
   "source": []
  },
  {
   "cell_type": "code",
   "execution_count": 126,
   "metadata": {},
   "outputs": [],
   "source": [
    "show_neuron = np.arange(units_used)\n",
    "tau = []\n",
    "\n",
    "for hd in np.linspace(0, 2*np.pi, 50):\n",
    "\n",
    "\n",
    "    steps = 10000\n",
    "    covariates = [hd*np.ones(steps)]*units_used + \\\n",
    "                 [np.arange(1,steps+1)*tbin]*units_used\n",
    "    rho = glm.rate_model[0].eval_rate(covariates, show_neuron, 'mean')\n",
    "    m = rho*tbin\n",
    "\n",
    "\n",
    "    renew_dens = np.empty(m.shape)\n",
    "    m_hist = 1\n",
    "    for s in range(steps):\n",
    "        renew_dens[:, s] = m[:, s]*m_hist\n",
    "        m_hist *= (1-m[:, s])\n",
    "        \n",
    "    tau_ = (renew_dens*np.arange(1,steps+1)[None, :]*tbin).sum(-1)\n",
    "    tau.append(tau_)\n",
    "    \n",
    "tau = np.array(tau)"
   ]
  },
  {
   "cell_type": "code",
   "execution_count": 130,
   "metadata": {},
   "outputs": [
    {
     "data": {
      "text/plain": [
       "[<matplotlib.lines.Line2D at 0x7f237034e3c8>]"
      ]
     },
     "execution_count": 130,
     "metadata": {},
     "output_type": "execute_result"
    },
    {
     "data": {
      "image/png": "[encoded data removed]",
      "text/plain": [
       "<Figure size 245x183.75 with 1 Axes>"
      ]
     },
     "metadata": {
      "needs_background": "light"
     },
     "output_type": "display_data"
    }
   ],
   "source": [
    "plt.plot(1/tau[:, 0])"
   ]
  },
  {
   "cell_type": "code",
   "execution_count": null,
   "metadata": {},
   "outputs": [],
   "source": []
  },
  {
   "cell_type": "code",
   "execution_count": null,
   "metadata": {},
   "outputs": [],
   "source": []
  }
 ],
 "metadata": {
  "kernelspec": {
   "display_name": "python39",
   "language": "python",
   "name": "python39"
  },
  "language_info": {
   "codemirror_mode": {
    "name": "ipython",
    "version": 3
   },
   "file_extension": ".py",
   "mimetype": "text/x-python",
   "name": "python",
   "nbconvert_exporter": "python",
   "pygments_lexer": "ipython3",
   "version": "3.9.16"
  }
 },
 "nbformat": 4,
 "nbformat_minor": 4
}
