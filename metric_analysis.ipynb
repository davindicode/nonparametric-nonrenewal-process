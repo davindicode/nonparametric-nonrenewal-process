{
 "cells": [
  {
   "cell_type": "code",
   "execution_count": 2,
   "metadata": {},
   "outputs": [
    {
     "name": "stdout",
     "output_type": "stream",
     "text": [
      "The autoreload extension is already loaded. To reload it, use:\n",
      "  %reload_ext autoreload\n",
      "PyTorch version: 1.6.0+cu101\n",
      "Using device: cuda:0\n"
     ]
    }
   ],
   "source": [
    "%load_ext autoreload\n",
    "%autoreload 2\n",
    "\n",
    "import torch\n",
    "import torch.nn as nn\n",
    "from torch.nn.parameter import Parameter\n",
    "import torch.nn.functional as F\n",
    "import torch.optim as optim\n",
    "\n",
    "import matplotlib.pyplot as plt\n",
    "\n",
    "import numpy as np\n",
    "\n",
    "import sys\n",
    "sys.path.append(\"../..\")\n",
    "\n",
    "from neuroprob import stats, tools, neural_utils\n",
    "import neuroprob.models as mdl\n",
    "\n",
    "dev = tools.PyTorch()\n",
    "\n",
    "\n",
    "from tqdm.autonotebook import tqdm\n",
    "\n",
    "\n",
    "plt.style.use(['paper.mplstyle'])"
   ]
  },
  {
   "cell_type": "code",
   "execution_count": null,
   "metadata": {},
   "outputs": [],
   "source": [
    "# Dethroning the Fano factor\n",
    "f_modes = ['exp', 'rect_quad', 'softplus']\n",
    "\n",
    "T = 10\n",
    "trials = 1000000\n",
    "sample_bin = 1.0\n",
    "\n",
    "### Count process and segment length\n",
    "sigma_n = .1\n",
    "a_arr = [np.linspace(-1.0, 1.5, 10), np.linspace(-1.0, 3.5, 10), np.linspace(0.0, 5.5, 10)]\n",
    "    \n",
    "FF = []\n",
    "T_DS = []\n",
    "SPM = []\n",
    "for m, f_mode in enumerate(f_modes):\n",
    "    print(f_mode)\n",
    "    \n",
    "    FF_ = []\n",
    "    T_DS_ = []\n",
    "    SPM_ = []\n",
    "    for a in a_arr[m]:\n",
    "        print(a)\n",
    "        #rate = np.empty((T*trials))\n",
    "        noise = sigma_n*np.random.randn(trials).repeat(T)\n",
    "        if f_mode == 'exp':\n",
    "            rate = np.exp(noise + a)\n",
    "\n",
    "        elif f_mode == 'softplus':\n",
    "            rate = np.log(1. + np.exp(noise + a))\n",
    "            \n",
    "        elif f_mode == 'rect_quad':\n",
    "            rate = (noise + a)\n",
    "            rate[rate < 0] = 0\n",
    "            rate = rate**2\n",
    "            \n",
    "        elif f_mode == 'relu':\n",
    "            rate = noise + a\n",
    "            rate[rate < 0] = 0\n",
    "\n",
    "        else:\n",
    "            raise ValueError\n",
    "\n",
    "\n",
    "        # generating spike trains\n",
    "        train = mdl.point_process.gen_IPP(rate, sample_bin, max_count=100)\n",
    "\n",
    "        # fitting with Poisson ML i.e. average rate\n",
    "        act = train.reshape(trials, T).sum(-1)\n",
    "        #rate_model = act.repeat(T)\n",
    "        rate_model = train.mean()[None].repeat(trials*T)/sample_bin\n",
    "\n",
    "        f_p = lambda c, avg, shape, t: stats.poiss_count_prob(c, avg, shape, t)\n",
    "        m_f = lambda x: x\n",
    "        cnt_tuple = stats.count_KS_method(f_p, m_f, sample_bin, train, rate_model, \\\n",
    "                                          T, min_spikes=0)\n",
    "        q_cdf, Z_DS, T_KS, s_DS, s_KS, p_DS, p_KS, traj_lens = cnt_tuple\n",
    "        T_DS_.append(Z_DS)\n",
    "        FF_.append(act.var()/act.mean())\n",
    "        SPM_.append(act.mean())\n",
    "    \n",
    "    T_DS.append(T_DS_)\n",
    "    FF.append(FF_)\n",
    "    SPM.append(SPM_)\n",
    "    \n",
    "T_DS = np.array(T_DS)\n",
    "FF = np.array(FF)\n",
    "SPM = np.array(SPM)"
   ]
  },
  {
   "cell_type": "markdown",
   "metadata": {},
   "source": [
    "### T_DS metric sampling distribution and Fano factor"
   ]
  },
  {
   "cell_type": "code",
   "execution_count": 133,
   "metadata": {},
   "outputs": [],
   "source": [
    "def pick_segments(spktrain, rate_model, shape_model, tbin, traj_len=None, traj_spikes=None):\n",
    "    \"\"\"\n",
    "    Pick segments either with fixed length or fixed spike counts.\n",
    "    \n",
    "    When the segment length is bigger than 1, we add the rates and the activity in a bin \n",
    "    and take the mean shape.\n",
    "    \n",
    "    traj_len = None means we select on fixed spike counts, traj_spikes = None means we \n",
    "    select on fixed bin lengths.\n",
    "    \"\"\"\n",
    "    T = rate_model.shape[0]\n",
    "    \n",
    "    if shape_model is not None:\n",
    "        assert traj_len == 1\n",
    "        \n",
    "    traj_lens = []\n",
    "    if traj_len is not None:\n",
    "        traj_lens = (T // traj_len) * [traj_len]\n",
    "    \n",
    "    if traj_spikes is not None:\n",
    "        avg_spikecnt = np.cumsum(rate_model*tbin)\n",
    "        nc = 1\n",
    "        traj_len = 0\n",
    "        for tt in range(T):\n",
    "            if avg_spikecnt >= traj_spikes*nc:\n",
    "                nc += 1\n",
    "                traj_lens.append(traj_len)\n",
    "                traj_len = 0\n",
    "                continue\n",
    "            traj_len += 1\n",
    "\n",
    "    if shape_model is not None:\n",
    "        sh = shape_model\n",
    "        spktr = spktrain\n",
    "        rm = rate_model\n",
    "        \n",
    "    else:\n",
    "        sh = None\n",
    "        spktr = []\n",
    "        rm = []\n",
    "        start = np.cumsum(traj_lens)\n",
    "        for tt, traj_len in enumerate(traj_lens):\n",
    "            spktr.append(spktrain[start[tt]:start[tt]+traj_len].sum())\n",
    "            rm.append(rate_model[start[tt]:start[tt]+traj_len].sum())\n",
    "        spktr = np.array(spktr)\n",
    "        rm = np.array(rm)\n",
    "        \n",
    "    return rm, spktr, sh, traj_lens"
   ]
  },
  {
   "cell_type": "code",
   "execution_count": 170,
   "metadata": {},
   "outputs": [],
   "source": [
    "# normality of the metric\n",
    "sample_bin = 0.001\n",
    "sZ_DS_ = []\n",
    "sZ_DS__ = []\n",
    "\n",
    "for sim_samples in [10000]:\n",
    "\n",
    "    Z_DS_ = []\n",
    "    Z_DS__ = []\n",
    "    for k in range(10000): # Poisson\n",
    "        rate_ = np.empty((1, sim_samples))\n",
    "        rate_.fill(10.0)\n",
    "\n",
    "        train = mdl.point_process.gen_IPP(rate_, sample_bin)\n",
    "        spikes = neural_utils.BinToTrain(train[0])\n",
    "\n",
    "        traj_len = 1000\n",
    "        rate, train, shape, traj_lens = pick_segments(train[0], rate_[0], None, sample_bin, traj_len=traj_len)\n",
    "        \n",
    "        f_p = lambda c, avg, shape, t: stats.poiss_count_prob(c, avg, shape, t)\n",
    "        m_f = lambda x: x\n",
    "        quantiles = stats.count_KS_method(f_p, m_f, sample_bin, train, rate, shape=shape)\n",
    "        cnt_tuple = stats.KS_statistics(quantiles, alpha=0.05, alpha_s=0.05)\n",
    "\n",
    "        T_DS, T_KS, s_DS, s_KS, p_DS, p_KS = cnt_tuple\n",
    "        Z_DS_.append(T_DS)\n",
    "\n",
    "        dist_isi = mdl.point_process.ISI_gamma(1.0)\n",
    "        quantiles = stats.ISI_KS_method(dist_isi, sample_bin, spikes, rate_[0])\n",
    "        isi_tuple = stats.KS_statistics(quantiles, alpha=0.05, alpha_s=0.05)\n",
    "\n",
    "        T_DS, T_KS, s_DS, s_KS, p_DS, p_KS = isi_tuple\n",
    "        Z_DS__.append(T_DS)\n",
    "        \n",
    "    sZ_DS_.append(Z_DS_)\n",
    "    sZ_DS__.append(Z_DS__)\n",
    "    \n",
    "Z_DS_ = np.array(sZ_DS_)\n",
    "Z_DS__ = np.array(sZ_DS__)"
   ]
  },
  {
   "cell_type": "code",
   "execution_count": 90,
   "metadata": {},
   "outputs": [],
   "source": [
    "sample_bin = 5.\n",
    "neurons = 1\n",
    "\n",
    "VI_tuples = [(None, None, None, 1)]\n",
    "\n",
    "glm_rate = mdl.parametrics.GLM(neurons, 1, 1, 'relu', VI_tuples, bias=True)\n",
    "glm_rate.set_params(sample_bin, w=np.ones((neurons, 1)))\n",
    "\n",
    "# NB process output\n",
    "r_inv = 1.0*np.ones(neurons)\n",
    "#alpha = 0.2*np.ones(neurons)\n",
    "likelihood = mdl.likelihoods.Negative_binomial(neurons, 'relu', r_inv)\n",
    "#likelihood = mdl.likelihoods.ZI_Poisson(neurons, 'exp', alpha)\n",
    "likelihood.set_params(sample_bin)\n",
    "\n",
    "# NLL model\n",
    "hist_len = 1\n",
    "glm = mdl.inference.nll_optimized([glm_rate], likelihood, dispersion_model=None)\n",
    "#glm.to(dev)\n",
    "\n",
    "\n",
    "spike_samples = 0\n",
    "trials = 1000\n",
    "time_steps = 1\n",
    "ini_train = np.zeros((trials, neurons, 1))\n",
    "\n",
    "cnts = []\n",
    "\n",
    "mus = np.linspace(0, 10, 101)\n",
    "for amp in mus:\n",
    "    rate = torch.ones(trials, neurons, time_steps)*amp\n",
    "    syn_train = likelihood.sample(rate, np.arange(neurons), disp=None, max_count=1000)\n",
    "    cnts.append(syn_train[:, 0, 0])\n",
    "    \n",
    "cnts = np.array(cnts)"
   ]
  },
  {
   "cell_type": "code",
   "execution_count": null,
   "metadata": {},
   "outputs": [],
   "source": []
  },
  {
   "cell_type": "code",
   "execution_count": 121,
   "metadata": {},
   "outputs": [
    {
     "data": {
      "text/plain": [
       "[<matplotlib.lines.Line2D at 0x7fb930142668>]"
      ]
     },
     "execution_count": 121,
     "metadata": {},
     "output_type": "execute_result"
    },
    {
     "data": {
      "image/png": "[encoded data removed]",
      "text/plain": [
       "<Figure size 245x183.75 with 1 Axes>"
      ]
     },
     "metadata": {
      "needs_background": "light"
     },
     "output_type": "display_data"
    }
   ],
   "source": [
    "plt.plot(cnts.mean(-1), cnts.var(-1))\n",
    "\n",
    "# exact relation\n",
    "mus_ = mus*5\n",
    "ff = mus_*(1+mus_*r_inv[0])\n",
    "plt.plot(mus_, ff)"
   ]
  },
  {
   "cell_type": "code",
   "execution_count": 179,
   "metadata": {},
   "outputs": [
    {
     "name": "stdout",
     "output_type": "stream",
     "text": [
      "10000\n"
     ]
    },
    {
     "data": {
      "image/png": "[encoded data removed]",
      "text/plain": [
       "<Figure size 245x183.75 with 1 Axes>"
      ]
     },
     "metadata": {
      "needs_background": "light"
     },
     "output_type": "display_data"
    }
   ],
   "source": [
    "gsamp = np.random.randn(1000000)\n",
    "plt.hist(Z_DS_[0], density=True, alpha=0.5)\n",
    "plt.hist(gsamp, density=True, alpha=0.5)\n",
    "print(len(Z_DS_[0]))"
   ]
  },
  {
   "cell_type": "code",
   "execution_count": 173,
   "metadata": {},
   "outputs": [
    {
     "data": {
      "text/plain": [
       "4.5399929762484854e-05"
      ]
     },
     "execution_count": 173,
     "metadata": {},
     "output_type": "execute_result"
    }
   ],
   "source": [
    "# negative binomial\n",
    "np.exp(-10)"
   ]
  },
  {
   "cell_type": "code",
   "execution_count": 122,
   "metadata": {},
   "outputs": [],
   "source": [
    "def fit_likelihood(mode, sample_bin, train, sim_samples, lr=1e-2, neurons=1):\n",
    "    \"\"\"\n",
    "    fit ML of homogeneous rate\n",
    "    \"\"\"\n",
    "    if mode == 'gamma':\n",
    "        shape = 1.0*np.ones(neurons)\n",
    "        likelihood = mdl.likelihoods.Gamma(neurons, 'exp', # inverse link\n",
    "                                           shape, # shape parameters of Gamma process\n",
    "                                           dequantize=True, # add noise to the spike times when fitting\n",
    "                                           allow_duplicate=False) # when > 1 spikes per bin, don't treat as single spike\n",
    "        \n",
    "    elif mode == 'NB':\n",
    "        r_inv = 10.*np.ones(neurons)\n",
    "        likelihood = mdl.likelihoods.Negative_binomial(neurons, 'exp', r_inv) # when > 1 spikes per bin, don't treat as single spike\n",
    "        \n",
    "    likelihood.set_params(sample_bin)\n",
    "    likelihood.preprocess(train, sim_samples)\n",
    "    likelihood.to(dev) # move to device\n",
    "\n",
    "    inner = Parameter(torch.tensor(np.log(10.0), device=dev)) # fit a single rate value\n",
    "\n",
    "    tracked_loss = []\n",
    "    minloss = np.inf\n",
    "    epochs = 1000\n",
    "    cnt = 0\n",
    "    iterator = tqdm(range(epochs))\n",
    "    optimizer = optim.SGD([inner], lr=1e-12)\n",
    "    for epoch in iterator:\n",
    "        sloss = 0\n",
    "\n",
    "        optimizer.zero_grad()\n",
    "        loss = renewal_dist.nll(inner.expand((1, 1, sim_samples)), 0, 0, [0])\n",
    "        loss.backward()\n",
    "        optimizer.step()\n",
    "\n",
    "        assert not torch.isnan(loss.data).any()\n",
    "        sloss += loss.item()\n",
    "\n",
    "        iterator.set_postfix(loss=sloss)\n",
    "        tracked_loss.append(sloss)\n",
    "        if sloss < minloss:\n",
    "            minloss = sloss\n",
    "            cnt = 0\n",
    "        else:\n",
    "            cnt += 1\n",
    "\n",
    "    plt.plot(tracked_loss)\n",
    "    \n",
    "    if mode == 'gamma':\n",
    "        shape = likelihood.shape.data.cpu().numpy()\n",
    "    elif mode == 'NB':\n",
    "        shape = likelihood.r_inv.shape.data.cpu().numpy()\n",
    "\n",
    "    rate_fit = np.exp(inner.item())\n",
    "    return rate_fit, shape"
   ]
  },
  {
   "cell_type": "code",
   "execution_count": 112,
   "metadata": {},
   "outputs": [
    {
     "data": {
      "application/vnd.jupyter.widget-view+json": {
       "model_id": "",
       "version_major": 2,
       "version_minor": 0
      },
      "text/plain": [
       "HBox(children=(FloatProgress(value=0.0, max=4900.0), HTML(value='')))"
      ]
     },
     "metadata": {},
     "output_type": "display_data"
    },
    {
     "name": "stdout",
     "output_type": "stream",
     "text": [
      "\r"
     ]
    },
    {
     "data": {
      "application/vnd.jupyter.widget-view+json": {
       "model_id": "",
       "version_major": 2,
       "version_minor": 0
      },
      "text/plain": [
       "HBox(children=(FloatProgress(value=0.0, max=5100.0), HTML(value='')))"
      ]
     },
     "metadata": {},
     "output_type": "display_data"
    },
    {
     "name": "stdout",
     "output_type": "stream",
     "text": [
      "\r"
     ]
    }
   ],
   "source": [
    "### generate plotting data\n",
    "rate = np.empty((1, 1, sim_samples))\n",
    "sim_samples = 500000\n",
    "sample_bin = 0.001\n",
    "\n",
    "\n",
    "# Poisson\n",
    "rate.fill(10.0)\n",
    "train_P = mdl.point_process.gen_IPP(rate, sample_bin)\n",
    "spikes_P = neural_utils.BinToTrain(train_P[0, 0, :])\n",
    "    \n",
    "\n",
    "# Gamma overdispersed\n",
    "rate.fill(5.0)\n",
    "shape = np.array([.5])\n",
    "renew = mdl.point_process.ISI_gamma(shape)\n",
    "spikes_GO = mdl.point_process.gen_IRP(renew, rate, sample_bin)\n",
    "_, _, train_GO, _ = neural_utils.BinTrain(1, sample_bin, spikes_GO, sim_samples)\n",
    "    \n",
    "\n",
    "# Gamma underdispersed\n",
    "rate.fill(20.0)\n",
    "shape = np.array([2.])\n",
    "renew = mdl.point_process.ISI_gamma(shape)\n",
    "spikes_GU = mdl.point_process.gen_IRP(renew, rate, sample_bin)\n",
    "_, _, train_GU, _ = neural_utils.BinTrain(1, sample_bin, spikes_GU, sim_samples)\n"
   ]
  },
  {
   "cell_type": "code",
   "execution_count": null,
   "metadata": {},
   "outputs": [],
   "source": []
  },
  {
   "cell_type": "code",
   "execution_count": null,
   "metadata": {},
   "outputs": [],
   "source": []
  },
  {
   "cell_type": "code",
   "execution_count": null,
   "metadata": {},
   "outputs": [],
   "source": [
    "isi_tuples = []\n",
    "cnt_tuples = []\n",
    "Z_cnt_values = []\n",
    "Z_isi_values = []\n",
    "\n",
    "for d in [(train_P, spikes_P), (train_GO, spikes_GO), (train_GU, spikes_GU)]:\n",
    "    \n",
    "    ### fit a Poisson model ###\n",
    "    train, spikes = d\n",
    "    \n",
    "    rate_ML = train[0].sum()/sim_samples/sample_bin\n",
    "    quantiles = count_KS_method(interval_dist, sample_bin, spike_ind, rate)\n",
    "    Z_cnt_values.append(q_to_Z(quantiles, LIM=1e-15))\n",
    "    \n",
    "    shape_model = None\n",
    "    f_p = lambda c, avg, t: stats.gamma_count_prob(c, avg, shape, t)\n",
    "    m_f = lambda x: x\n",
    "    quantiles = stats.count_KS_method(f_p, m_f, sample_bin, train, rate_ML, shape=sh)\n",
    "    Z_values.append(q_to_Z(quantiles, LIM=1e-15))\n",
    "    cnt_tuples.appen(stats.KS_statistics(quantiles, alpha=0.05, alpha_s=0.05))\n",
    "\n",
    "    \n",
    "    dist_isi = mdl.point_process.ISI_gamma(1.0)\n",
    "    quantiles = stats.ISI_KS_method(interval_dist, sample_bin, spike_ind, rate)\n",
    "    Z_isi_values.append(q_to_Z(quantiles, LIM=1e-15))\n",
    "    isi_tuples.append(stats.KS_statistics(dist_isi, sample_bin, spikes, rate[0]))\n",
    "\n",
    "\n",
    "    rate_fit, shape = fit_gamma(sample_bin, train, sim_samples)\n",
    "\n",
    "    shape_model = None\n",
    "    f_p = lambda c, avg, t: stats.gamma_count_prob(c, avg, shape, t)\n",
    "    m_f = lambda x: x\n",
    "    quantiles = stats.count_KS_method(f_p, m_f, sample_bin, train, rate_ML, shape=sh)\n",
    "    Z_values.append(q_to_Z(quantiles, LIM=1e-15))\n",
    "    cnt_tuples.appen(stats.KS_statistics(quantiles, alpha=0.05, alpha_s=0.05))\n",
    "\n",
    "    \n",
    "    dist_isi = mdl.point_process.ISI_gamma(1.0)\n",
    "    quantiles = stats.ISI_KS_method(interval_dist, sample_bin, spike_ind, rate)\n",
    "    Z_isi_values.append(q_to_Z(quantiles, LIM=1e-15))\n",
    "    isi_tuples.append(stats.KS_statistics(dist_isi, sample_bin, spikes, rate[0]))\n",
    "\n"
   ]
  },
  {
   "cell_type": "code",
   "execution_count": 394,
   "metadata": {},
   "outputs": [
    {
     "data": {
      "image/png": "[encoded data removed]",
      "text/plain": [
       "<Figure size 560x245 with 17 Axes>"
      ]
     },
     "metadata": {
      "needs_background": "light"
     },
     "output_type": "display_data"
    }
   ],
   "source": [
    "pickle.dump((cnt_tuples, isi_tuples, Z_cnt_values, Z_isi_values), open('./output/metric1.p', 'wb'))"
   ]
  },
  {
   "cell_type": "code",
   "execution_count": 119,
   "metadata": {},
   "outputs": [
    {
     "data": {
      "text/plain": [
       "[<matplotlib.lines.Line2D at 0x7fb930ceb6d8>]"
      ]
     },
     "execution_count": 119,
     "metadata": {},
     "output_type": "execute_result"
    },
    {
     "data": {
      "image/png": "[encoded data removed]",
      "text/plain": [
       "<Figure size 245x183.75 with 1 Axes>"
      ]
     },
     "metadata": {
      "needs_background": "light"
     },
     "output_type": "display_data"
    }
   ],
   "source": [
    "c = np.arange(100)\n",
    "t = 1.0\n",
    "avg = 50.0\n",
    "shape = 1.0\n",
    "\n",
    "pr = stats.gamma_count_prob(c, avg, shape, t)\n",
    "pr2 = stats.poiss_count_prob(c, avg, shape, t)\n",
    "\n",
    "plt.plot(c, pr)\n",
    "plt.plot(c, pr2)"
   ]
  },
  {
   "cell_type": "markdown",
   "metadata": {},
   "source": [
    "### Dispersion properties with modulation"
   ]
  },
  {
   "cell_type": "code",
   "execution_count": null,
   "metadata": {},
   "outputs": [],
   "source": [
    "# modulation\n",
    "rate = np.empty((1, sim_samples))\n",
    "\n",
    "rate_0 = 20.0\n",
    "mod = 10.0\n",
    "period = 3000\n",
    "for t in range(sim_samples):\n",
    "    rate[0, t] = mod*np.sin(2*np.pi*t/period) + rate_0\n",
    "\n",
    "shape = 2.0\n",
    "\n",
    "renew = mdl.point_process.ISI_gamma(shape)\n",
    "spikes = mdl.point_process.gen_IRP(renew, rate, sample_bin)\n",
    "_, _, train, _ = neural_utils.BinTrain(1, sample_bin, spikes, sim_samples)\n",
    "\n",
    "\n",
    "### fit ML of homogeneous rate ###\n",
    "shape = 2.0\n",
    "shape_t = shape*np.ones(1) # true shape parameters\n",
    "\n",
    "# renewal process model\n",
    "renewal_dist = mdl.likelihoods.Gamma(1, # neurons\n",
    "                                     'exp', # inverse link\n",
    "                                     shape_t, # shape parameters of Gamma process\n",
    "                                     dequantize=True, # add noise to the spike times when fitting\n",
    "                                     allow_duplicate=False) # when > 1 spikes per bin, don't treat as single spike\n",
    "renewal_dist.set_params(sample_bin)\n",
    "renewal_dist.preprocess(train, sim_samples)\n",
    "renewal_dist.to(dev) # move to device\n",
    "\n",
    "inner = Parameter(torch.tensor(np.log(20.0), device=dev)) # fit a single rate value\n",
    "\n",
    "tracked_loss = []\n",
    "minloss = np.inf\n",
    "epochs = 1000\n",
    "cnt = 0\n",
    "iterator = tqdm(range(epochs))\n",
    "optimizer = optim.SGD([inner], lr=1e-12)\n",
    "for epoch in iterator:\n",
    "    sloss = 0\n",
    "    \n",
    "    optimizer.zero_grad()\n",
    "    loss = renewal_dist.nll(inner.expand((1, 1, sim_samples)), 0, 0, [0])\n",
    "    loss.backward()\n",
    "    optimizer.step()\n",
    "\n",
    "    assert not torch.isnan(loss.data).any()\n",
    "    sloss += loss.item()\n",
    "\n",
    "    iterator.set_postfix(loss=sloss)\n",
    "    tracked_loss.append(sloss)\n",
    "    if sloss < minloss:\n",
    "        minloss = sloss\n",
    "        cnt = 0\n",
    "    else:\n",
    "        cnt += 1\n",
    "        \n",
    "plt.plot(tracked_loss)\n",
    "\n",
    "rate_fit = np.exp(inner.item())\n",
    "\n",
    "\n",
    "traj_len = 1000\n",
    "f_p = lambda c, avg, t: stats.gamma_count_prob(c, avg, t, shape)\n",
    "m_f = lambda x: x/shape\n",
    "cnt_tuple_4 = stats.count_KS_method(f_p, m_f, sample_bin, train[0], rate_fit*np.ones_like(rate[0]), \\\n",
    "                          traj_len, min_spikes=5, repeat=1)\n",
    "\n",
    "dist_isi = mdl.point_process.ISI_gamma(shape)\n",
    "isi_tuple_4 = stats.ISI_KS_method(dist_isi, sample_bin, spikes[0], rate_fit*np.ones_like(rate[0]))\n",
    "\n",
    "\n",
    "### fit true rate ###\n",
    "traj_len = 1000\n",
    "cnt_tuple_5 = stats.count_KS_method(f_p, m_f, sample_bin, train[0], rate[0], \\\n",
    "                          traj_len, min_spikes=5, repeat=1)\n",
    "\n",
    "dist_isi = mdl.point_process.ISI_gamma(shape)\n",
    "isi_tuple_5 = stats.ISI_KS_method(dist_isi, sample_bin, spikes[0], rate[0])"
   ]
  },
  {
   "cell_type": "code",
   "execution_count": 30,
   "metadata": {
    "scrolled": true
   },
   "outputs": [
    {
     "name": "stdout",
     "output_type": "stream",
     "text": [
      "1000\n",
      "1500\n",
      "2000\n",
      "2500\n",
      "3000\n",
      "3500\n",
      "4000\n",
      "4500\n",
      "5000\n",
      "5500\n",
      "6000\n",
      "6500\n",
      "7000\n",
      "7500\n",
      "8000\n",
      "8500\n",
      "9000\n",
      "9500\n",
      "10000\n",
      "1000\n",
      "1500\n",
      "2000\n",
      "2500\n",
      "3000\n",
      "3500\n",
      "4000\n",
      "4500\n",
      "5000\n",
      "5500\n",
      "6000\n",
      "6500\n",
      "7000\n",
      "7500\n",
      "8000\n",
      "8500\n",
      "9000\n",
      "9500\n",
      "10000\n",
      "0\n",
      "1\n",
      "2\n",
      "3\n",
      "4\n",
      "5\n",
      "6\n",
      "7\n",
      "8\n",
      "9\n",
      "10\n"
     ]
    }
   ],
   "source": [
    "sim_samples = 1000000\n",
    "sample_bin = 0.001\n",
    "rate_modes = ['oscillatory', 'HMM']\n",
    "\n",
    "\n",
    "\n",
    "### Count process and segment length\n",
    "trials = 10\n",
    "rate_model = np.empty((sim_samples))\n",
    "traj_len_arr = [1000, 1500, 2000, 2500, 3000, 3500,\\\n",
    "                4000, 4500, 5000, 5500, 6000, 6500, 7000,\\\n",
    "                7500, 8000, 8500, 9000, 9500, 10000]\n",
    "    \n",
    "scores_t = []\n",
    "rate_ = []\n",
    "conf_ = []\n",
    "avg_len_ = []\n",
    "for rate_mode in rate_modes:\n",
    "\n",
    "    rate = np.empty((sim_samples))\n",
    "    \n",
    "    if rate_mode == 'oscillatory':\n",
    "        rate_0 = 10.0\n",
    "        mod = 4.0\n",
    "        period = 4000\n",
    "        for t in range(sim_samples):\n",
    "            rate[t] = mod*np.sin(2*np.pi*t/period) + rate_0\n",
    "\n",
    "    elif rate_mode == 'HMM':\n",
    "        taus = np.random.exponential(1000.0, size=(10000,))\n",
    "        tau = taus[0]\n",
    "        cnt = 0\n",
    "        rate_1 = 8.0\n",
    "        rate_2 = 12.0\n",
    "        ratez = rate_1\n",
    "        for t in range(sim_samples):\n",
    "            if t >= tau:\n",
    "                ratez = (rate_1 if cnt % 2 == 0 else rate_2)\n",
    "                cnt += 1\n",
    "                tau += taus[cnt]\n",
    "            rate[t] = ratez\n",
    "\n",
    "\n",
    "    # generating spike trains\n",
    "    rate = np.tile(rate[None, :], (trials, 1))\n",
    "    train = mdl.point_process.gen_IPP(rate, sample_bin)\n",
    "\n",
    "    scores = []\n",
    "    conf = []\n",
    "    avg_len = []\n",
    "    for traj_len in traj_len_arr:\n",
    "        t = []\n",
    "        print(traj_len)\n",
    "        \n",
    "        for k in range(trials):\n",
    "            # fitting with Poisson ML i.e. average rate\n",
    "            rate_model.fill(train[k].sum()/sim_samples/sample_bin)\n",
    "\n",
    "            f_p = lambda c, avg, t: stats.poiss_count_prob(c, avg, t)\n",
    "            m_f = lambda x: x\n",
    "            cnt_tuple = stats.count_KS_method(f_p, m_f, sample_bin, train[k], rate_model, \\\n",
    "                                              traj_len, min_spikes=5, repeat=1)\n",
    "            q_cdf, Z_DS, T_KS, s_DS, s_KS, p_DS, p_KS, traj_lens = cnt_tuple\n",
    "            t.append([Z_DS, T_KS])\n",
    "\n",
    "        scores.append(t)\n",
    "        avg_len.append(traj_lens.mean()*sample_bin)\n",
    "        conf.append(s_KS)\n",
    "\n",
    "    scores_t.append(np.array(scores))\n",
    "    rate_.append(rate[0])\n",
    "    conf_.append(np.array(conf))\n",
    "    avg_len_.append(avg_len)\n",
    "    \n",
    "scores_t = np.array(scores_t)\n",
    "    \n",
    "    \n",
    "### Dispersion and modulation\n",
    "mod_arr = np.arange(0,11)\n",
    "traj_len = 3000\n",
    "trials = 10\n",
    "\n",
    "dist_isi = mdl.point_process.ISI_gamma(1.0)\n",
    "\n",
    "# rate models (Cox processes and LVMs)\n",
    "scores = []\n",
    "samples_c = []\n",
    "samples_i = []\n",
    "q = []\n",
    "for mod in mod_arr:\n",
    "    print(mod)\n",
    "    \n",
    "    rate_0 = 10.0\n",
    "    period = 2000\n",
    "    rate = np.empty((sim_samples))\n",
    "    for t in range(sim_samples):\n",
    "        rate[t] = mod*np.sin(2*np.pi*t/period) + rate_0\n",
    "\n",
    "    # generating spike trains\n",
    "    rate = np.tile(rate[None, :], (trials, 1))\n",
    "    train = mdl.point_process.gen_IPP(rate, sample_bin)\n",
    "    t_spike = []\n",
    "    for k in range(trials):\n",
    "        t_spike.append(train[k].nonzero()[0])\n",
    "\n",
    "    # get T_DS from both ISI and count, save number of samples\n",
    "    t = []\n",
    "    for k in range(trials):\n",
    "        # fitting with Poisson ML i.e. average rate\n",
    "        rate_model.fill(train[k].sum()/sim_samples/sample_bin)\n",
    "        \n",
    "        traj_len = 3000\n",
    "        f_p = lambda c, avg, t: stats.poiss_count_prob(c, avg, t)\n",
    "        m_f = lambda x: x\n",
    "        cnt_tuple = stats.count_KS_method(f_p, m_f, sample_bin, train[k], rate_model, \\\n",
    "                                  traj_len, min_spikes=5, repeat=1)\n",
    "        q_cdf_c, Z_DS_c, T_KS, s_DS, s_KS_c, p_DS, p_KS, _ = cnt_tuple\n",
    "        \n",
    "        dist_isi = mdl.point_process.ISI_gamma(1.0)\n",
    "        isi_tuple = stats.ISI_KS_method(dist_isi, sample_bin, t_spike[k], rate_model)\n",
    "        q_cdf_i, Z_DS_i, T_KS, s_DS, s_KS_i, p_DS, p_KS = isi_tuple\n",
    "        \n",
    "        t.append([Z_DS_c, Z_DS_i])\n",
    "        \n",
    "        if k == trials-1:\n",
    "            q.append([q_cdf_c, s_KS_c, q_cdf_i, s_KS_i])\n",
    "        \n",
    "    scores.append(t)\n",
    "    \n",
    "scores_mod = np.array(scores)"
   ]
  },
  {
   "cell_type": "code",
   "execution_count": 68,
   "metadata": {},
   "outputs": [
    {
     "data": {
      "image/png": "[encoded data removed]",
      "text/plain": [
       "<Figure size 560x350 with 10 Axes>"
      ]
     },
     "metadata": {
      "needs_background": "light"
     },
     "output_type": "display_data"
    }
   ],
   "source": []
  },
  {
   "cell_type": "code",
   "execution_count": null,
   "metadata": {
    "scrolled": true
   },
   "outputs": [],
   "source": []
  },
  {
   "cell_type": "code",
   "execution_count": null,
   "metadata": {},
   "outputs": [],
   "source": []
  }
 ],
 "metadata": {
  "kernelspec": {
   "display_name": "Python 3",
   "language": "python",
   "name": "python3"
  },
  "language_info": {
   "codemirror_mode": {
    "name": "ipython",
    "version": 3
   },
   "file_extension": ".py",
   "mimetype": "text/x-python",
   "name": "python",
   "nbconvert_exporter": "python",
   "pygments_lexer": "ipython3",
   "version": "3.6.9"
  }
 },
 "nbformat": 4,
 "nbformat_minor": 4
}
